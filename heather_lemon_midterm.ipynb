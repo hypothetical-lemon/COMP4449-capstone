{
 "cells": [
  {
   "cell_type": "code",
   "execution_count": null,
   "metadata": {},
   "outputs": [],
   "source": []
  }
 ],
 "metadata": {
  "kernelspec": {
   "display_name": "Python 3",
   "language": "python",
   "name": "python3"
  },
  "language_info": {
   "name": "python",
   "version": "3.10.9"
  },
  "orig_nbformat": 4,
  "vscode": {
   "interpreter": {
    "hash": "40ff6eef4b8fe99648ded2618e7d5fc6895b784512c4ef81a5c3685d375d82d6"
   }
  }
 },
 "nbformat": 4,
 "nbformat_minor": 2
}
