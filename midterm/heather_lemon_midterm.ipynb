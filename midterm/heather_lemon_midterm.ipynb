{
 "cells": [
  {
   "attachments": {},
   "cell_type": "markdown",
   "metadata": {},
   "source": [
    "### Heather Lemon \n",
    "COMP 4449 - MidTerm Project"
   ]
  },
  {
   "attachments": {},
   "cell_type": "markdown",
   "metadata": {},
   "source": [
    "![spotify](spotify-logo.jpg)"
   ]
  },
  {
   "attachments": {},
   "cell_type": "markdown",
   "metadata": {},
   "source": [
    "# Research Question\n",
    "\n",
    "Spotify prediction - undertstanding what features make a song popular?\n",
    "\n",
    "Spotify is a popular music and media steaming service. Founded in 2006, it has grown to over 450 million active users and is one of the most successful and largest music streaming platforms available today.[2] The dataset comes from five files. The ranking_spotify.csv files contains more than 2 million rows, which comprises 6629 artists, 18598 songs for a total count of one hundred five billion streams count. This csv contains the daily ranking of the 200 most listened songs everyday, in 53 countries from 2017 and 2018 in Spotify. \n",
    "\n",
    "For the purpose of narrowing the scope of the dataset, we will choose only songs from the year <span style=\"color:red\">2017</span> and country <span style=\"color:red\"> USA</span>.\n",
    "\n",
    "The second dataset comes from featuresdf.csv. It contains popular song attributes such as (tempo, energy, song name etc.)\n",
    "There are 13 numerical columns about a song's attributes and 3 categorical columns (song name, artist, key symbol (C#))[1].\n",
    "\n",
    "Below is a list of vocabulary terms and definitions from Spotify's developer API. [0]"
   ]
  },
  {
   "attachments": {},
   "cell_type": "markdown",
   "metadata": {},
   "source": [
    "Vocabulary [0]\n",
    "In our featuresDF there are 15 features.\n",
    "Features DF - id,name,artists,danceability,energy,key,loudness,mode,speechiness,acousticness,instrumentalness,liveness,valence,tempo,duration_ms,time_signature\n",
    "* id - spotify id of song\n",
    "* name - name of song\n",
    "* artists - song artist\n",
    "* Danceability - Danceability describes how suitable a track is for dancing based on a combination of musical elements including tempo, rhythm stability, beat strength, and overall regularity. A value of 0.0 is least danceable and 1.0 is most danceable.\n",
    "* energy - Energy is a measure from 0.0 to 1.0 and represents a perceptual measure of intensity and activity. Typically, energetic tracks feel fast, loud, and noisy. For example, death metal has high energy, while a Bach prelude scores low on the scale. Perceptual features contributing to this attribute include dynamic range, perceived loudness, timbre, onset rate, and general entropy.\n",
    "* key signature - The key the track is in. Integers map to pitches using standard Pitch Class notation.[1] E.g. 0 = C, 1 = C♯/D♭, 2 = D, and so on. If no key was detected, the value is -1.\n",
    "* loudness - The overall loudness of a track in decibels (dB). Loudness values are averaged across the entire track and are useful for comparing relative loudness of tracks. Loudness is the quality of a sound that is the primary psychological correlate of physical strength (amplitude). Values typically range between -60 and 0 db.\n",
    "* mode - Mode indicates the modality (major or minor) of a track, the type of scale from which its melodic content is derived. Major is represented by 1 and minor is 0.\n",
    "* speechiness - Speechiness detects the presence of spoken words in a track. The more exclusively speech-like the recording (e.g. talk show, audio book, poetry), the closer to 1.0 the attribute value. Values above 0.66 describe tracks that are probably made entirely of spoken words. Values between 0.33 and 0.66 describe tracks that may contain both music and speech, either in sections or layered, including such cases as rap music. Values below 0.33 most likely represent music and other non-speech-like tracks.\n",
    "* acousticness - A confidence measure from 0.0 to 1.0 of whether the track is acoustic. 1.0 represents high confidence the track is acoustic.\n",
    "* instrumentalness - Predicts whether a track contains no vocals. \"Ooh\" and \"aah\" sounds are treated as instrumental in this context. Rap or spoken word tracks are clearly \"vocal\". The closer the instrumentalness value is to 1.0, the greater likelihood the track contains no vocal content. Values above 0.5 are intended to represent instrumental tracks, but confidence is higher as the value approaches 1.0.\n",
    "* liveness - Detects the presence of an audience in the recording. Higher liveness values represent an increased probability that the track was performed live. A value above 0.8 provides strong likelihood that the track is live.\n",
    "* valence - A measure from 0.0 to 1.0 describing the musical positiveness conveyed by a track. Tracks with high valence sound more positive (e.g. happy, cheerful, euphoric), while tracks with low valence sound more negative (e.g. sad, depressed, angry).\n",
    "* tempo - The overall estimated tempo of a track in beats per minute (BPM). In musical terminology, tempo is the speed or pace of a given piece and derives directly from the average beat duration.\n",
    "* duration_ms - song length in milliseconds\n",
    "* time_signature - An estimated time signature. The time signature (meter) is a notational convention to specify how many beats are in each bar (or measure). The time signature ranges from 3 to 7 indicating time signatures of \"3/4\", to \"7/4\".\n",
    "\n",
    "* Mood: Danceability, Valence, Energy, Tempo\n",
    "* Properties: Loudness, Speechiness, Instrumentalness\n",
    "* Context: Liveness, Acousticness"
   ]
  },
  {
   "attachments": {},
   "cell_type": "markdown",
   "metadata": {},
   "source": [
    "spotify_ranking_1.csv - Details \n",
    "\n",
    "There are 7 columns - Position, Track Name, Artist, Streams, URL, Date, Region\n",
    "\n",
    "* Position - position on chart \n",
    "* Track Name - song title\n",
    "* Artist - Name of musician or group\n",
    "* Streams - number of streams \n",
    "* URL - url link \n",
    "* Date - timestamp %Y-%m-%D\n",
    "* Region - Country Code\n",
    "\n",
    "link to upstream kaggle code https://www.kaggle.com/datasets/edumucelli/spotifys-worldwide-daily-song-ranking "
   ]
  },
  {
   "attachments": {},
   "cell_type": "markdown",
   "metadata": {},
   "source": [
    "## Table of Contents\n",
    "* 1. [Research Question](#Research-Question)\n",
    "    * 1.1 [Data Ingest](#Data-Ingest)\n",
    "    * 1.2  [Feature Engineering](#Feature-Engineering)\n",
    "      * 1.2.1 [Feature Engineering - Covert key into original symbol](#Feature-Engineering-Covert-key-into-original-symbol)\n",
    "      * 1.2.2 [DataType Check](#DataType-Check)\n",
    "      * 1.2.3 [Null Check](#Null-Check)\n",
    "* 2. [Exploratory Data Analysis](#Exploratory-Data-Analysis)\n",
    "    * 2.1 [Correlation plot of numeric features](#Correlation-plot-of-numeric-features)\n",
    "    * 2.2 [Top 100 Rankings vs Streams](#Top-100-Rankings-vs-Streams)\n",
    "    * 2.3 [Top 10 Spotify Reoccurring Artists](#Top-10-Spotify-Reoccurring-Artists)\n",
    "    * 2.4 [convert the month day into numerical data](#convert-the-month-day-into-numerical-data)\n",
    "* 3.0 [Data Scaling](#Data-Scaling)\n",
    "    * 3.0.1 [Data Split](#Data-Split)\n",
    "    * 3.0.2 [Model Selection](#Model-Selection)\n",
    "    * 3.0.3 [SHAP and Explainable AI ](#SHAP-and-Explainable-AI )  \n",
    "* 3.1 [Model Evaluation](#Model-Evaluation)\n",
    "* 3.2 [Hyperparameter Tuning](#Hyperparameter-Tuning)\n",
    "* 3.3 [Final Predictions](#Final-Predictions)\n",
    "* 3.4 [Suprise! Explainable machine learning with explainerdashboard](#Suprise!-Explainable-machine-learning-with-explainerdashboard)\n",
    "* 4. [Conclusion](#Conclusion)\n",
    "* 5. [References](#References)"
   ]
  },
  {
   "cell_type": "code",
   "execution_count": 235,
   "metadata": {},
   "outputs": [],
   "source": [
    "import pandas as pd\n",
    "import seaborn as sns\n",
    "import numpy as np\n",
    "import matplotlib.pyplot as plt\n",
    "from prettytable import PrettyTable\n",
    "from sklearn.tree import DecisionTreeRegressor\n",
    "from sklearn.ensemble import RandomForestRegressor, BaggingRegressor\n",
    "from sklearn import svm\n",
    "from sklearn.model_selection import cross_val_score, train_test_split, GridSearchCV\n",
    "from sklearn.preprocessing import StandardScaler, MinMaxScaler, LabelEncoder, OrdinalEncoder, OneHotEncoder\n",
    "from sklearn.linear_model import LinearRegression, Lasso, Ridge\n",
    "from sklearn.metrics import r2_score, accuracy_score, mean_squared_error\n",
    "import statsmodels.api as sm\n",
    "import shap"
   ]
  },
  {
   "attachments": {},
   "cell_type": "markdown",
   "metadata": {},
   "source": [
    "### Data Ingest"
   ]
  },
  {
   "cell_type": "code",
   "execution_count": 236,
   "metadata": {},
   "outputs": [
    {
     "name": "stdout",
     "output_type": "stream",
     "text": [
      "(100, 16)\n"
     ]
    },
    {
     "data": {
      "text/html": [
       "<div>\n",
       "<style scoped>\n",
       "    .dataframe tbody tr th:only-of-type {\n",
       "        vertical-align: middle;\n",
       "    }\n",
       "\n",
       "    .dataframe tbody tr th {\n",
       "        vertical-align: top;\n",
       "    }\n",
       "\n",
       "    .dataframe thead th {\n",
       "        text-align: right;\n",
       "    }\n",
       "</style>\n",
       "<table border=\"1\" class=\"dataframe\">\n",
       "  <thead>\n",
       "    <tr style=\"text-align: right;\">\n",
       "      <th></th>\n",
       "      <th>id</th>\n",
       "      <th>name</th>\n",
       "      <th>artists</th>\n",
       "      <th>danceability</th>\n",
       "      <th>energy</th>\n",
       "      <th>key</th>\n",
       "      <th>loudness</th>\n",
       "      <th>mode</th>\n",
       "      <th>speechiness</th>\n",
       "      <th>acousticness</th>\n",
       "      <th>instrumentalness</th>\n",
       "      <th>liveness</th>\n",
       "      <th>valence</th>\n",
       "      <th>tempo</th>\n",
       "      <th>duration_ms</th>\n",
       "      <th>time_signature</th>\n",
       "    </tr>\n",
       "  </thead>\n",
       "  <tbody>\n",
       "    <tr>\n",
       "      <th>0</th>\n",
       "      <td>7qiZfU4dY1lWllzX7mPBI</td>\n",
       "      <td>Shape of You</td>\n",
       "      <td>Ed Sheeran</td>\n",
       "      <td>0.825</td>\n",
       "      <td>0.652</td>\n",
       "      <td>1.0</td>\n",
       "      <td>-3.183</td>\n",
       "      <td>0.0</td>\n",
       "      <td>0.0802</td>\n",
       "      <td>0.5810</td>\n",
       "      <td>0.000000</td>\n",
       "      <td>0.0931</td>\n",
       "      <td>0.931</td>\n",
       "      <td>95.977</td>\n",
       "      <td>233713.0</td>\n",
       "      <td>4.0</td>\n",
       "    </tr>\n",
       "    <tr>\n",
       "      <th>1</th>\n",
       "      <td>5CtI0qwDJkDQGwXD1H1cL</td>\n",
       "      <td>Despacito - Remix</td>\n",
       "      <td>Luis Fonsi</td>\n",
       "      <td>0.694</td>\n",
       "      <td>0.815</td>\n",
       "      <td>2.0</td>\n",
       "      <td>-4.328</td>\n",
       "      <td>1.0</td>\n",
       "      <td>0.1200</td>\n",
       "      <td>0.2290</td>\n",
       "      <td>0.000000</td>\n",
       "      <td>0.0924</td>\n",
       "      <td>0.813</td>\n",
       "      <td>88.931</td>\n",
       "      <td>228827.0</td>\n",
       "      <td>4.0</td>\n",
       "    </tr>\n",
       "    <tr>\n",
       "      <th>2</th>\n",
       "      <td>4aWmUDTfIPGksMNLV2rQP</td>\n",
       "      <td>Despacito (Featuring Daddy Yankee)</td>\n",
       "      <td>Luis Fonsi</td>\n",
       "      <td>0.660</td>\n",
       "      <td>0.786</td>\n",
       "      <td>2.0</td>\n",
       "      <td>-4.757</td>\n",
       "      <td>1.0</td>\n",
       "      <td>0.1700</td>\n",
       "      <td>0.2090</td>\n",
       "      <td>0.000000</td>\n",
       "      <td>0.1120</td>\n",
       "      <td>0.846</td>\n",
       "      <td>177.833</td>\n",
       "      <td>228200.0</td>\n",
       "      <td>4.0</td>\n",
       "    </tr>\n",
       "    <tr>\n",
       "      <th>3</th>\n",
       "      <td>6RUKPb4LETWmmr3iAEQkt</td>\n",
       "      <td>Something Just Like This</td>\n",
       "      <td>The Chainsmokers</td>\n",
       "      <td>0.617</td>\n",
       "      <td>0.635</td>\n",
       "      <td>11.0</td>\n",
       "      <td>-6.769</td>\n",
       "      <td>0.0</td>\n",
       "      <td>0.0317</td>\n",
       "      <td>0.0498</td>\n",
       "      <td>0.000014</td>\n",
       "      <td>0.1640</td>\n",
       "      <td>0.446</td>\n",
       "      <td>103.019</td>\n",
       "      <td>247160.0</td>\n",
       "      <td>4.0</td>\n",
       "    </tr>\n",
       "    <tr>\n",
       "      <th>4</th>\n",
       "      <td>3DXncPQOG4VBw3QHh3S81</td>\n",
       "      <td>I'm the One</td>\n",
       "      <td>DJ Khaled</td>\n",
       "      <td>0.609</td>\n",
       "      <td>0.668</td>\n",
       "      <td>7.0</td>\n",
       "      <td>-4.284</td>\n",
       "      <td>1.0</td>\n",
       "      <td>0.0367</td>\n",
       "      <td>0.0552</td>\n",
       "      <td>0.000000</td>\n",
       "      <td>0.1670</td>\n",
       "      <td>0.811</td>\n",
       "      <td>80.924</td>\n",
       "      <td>288600.0</td>\n",
       "      <td>4.0</td>\n",
       "    </tr>\n",
       "  </tbody>\n",
       "</table>\n",
       "</div>"
      ],
      "text/plain": [
       "                      id                                name  \\\n",
       "0  7qiZfU4dY1lWllzX7mPBI                        Shape of You   \n",
       "1  5CtI0qwDJkDQGwXD1H1cL                   Despacito - Remix   \n",
       "2  4aWmUDTfIPGksMNLV2rQP  Despacito (Featuring Daddy Yankee)   \n",
       "3  6RUKPb4LETWmmr3iAEQkt            Something Just Like This   \n",
       "4  3DXncPQOG4VBw3QHh3S81                         I'm the One   \n",
       "\n",
       "            artists  danceability  energy   key  loudness  mode  speechiness  \\\n",
       "0        Ed Sheeran         0.825   0.652   1.0    -3.183   0.0       0.0802   \n",
       "1        Luis Fonsi         0.694   0.815   2.0    -4.328   1.0       0.1200   \n",
       "2        Luis Fonsi         0.660   0.786   2.0    -4.757   1.0       0.1700   \n",
       "3  The Chainsmokers         0.617   0.635  11.0    -6.769   0.0       0.0317   \n",
       "4         DJ Khaled         0.609   0.668   7.0    -4.284   1.0       0.0367   \n",
       "\n",
       "   acousticness  instrumentalness  liveness  valence    tempo  duration_ms  \\\n",
       "0        0.5810          0.000000    0.0931    0.931   95.977     233713.0   \n",
       "1        0.2290          0.000000    0.0924    0.813   88.931     228827.0   \n",
       "2        0.2090          0.000000    0.1120    0.846  177.833     228200.0   \n",
       "3        0.0498          0.000014    0.1640    0.446  103.019     247160.0   \n",
       "4        0.0552          0.000000    0.1670    0.811   80.924     288600.0   \n",
       "\n",
       "   time_signature  \n",
       "0             4.0  \n",
       "1             4.0  \n",
       "2             4.0  \n",
       "3             4.0  \n",
       "4             4.0  "
      ]
     },
     "execution_count": 236,
     "metadata": {},
     "output_type": "execute_result"
    }
   ],
   "source": [
    "features_df = pd.read_csv('data/featuresdf.csv')\n",
    "print(features_df.shape)\n",
    "features_df.head()"
   ]
  },
  {
   "cell_type": "code",
   "execution_count": 237,
   "metadata": {},
   "outputs": [
    {
     "name": "stdout",
     "output_type": "stream",
     "text": [
      "(931168, 7)\n"
     ]
    },
    {
     "data": {
      "text/html": [
       "<div>\n",
       "<style scoped>\n",
       "    .dataframe tbody tr th:only-of-type {\n",
       "        vertical-align: middle;\n",
       "    }\n",
       "\n",
       "    .dataframe tbody tr th {\n",
       "        vertical-align: top;\n",
       "    }\n",
       "\n",
       "    .dataframe thead th {\n",
       "        text-align: right;\n",
       "    }\n",
       "</style>\n",
       "<table border=\"1\" class=\"dataframe\">\n",
       "  <thead>\n",
       "    <tr style=\"text-align: right;\">\n",
       "      <th></th>\n",
       "      <th>Position</th>\n",
       "      <th>Track Name</th>\n",
       "      <th>Artist</th>\n",
       "      <th>Streams</th>\n",
       "      <th>URL</th>\n",
       "      <th>Date</th>\n",
       "      <th>Region</th>\n",
       "    </tr>\n",
       "  </thead>\n",
       "  <tbody>\n",
       "    <tr>\n",
       "      <th>0</th>\n",
       "      <td>1</td>\n",
       "      <td>Reggaetón Lento (Bailemos)</td>\n",
       "      <td>CNCO</td>\n",
       "      <td>19272</td>\n",
       "      <td>https://open.spotify.com/track/3AEZUABDXNtecAO...</td>\n",
       "      <td>2017-01-01</td>\n",
       "      <td>ec</td>\n",
       "    </tr>\n",
       "    <tr>\n",
       "      <th>1</th>\n",
       "      <td>2</td>\n",
       "      <td>Chantaje</td>\n",
       "      <td>Shakira</td>\n",
       "      <td>19270</td>\n",
       "      <td>https://open.spotify.com/track/6mICuAdrwEjh6Y6...</td>\n",
       "      <td>2017-01-01</td>\n",
       "      <td>ec</td>\n",
       "    </tr>\n",
       "    <tr>\n",
       "      <th>2</th>\n",
       "      <td>3</td>\n",
       "      <td>Otra Vez (feat. J Balvin)</td>\n",
       "      <td>Zion &amp; Lennox</td>\n",
       "      <td>15761</td>\n",
       "      <td>https://open.spotify.com/track/3QwBODjSEzelZyV...</td>\n",
       "      <td>2017-01-01</td>\n",
       "      <td>ec</td>\n",
       "    </tr>\n",
       "    <tr>\n",
       "      <th>3</th>\n",
       "      <td>4</td>\n",
       "      <td>Vente Pa' Ca</td>\n",
       "      <td>Ricky Martin</td>\n",
       "      <td>14954</td>\n",
       "      <td>https://open.spotify.com/track/7DM4BPaS7uofFul...</td>\n",
       "      <td>2017-01-01</td>\n",
       "      <td>ec</td>\n",
       "    </tr>\n",
       "    <tr>\n",
       "      <th>4</th>\n",
       "      <td>5</td>\n",
       "      <td>Safari</td>\n",
       "      <td>J Balvin</td>\n",
       "      <td>14269</td>\n",
       "      <td>https://open.spotify.com/track/6rQSrBHf7HlZjtc...</td>\n",
       "      <td>2017-01-01</td>\n",
       "      <td>ec</td>\n",
       "    </tr>\n",
       "  </tbody>\n",
       "</table>\n",
       "</div>"
      ],
      "text/plain": [
       "   Position                  Track Name         Artist  Streams  \\\n",
       "0         1  Reggaetón Lento (Bailemos)           CNCO    19272   \n",
       "1         2                    Chantaje        Shakira    19270   \n",
       "2         3   Otra Vez (feat. J Balvin)  Zion & Lennox    15761   \n",
       "3         4                Vente Pa' Ca   Ricky Martin    14954   \n",
       "4         5                      Safari       J Balvin    14269   \n",
       "\n",
       "                                                 URL        Date Region  \n",
       "0  https://open.spotify.com/track/3AEZUABDXNtecAO...  2017-01-01     ec  \n",
       "1  https://open.spotify.com/track/6mICuAdrwEjh6Y6...  2017-01-01     ec  \n",
       "2  https://open.spotify.com/track/3QwBODjSEzelZyV...  2017-01-01     ec  \n",
       "3  https://open.spotify.com/track/7DM4BPaS7uofFul...  2017-01-01     ec  \n",
       "4  https://open.spotify.com/track/6rQSrBHf7HlZjtc...  2017-01-01     ec  "
      ]
     },
     "execution_count": 237,
     "metadata": {},
     "output_type": "execute_result"
    }
   ],
   "source": [
    "ranking_spotify_1 = pd.read_csv(\"data/ranking_spotify_1.csv\")\n",
    "print(ranking_spotify_1.shape)\n",
    "ranking_spotify_1.head()"
   ]
  },
  {
   "cell_type": "code",
   "execution_count": 238,
   "metadata": {},
   "outputs": [
    {
     "name": "stdout",
     "output_type": "stream",
     "text": [
      "(928746, 7)\n"
     ]
    },
    {
     "data": {
      "text/html": [
       "<div>\n",
       "<style scoped>\n",
       "    .dataframe tbody tr th:only-of-type {\n",
       "        vertical-align: middle;\n",
       "    }\n",
       "\n",
       "    .dataframe tbody tr th {\n",
       "        vertical-align: top;\n",
       "    }\n",
       "\n",
       "    .dataframe thead th {\n",
       "        text-align: right;\n",
       "    }\n",
       "</style>\n",
       "<table border=\"1\" class=\"dataframe\">\n",
       "  <thead>\n",
       "    <tr style=\"text-align: right;\">\n",
       "      <th></th>\n",
       "      <th>Position</th>\n",
       "      <th>Track Name</th>\n",
       "      <th>Artist</th>\n",
       "      <th>Streams</th>\n",
       "      <th>URL</th>\n",
       "      <th>Date</th>\n",
       "      <th>Region</th>\n",
       "    </tr>\n",
       "  </thead>\n",
       "  <tbody>\n",
       "    <tr>\n",
       "      <th>0</th>\n",
       "      <td>54</td>\n",
       "      <td>Thunder</td>\n",
       "      <td>Imagine Dragons</td>\n",
       "      <td>5404</td>\n",
       "      <td>https://open.spotify.com/track/0tKcYR2II1VCQWT...</td>\n",
       "      <td>2017-08-24</td>\n",
       "      <td>cr</td>\n",
       "    </tr>\n",
       "    <tr>\n",
       "      <th>1</th>\n",
       "      <td>55</td>\n",
       "      <td>Soy Peor Remix (feat. J Balvin, Ozuna &amp; Arcangel)</td>\n",
       "      <td>Bad Bunny</td>\n",
       "      <td>5339</td>\n",
       "      <td>https://open.spotify.com/track/4UG962ViiLqoUyx...</td>\n",
       "      <td>2017-08-24</td>\n",
       "      <td>cr</td>\n",
       "    </tr>\n",
       "    <tr>\n",
       "      <th>2</th>\n",
       "      <td>56</td>\n",
       "      <td>Photograph</td>\n",
       "      <td>Ed Sheeran</td>\n",
       "      <td>5278</td>\n",
       "      <td>https://open.spotify.com/track/6fxVffaTuwjgEk5...</td>\n",
       "      <td>2017-08-24</td>\n",
       "      <td>cr</td>\n",
       "    </tr>\n",
       "    <tr>\n",
       "      <th>3</th>\n",
       "      <td>57</td>\n",
       "      <td>Thinking Out Loud</td>\n",
       "      <td>Ed Sheeran</td>\n",
       "      <td>5055</td>\n",
       "      <td>https://open.spotify.com/track/1Slwb6dOYkBlWal...</td>\n",
       "      <td>2017-08-24</td>\n",
       "      <td>cr</td>\n",
       "    </tr>\n",
       "    <tr>\n",
       "      <th>4</th>\n",
       "      <td>58</td>\n",
       "      <td>Imitadora</td>\n",
       "      <td>Romeo Santos</td>\n",
       "      <td>4976</td>\n",
       "      <td>https://open.spotify.com/track/6r46lnXFbE9fr2d...</td>\n",
       "      <td>2017-08-24</td>\n",
       "      <td>cr</td>\n",
       "    </tr>\n",
       "  </tbody>\n",
       "</table>\n",
       "</div>"
      ],
      "text/plain": [
       "   Position                                         Track Name  \\\n",
       "0        54                                            Thunder   \n",
       "1        55  Soy Peor Remix (feat. J Balvin, Ozuna & Arcangel)   \n",
       "2        56                                         Photograph   \n",
       "3        57                                  Thinking Out Loud   \n",
       "4        58                                          Imitadora   \n",
       "\n",
       "            Artist  Streams  \\\n",
       "0  Imagine Dragons     5404   \n",
       "1        Bad Bunny     5339   \n",
       "2       Ed Sheeran     5278   \n",
       "3       Ed Sheeran     5055   \n",
       "4     Romeo Santos     4976   \n",
       "\n",
       "                                                 URL        Date Region  \n",
       "0  https://open.spotify.com/track/0tKcYR2II1VCQWT...  2017-08-24     cr  \n",
       "1  https://open.spotify.com/track/4UG962ViiLqoUyx...  2017-08-24     cr  \n",
       "2  https://open.spotify.com/track/6fxVffaTuwjgEk5...  2017-08-24     cr  \n",
       "3  https://open.spotify.com/track/1Slwb6dOYkBlWal...  2017-08-24     cr  \n",
       "4  https://open.spotify.com/track/6r46lnXFbE9fr2d...  2017-08-24     cr  "
      ]
     },
     "execution_count": 238,
     "metadata": {},
     "output_type": "execute_result"
    }
   ],
   "source": [
    "ranking_spotify_2 = pd.read_csv(\"data/ranking_spotify_2.csv\")\n",
    "print(ranking_spotify_2.shape)\n",
    "ranking_spotify_2.head()"
   ]
  },
  {
   "cell_type": "code",
   "execution_count": 239,
   "metadata": {},
   "outputs": [
    {
     "name": "stdout",
     "output_type": "stream",
     "text": [
      "(929351, 7)\n"
     ]
    },
    {
     "data": {
      "text/html": [
       "<div>\n",
       "<style scoped>\n",
       "    .dataframe tbody tr th:only-of-type {\n",
       "        vertical-align: middle;\n",
       "    }\n",
       "\n",
       "    .dataframe tbody tr th {\n",
       "        vertical-align: top;\n",
       "    }\n",
       "\n",
       "    .dataframe thead th {\n",
       "        text-align: right;\n",
       "    }\n",
       "</style>\n",
       "<table border=\"1\" class=\"dataframe\">\n",
       "  <thead>\n",
       "    <tr style=\"text-align: right;\">\n",
       "      <th></th>\n",
       "      <th>Position</th>\n",
       "      <th>Track Name</th>\n",
       "      <th>Artist</th>\n",
       "      <th>Streams</th>\n",
       "      <th>URL</th>\n",
       "      <th>Date</th>\n",
       "      <th>Region</th>\n",
       "    </tr>\n",
       "  </thead>\n",
       "  <tbody>\n",
       "    <tr>\n",
       "      <th>0</th>\n",
       "      <td>193</td>\n",
       "      <td>I'm the One</td>\n",
       "      <td>DJ Khaled</td>\n",
       "      <td>8316</td>\n",
       "      <td>https://open.spotify.com/track/3DXncPQOG4VBw3Q...</td>\n",
       "      <td>2017-11-21</td>\n",
       "      <td>dk</td>\n",
       "    </tr>\n",
       "    <tr>\n",
       "      <th>1</th>\n",
       "      <td>194</td>\n",
       "      <td>God Dag</td>\n",
       "      <td>KESI</td>\n",
       "      <td>8298</td>\n",
       "      <td>https://open.spotify.com/track/4Jg4Qp4byYVpJ5m...</td>\n",
       "      <td>2017-11-21</td>\n",
       "      <td>dk</td>\n",
       "    </tr>\n",
       "    <tr>\n",
       "      <th>2</th>\n",
       "      <td>195</td>\n",
       "      <td>Castle on the Hill</td>\n",
       "      <td>Ed Sheeran</td>\n",
       "      <td>8293</td>\n",
       "      <td>https://open.spotify.com/track/6PCUP3dWmTjcTtX...</td>\n",
       "      <td>2017-11-21</td>\n",
       "      <td>dk</td>\n",
       "    </tr>\n",
       "    <tr>\n",
       "      <th>3</th>\n",
       "      <td>196</td>\n",
       "      <td>September Song</td>\n",
       "      <td>JP Cooper</td>\n",
       "      <td>8278</td>\n",
       "      <td>https://open.spotify.com/track/2Inz7gGPGgieN0C...</td>\n",
       "      <td>2017-11-21</td>\n",
       "      <td>dk</td>\n",
       "    </tr>\n",
       "    <tr>\n",
       "      <th>4</th>\n",
       "      <td>197</td>\n",
       "      <td>Mi Gente (feat. Beyoncé)</td>\n",
       "      <td>J Balvin</td>\n",
       "      <td>8261</td>\n",
       "      <td>https://open.spotify.com/track/7fwXWKdDNI5IutO...</td>\n",
       "      <td>2017-11-21</td>\n",
       "      <td>dk</td>\n",
       "    </tr>\n",
       "  </tbody>\n",
       "</table>\n",
       "</div>"
      ],
      "text/plain": [
       "   Position                Track Name      Artist  Streams  \\\n",
       "0       193               I'm the One   DJ Khaled     8316   \n",
       "1       194                   God Dag        KESI     8298   \n",
       "2       195        Castle on the Hill  Ed Sheeran     8293   \n",
       "3       196            September Song   JP Cooper     8278   \n",
       "4       197  Mi Gente (feat. Beyoncé)    J Balvin     8261   \n",
       "\n",
       "                                                 URL        Date Region  \n",
       "0  https://open.spotify.com/track/3DXncPQOG4VBw3Q...  2017-11-21     dk  \n",
       "1  https://open.spotify.com/track/4Jg4Qp4byYVpJ5m...  2017-11-21     dk  \n",
       "2  https://open.spotify.com/track/6PCUP3dWmTjcTtX...  2017-11-21     dk  \n",
       "3  https://open.spotify.com/track/2Inz7gGPGgieN0C...  2017-11-21     dk  \n",
       "4  https://open.spotify.com/track/7fwXWKdDNI5IutO...  2017-11-21     dk  "
      ]
     },
     "execution_count": 239,
     "metadata": {},
     "output_type": "execute_result"
    }
   ],
   "source": [
    "ranking_spotify_3 = pd.read_csv(\"data/ranking_spotify_3.csv\")\n",
    "print(ranking_spotify_3.shape)\n",
    "ranking_spotify_3.head()"
   ]
  },
  {
   "cell_type": "code",
   "execution_count": 240,
   "metadata": {},
   "outputs": [
    {
     "name": "stdout",
     "output_type": "stream",
     "text": [
      "(651932, 7)\n"
     ]
    },
    {
     "data": {
      "text/html": [
       "<div>\n",
       "<style scoped>\n",
       "    .dataframe tbody tr th:only-of-type {\n",
       "        vertical-align: middle;\n",
       "    }\n",
       "\n",
       "    .dataframe tbody tr th {\n",
       "        vertical-align: top;\n",
       "    }\n",
       "\n",
       "    .dataframe thead th {\n",
       "        text-align: right;\n",
       "    }\n",
       "</style>\n",
       "<table border=\"1\" class=\"dataframe\">\n",
       "  <thead>\n",
       "    <tr style=\"text-align: right;\">\n",
       "      <th></th>\n",
       "      <th>Position</th>\n",
       "      <th>Track Name</th>\n",
       "      <th>Artist</th>\n",
       "      <th>Streams</th>\n",
       "      <th>URL</th>\n",
       "      <th>Date</th>\n",
       "      <th>Region</th>\n",
       "    </tr>\n",
       "  </thead>\n",
       "  <tbody>\n",
       "    <tr>\n",
       "      <th>0</th>\n",
       "      <td>69</td>\n",
       "      <td>There for You</td>\n",
       "      <td>Martin Garrix</td>\n",
       "      <td>8323</td>\n",
       "      <td>https://open.spotify.com/track/6jA8HL9i4QGzsj6...</td>\n",
       "      <td>2017-06-24</td>\n",
       "      <td>co</td>\n",
       "    </tr>\n",
       "    <tr>\n",
       "      <th>1</th>\n",
       "      <td>70</td>\n",
       "      <td>Por Fin Te Encontré</td>\n",
       "      <td>Cali Y El Dandee</td>\n",
       "      <td>8312</td>\n",
       "      <td>https://open.spotify.com/track/3GpvoKKWZyTwgbL...</td>\n",
       "      <td>2017-06-24</td>\n",
       "      <td>co</td>\n",
       "    </tr>\n",
       "    <tr>\n",
       "      <th>2</th>\n",
       "      <td>71</td>\n",
       "      <td>One Dance</td>\n",
       "      <td>Drake</td>\n",
       "      <td>8306</td>\n",
       "      <td>https://open.spotify.com/track/1xznGGDReH1oQq0...</td>\n",
       "      <td>2017-06-24</td>\n",
       "      <td>co</td>\n",
       "    </tr>\n",
       "    <tr>\n",
       "      <th>3</th>\n",
       "      <td>72</td>\n",
       "      <td>Sé Que Te Duele</td>\n",
       "      <td>Alejandro Fernandez</td>\n",
       "      <td>8221</td>\n",
       "      <td>https://open.spotify.com/track/5vZfgeDfNhlkKeJ...</td>\n",
       "      <td>2017-06-24</td>\n",
       "      <td>co</td>\n",
       "    </tr>\n",
       "    <tr>\n",
       "      <th>4</th>\n",
       "      <td>73</td>\n",
       "      <td>Bad Liar</td>\n",
       "      <td>Selena Gomez</td>\n",
       "      <td>8188</td>\n",
       "      <td>https://open.spotify.com/track/1sCxVKWImDZSZKv...</td>\n",
       "      <td>2017-06-24</td>\n",
       "      <td>co</td>\n",
       "    </tr>\n",
       "  </tbody>\n",
       "</table>\n",
       "</div>"
      ],
      "text/plain": [
       "   Position           Track Name               Artist  Streams  \\\n",
       "0        69        There for You        Martin Garrix     8323   \n",
       "1        70  Por Fin Te Encontré     Cali Y El Dandee     8312   \n",
       "2        71            One Dance                Drake     8306   \n",
       "3        72      Sé Que Te Duele  Alejandro Fernandez     8221   \n",
       "4        73             Bad Liar         Selena Gomez     8188   \n",
       "\n",
       "                                                 URL        Date Region  \n",
       "0  https://open.spotify.com/track/6jA8HL9i4QGzsj6...  2017-06-24     co  \n",
       "1  https://open.spotify.com/track/3GpvoKKWZyTwgbL...  2017-06-24     co  \n",
       "2  https://open.spotify.com/track/1xznGGDReH1oQq0...  2017-06-24     co  \n",
       "3  https://open.spotify.com/track/5vZfgeDfNhlkKeJ...  2017-06-24     co  \n",
       "4  https://open.spotify.com/track/1sCxVKWImDZSZKv...  2017-06-24     co  "
      ]
     },
     "execution_count": 240,
     "metadata": {},
     "output_type": "execute_result"
    }
   ],
   "source": [
    "ranking_spotify_4 = pd.read_csv(\"data/ranking_spotify_4.csv\")\n",
    "print(ranking_spotify_4.shape)\n",
    "ranking_spotify_4.head()"
   ]
  },
  {
   "attachments": {},
   "cell_type": "markdown",
   "metadata": {},
   "source": [
    "# Feature Engineering\n",
    "\n",
    "Use only year 2017 to narrow scope of dataset"
   ]
  },
  {
   "cell_type": "code",
   "execution_count": 241,
   "metadata": {},
   "outputs": [
    {
     "name": "stdout",
     "output_type": "stream",
     "text": [
      "(909896, 7)\n",
      "(906353, 7)\n",
      "(905480, 7)\n",
      "(634757, 7)\n"
     ]
    }
   ],
   "source": [
    "ranking_spotify_1 = ranking_spotify_1[ranking_spotify_1.Date < '2018-01-01']\n",
    "print(ranking_spotify_1.shape)\n",
    "ranking_spotify_2 = ranking_spotify_2[ranking_spotify_2.Date < '2018-01-01']\n",
    "print(ranking_spotify_2.shape)\n",
    "ranking_spotify_3 = ranking_spotify_3[ranking_spotify_3.Date < '2018-01-01']\n",
    "print(ranking_spotify_3.shape)\n",
    "ranking_spotify_4 = ranking_spotify_4[ranking_spotify_4.Date < '2018-01-01']\n",
    "print(ranking_spotify_4.shape)"
   ]
  },
  {
   "cell_type": "code",
   "execution_count": 242,
   "metadata": {},
   "outputs": [
    {
     "data": {
      "text/html": [
       "<div>\n",
       "<style scoped>\n",
       "    .dataframe tbody tr th:only-of-type {\n",
       "        vertical-align: middle;\n",
       "    }\n",
       "\n",
       "    .dataframe tbody tr th {\n",
       "        vertical-align: top;\n",
       "    }\n",
       "\n",
       "    .dataframe thead th {\n",
       "        text-align: right;\n",
       "    }\n",
       "</style>\n",
       "<table border=\"1\" class=\"dataframe\">\n",
       "  <thead>\n",
       "    <tr style=\"text-align: right;\">\n",
       "      <th></th>\n",
       "      <th>Position</th>\n",
       "      <th>Track Name</th>\n",
       "      <th>Artist</th>\n",
       "      <th>Streams</th>\n",
       "      <th>URL</th>\n",
       "      <th>Date</th>\n",
       "    </tr>\n",
       "    <tr>\n",
       "      <th>Region</th>\n",
       "      <th></th>\n",
       "      <th></th>\n",
       "      <th></th>\n",
       "      <th></th>\n",
       "      <th></th>\n",
       "      <th></th>\n",
       "    </tr>\n",
       "  </thead>\n",
       "  <tbody>\n",
       "    <tr>\n",
       "      <th>ar</th>\n",
       "      <td>72400</td>\n",
       "      <td>72386</td>\n",
       "      <td>72386</td>\n",
       "      <td>72400</td>\n",
       "      <td>72400</td>\n",
       "      <td>72400</td>\n",
       "    </tr>\n",
       "    <tr>\n",
       "      <th>cr</th>\n",
       "      <td>46453</td>\n",
       "      <td>46443</td>\n",
       "      <td>46443</td>\n",
       "      <td>46453</td>\n",
       "      <td>46453</td>\n",
       "      <td>46453</td>\n",
       "    </tr>\n",
       "    <tr>\n",
       "      <th>ec</th>\n",
       "      <td>72400</td>\n",
       "      <td>72384</td>\n",
       "      <td>72384</td>\n",
       "      <td>72400</td>\n",
       "      <td>72400</td>\n",
       "      <td>72400</td>\n",
       "    </tr>\n",
       "    <tr>\n",
       "      <th>ee</th>\n",
       "      <td>12666</td>\n",
       "      <td>12658</td>\n",
       "      <td>12658</td>\n",
       "      <td>12666</td>\n",
       "      <td>12666</td>\n",
       "      <td>12666</td>\n",
       "    </tr>\n",
       "    <tr>\n",
       "      <th>fi</th>\n",
       "      <td>72400</td>\n",
       "      <td>72392</td>\n",
       "      <td>72392</td>\n",
       "      <td>72400</td>\n",
       "      <td>72400</td>\n",
       "      <td>72400</td>\n",
       "    </tr>\n",
       "    <tr>\n",
       "      <th>fr</th>\n",
       "      <td>72400</td>\n",
       "      <td>72390</td>\n",
       "      <td>72390</td>\n",
       "      <td>72400</td>\n",
       "      <td>72400</td>\n",
       "      <td>72400</td>\n",
       "    </tr>\n",
       "    <tr>\n",
       "      <th>it</th>\n",
       "      <td>72400</td>\n",
       "      <td>72384</td>\n",
       "      <td>72384</td>\n",
       "      <td>72400</td>\n",
       "      <td>72400</td>\n",
       "      <td>72400</td>\n",
       "    </tr>\n",
       "    <tr>\n",
       "      <th>lt</th>\n",
       "      <td>16536</td>\n",
       "      <td>16528</td>\n",
       "      <td>16528</td>\n",
       "      <td>16536</td>\n",
       "      <td>16536</td>\n",
       "      <td>16536</td>\n",
       "    </tr>\n",
       "    <tr>\n",
       "      <th>no</th>\n",
       "      <td>72400</td>\n",
       "      <td>72386</td>\n",
       "      <td>72386</td>\n",
       "      <td>72400</td>\n",
       "      <td>72400</td>\n",
       "      <td>72400</td>\n",
       "    </tr>\n",
       "    <tr>\n",
       "      <th>nz</th>\n",
       "      <td>72400</td>\n",
       "      <td>72389</td>\n",
       "      <td>72389</td>\n",
       "      <td>72400</td>\n",
       "      <td>72400</td>\n",
       "      <td>72400</td>\n",
       "    </tr>\n",
       "    <tr>\n",
       "      <th>ph</th>\n",
       "      <td>72400</td>\n",
       "      <td>72390</td>\n",
       "      <td>72390</td>\n",
       "      <td>72400</td>\n",
       "      <td>72400</td>\n",
       "      <td>72400</td>\n",
       "    </tr>\n",
       "    <tr>\n",
       "      <th>sv</th>\n",
       "      <td>37841</td>\n",
       "      <td>37826</td>\n",
       "      <td>37826</td>\n",
       "      <td>37841</td>\n",
       "      <td>37841</td>\n",
       "      <td>37841</td>\n",
       "    </tr>\n",
       "    <tr>\n",
       "      <th>tr</th>\n",
       "      <td>72400</td>\n",
       "      <td>72392</td>\n",
       "      <td>72392</td>\n",
       "      <td>72400</td>\n",
       "      <td>72400</td>\n",
       "      <td>72400</td>\n",
       "    </tr>\n",
       "    <tr>\n",
       "      <th>tw</th>\n",
       "      <td>72400</td>\n",
       "      <td>72390</td>\n",
       "      <td>72390</td>\n",
       "      <td>72400</td>\n",
       "      <td>72400</td>\n",
       "      <td>72400</td>\n",
       "    </tr>\n",
       "    <tr>\n",
       "      <th>us</th>\n",
       "      <td>72400</td>\n",
       "      <td>72384</td>\n",
       "      <td>72384</td>\n",
       "      <td>72400</td>\n",
       "      <td>72400</td>\n",
       "      <td>72400</td>\n",
       "    </tr>\n",
       "  </tbody>\n",
       "</table>\n",
       "</div>"
      ],
      "text/plain": [
       "        Position  Track Name  Artist  Streams    URL   Date\n",
       "Region                                                     \n",
       "ar         72400       72386   72386    72400  72400  72400\n",
       "cr         46453       46443   46443    46453  46453  46453\n",
       "ec         72400       72384   72384    72400  72400  72400\n",
       "ee         12666       12658   12658    12666  12666  12666\n",
       "fi         72400       72392   72392    72400  72400  72400\n",
       "fr         72400       72390   72390    72400  72400  72400\n",
       "it         72400       72384   72384    72400  72400  72400\n",
       "lt         16536       16528   16528    16536  16536  16536\n",
       "no         72400       72386   72386    72400  72400  72400\n",
       "nz         72400       72389   72389    72400  72400  72400\n",
       "ph         72400       72390   72390    72400  72400  72400\n",
       "sv         37841       37826   37826    37841  37841  37841\n",
       "tr         72400       72392   72392    72400  72400  72400\n",
       "tw         72400       72390   72390    72400  72400  72400\n",
       "us         72400       72384   72384    72400  72400  72400"
      ]
     },
     "execution_count": 242,
     "metadata": {},
     "output_type": "execute_result"
    }
   ],
   "source": [
    "region = ranking_spotify_1.groupby(by='Region').count()\n",
    "region"
   ]
  },
  {
   "attachments": {},
   "cell_type": "markdown",
   "metadata": {},
   "source": [
    "Select only country of USA to further narrow scope of dataset"
   ]
  },
  {
   "attachments": {},
   "cell_type": "markdown",
   "metadata": {},
   "source": [
    "### Ranking_Spotify data cleaning"
   ]
  },
  {
   "cell_type": "code",
   "execution_count": 243,
   "metadata": {},
   "outputs": [],
   "source": [
    "ranking_spotify_1 = ranking_spotify_1[ranking_spotify_1.Region == 'us']\n",
    "ranking_spotify_2 = ranking_spotify_2[ranking_spotify_2.Region == 'us']\n",
    "ranking_spotify_3 = ranking_spotify_3[ranking_spotify_3.Region == 'us']\n",
    "ranking_spotify_4 = ranking_spotify_4[ranking_spotify_4.Region == 'us']"
   ]
  },
  {
   "cell_type": "code",
   "execution_count": 244,
   "metadata": {},
   "outputs": [
    {
     "name": "stdout",
     "output_type": "stream",
     "text": [
      "(72400, 7)\n",
      "(0, 7)\n",
      "(0, 7)\n",
      "(0, 7)\n"
     ]
    }
   ],
   "source": [
    "print(ranking_spotify_1.shape)\n",
    "print(ranking_spotify_2.shape)\n",
    "print(ranking_spotify_3.shape)\n",
    "print(ranking_spotify_4.shape)"
   ]
  },
  {
   "attachments": {},
   "cell_type": "markdown",
   "metadata": {},
   "source": [
    "Narrowing the scope, leaves us with 72,400 rows of avaible data from the +2 million songs available. We select the first dataset ranking_spotify_1.csv because of how the data was collected and organized. The csv files are sorted by country [3] \"Be aware that Spotify's data was missing in very few occasions, so do not play with the 200-ish row interval as an offset as it may be misleading. Prefer to read everything and filter by region, date, so that you can be sure to have the required slices of data.\" [3]"
   ]
  },
  {
   "attachments": {},
   "cell_type": "markdown",
   "metadata": {},
   "source": [
    "#### Feature Engineering - Convert ms length to minutes/seconds"
   ]
  },
  {
   "cell_type": "code",
   "execution_count": 245,
   "metadata": {},
   "outputs": [
    {
     "data": {
      "text/html": [
       "<div>\n",
       "<style scoped>\n",
       "    .dataframe tbody tr th:only-of-type {\n",
       "        vertical-align: middle;\n",
       "    }\n",
       "\n",
       "    .dataframe tbody tr th {\n",
       "        vertical-align: top;\n",
       "    }\n",
       "\n",
       "    .dataframe thead th {\n",
       "        text-align: right;\n",
       "    }\n",
       "</style>\n",
       "<table border=\"1\" class=\"dataframe\">\n",
       "  <thead>\n",
       "    <tr style=\"text-align: right;\">\n",
       "      <th></th>\n",
       "      <th>name</th>\n",
       "      <th>artists</th>\n",
       "      <th>danceability</th>\n",
       "      <th>energy</th>\n",
       "      <th>key</th>\n",
       "      <th>loudness</th>\n",
       "      <th>mode</th>\n",
       "      <th>speechiness</th>\n",
       "      <th>acousticness</th>\n",
       "      <th>instrumentalness</th>\n",
       "      <th>liveness</th>\n",
       "      <th>valence</th>\n",
       "      <th>tempo</th>\n",
       "      <th>duration_ms</th>\n",
       "      <th>time_signature</th>\n",
       "    </tr>\n",
       "  </thead>\n",
       "  <tbody>\n",
       "    <tr>\n",
       "      <th>0</th>\n",
       "      <td>Shape of You</td>\n",
       "      <td>Ed Sheeran</td>\n",
       "      <td>0.825</td>\n",
       "      <td>0.652</td>\n",
       "      <td>1.0</td>\n",
       "      <td>-3.183</td>\n",
       "      <td>0.0</td>\n",
       "      <td>0.0802</td>\n",
       "      <td>0.581</td>\n",
       "      <td>0.0</td>\n",
       "      <td>0.0931</td>\n",
       "      <td>0.931</td>\n",
       "      <td>95.977</td>\n",
       "      <td>233713.0</td>\n",
       "      <td>4.0</td>\n",
       "    </tr>\n",
       "  </tbody>\n",
       "</table>\n",
       "</div>"
      ],
      "text/plain": [
       "           name     artists  danceability  energy  key  loudness  mode  \\\n",
       "0  Shape of You  Ed Sheeran         0.825   0.652  1.0    -3.183   0.0   \n",
       "\n",
       "   speechiness  acousticness  instrumentalness  liveness  valence   tempo  \\\n",
       "0       0.0802         0.581               0.0    0.0931    0.931  95.977   \n",
       "\n",
       "   duration_ms  time_signature  \n",
       "0     233713.0             4.0  "
      ]
     },
     "execution_count": 245,
     "metadata": {},
     "output_type": "execute_result"
    }
   ],
   "source": [
    "features_df.drop('id', inplace=True, axis=1)\n",
    "features_df.head(1)"
   ]
  },
  {
   "cell_type": "code",
   "execution_count": 246,
   "metadata": {},
   "outputs": [],
   "source": [
    "features_df['duration_minutes'] = features_df['duration_ms'].apply(lambda x: float((x/(1000.0*60))%60))\n",
    "features_df['duration_minutes'] = features_df['duration_minutes'].astype('float64')\n",
    "# for some reason it did not like applying round to a calculated float\n",
    "features_df['duration_minutes'] = features_df['duration_minutes'].apply(lambda x: round(x, 2))"
   ]
  },
  {
   "cell_type": "code",
   "execution_count": 247,
   "metadata": {},
   "outputs": [
    {
     "data": {
      "text/html": [
       "<div>\n",
       "<style scoped>\n",
       "    .dataframe tbody tr th:only-of-type {\n",
       "        vertical-align: middle;\n",
       "    }\n",
       "\n",
       "    .dataframe tbody tr th {\n",
       "        vertical-align: top;\n",
       "    }\n",
       "\n",
       "    .dataframe thead th {\n",
       "        text-align: right;\n",
       "    }\n",
       "</style>\n",
       "<table border=\"1\" class=\"dataframe\">\n",
       "  <thead>\n",
       "    <tr style=\"text-align: right;\">\n",
       "      <th></th>\n",
       "      <th>name</th>\n",
       "      <th>artists</th>\n",
       "      <th>danceability</th>\n",
       "      <th>energy</th>\n",
       "      <th>key</th>\n",
       "      <th>loudness</th>\n",
       "      <th>mode</th>\n",
       "      <th>speechiness</th>\n",
       "      <th>acousticness</th>\n",
       "      <th>instrumentalness</th>\n",
       "      <th>liveness</th>\n",
       "      <th>valence</th>\n",
       "      <th>tempo</th>\n",
       "      <th>time_signature</th>\n",
       "      <th>duration_minutes</th>\n",
       "    </tr>\n",
       "  </thead>\n",
       "  <tbody>\n",
       "    <tr>\n",
       "      <th>0</th>\n",
       "      <td>Shape of You</td>\n",
       "      <td>Ed Sheeran</td>\n",
       "      <td>0.825</td>\n",
       "      <td>0.652</td>\n",
       "      <td>1.0</td>\n",
       "      <td>-3.183</td>\n",
       "      <td>0.0</td>\n",
       "      <td>0.0802</td>\n",
       "      <td>0.5810</td>\n",
       "      <td>0.000000</td>\n",
       "      <td>0.0931</td>\n",
       "      <td>0.931</td>\n",
       "      <td>95.977</td>\n",
       "      <td>4.0</td>\n",
       "      <td>3.90</td>\n",
       "    </tr>\n",
       "    <tr>\n",
       "      <th>1</th>\n",
       "      <td>Despacito - Remix</td>\n",
       "      <td>Luis Fonsi</td>\n",
       "      <td>0.694</td>\n",
       "      <td>0.815</td>\n",
       "      <td>2.0</td>\n",
       "      <td>-4.328</td>\n",
       "      <td>1.0</td>\n",
       "      <td>0.1200</td>\n",
       "      <td>0.2290</td>\n",
       "      <td>0.000000</td>\n",
       "      <td>0.0924</td>\n",
       "      <td>0.813</td>\n",
       "      <td>88.931</td>\n",
       "      <td>4.0</td>\n",
       "      <td>3.81</td>\n",
       "    </tr>\n",
       "    <tr>\n",
       "      <th>2</th>\n",
       "      <td>Despacito (Featuring Daddy Yankee)</td>\n",
       "      <td>Luis Fonsi</td>\n",
       "      <td>0.660</td>\n",
       "      <td>0.786</td>\n",
       "      <td>2.0</td>\n",
       "      <td>-4.757</td>\n",
       "      <td>1.0</td>\n",
       "      <td>0.1700</td>\n",
       "      <td>0.2090</td>\n",
       "      <td>0.000000</td>\n",
       "      <td>0.1120</td>\n",
       "      <td>0.846</td>\n",
       "      <td>177.833</td>\n",
       "      <td>4.0</td>\n",
       "      <td>3.80</td>\n",
       "    </tr>\n",
       "    <tr>\n",
       "      <th>3</th>\n",
       "      <td>Something Just Like This</td>\n",
       "      <td>The Chainsmokers</td>\n",
       "      <td>0.617</td>\n",
       "      <td>0.635</td>\n",
       "      <td>11.0</td>\n",
       "      <td>-6.769</td>\n",
       "      <td>0.0</td>\n",
       "      <td>0.0317</td>\n",
       "      <td>0.0498</td>\n",
       "      <td>0.000014</td>\n",
       "      <td>0.1640</td>\n",
       "      <td>0.446</td>\n",
       "      <td>103.019</td>\n",
       "      <td>4.0</td>\n",
       "      <td>4.12</td>\n",
       "    </tr>\n",
       "    <tr>\n",
       "      <th>4</th>\n",
       "      <td>I'm the One</td>\n",
       "      <td>DJ Khaled</td>\n",
       "      <td>0.609</td>\n",
       "      <td>0.668</td>\n",
       "      <td>7.0</td>\n",
       "      <td>-4.284</td>\n",
       "      <td>1.0</td>\n",
       "      <td>0.0367</td>\n",
       "      <td>0.0552</td>\n",
       "      <td>0.000000</td>\n",
       "      <td>0.1670</td>\n",
       "      <td>0.811</td>\n",
       "      <td>80.924</td>\n",
       "      <td>4.0</td>\n",
       "      <td>4.81</td>\n",
       "    </tr>\n",
       "  </tbody>\n",
       "</table>\n",
       "</div>"
      ],
      "text/plain": [
       "                                 name           artists  danceability  energy  \\\n",
       "0                        Shape of You        Ed Sheeran         0.825   0.652   \n",
       "1                   Despacito - Remix        Luis Fonsi         0.694   0.815   \n",
       "2  Despacito (Featuring Daddy Yankee)        Luis Fonsi         0.660   0.786   \n",
       "3            Something Just Like This  The Chainsmokers         0.617   0.635   \n",
       "4                         I'm the One         DJ Khaled         0.609   0.668   \n",
       "\n",
       "    key  loudness  mode  speechiness  acousticness  instrumentalness  \\\n",
       "0   1.0    -3.183   0.0       0.0802        0.5810          0.000000   \n",
       "1   2.0    -4.328   1.0       0.1200        0.2290          0.000000   \n",
       "2   2.0    -4.757   1.0       0.1700        0.2090          0.000000   \n",
       "3  11.0    -6.769   0.0       0.0317        0.0498          0.000014   \n",
       "4   7.0    -4.284   1.0       0.0367        0.0552          0.000000   \n",
       "\n",
       "   liveness  valence    tempo  time_signature  duration_minutes  \n",
       "0    0.0931    0.931   95.977             4.0              3.90  \n",
       "1    0.0924    0.813   88.931             4.0              3.81  \n",
       "2    0.1120    0.846  177.833             4.0              3.80  \n",
       "3    0.1640    0.446  103.019             4.0              4.12  \n",
       "4    0.1670    0.811   80.924             4.0              4.81  "
      ]
     },
     "execution_count": 247,
     "metadata": {},
     "output_type": "execute_result"
    }
   ],
   "source": [
    "features_df.drop('duration_ms', inplace=True, axis=1)\n",
    "features_df.head()"
   ]
  },
  {
   "attachments": {},
   "cell_type": "markdown",
   "metadata": {},
   "source": [
    "#### Feature Engineering - Covert key into original symbol"
   ]
  },
  {
   "attachments": {},
   "cell_type": "markdown",
   "metadata": {},
   "source": [
    "The key the track is in. Integers map to pitches using standard Pitch Class notation. E.g. 0 = C, 1 = C♯/D♭, 2 = D, and so on. If no key was detected, the value is -1.\n",
    "values between >= -1<= 11 [0]"
   ]
  },
  {
   "cell_type": "code",
   "execution_count": 248,
   "metadata": {},
   "outputs": [],
   "source": [
    "key_signature_symbol = dict({ -1: 'None', 0: ['C'], 1: ['C#', 'Db'], \n",
    "                              2: ['D'], 3: ['D#', 'Eb'], 4: ['E'], \n",
    "                              5: ['F'], 6: ['F#', 'Gb'], 7: ['G'], \n",
    "                              8: ['G#','Ab'], 9: ['A'], \n",
    "                              10: ['A#', 'Bb'], 11: ['B']})\n",
    "\n",
    "features_df['key_symbols'] = features_df['key'].apply(lambda x: key_signature_symbol[int(x)])"
   ]
  },
  {
   "cell_type": "code",
   "execution_count": 249,
   "metadata": {},
   "outputs": [
    {
     "data": {
      "text/html": [
       "<div>\n",
       "<style scoped>\n",
       "    .dataframe tbody tr th:only-of-type {\n",
       "        vertical-align: middle;\n",
       "    }\n",
       "\n",
       "    .dataframe tbody tr th {\n",
       "        vertical-align: top;\n",
       "    }\n",
       "\n",
       "    .dataframe thead th {\n",
       "        text-align: right;\n",
       "    }\n",
       "</style>\n",
       "<table border=\"1\" class=\"dataframe\">\n",
       "  <thead>\n",
       "    <tr style=\"text-align: right;\">\n",
       "      <th></th>\n",
       "      <th>name</th>\n",
       "      <th>artists</th>\n",
       "      <th>danceability</th>\n",
       "      <th>energy</th>\n",
       "      <th>key</th>\n",
       "      <th>loudness</th>\n",
       "      <th>mode</th>\n",
       "      <th>speechiness</th>\n",
       "      <th>acousticness</th>\n",
       "      <th>instrumentalness</th>\n",
       "      <th>liveness</th>\n",
       "      <th>valence</th>\n",
       "      <th>tempo</th>\n",
       "      <th>time_signature</th>\n",
       "      <th>duration_minutes</th>\n",
       "      <th>key_symbols</th>\n",
       "    </tr>\n",
       "  </thead>\n",
       "  <tbody>\n",
       "    <tr>\n",
       "      <th>0</th>\n",
       "      <td>Shape of You</td>\n",
       "      <td>Ed Sheeran</td>\n",
       "      <td>0.825</td>\n",
       "      <td>0.652</td>\n",
       "      <td>1.0</td>\n",
       "      <td>-3.183</td>\n",
       "      <td>0.0</td>\n",
       "      <td>0.0802</td>\n",
       "      <td>0.5810</td>\n",
       "      <td>0.000000</td>\n",
       "      <td>0.0931</td>\n",
       "      <td>0.931</td>\n",
       "      <td>95.977</td>\n",
       "      <td>4.0</td>\n",
       "      <td>3.90</td>\n",
       "      <td>[C#, Db]</td>\n",
       "    </tr>\n",
       "    <tr>\n",
       "      <th>1</th>\n",
       "      <td>Despacito - Remix</td>\n",
       "      <td>Luis Fonsi</td>\n",
       "      <td>0.694</td>\n",
       "      <td>0.815</td>\n",
       "      <td>2.0</td>\n",
       "      <td>-4.328</td>\n",
       "      <td>1.0</td>\n",
       "      <td>0.1200</td>\n",
       "      <td>0.2290</td>\n",
       "      <td>0.000000</td>\n",
       "      <td>0.0924</td>\n",
       "      <td>0.813</td>\n",
       "      <td>88.931</td>\n",
       "      <td>4.0</td>\n",
       "      <td>3.81</td>\n",
       "      <td>[D]</td>\n",
       "    </tr>\n",
       "    <tr>\n",
       "      <th>2</th>\n",
       "      <td>Despacito (Featuring Daddy Yankee)</td>\n",
       "      <td>Luis Fonsi</td>\n",
       "      <td>0.660</td>\n",
       "      <td>0.786</td>\n",
       "      <td>2.0</td>\n",
       "      <td>-4.757</td>\n",
       "      <td>1.0</td>\n",
       "      <td>0.1700</td>\n",
       "      <td>0.2090</td>\n",
       "      <td>0.000000</td>\n",
       "      <td>0.1120</td>\n",
       "      <td>0.846</td>\n",
       "      <td>177.833</td>\n",
       "      <td>4.0</td>\n",
       "      <td>3.80</td>\n",
       "      <td>[D]</td>\n",
       "    </tr>\n",
       "    <tr>\n",
       "      <th>3</th>\n",
       "      <td>Something Just Like This</td>\n",
       "      <td>The Chainsmokers</td>\n",
       "      <td>0.617</td>\n",
       "      <td>0.635</td>\n",
       "      <td>11.0</td>\n",
       "      <td>-6.769</td>\n",
       "      <td>0.0</td>\n",
       "      <td>0.0317</td>\n",
       "      <td>0.0498</td>\n",
       "      <td>0.000014</td>\n",
       "      <td>0.1640</td>\n",
       "      <td>0.446</td>\n",
       "      <td>103.019</td>\n",
       "      <td>4.0</td>\n",
       "      <td>4.12</td>\n",
       "      <td>[B]</td>\n",
       "    </tr>\n",
       "    <tr>\n",
       "      <th>4</th>\n",
       "      <td>I'm the One</td>\n",
       "      <td>DJ Khaled</td>\n",
       "      <td>0.609</td>\n",
       "      <td>0.668</td>\n",
       "      <td>7.0</td>\n",
       "      <td>-4.284</td>\n",
       "      <td>1.0</td>\n",
       "      <td>0.0367</td>\n",
       "      <td>0.0552</td>\n",
       "      <td>0.000000</td>\n",
       "      <td>0.1670</td>\n",
       "      <td>0.811</td>\n",
       "      <td>80.924</td>\n",
       "      <td>4.0</td>\n",
       "      <td>4.81</td>\n",
       "      <td>[G]</td>\n",
       "    </tr>\n",
       "  </tbody>\n",
       "</table>\n",
       "</div>"
      ],
      "text/plain": [
       "                                 name           artists  danceability  energy  \\\n",
       "0                        Shape of You        Ed Sheeran         0.825   0.652   \n",
       "1                   Despacito - Remix        Luis Fonsi         0.694   0.815   \n",
       "2  Despacito (Featuring Daddy Yankee)        Luis Fonsi         0.660   0.786   \n",
       "3            Something Just Like This  The Chainsmokers         0.617   0.635   \n",
       "4                         I'm the One         DJ Khaled         0.609   0.668   \n",
       "\n",
       "    key  loudness  mode  speechiness  acousticness  instrumentalness  \\\n",
       "0   1.0    -3.183   0.0       0.0802        0.5810          0.000000   \n",
       "1   2.0    -4.328   1.0       0.1200        0.2290          0.000000   \n",
       "2   2.0    -4.757   1.0       0.1700        0.2090          0.000000   \n",
       "3  11.0    -6.769   0.0       0.0317        0.0498          0.000014   \n",
       "4   7.0    -4.284   1.0       0.0367        0.0552          0.000000   \n",
       "\n",
       "   liveness  valence    tempo  time_signature  duration_minutes key_symbols  \n",
       "0    0.0931    0.931   95.977             4.0              3.90    [C#, Db]  \n",
       "1    0.0924    0.813   88.931             4.0              3.81         [D]  \n",
       "2    0.1120    0.846  177.833             4.0              3.80         [D]  \n",
       "3    0.1640    0.446  103.019             4.0              4.12         [B]  \n",
       "4    0.1670    0.811   80.924             4.0              4.81         [G]  "
      ]
     },
     "execution_count": 249,
     "metadata": {},
     "output_type": "execute_result"
    }
   ],
   "source": [
    "features_df.head()"
   ]
  },
  {
   "cell_type": "code",
   "execution_count": 250,
   "metadata": {},
   "outputs": [],
   "source": [
    "features_df['key_symbols'] = features_df['key_symbols'].apply(lambda arr: ','.join(arr))"
   ]
  },
  {
   "cell_type": "code",
   "execution_count": 251,
   "metadata": {},
   "outputs": [
    {
     "data": {
      "text/html": [
       "<div>\n",
       "<style scoped>\n",
       "    .dataframe tbody tr th:only-of-type {\n",
       "        vertical-align: middle;\n",
       "    }\n",
       "\n",
       "    .dataframe tbody tr th {\n",
       "        vertical-align: top;\n",
       "    }\n",
       "\n",
       "    .dataframe thead th {\n",
       "        text-align: right;\n",
       "    }\n",
       "</style>\n",
       "<table border=\"1\" class=\"dataframe\">\n",
       "  <thead>\n",
       "    <tr style=\"text-align: right;\">\n",
       "      <th></th>\n",
       "      <th>name</th>\n",
       "      <th>artists</th>\n",
       "      <th>danceability</th>\n",
       "      <th>energy</th>\n",
       "      <th>key</th>\n",
       "      <th>loudness</th>\n",
       "      <th>mode</th>\n",
       "      <th>speechiness</th>\n",
       "      <th>acousticness</th>\n",
       "      <th>instrumentalness</th>\n",
       "      <th>liveness</th>\n",
       "      <th>valence</th>\n",
       "      <th>tempo</th>\n",
       "      <th>time_signature</th>\n",
       "      <th>duration_minutes</th>\n",
       "      <th>key_symbols</th>\n",
       "    </tr>\n",
       "  </thead>\n",
       "  <tbody>\n",
       "    <tr>\n",
       "      <th>0</th>\n",
       "      <td>Shape of You</td>\n",
       "      <td>Ed Sheeran</td>\n",
       "      <td>0.825</td>\n",
       "      <td>0.652</td>\n",
       "      <td>1.0</td>\n",
       "      <td>-3.183</td>\n",
       "      <td>0.0</td>\n",
       "      <td>0.0802</td>\n",
       "      <td>0.5810</td>\n",
       "      <td>0.000000</td>\n",
       "      <td>0.0931</td>\n",
       "      <td>0.931</td>\n",
       "      <td>95.977</td>\n",
       "      <td>4.0</td>\n",
       "      <td>3.90</td>\n",
       "      <td>C#,Db</td>\n",
       "    </tr>\n",
       "    <tr>\n",
       "      <th>1</th>\n",
       "      <td>Despacito - Remix</td>\n",
       "      <td>Luis Fonsi</td>\n",
       "      <td>0.694</td>\n",
       "      <td>0.815</td>\n",
       "      <td>2.0</td>\n",
       "      <td>-4.328</td>\n",
       "      <td>1.0</td>\n",
       "      <td>0.1200</td>\n",
       "      <td>0.2290</td>\n",
       "      <td>0.000000</td>\n",
       "      <td>0.0924</td>\n",
       "      <td>0.813</td>\n",
       "      <td>88.931</td>\n",
       "      <td>4.0</td>\n",
       "      <td>3.81</td>\n",
       "      <td>D</td>\n",
       "    </tr>\n",
       "    <tr>\n",
       "      <th>2</th>\n",
       "      <td>Despacito (Featuring Daddy Yankee)</td>\n",
       "      <td>Luis Fonsi</td>\n",
       "      <td>0.660</td>\n",
       "      <td>0.786</td>\n",
       "      <td>2.0</td>\n",
       "      <td>-4.757</td>\n",
       "      <td>1.0</td>\n",
       "      <td>0.1700</td>\n",
       "      <td>0.2090</td>\n",
       "      <td>0.000000</td>\n",
       "      <td>0.1120</td>\n",
       "      <td>0.846</td>\n",
       "      <td>177.833</td>\n",
       "      <td>4.0</td>\n",
       "      <td>3.80</td>\n",
       "      <td>D</td>\n",
       "    </tr>\n",
       "    <tr>\n",
       "      <th>3</th>\n",
       "      <td>Something Just Like This</td>\n",
       "      <td>The Chainsmokers</td>\n",
       "      <td>0.617</td>\n",
       "      <td>0.635</td>\n",
       "      <td>11.0</td>\n",
       "      <td>-6.769</td>\n",
       "      <td>0.0</td>\n",
       "      <td>0.0317</td>\n",
       "      <td>0.0498</td>\n",
       "      <td>0.000014</td>\n",
       "      <td>0.1640</td>\n",
       "      <td>0.446</td>\n",
       "      <td>103.019</td>\n",
       "      <td>4.0</td>\n",
       "      <td>4.12</td>\n",
       "      <td>B</td>\n",
       "    </tr>\n",
       "    <tr>\n",
       "      <th>4</th>\n",
       "      <td>I'm the One</td>\n",
       "      <td>DJ Khaled</td>\n",
       "      <td>0.609</td>\n",
       "      <td>0.668</td>\n",
       "      <td>7.0</td>\n",
       "      <td>-4.284</td>\n",
       "      <td>1.0</td>\n",
       "      <td>0.0367</td>\n",
       "      <td>0.0552</td>\n",
       "      <td>0.000000</td>\n",
       "      <td>0.1670</td>\n",
       "      <td>0.811</td>\n",
       "      <td>80.924</td>\n",
       "      <td>4.0</td>\n",
       "      <td>4.81</td>\n",
       "      <td>G</td>\n",
       "    </tr>\n",
       "  </tbody>\n",
       "</table>\n",
       "</div>"
      ],
      "text/plain": [
       "                                 name           artists  danceability  energy  \\\n",
       "0                        Shape of You        Ed Sheeran         0.825   0.652   \n",
       "1                   Despacito - Remix        Luis Fonsi         0.694   0.815   \n",
       "2  Despacito (Featuring Daddy Yankee)        Luis Fonsi         0.660   0.786   \n",
       "3            Something Just Like This  The Chainsmokers         0.617   0.635   \n",
       "4                         I'm the One         DJ Khaled         0.609   0.668   \n",
       "\n",
       "    key  loudness  mode  speechiness  acousticness  instrumentalness  \\\n",
       "0   1.0    -3.183   0.0       0.0802        0.5810          0.000000   \n",
       "1   2.0    -4.328   1.0       0.1200        0.2290          0.000000   \n",
       "2   2.0    -4.757   1.0       0.1700        0.2090          0.000000   \n",
       "3  11.0    -6.769   0.0       0.0317        0.0498          0.000014   \n",
       "4   7.0    -4.284   1.0       0.0367        0.0552          0.000000   \n",
       "\n",
       "   liveness  valence    tempo  time_signature  duration_minutes key_symbols  \n",
       "0    0.0931    0.931   95.977             4.0              3.90       C#,Db  \n",
       "1    0.0924    0.813   88.931             4.0              3.81           D  \n",
       "2    0.1120    0.846  177.833             4.0              3.80           D  \n",
       "3    0.1640    0.446  103.019             4.0              4.12           B  \n",
       "4    0.1670    0.811   80.924             4.0              4.81           G  "
      ]
     },
     "execution_count": 251,
     "metadata": {},
     "output_type": "execute_result"
    }
   ],
   "source": [
    "features_df.head()"
   ]
  },
  {
   "cell_type": "code",
   "execution_count": 252,
   "metadata": {},
   "outputs": [
    {
     "data": {
      "text/plain": [
       "(100, 16)"
      ]
     },
     "execution_count": 252,
     "metadata": {},
     "output_type": "execute_result"
    }
   ],
   "source": [
    "features_df.shape"
   ]
  },
  {
   "attachments": {},
   "cell_type": "markdown",
   "metadata": {},
   "source": [
    "# DataType Check"
   ]
  },
  {
   "cell_type": "code",
   "execution_count": 253,
   "metadata": {},
   "outputs": [
    {
     "data": {
      "text/plain": [
       "name                 object\n",
       "artists              object\n",
       "danceability        float64\n",
       "energy              float64\n",
       "key                 float64\n",
       "loudness            float64\n",
       "mode                float64\n",
       "speechiness         float64\n",
       "acousticness        float64\n",
       "instrumentalness    float64\n",
       "liveness            float64\n",
       "valence             float64\n",
       "tempo               float64\n",
       "time_signature      float64\n",
       "duration_minutes    float64\n",
       "key_symbols          object\n",
       "dtype: object"
      ]
     },
     "execution_count": 253,
     "metadata": {},
     "output_type": "execute_result"
    }
   ],
   "source": [
    "features_df.dtypes"
   ]
  },
  {
   "cell_type": "code",
   "execution_count": 254,
   "metadata": {},
   "outputs": [
    {
     "data": {
      "text/plain": [
       "Position       int64\n",
       "Track Name    object\n",
       "Artist        object\n",
       "Streams        int64\n",
       "URL           object\n",
       "Date          object\n",
       "Region        object\n",
       "dtype: object"
      ]
     },
     "execution_count": 254,
     "metadata": {},
     "output_type": "execute_result"
    }
   ],
   "source": [
    "ranking_spotify_1.dtypes"
   ]
  },
  {
   "attachments": {},
   "cell_type": "markdown",
   "metadata": {},
   "source": [
    "Use a datetimestamp object"
   ]
  },
  {
   "cell_type": "code",
   "execution_count": 255,
   "metadata": {},
   "outputs": [
    {
     "data": {
      "text/plain": [
       "Position               int64\n",
       "Track Name            object\n",
       "Artist                object\n",
       "Streams                int64\n",
       "URL                   object\n",
       "Date          datetime64[ns]\n",
       "Region                object\n",
       "dtype: object"
      ]
     },
     "execution_count": 255,
     "metadata": {},
     "output_type": "execute_result"
    }
   ],
   "source": [
    "ranking_spotify_1.Date = pd.to_datetime(ranking_spotify_1.Date)\n",
    "ranking_spotify_1.dtypes"
   ]
  },
  {
   "attachments": {},
   "cell_type": "markdown",
   "metadata": {},
   "source": [
    "# Null Check"
   ]
  },
  {
   "cell_type": "code",
   "execution_count": 256,
   "metadata": {},
   "outputs": [
    {
     "data": {
      "text/plain": [
       "Position       0\n",
       "Track Name    16\n",
       "Artist        16\n",
       "Streams        0\n",
       "URL            0\n",
       "Date           0\n",
       "Region         0\n",
       "dtype: int64"
      ]
     },
     "execution_count": 256,
     "metadata": {},
     "output_type": "execute_result"
    }
   ],
   "source": [
    "ranking_spotify_1.isnull().sum()"
   ]
  },
  {
   "attachments": {},
   "cell_type": "markdown",
   "metadata": {},
   "source": [
    "16/72000 is a small percent, so it is safe to drop the missing values."
   ]
  },
  {
   "cell_type": "code",
   "execution_count": 257,
   "metadata": {},
   "outputs": [],
   "source": [
    "ranking_spotify_1.dropna(inplace=True)"
   ]
  },
  {
   "cell_type": "code",
   "execution_count": 258,
   "metadata": {},
   "outputs": [
    {
     "data": {
      "text/plain": [
       "Position      0\n",
       "Track Name    0\n",
       "Artist        0\n",
       "Streams       0\n",
       "URL           0\n",
       "Date          0\n",
       "Region        0\n",
       "dtype: int64"
      ]
     },
     "execution_count": 258,
     "metadata": {},
     "output_type": "execute_result"
    }
   ],
   "source": [
    "ranking_spotify_1.isnull().sum()"
   ]
  },
  {
   "cell_type": "code",
   "execution_count": 259,
   "metadata": {},
   "outputs": [],
   "source": [
    "ranking_spotify_1.drop(['URL'], inplace=True, axis=1)"
   ]
  },
  {
   "cell_type": "code",
   "execution_count": 260,
   "metadata": {},
   "outputs": [
    {
     "data": {
      "text/html": [
       "<div>\n",
       "<style scoped>\n",
       "    .dataframe tbody tr th:only-of-type {\n",
       "        vertical-align: middle;\n",
       "    }\n",
       "\n",
       "    .dataframe tbody tr th {\n",
       "        vertical-align: top;\n",
       "    }\n",
       "\n",
       "    .dataframe thead th {\n",
       "        text-align: right;\n",
       "    }\n",
       "</style>\n",
       "<table border=\"1\" class=\"dataframe\">\n",
       "  <thead>\n",
       "    <tr style=\"text-align: right;\">\n",
       "      <th></th>\n",
       "      <th>Position</th>\n",
       "      <th>Track Name</th>\n",
       "      <th>Artist</th>\n",
       "      <th>Streams</th>\n",
       "      <th>Date</th>\n",
       "      <th>Region</th>\n",
       "    </tr>\n",
       "  </thead>\n",
       "  <tbody>\n",
       "    <tr>\n",
       "      <th>771622</th>\n",
       "      <td>1</td>\n",
       "      <td>Bad and Boujee (feat. Lil Uzi Vert)</td>\n",
       "      <td>Migos</td>\n",
       "      <td>1371493</td>\n",
       "      <td>2017-01-01</td>\n",
       "      <td>us</td>\n",
       "    </tr>\n",
       "  </tbody>\n",
       "</table>\n",
       "</div>"
      ],
      "text/plain": [
       "        Position                           Track Name Artist  Streams  \\\n",
       "771622         1  Bad and Boujee (feat. Lil Uzi Vert)  Migos  1371493   \n",
       "\n",
       "             Date Region  \n",
       "771622 2017-01-01     us  "
      ]
     },
     "execution_count": 260,
     "metadata": {},
     "output_type": "execute_result"
    }
   ],
   "source": [
    "ranking_spotify_1.head(1)"
   ]
  },
  {
   "cell_type": "code",
   "execution_count": 261,
   "metadata": {},
   "outputs": [
    {
     "data": {
      "text/html": [
       "<div>\n",
       "<style scoped>\n",
       "    .dataframe tbody tr th:only-of-type {\n",
       "        vertical-align: middle;\n",
       "    }\n",
       "\n",
       "    .dataframe tbody tr th {\n",
       "        vertical-align: top;\n",
       "    }\n",
       "\n",
       "    .dataframe thead th {\n",
       "        text-align: right;\n",
       "    }\n",
       "</style>\n",
       "<table border=\"1\" class=\"dataframe\">\n",
       "  <thead>\n",
       "    <tr style=\"text-align: right;\">\n",
       "      <th></th>\n",
       "      <th>name</th>\n",
       "      <th>artists</th>\n",
       "      <th>danceability</th>\n",
       "      <th>energy</th>\n",
       "      <th>key</th>\n",
       "      <th>loudness</th>\n",
       "      <th>mode</th>\n",
       "      <th>speechiness</th>\n",
       "      <th>acousticness</th>\n",
       "      <th>instrumentalness</th>\n",
       "      <th>liveness</th>\n",
       "      <th>valence</th>\n",
       "      <th>tempo</th>\n",
       "      <th>time_signature</th>\n",
       "      <th>duration_minutes</th>\n",
       "      <th>key_symbols</th>\n",
       "    </tr>\n",
       "  </thead>\n",
       "  <tbody>\n",
       "    <tr>\n",
       "      <th>0</th>\n",
       "      <td>Shape of You</td>\n",
       "      <td>Ed Sheeran</td>\n",
       "      <td>0.825</td>\n",
       "      <td>0.652</td>\n",
       "      <td>1.0</td>\n",
       "      <td>-3.183</td>\n",
       "      <td>0.0</td>\n",
       "      <td>0.0802</td>\n",
       "      <td>0.581</td>\n",
       "      <td>0.0</td>\n",
       "      <td>0.0931</td>\n",
       "      <td>0.931</td>\n",
       "      <td>95.977</td>\n",
       "      <td>4.0</td>\n",
       "      <td>3.9</td>\n",
       "      <td>C#,Db</td>\n",
       "    </tr>\n",
       "  </tbody>\n",
       "</table>\n",
       "</div>"
      ],
      "text/plain": [
       "           name     artists  danceability  energy  key  loudness  mode  \\\n",
       "0  Shape of You  Ed Sheeran         0.825   0.652  1.0    -3.183   0.0   \n",
       "\n",
       "   speechiness  acousticness  instrumentalness  liveness  valence   tempo  \\\n",
       "0       0.0802         0.581               0.0    0.0931    0.931  95.977   \n",
       "\n",
       "   time_signature  duration_minutes key_symbols  \n",
       "0             4.0               3.9       C#,Db  "
      ]
     },
     "execution_count": 261,
     "metadata": {},
     "output_type": "execute_result"
    }
   ],
   "source": [
    "features_df.head(1)"
   ]
  },
  {
   "attachments": {},
   "cell_type": "markdown",
   "metadata": {},
   "source": [
    "### Feature DF Cleaning"
   ]
  },
  {
   "cell_type": "code",
   "execution_count": 262,
   "metadata": {},
   "outputs": [
    {
     "data": {
      "text/plain": [
       "name                 object\n",
       "artists              object\n",
       "danceability        float64\n",
       "energy              float64\n",
       "key                 float64\n",
       "loudness            float64\n",
       "mode                float64\n",
       "speechiness         float64\n",
       "acousticness        float64\n",
       "instrumentalness    float64\n",
       "liveness            float64\n",
       "valence             float64\n",
       "tempo               float64\n",
       "time_signature      float64\n",
       "duration_minutes    float64\n",
       "key_symbols          object\n",
       "dtype: object"
      ]
     },
     "execution_count": 262,
     "metadata": {},
     "output_type": "execute_result"
    }
   ],
   "source": [
    "features_df.dtypes"
   ]
  },
  {
   "attachments": {},
   "cell_type": "markdown",
   "metadata": {},
   "source": [
    "### Null Check on features DF"
   ]
  },
  {
   "cell_type": "code",
   "execution_count": 263,
   "metadata": {},
   "outputs": [
    {
     "data": {
      "text/plain": [
       "name                0\n",
       "artists             0\n",
       "danceability        0\n",
       "energy              0\n",
       "key                 0\n",
       "loudness            0\n",
       "mode                0\n",
       "speechiness         0\n",
       "acousticness        0\n",
       "instrumentalness    0\n",
       "liveness            0\n",
       "valence             0\n",
       "tempo               0\n",
       "time_signature      0\n",
       "duration_minutes    0\n",
       "key_symbols         0\n",
       "dtype: int64"
      ]
     },
     "execution_count": 263,
     "metadata": {},
     "output_type": "execute_result"
    }
   ],
   "source": [
    "features_df.isnull().sum()"
   ]
  },
  {
   "attachments": {},
   "cell_type": "markdown",
   "metadata": {},
   "source": [
    "# Exploratory Data Analysis"
   ]
  },
  {
   "attachments": {},
   "cell_type": "markdown",
   "metadata": {},
   "source": [
    "17 features is a lot to show on a pairplot so we'll be using a histplot."
   ]
  },
  {
   "cell_type": "code",
   "execution_count": 264,
   "metadata": {},
   "outputs": [
    {
     "data": {
      "image/png": "[encoded data removed]",
      "text/plain": [
       "<Figure size 2000x1500 with 16 Axes>"
      ]
     },
     "metadata": {},
     "output_type": "display_data"
    }
   ],
   "source": [
    "features_df.hist(bins=50, figsize=(20,15));"
   ]
  },
  {
   "attachments": {},
   "cell_type": "markdown",
   "metadata": {},
   "source": [
    "There is a mix of distributions, some have a normal distribution while other features only have one to two values."
   ]
  },
  {
   "attachments": {},
   "cell_type": "markdown",
   "metadata": {},
   "source": [
    "### Statistical output of song details"
   ]
  },
  {
   "cell_type": "code",
   "execution_count": 265,
   "metadata": {},
   "outputs": [
    {
     "data": {
      "text/html": [
       "<div>\n",
       "<style scoped>\n",
       "    .dataframe tbody tr th:only-of-type {\n",
       "        vertical-align: middle;\n",
       "    }\n",
       "\n",
       "    .dataframe tbody tr th {\n",
       "        vertical-align: top;\n",
       "    }\n",
       "\n",
       "    .dataframe thead th {\n",
       "        text-align: right;\n",
       "    }\n",
       "</style>\n",
       "<table border=\"1\" class=\"dataframe\">\n",
       "  <thead>\n",
       "    <tr style=\"text-align: right;\">\n",
       "      <th></th>\n",
       "      <th>danceability</th>\n",
       "      <th>energy</th>\n",
       "      <th>key</th>\n",
       "      <th>loudness</th>\n",
       "      <th>mode</th>\n",
       "      <th>speechiness</th>\n",
       "      <th>acousticness</th>\n",
       "      <th>instrumentalness</th>\n",
       "      <th>liveness</th>\n",
       "      <th>valence</th>\n",
       "      <th>tempo</th>\n",
       "      <th>time_signature</th>\n",
       "      <th>duration_minutes</th>\n",
       "    </tr>\n",
       "  </thead>\n",
       "  <tbody>\n",
       "    <tr>\n",
       "      <th>mean</th>\n",
       "      <td>0.696820</td>\n",
       "      <td>0.660690</td>\n",
       "      <td>5.570000</td>\n",
       "      <td>-5.652650</td>\n",
       "      <td>0.580000</td>\n",
       "      <td>0.103969</td>\n",
       "      <td>0.166306</td>\n",
       "      <td>0.004796</td>\n",
       "      <td>0.150607</td>\n",
       "      <td>0.517049</td>\n",
       "      <td>119.202460</td>\n",
       "      <td>3.99</td>\n",
       "      <td>3.639900</td>\n",
       "    </tr>\n",
       "    <tr>\n",
       "      <th>median</th>\n",
       "      <td>0.714000</td>\n",
       "      <td>0.667500</td>\n",
       "      <td>6.000000</td>\n",
       "      <td>-5.437000</td>\n",
       "      <td>1.000000</td>\n",
       "      <td>0.062650</td>\n",
       "      <td>0.106500</td>\n",
       "      <td>0.000000</td>\n",
       "      <td>0.125000</td>\n",
       "      <td>0.502500</td>\n",
       "      <td>112.468000</td>\n",
       "      <td>4.00</td>\n",
       "      <td>3.570000</td>\n",
       "    </tr>\n",
       "    <tr>\n",
       "      <th>skew</th>\n",
       "      <td>-0.892722</td>\n",
       "      <td>-0.333296</td>\n",
       "      <td>-0.094577</td>\n",
       "      <td>-0.875746</td>\n",
       "      <td>-0.329134</td>\n",
       "      <td>2.003411</td>\n",
       "      <td>1.328141</td>\n",
       "      <td>6.545084</td>\n",
       "      <td>1.398481</td>\n",
       "      <td>0.040421</td>\n",
       "      <td>0.881365</td>\n",
       "      <td>-10.00</td>\n",
       "      <td>1.569407</td>\n",
       "    </tr>\n",
       "    <tr>\n",
       "      <th>std</th>\n",
       "      <td>0.125080</td>\n",
       "      <td>0.139207</td>\n",
       "      <td>3.731534</td>\n",
       "      <td>1.802067</td>\n",
       "      <td>0.496045</td>\n",
       "      <td>0.095115</td>\n",
       "      <td>0.166730</td>\n",
       "      <td>0.026038</td>\n",
       "      <td>0.079011</td>\n",
       "      <td>0.216436</td>\n",
       "      <td>27.952928</td>\n",
       "      <td>0.10</td>\n",
       "      <td>0.547443</td>\n",
       "    </tr>\n",
       "    <tr>\n",
       "      <th>min</th>\n",
       "      <td>0.258000</td>\n",
       "      <td>0.346000</td>\n",
       "      <td>0.000000</td>\n",
       "      <td>-11.462000</td>\n",
       "      <td>0.000000</td>\n",
       "      <td>0.023200</td>\n",
       "      <td>0.000259</td>\n",
       "      <td>0.000000</td>\n",
       "      <td>0.042400</td>\n",
       "      <td>0.086200</td>\n",
       "      <td>75.016000</td>\n",
       "      <td>3.00</td>\n",
       "      <td>2.760000</td>\n",
       "    </tr>\n",
       "    <tr>\n",
       "      <th>max</th>\n",
       "      <td>0.927000</td>\n",
       "      <td>0.932000</td>\n",
       "      <td>11.000000</td>\n",
       "      <td>-2.396000</td>\n",
       "      <td>1.000000</td>\n",
       "      <td>0.431000</td>\n",
       "      <td>0.695000</td>\n",
       "      <td>0.210000</td>\n",
       "      <td>0.440000</td>\n",
       "      <td>0.966000</td>\n",
       "      <td>199.864000</td>\n",
       "      <td>4.00</td>\n",
       "      <td>5.720000</td>\n",
       "    </tr>\n",
       "  </tbody>\n",
       "</table>\n",
       "</div>"
      ],
      "text/plain": [
       "        danceability    energy        key   loudness      mode  speechiness  \\\n",
       "mean        0.696820  0.660690   5.570000  -5.652650  0.580000     0.103969   \n",
       "median      0.714000  0.667500   6.000000  -5.437000  1.000000     0.062650   \n",
       "skew       -0.892722 -0.333296  -0.094577  -0.875746 -0.329134     2.003411   \n",
       "std         0.125080  0.139207   3.731534   1.802067  0.496045     0.095115   \n",
       "min         0.258000  0.346000   0.000000 -11.462000  0.000000     0.023200   \n",
       "max         0.927000  0.932000  11.000000  -2.396000  1.000000     0.431000   \n",
       "\n",
       "        acousticness  instrumentalness  liveness   valence       tempo  \\\n",
       "mean        0.166306          0.004796  0.150607  0.517049  119.202460   \n",
       "median      0.106500          0.000000  0.125000  0.502500  112.468000   \n",
       "skew        1.328141          6.545084  1.398481  0.040421    0.881365   \n",
       "std         0.166730          0.026038  0.079011  0.216436   27.952928   \n",
       "min         0.000259          0.000000  0.042400  0.086200   75.016000   \n",
       "max         0.695000          0.210000  0.440000  0.966000  199.864000   \n",
       "\n",
       "        time_signature  duration_minutes  \n",
       "mean              3.99          3.639900  \n",
       "median            4.00          3.570000  \n",
       "skew            -10.00          1.569407  \n",
       "std               0.10          0.547443  \n",
       "min               3.00          2.760000  \n",
       "max               4.00          5.720000  "
      ]
     },
     "execution_count": 265,
     "metadata": {},
     "output_type": "execute_result"
    }
   ],
   "source": [
    "features_df.select_dtypes(include=[int, float], exclude=['object']).apply(['mean', 'median', 'skew', 'std', 'min', 'max'])"
   ]
  },
  {
   "attachments": {},
   "cell_type": "markdown",
   "metadata": {},
   "source": [
    "Most features between mean and median are similar. The standard deviation is low except for tempo (BPM) and loudness. "
   ]
  },
  {
   "cell_type": "code",
   "execution_count": 307,
   "metadata": {},
   "outputs": [
    {
     "data": {
      "text/plain": [
       "72384"
      ]
     },
     "execution_count": 307,
     "metadata": {},
     "output_type": "execute_result"
    }
   ],
   "source": [
    "ranking_spotify_1.Position.count()"
   ]
  },
  {
   "attachments": {},
   "cell_type": "markdown",
   "metadata": {},
   "source": [
    "### Correlation plot of numeric features"
   ]
  },
  {
   "cell_type": "code",
   "execution_count": 266,
   "metadata": {},
   "outputs": [
    {
     "data": {
      "image/png": "[encoded data removed]",
      "text/plain": [
       "<Figure size 1100x800 with 2 Axes>"
      ]
     },
     "metadata": {},
     "output_type": "display_data"
    }
   ],
   "source": [
    "# only show lower portion of plot\n",
    "sns.set(rc={'figure.figsize':(11,8)})\n",
    "matrix = features_df.select_dtypes(include=np.number).corr()\n",
    "mask = np.triu(np.ones_like(matrix, dtype=bool))\n",
    "cmap = sns.diverging_palette(250, 15, s=75, l=40, n=9, center=\"light\", as_cmap=True)\n",
    "sns.heatmap(matrix, annot=True, mask=mask, square=True, fmt=\".2f\", cmap=cmap).set(title='Correlation Plot');"
   ]
  },
  {
   "attachments": {},
   "cell_type": "markdown",
   "metadata": {},
   "source": [
    "Energy and loudness have a strong positive correlation. \n",
    "Valance and danceability, energy and loudness all have a positive correlation. \n",
    "Loudness and speechiness have a negative correlation, which makes sense if a song is very loud you likely cannot hear the person singing in the background unless you're talking about death metal :) Surprising note - I expected danceability to have a stronger correlation with loudness, but there can be songs to be used to dance formally like a waltz or tango."
   ]
  },
  {
   "cell_type": "code",
   "execution_count": 267,
   "metadata": {},
   "outputs": [
    {
     "data": {
      "image/png": "[encoded data removed]",
      "text/plain": [
       "<Figure size 1100x800 with 1 Axes>"
      ]
     },
     "metadata": {},
     "output_type": "display_data"
    }
   ],
   "source": [
    "sns.kdeplot(data=features_df[['danceability', 'energy', 'valence']], fill=True).set\\\n",
    "(title='Density Plot of Danceability, Energy, Valence', xlabel='Danceability, Energy, Valence', ylabel='Density');"
   ]
  },
  {
   "attachments": {},
   "cell_type": "markdown",
   "metadata": {},
   "source": [
    "Since these three features are postively correlated we can see the density distrubtion plot looks similar between the features. "
   ]
  },
  {
   "attachments": {},
   "cell_type": "markdown",
   "metadata": {},
   "source": [
    "#### Top 100 Rankings vs Streams"
   ]
  },
  {
   "cell_type": "code",
   "execution_count": 268,
   "metadata": {},
   "outputs": [
    {
     "data": {
      "text/html": [
       "<div>\n",
       "<style scoped>\n",
       "    .dataframe tbody tr th:only-of-type {\n",
       "        vertical-align: middle;\n",
       "    }\n",
       "\n",
       "    .dataframe tbody tr th {\n",
       "        vertical-align: top;\n",
       "    }\n",
       "\n",
       "    .dataframe thead th {\n",
       "        text-align: right;\n",
       "    }\n",
       "</style>\n",
       "<table border=\"1\" class=\"dataframe\">\n",
       "  <thead>\n",
       "    <tr style=\"text-align: right;\">\n",
       "      <th></th>\n",
       "      <th>index</th>\n",
       "      <th>Position</th>\n",
       "      <th>Track Name</th>\n",
       "      <th>Artist</th>\n",
       "      <th>Streams</th>\n",
       "      <th>Date</th>\n",
       "      <th>Region</th>\n",
       "    </tr>\n",
       "  </thead>\n",
       "  <tbody>\n",
       "    <tr>\n",
       "      <th>0</th>\n",
       "      <td>771622</td>\n",
       "      <td>1</td>\n",
       "      <td>Bad and Boujee (feat. Lil Uzi Vert)</td>\n",
       "      <td>Migos</td>\n",
       "      <td>1371493</td>\n",
       "      <td>2017-01-01</td>\n",
       "      <td>us</td>\n",
       "    </tr>\n",
       "    <tr>\n",
       "      <th>16600</th>\n",
       "      <td>788222</td>\n",
       "      <td>1</td>\n",
       "      <td>Passionfruit</td>\n",
       "      <td>Drake</td>\n",
       "      <td>1967738</td>\n",
       "      <td>2017-03-25</td>\n",
       "      <td>us</td>\n",
       "    </tr>\n",
       "    <tr>\n",
       "      <th>40590</th>\n",
       "      <td>812222</td>\n",
       "      <td>1</td>\n",
       "      <td>Wild Thoughts</td>\n",
       "      <td>DJ Khaled</td>\n",
       "      <td>1230131</td>\n",
       "      <td>2017-07-26</td>\n",
       "      <td>us</td>\n",
       "    </tr>\n",
       "    <tr>\n",
       "      <th>67984</th>\n",
       "      <td>839622</td>\n",
       "      <td>1</td>\n",
       "      <td>rockstar</td>\n",
       "      <td>Post Malone</td>\n",
       "      <td>1559650</td>\n",
       "      <td>2017-12-10</td>\n",
       "      <td>us</td>\n",
       "    </tr>\n",
       "    <tr>\n",
       "      <th>59590</th>\n",
       "      <td>831222</td>\n",
       "      <td>1</td>\n",
       "      <td>rockstar</td>\n",
       "      <td>Post Malone</td>\n",
       "      <td>2072302</td>\n",
       "      <td>2017-10-29</td>\n",
       "      <td>us</td>\n",
       "    </tr>\n",
       "  </tbody>\n",
       "</table>\n",
       "</div>"
      ],
      "text/plain": [
       "        index  Position                           Track Name       Artist  \\\n",
       "0      771622         1  Bad and Boujee (feat. Lil Uzi Vert)        Migos   \n",
       "16600  788222         1                         Passionfruit        Drake   \n",
       "40590  812222         1                        Wild Thoughts    DJ Khaled   \n",
       "67984  839622         1                             rockstar  Post Malone   \n",
       "59590  831222         1                             rockstar  Post Malone   \n",
       "\n",
       "       Streams       Date Region  \n",
       "0      1371493 2017-01-01     us  \n",
       "16600  1967738 2017-03-25     us  \n",
       "40590  1230131 2017-07-26     us  \n",
       "67984  1559650 2017-12-10     us  \n",
       "59590  2072302 2017-10-29     us  "
      ]
     },
     "execution_count": 268,
     "metadata": {},
     "output_type": "execute_result"
    }
   ],
   "source": [
    "ranking_sorted = ranking_spotify_1.reset_index().sort_values(by=['Position'], ascending=True)\n",
    "ranking_sorted.head()"
   ]
  },
  {
   "cell_type": "code",
   "execution_count": 269,
   "metadata": {},
   "outputs": [
    {
     "name": "stderr",
     "output_type": "stream",
     "text": [
      "C:\\Users\\Heather\\AppData\\Local\\Temp\\ipykernel_21476\\3573845034.py:5: UserWarning:\n",
      "\n",
      "FixedFormatter should only be used together with FixedLocator\n",
      "\n",
      "C:\\Users\\Heather\\AppData\\Local\\Temp\\ipykernel_21476\\3573845034.py:6: UserWarning:\n",
      "\n",
      "FixedFormatter should only be used together with FixedLocator\n",
      "\n"
     ]
    },
    {
     "data": {
      "image/png": "[encoded data removed]",
      "text/plain": [
       "<Figure size 2000x600 with 2 Axes>"
      ]
     },
     "metadata": {},
     "output_type": "display_data"
    }
   ],
   "source": [
    "# Initialize the matplotlib figure\n",
    "n = 100\n",
    "fig, (ax1, ax2) = plt.subplots(2, 1, figsize=(20, 6))\n",
    "\n",
    "ax1.set_xticklabels(ranking_sorted.Position, rotation=90)\n",
    "ax2.set_xticklabels(ranking_sorted.Position, rotation=90)\n",
    "\n",
    "# Figures spacing\n",
    "plt.subplots_adjust(left=None, bottom=None, right=None, top=None, wspace=0.6, hspace=0.6)\n",
    "ax2.set_xlim((0, ranking_spotify_1.head(n)['Position'].max()))\n",
    "\n",
    "# Barplots\n",
    "sns.barplot(ax=ax1, y=\"Streams\", x=\"Position\", palette=\"Blues_r\", data=ranking_spotify_1.head(n)).set(title='Top 100 Ranking vs Number of Streams')\n",
    "sns.barplot(ax=ax2, y=\"Streams\", x=\"Position\", palette=\"Reds\",    data=ranking_spotify_1.tail(n)).set(title='Lower 100 Ranking vs Number of Streams');"
   ]
  },
  {
   "attachments": {},
   "cell_type": "markdown",
   "metadata": {},
   "source": [
    "The top 100 most stream songs with the highest 5 having over a million streams per song with the lower 25% still around 500k streams. While the lower 100 rankings have values around 200k. "
   ]
  },
  {
   "attachments": {},
   "cell_type": "markdown",
   "metadata": {},
   "source": [
    "#### Which seasons have the most streams? \n",
    "\n",
    "* winter -\tJanuary, February, March\n",
    "* spring -\tApril, May, June\n",
    "* summer -\tJuly, August, September\n",
    "* fall -\tOctober, November, December"
   ]
  },
  {
   "cell_type": "code",
   "execution_count": 270,
   "metadata": {},
   "outputs": [
    {
     "data": {
      "text/html": [
       "<div>\n",
       "<style scoped>\n",
       "    .dataframe tbody tr th:only-of-type {\n",
       "        vertical-align: middle;\n",
       "    }\n",
       "\n",
       "    .dataframe tbody tr th {\n",
       "        vertical-align: top;\n",
       "    }\n",
       "\n",
       "    .dataframe thead th {\n",
       "        text-align: right;\n",
       "    }\n",
       "</style>\n",
       "<table border=\"1\" class=\"dataframe\">\n",
       "  <thead>\n",
       "    <tr style=\"text-align: right;\">\n",
       "      <th></th>\n",
       "      <th>Position</th>\n",
       "      <th>Track Name</th>\n",
       "      <th>Artist</th>\n",
       "      <th>Streams</th>\n",
       "      <th>Region</th>\n",
       "      <th>month</th>\n",
       "      <th>day</th>\n",
       "    </tr>\n",
       "  </thead>\n",
       "  <tbody>\n",
       "    <tr>\n",
       "      <th>771622</th>\n",
       "      <td>1</td>\n",
       "      <td>Bad and Boujee (feat. Lil Uzi Vert)</td>\n",
       "      <td>Migos</td>\n",
       "      <td>1371493</td>\n",
       "      <td>us</td>\n",
       "      <td>1</td>\n",
       "      <td>1</td>\n",
       "    </tr>\n",
       "  </tbody>\n",
       "</table>\n",
       "</div>"
      ],
      "text/plain": [
       "        Position                           Track Name Artist  Streams Region  \\\n",
       "771622         1  Bad and Boujee (feat. Lil Uzi Vert)  Migos  1371493     us   \n",
       "\n",
       "        month  day  \n",
       "771622      1    1  "
      ]
     },
     "execution_count": 270,
     "metadata": {},
     "output_type": "execute_result"
    }
   ],
   "source": [
    "ranking_spotify_1['month'] = ranking_spotify_1['Date'].dt.month\n",
    "ranking_spotify_1['day'] = ranking_spotify_1['Date'].dt.day\n",
    "ranking_spotify_1.drop('Date', inplace=True, axis=1)\n",
    "ranking_spotify_1.head(1)"
   ]
  },
  {
   "cell_type": "code",
   "execution_count": 271,
   "metadata": {},
   "outputs": [
    {
     "data": {
      "text/html": [
       "<div>\n",
       "<style scoped>\n",
       "    .dataframe tbody tr th:only-of-type {\n",
       "        vertical-align: middle;\n",
       "    }\n",
       "\n",
       "    .dataframe tbody tr th {\n",
       "        vertical-align: top;\n",
       "    }\n",
       "\n",
       "    .dataframe thead th {\n",
       "        text-align: right;\n",
       "    }\n",
       "</style>\n",
       "<table border=\"1\" class=\"dataframe\">\n",
       "  <thead>\n",
       "    <tr style=\"text-align: right;\">\n",
       "      <th></th>\n",
       "      <th>Position</th>\n",
       "      <th>Streams</th>\n",
       "      <th>month</th>\n",
       "      <th>day</th>\n",
       "      <th>season</th>\n",
       "    </tr>\n",
       "  </thead>\n",
       "  <tbody>\n",
       "    <tr>\n",
       "      <th>0</th>\n",
       "      <td>1.0</td>\n",
       "      <td>1.484004e+06</td>\n",
       "      <td>1.0</td>\n",
       "      <td>16.0</td>\n",
       "      <td>Winter</td>\n",
       "    </tr>\n",
       "    <tr>\n",
       "      <th>1</th>\n",
       "      <td>1.0</td>\n",
       "      <td>1.523148e+06</td>\n",
       "      <td>2.0</td>\n",
       "      <td>14.5</td>\n",
       "      <td>Winter</td>\n",
       "    </tr>\n",
       "    <tr>\n",
       "      <th>2</th>\n",
       "      <td>1.0</td>\n",
       "      <td>1.950538e+06</td>\n",
       "      <td>3.0</td>\n",
       "      <td>16.0</td>\n",
       "      <td>Spring</td>\n",
       "    </tr>\n",
       "    <tr>\n",
       "      <th>3</th>\n",
       "      <td>1.0</td>\n",
       "      <td>2.599543e+06</td>\n",
       "      <td>4.0</td>\n",
       "      <td>15.5</td>\n",
       "      <td>Spring</td>\n",
       "    </tr>\n",
       "    <tr>\n",
       "      <th>4</th>\n",
       "      <td>1.0</td>\n",
       "      <td>2.299780e+06</td>\n",
       "      <td>5.0</td>\n",
       "      <td>15.0</td>\n",
       "      <td>Spring</td>\n",
       "    </tr>\n",
       "  </tbody>\n",
       "</table>\n",
       "</div>"
      ],
      "text/plain": [
       "   Position       Streams  month   day  season\n",
       "0       1.0  1.484004e+06    1.0  16.0  Winter\n",
       "1       1.0  1.523148e+06    2.0  14.5  Winter\n",
       "2       1.0  1.950538e+06    3.0  16.0  Spring\n",
       "3       1.0  2.599543e+06    4.0  15.5  Spring\n",
       "4       1.0  2.299780e+06    5.0  15.0  Spring"
      ]
     },
     "execution_count": 271,
     "metadata": {},
     "output_type": "execute_result"
    }
   ],
   "source": [
    "def MonthToSeason(x):   \n",
    "    if x == 6 or x == 7 or x == 8:\n",
    "            season = \"Summer\"\n",
    "    elif x == 9 or x == 10 or x == 11:\n",
    "            season = \"Fall\"\n",
    "    elif x == 12 or x == 1 or x == 2:\n",
    "            season = \"Winter\"\n",
    "    elif x == 3 or x == 4 or x == 5:\n",
    "            season = \"Spring\"\n",
    "    else:\n",
    "            season = np.nan \n",
    "    return season\n",
    "\n",
    "seasonal_position = ranking_spotify_1[ranking_spotify_1.Position == 1]\n",
    "seasonal_position = seasonal_position.select_dtypes(include=[np.number]).groupby(seasonal_position.month, as_index=False).agg('mean')\n",
    "seasonal_position['season'] = seasonal_position['month'].apply(lambda x: MonthToSeason(x))\n",
    "seasonal_position.head()"
   ]
  },
  {
   "cell_type": "code",
   "execution_count": 272,
   "metadata": {},
   "outputs": [
    {
     "data": {
      "image/png": "[encoded data removed]",
      "text/plain": [
       "<Figure size 1100x800 with 1 Axes>"
      ]
     },
     "metadata": {},
     "output_type": "display_data"
    }
   ],
   "source": [
    "plt.bar(x=seasonal_position.season, height=seasonal_position.Streams)\n",
    "plt.xlabel('Season')\n",
    "plt.ylabel('Stream Count')\n",
    "plt.title('Stream Count per Season');"
   ]
  },
  {
   "attachments": {},
   "cell_type": "markdown",
   "metadata": {},
   "source": [
    "Suprisingly, the spring seasonhas the highest average top stream count. "
   ]
  },
  {
   "attachments": {},
   "cell_type": "markdown",
   "metadata": {},
   "source": [
    "#### Top 10 Spotify Reoccurring Artists"
   ]
  },
  {
   "cell_type": "code",
   "execution_count": 273,
   "metadata": {},
   "outputs": [
    {
     "data": {
      "text/html": [
       "<div>\n",
       "<style scoped>\n",
       "    .dataframe tbody tr th:only-of-type {\n",
       "        vertical-align: middle;\n",
       "    }\n",
       "\n",
       "    .dataframe tbody tr th {\n",
       "        vertical-align: top;\n",
       "    }\n",
       "\n",
       "    .dataframe thead th {\n",
       "        text-align: right;\n",
       "    }\n",
       "</style>\n",
       "<table border=\"1\" class=\"dataframe\">\n",
       "  <thead>\n",
       "    <tr style=\"text-align: right;\">\n",
       "      <th></th>\n",
       "      <th>count</th>\n",
       "    </tr>\n",
       "    <tr>\n",
       "      <th>Artist</th>\n",
       "      <th></th>\n",
       "    </tr>\n",
       "  </thead>\n",
       "  <tbody>\n",
       "    <tr>\n",
       "      <th>Drake</th>\n",
       "      <td>1673</td>\n",
       "    </tr>\n",
       "    <tr>\n",
       "      <th>Kendrick Lamar</th>\n",
       "      <td>1456</td>\n",
       "    </tr>\n",
       "    <tr>\n",
       "      <th>Migos</th>\n",
       "      <td>1141</td>\n",
       "    </tr>\n",
       "    <tr>\n",
       "      <th>Post Malone</th>\n",
       "      <td>1079</td>\n",
       "    </tr>\n",
       "    <tr>\n",
       "      <th>Ed Sheeran</th>\n",
       "      <td>935</td>\n",
       "    </tr>\n",
       "    <tr>\n",
       "      <th>...</th>\n",
       "      <td>...</td>\n",
       "    </tr>\n",
       "    <tr>\n",
       "      <th>Tony Bennett</th>\n",
       "      <td>1</td>\n",
       "    </tr>\n",
       "    <tr>\n",
       "      <th>Tory Lanez</th>\n",
       "      <td>1</td>\n",
       "    </tr>\n",
       "    <tr>\n",
       "      <th>Tove Lo</th>\n",
       "      <td>1</td>\n",
       "    </tr>\n",
       "    <tr>\n",
       "      <th>Daryl Hall &amp; John Oates</th>\n",
       "      <td>1</td>\n",
       "    </tr>\n",
       "    <tr>\n",
       "      <th>M.I.A.</th>\n",
       "      <td>1</td>\n",
       "    </tr>\n",
       "  </tbody>\n",
       "</table>\n",
       "<p>283 rows × 1 columns</p>\n",
       "</div>"
      ],
      "text/plain": [
       "                         count\n",
       "Artist                        \n",
       "Drake                     1673\n",
       "Kendrick Lamar            1456\n",
       "Migos                     1141\n",
       "Post Malone               1079\n",
       "Ed Sheeran                 935\n",
       "...                        ...\n",
       "Tony Bennett                 1\n",
       "Tory Lanez                   1\n",
       "Tove Lo                      1\n",
       "Daryl Hall & John Oates      1\n",
       "M.I.A.                       1\n",
       "\n",
       "[283 rows x 1 columns]"
      ]
     },
     "execution_count": 273,
     "metadata": {},
     "output_type": "execute_result"
    }
   ],
   "source": [
    "agg_func_count = {'count'}\n",
    "# number of times appered in top 100 for a year\n",
    "# such that the position is in the top 100\n",
    "artist_group = ranking_spotify_1[ranking_spotify_1.Position <= 100].groupby(by=ranking_spotify_1.Artist, as_index=False).agg(agg_func_count)\n",
    "artist_group = artist_group['Artist'].sort_values(by='count', ascending=False)\n",
    "artist_group.rename(columns={'': 'Artist'})"
   ]
  },
  {
   "cell_type": "code",
   "execution_count": 274,
   "metadata": {},
   "outputs": [
    {
     "data": {
      "image/png": "[encoded data removed]",
      "text/plain": [
       "<Figure size 1100x800 with 1 Axes>"
      ]
     },
     "metadata": {},
     "output_type": "display_data"
    }
   ],
   "source": [
    "f, ax = plt.subplots()\n",
    "sns.stripplot(data=artist_group[:10],  x='count', y='Artist', hue='Artist').set(title='2017 Top 10 Spotify Reoccurring Artists')\n",
    "plt.legend(bbox_to_anchor=(1.02, 1), title='Artist', loc='upper left', borderaxespad=0);"
   ]
  },
  {
   "attachments": {},
   "cell_type": "markdown",
   "metadata": {},
   "source": [
    "#### Pre-Model data prep"
   ]
  },
  {
   "cell_type": "code",
   "execution_count": 275,
   "metadata": {},
   "outputs": [
    {
     "data": {
      "text/html": [
       "<div>\n",
       "<style scoped>\n",
       "    .dataframe tbody tr th:only-of-type {\n",
       "        vertical-align: middle;\n",
       "    }\n",
       "\n",
       "    .dataframe tbody tr th {\n",
       "        vertical-align: top;\n",
       "    }\n",
       "\n",
       "    .dataframe thead th {\n",
       "        text-align: right;\n",
       "    }\n",
       "</style>\n",
       "<table border=\"1\" class=\"dataframe\">\n",
       "  <thead>\n",
       "    <tr style=\"text-align: right;\">\n",
       "      <th></th>\n",
       "      <th>Position</th>\n",
       "      <th>Track Name</th>\n",
       "      <th>Artist</th>\n",
       "      <th>Streams</th>\n",
       "      <th>Region</th>\n",
       "      <th>month</th>\n",
       "      <th>day</th>\n",
       "      <th>matches</th>\n",
       "    </tr>\n",
       "  </thead>\n",
       "  <tbody>\n",
       "    <tr>\n",
       "      <th>771622</th>\n",
       "      <td>1</td>\n",
       "      <td>Bad and Boujee (feat. Lil Uzi Vert)</td>\n",
       "      <td>Migos</td>\n",
       "      <td>1371493</td>\n",
       "      <td>us</td>\n",
       "      <td>1</td>\n",
       "      <td>1</td>\n",
       "      <td>True</td>\n",
       "    </tr>\n",
       "    <tr>\n",
       "      <th>771623</th>\n",
       "      <td>2</td>\n",
       "      <td>Fake Love</td>\n",
       "      <td>Drake</td>\n",
       "      <td>1180074</td>\n",
       "      <td>us</td>\n",
       "      <td>1</td>\n",
       "      <td>1</td>\n",
       "      <td>True</td>\n",
       "    </tr>\n",
       "    <tr>\n",
       "      <th>771624</th>\n",
       "      <td>3</td>\n",
       "      <td>Starboy</td>\n",
       "      <td>The Weeknd</td>\n",
       "      <td>1064351</td>\n",
       "      <td>us</td>\n",
       "      <td>1</td>\n",
       "      <td>1</td>\n",
       "      <td>True</td>\n",
       "    </tr>\n",
       "    <tr>\n",
       "      <th>771625</th>\n",
       "      <td>4</td>\n",
       "      <td>Closer</td>\n",
       "      <td>The Chainsmokers</td>\n",
       "      <td>1010492</td>\n",
       "      <td>us</td>\n",
       "      <td>1</td>\n",
       "      <td>1</td>\n",
       "      <td>True</td>\n",
       "    </tr>\n",
       "    <tr>\n",
       "      <th>771626</th>\n",
       "      <td>5</td>\n",
       "      <td>Black Beatles</td>\n",
       "      <td>Rae Sremmurd</td>\n",
       "      <td>874289</td>\n",
       "      <td>us</td>\n",
       "      <td>1</td>\n",
       "      <td>1</td>\n",
       "      <td>False</td>\n",
       "    </tr>\n",
       "  </tbody>\n",
       "</table>\n",
       "</div>"
      ],
      "text/plain": [
       "        Position                           Track Name            Artist  \\\n",
       "771622         1  Bad and Boujee (feat. Lil Uzi Vert)             Migos   \n",
       "771623         2                            Fake Love             Drake   \n",
       "771624         3                              Starboy        The Weeknd   \n",
       "771625         4                               Closer  The Chainsmokers   \n",
       "771626         5                        Black Beatles      Rae Sremmurd   \n",
       "\n",
       "        Streams Region  month  day  matches  \n",
       "771622  1371493     us      1    1     True  \n",
       "771623  1180074     us      1    1     True  \n",
       "771624  1064351     us      1    1     True  \n",
       "771625  1010492     us      1    1     True  \n",
       "771626   874289     us      1    1    False  "
      ]
     },
     "execution_count": 275,
     "metadata": {},
     "output_type": "execute_result"
    }
   ],
   "source": [
    "ranking_spotify_1['matches'] = (ranking_spotify_1['Track Name'].isin(features_df['name']) & ranking_spotify_1['Artist'].isin(features_df['artists']))\n",
    "ranking_spotify_1.head()"
   ]
  },
  {
   "cell_type": "code",
   "execution_count": 276,
   "metadata": {},
   "outputs": [
    {
     "data": {
      "text/html": [
       "<div>\n",
       "<style scoped>\n",
       "    .dataframe tbody tr th:only-of-type {\n",
       "        vertical-align: middle;\n",
       "    }\n",
       "\n",
       "    .dataframe tbody tr th {\n",
       "        vertical-align: top;\n",
       "    }\n",
       "\n",
       "    .dataframe thead th {\n",
       "        text-align: right;\n",
       "    }\n",
       "</style>\n",
       "<table border=\"1\" class=\"dataframe\">\n",
       "  <thead>\n",
       "    <tr style=\"text-align: right;\">\n",
       "      <th></th>\n",
       "      <th>Position</th>\n",
       "      <th>name</th>\n",
       "      <th>Artist</th>\n",
       "      <th>Streams</th>\n",
       "      <th>Region</th>\n",
       "      <th>month</th>\n",
       "      <th>day</th>\n",
       "      <th>matches</th>\n",
       "    </tr>\n",
       "  </thead>\n",
       "  <tbody>\n",
       "    <tr>\n",
       "      <th>771622</th>\n",
       "      <td>1</td>\n",
       "      <td>Bad and Boujee (feat. Lil Uzi Vert)</td>\n",
       "      <td>Migos</td>\n",
       "      <td>1371493</td>\n",
       "      <td>us</td>\n",
       "      <td>1</td>\n",
       "      <td>1</td>\n",
       "      <td>True</td>\n",
       "    </tr>\n",
       "    <tr>\n",
       "      <th>771623</th>\n",
       "      <td>2</td>\n",
       "      <td>Fake Love</td>\n",
       "      <td>Drake</td>\n",
       "      <td>1180074</td>\n",
       "      <td>us</td>\n",
       "      <td>1</td>\n",
       "      <td>1</td>\n",
       "      <td>True</td>\n",
       "    </tr>\n",
       "    <tr>\n",
       "      <th>771624</th>\n",
       "      <td>3</td>\n",
       "      <td>Starboy</td>\n",
       "      <td>The Weeknd</td>\n",
       "      <td>1064351</td>\n",
       "      <td>us</td>\n",
       "      <td>1</td>\n",
       "      <td>1</td>\n",
       "      <td>True</td>\n",
       "    </tr>\n",
       "    <tr>\n",
       "      <th>771625</th>\n",
       "      <td>4</td>\n",
       "      <td>Closer</td>\n",
       "      <td>The Chainsmokers</td>\n",
       "      <td>1010492</td>\n",
       "      <td>us</td>\n",
       "      <td>1</td>\n",
       "      <td>1</td>\n",
       "      <td>True</td>\n",
       "    </tr>\n",
       "    <tr>\n",
       "      <th>771626</th>\n",
       "      <td>5</td>\n",
       "      <td>Black Beatles</td>\n",
       "      <td>Rae Sremmurd</td>\n",
       "      <td>874289</td>\n",
       "      <td>us</td>\n",
       "      <td>1</td>\n",
       "      <td>1</td>\n",
       "      <td>False</td>\n",
       "    </tr>\n",
       "  </tbody>\n",
       "</table>\n",
       "</div>"
      ],
      "text/plain": [
       "        Position                                 name            Artist  \\\n",
       "771622         1  Bad and Boujee (feat. Lil Uzi Vert)             Migos   \n",
       "771623         2                            Fake Love             Drake   \n",
       "771624         3                              Starboy        The Weeknd   \n",
       "771625         4                               Closer  The Chainsmokers   \n",
       "771626         5                        Black Beatles      Rae Sremmurd   \n",
       "\n",
       "        Streams Region  month  day  matches  \n",
       "771622  1371493     us      1    1     True  \n",
       "771623  1180074     us      1    1     True  \n",
       "771624  1064351     us      1    1     True  \n",
       "771625  1010492     us      1    1     True  \n",
       "771626   874289     us      1    1    False  "
      ]
     },
     "execution_count": 276,
     "metadata": {},
     "output_type": "execute_result"
    }
   ],
   "source": [
    "ranking_spotify_1.rename(columns={'Track Name': 'name'}, inplace=True)\n",
    "ranking_spotify_1.head()"
   ]
  },
  {
   "attachments": {},
   "cell_type": "markdown",
   "metadata": {},
   "source": [
    "The key to this project is using features_df as a lookup table for popular song details. So we will merge the two dataframes together."
   ]
  },
  {
   "cell_type": "code",
   "execution_count": 277,
   "metadata": {},
   "outputs": [
    {
     "name": "stdout",
     "output_type": "stream",
     "text": [
      "(20231, 22)\n"
     ]
    },
    {
     "data": {
      "text/html": [
       "<div>\n",
       "<style scoped>\n",
       "    .dataframe tbody tr th:only-of-type {\n",
       "        vertical-align: middle;\n",
       "    }\n",
       "\n",
       "    .dataframe tbody tr th {\n",
       "        vertical-align: top;\n",
       "    }\n",
       "\n",
       "    .dataframe thead th {\n",
       "        text-align: right;\n",
       "    }\n",
       "</style>\n",
       "<table border=\"1\" class=\"dataframe\">\n",
       "  <thead>\n",
       "    <tr style=\"text-align: right;\">\n",
       "      <th></th>\n",
       "      <th>Position</th>\n",
       "      <th>name</th>\n",
       "      <th>Artist</th>\n",
       "      <th>Streams</th>\n",
       "      <th>Region</th>\n",
       "      <th>month</th>\n",
       "      <th>day</th>\n",
       "      <th>matches</th>\n",
       "      <th>danceability</th>\n",
       "      <th>energy</th>\n",
       "      <th>...</th>\n",
       "      <th>mode</th>\n",
       "      <th>speechiness</th>\n",
       "      <th>acousticness</th>\n",
       "      <th>instrumentalness</th>\n",
       "      <th>liveness</th>\n",
       "      <th>valence</th>\n",
       "      <th>tempo</th>\n",
       "      <th>time_signature</th>\n",
       "      <th>duration_minutes</th>\n",
       "      <th>key_symbols</th>\n",
       "    </tr>\n",
       "  </thead>\n",
       "  <tbody>\n",
       "    <tr>\n",
       "      <th>0</th>\n",
       "      <td>1</td>\n",
       "      <td>Bad and Boujee (feat. Lil Uzi Vert)</td>\n",
       "      <td>Migos</td>\n",
       "      <td>1371493</td>\n",
       "      <td>us</td>\n",
       "      <td>1</td>\n",
       "      <td>1</td>\n",
       "      <td>True</td>\n",
       "      <td>0.927</td>\n",
       "      <td>0.665</td>\n",
       "      <td>...</td>\n",
       "      <td>1.0</td>\n",
       "      <td>0.244</td>\n",
       "      <td>0.061</td>\n",
       "      <td>0.0</td>\n",
       "      <td>0.123</td>\n",
       "      <td>0.175</td>\n",
       "      <td>127.076</td>\n",
       "      <td>4.0</td>\n",
       "      <td>5.72</td>\n",
       "      <td>B</td>\n",
       "    </tr>\n",
       "    <tr>\n",
       "      <th>1</th>\n",
       "      <td>1</td>\n",
       "      <td>Bad and Boujee (feat. Lil Uzi Vert)</td>\n",
       "      <td>Migos</td>\n",
       "      <td>1161746</td>\n",
       "      <td>us</td>\n",
       "      <td>1</td>\n",
       "      <td>2</td>\n",
       "      <td>True</td>\n",
       "      <td>0.927</td>\n",
       "      <td>0.665</td>\n",
       "      <td>...</td>\n",
       "      <td>1.0</td>\n",
       "      <td>0.244</td>\n",
       "      <td>0.061</td>\n",
       "      <td>0.0</td>\n",
       "      <td>0.123</td>\n",
       "      <td>0.175</td>\n",
       "      <td>127.076</td>\n",
       "      <td>4.0</td>\n",
       "      <td>5.72</td>\n",
       "      <td>B</td>\n",
       "    </tr>\n",
       "  </tbody>\n",
       "</table>\n",
       "<p>2 rows × 22 columns</p>\n",
       "</div>"
      ],
      "text/plain": [
       "   Position                                 name Artist  Streams Region  \\\n",
       "0         1  Bad and Boujee (feat. Lil Uzi Vert)  Migos  1371493     us   \n",
       "1         1  Bad and Boujee (feat. Lil Uzi Vert)  Migos  1161746     us   \n",
       "\n",
       "   month  day  matches  danceability  energy  ...  mode  speechiness  \\\n",
       "0      1    1     True         0.927   0.665  ...   1.0        0.244   \n",
       "1      1    2     True         0.927   0.665  ...   1.0        0.244   \n",
       "\n",
       "   acousticness  instrumentalness  liveness  valence    tempo  time_signature  \\\n",
       "0         0.061               0.0     0.123    0.175  127.076             4.0   \n",
       "1         0.061               0.0     0.123    0.175  127.076             4.0   \n",
       "\n",
       "   duration_minutes  key_symbols  \n",
       "0              5.72            B  \n",
       "1              5.72            B  \n",
       "\n",
       "[2 rows x 22 columns]"
      ]
     },
     "execution_count": 277,
     "metadata": {},
     "output_type": "execute_result"
    }
   ],
   "source": [
    "features_df.rename(columns={'artists': 'Artist'}, inplace=True)\n",
    "song_details_df = ranking_spotify_1.merge(features_df, how='inner', on=['name', 'Artist'])\n",
    "print(song_details_df.shape)\n",
    "song_details_df.head(2)"
   ]
  },
  {
   "cell_type": "code",
   "execution_count": 278,
   "metadata": {},
   "outputs": [
    {
     "data": {
      "text/html": [
       "<div>\n",
       "<style scoped>\n",
       "    .dataframe tbody tr th:only-of-type {\n",
       "        vertical-align: middle;\n",
       "    }\n",
       "\n",
       "    .dataframe tbody tr th {\n",
       "        vertical-align: top;\n",
       "    }\n",
       "\n",
       "    .dataframe thead th {\n",
       "        text-align: right;\n",
       "    }\n",
       "</style>\n",
       "<table border=\"1\" class=\"dataframe\">\n",
       "  <thead>\n",
       "    <tr style=\"text-align: right;\">\n",
       "      <th></th>\n",
       "      <th>Position</th>\n",
       "      <th>danceability</th>\n",
       "      <th>energy</th>\n",
       "      <th>key</th>\n",
       "      <th>loudness</th>\n",
       "      <th>mode</th>\n",
       "      <th>speechiness</th>\n",
       "      <th>acousticness</th>\n",
       "      <th>instrumentalness</th>\n",
       "      <th>liveness</th>\n",
       "      <th>valence</th>\n",
       "      <th>tempo</th>\n",
       "      <th>time_signature</th>\n",
       "      <th>duration_minutes</th>\n",
       "    </tr>\n",
       "  </thead>\n",
       "  <tbody>\n",
       "    <tr>\n",
       "      <th>0</th>\n",
       "      <td>1</td>\n",
       "      <td>0.927</td>\n",
       "      <td>0.665</td>\n",
       "      <td>11.0</td>\n",
       "      <td>-5.313</td>\n",
       "      <td>1.0</td>\n",
       "      <td>0.244</td>\n",
       "      <td>0.061</td>\n",
       "      <td>0.0</td>\n",
       "      <td>0.123</td>\n",
       "      <td>0.175</td>\n",
       "      <td>127.076</td>\n",
       "      <td>4.0</td>\n",
       "      <td>5.72</td>\n",
       "    </tr>\n",
       "    <tr>\n",
       "      <th>1</th>\n",
       "      <td>1</td>\n",
       "      <td>0.927</td>\n",
       "      <td>0.665</td>\n",
       "      <td>11.0</td>\n",
       "      <td>-5.313</td>\n",
       "      <td>1.0</td>\n",
       "      <td>0.244</td>\n",
       "      <td>0.061</td>\n",
       "      <td>0.0</td>\n",
       "      <td>0.123</td>\n",
       "      <td>0.175</td>\n",
       "      <td>127.076</td>\n",
       "      <td>4.0</td>\n",
       "      <td>5.72</td>\n",
       "    </tr>\n",
       "  </tbody>\n",
       "</table>\n",
       "</div>"
      ],
      "text/plain": [
       "   Position  danceability  energy   key  loudness  mode  speechiness  \\\n",
       "0         1         0.927   0.665  11.0    -5.313   1.0        0.244   \n",
       "1         1         0.927   0.665  11.0    -5.313   1.0        0.244   \n",
       "\n",
       "   acousticness  instrumentalness  liveness  valence    tempo  time_signature  \\\n",
       "0         0.061               0.0     0.123    0.175  127.076             4.0   \n",
       "1         0.061               0.0     0.123    0.175  127.076             4.0   \n",
       "\n",
       "   duration_minutes  \n",
       "0              5.72  \n",
       "1              5.72  "
      ]
     },
     "execution_count": 278,
     "metadata": {},
     "output_type": "execute_result"
    }
   ],
   "source": [
    "categorical_df = song_details_df[['name', 'Artist','Region', 'matches', 'key_symbols']]\n",
    "popular_songs_df = song_details_df[['Position', 'Streams']]\n",
    "song_details_df.drop(['name', 'Artist','Region', 'matches', 'key_symbols','Streams', 'month', 'day'], inplace=True, axis=1)\n",
    "song_details_df.head(2)"
   ]
  },
  {
   "attachments": {},
   "cell_type": "markdown",
   "metadata": {},
   "source": [
    "Drop the categorical features before modeling.\n",
    "\n",
    "Drop anything from features df that was not part of the original dataset, ie we don't want month to be included in song attributes."
   ]
  },
  {
   "attachments": {},
   "cell_type": "markdown",
   "metadata": {},
   "source": [
    "### Data Scaling\n",
    "\n",
    "We scale the data because the features all have different relational values ie. energy is not on the same scale as minutes."
   ]
  },
  {
   "cell_type": "code",
   "execution_count": 279,
   "metadata": {},
   "outputs": [
    {
     "name": "stdout",
     "output_type": "stream",
     "text": [
      "(20231, 14)\n"
     ]
    },
    {
     "data": {
      "text/html": [
       "<div>\n",
       "<style scoped>\n",
       "    .dataframe tbody tr th:only-of-type {\n",
       "        vertical-align: middle;\n",
       "    }\n",
       "\n",
       "    .dataframe tbody tr th {\n",
       "        vertical-align: top;\n",
       "    }\n",
       "\n",
       "    .dataframe thead th {\n",
       "        text-align: right;\n",
       "    }\n",
       "</style>\n",
       "<table border=\"1\" class=\"dataframe\">\n",
       "  <thead>\n",
       "    <tr style=\"text-align: right;\">\n",
       "      <th></th>\n",
       "      <th>Position</th>\n",
       "      <th>danceability</th>\n",
       "      <th>energy</th>\n",
       "      <th>key</th>\n",
       "      <th>loudness</th>\n",
       "      <th>mode</th>\n",
       "      <th>speechiness</th>\n",
       "      <th>acousticness</th>\n",
       "      <th>instrumentalness</th>\n",
       "      <th>liveness</th>\n",
       "      <th>valence</th>\n",
       "      <th>tempo</th>\n",
       "      <th>time_signature</th>\n",
       "      <th>duration_minutes</th>\n",
       "    </tr>\n",
       "  </thead>\n",
       "  <tbody>\n",
       "    <tr>\n",
       "      <th>0</th>\n",
       "      <td>-1.217907</td>\n",
       "      <td>1.768491</td>\n",
       "      <td>0.185512</td>\n",
       "      <td>1.550963</td>\n",
       "      <td>0.288823</td>\n",
       "      <td>0.768676</td>\n",
       "      <td>1.173748</td>\n",
       "      <td>-0.656353</td>\n",
       "      <td>-0.198392</td>\n",
       "      <td>-0.340442</td>\n",
       "      <td>-1.578582</td>\n",
       "      <td>0.315295</td>\n",
       "      <td>0.104852</td>\n",
       "      <td>3.398877</td>\n",
       "    </tr>\n",
       "    <tr>\n",
       "      <th>1</th>\n",
       "      <td>-1.217907</td>\n",
       "      <td>1.768491</td>\n",
       "      <td>0.185512</td>\n",
       "      <td>1.550963</td>\n",
       "      <td>0.288823</td>\n",
       "      <td>0.768676</td>\n",
       "      <td>1.173748</td>\n",
       "      <td>-0.656353</td>\n",
       "      <td>-0.198392</td>\n",
       "      <td>-0.340442</td>\n",
       "      <td>-1.578582</td>\n",
       "      <td>0.315295</td>\n",
       "      <td>0.104852</td>\n",
       "      <td>3.398877</td>\n",
       "    </tr>\n",
       "    <tr>\n",
       "      <th>2</th>\n",
       "      <td>-1.217907</td>\n",
       "      <td>1.768491</td>\n",
       "      <td>0.185512</td>\n",
       "      <td>1.550963</td>\n",
       "      <td>0.288823</td>\n",
       "      <td>0.768676</td>\n",
       "      <td>1.173748</td>\n",
       "      <td>-0.656353</td>\n",
       "      <td>-0.198392</td>\n",
       "      <td>-0.340442</td>\n",
       "      <td>-1.578582</td>\n",
       "      <td>0.315295</td>\n",
       "      <td>0.104852</td>\n",
       "      <td>3.398877</td>\n",
       "    </tr>\n",
       "    <tr>\n",
       "      <th>3</th>\n",
       "      <td>-1.217907</td>\n",
       "      <td>1.768491</td>\n",
       "      <td>0.185512</td>\n",
       "      <td>1.550963</td>\n",
       "      <td>0.288823</td>\n",
       "      <td>0.768676</td>\n",
       "      <td>1.173748</td>\n",
       "      <td>-0.656353</td>\n",
       "      <td>-0.198392</td>\n",
       "      <td>-0.340442</td>\n",
       "      <td>-1.578582</td>\n",
       "      <td>0.315295</td>\n",
       "      <td>0.104852</td>\n",
       "      <td>3.398877</td>\n",
       "    </tr>\n",
       "    <tr>\n",
       "      <th>4</th>\n",
       "      <td>-1.217907</td>\n",
       "      <td>1.768491</td>\n",
       "      <td>0.185512</td>\n",
       "      <td>1.550963</td>\n",
       "      <td>0.288823</td>\n",
       "      <td>0.768676</td>\n",
       "      <td>1.173748</td>\n",
       "      <td>-0.656353</td>\n",
       "      <td>-0.198392</td>\n",
       "      <td>-0.340442</td>\n",
       "      <td>-1.578582</td>\n",
       "      <td>0.315295</td>\n",
       "      <td>0.104852</td>\n",
       "      <td>3.398877</td>\n",
       "    </tr>\n",
       "  </tbody>\n",
       "</table>\n",
       "</div>"
      ],
      "text/plain": [
       "   Position  danceability    energy       key  loudness      mode  \\\n",
       "0 -1.217907      1.768491  0.185512  1.550963  0.288823  0.768676   \n",
       "1 -1.217907      1.768491  0.185512  1.550963  0.288823  0.768676   \n",
       "2 -1.217907      1.768491  0.185512  1.550963  0.288823  0.768676   \n",
       "3 -1.217907      1.768491  0.185512  1.550963  0.288823  0.768676   \n",
       "4 -1.217907      1.768491  0.185512  1.550963  0.288823  0.768676   \n",
       "\n",
       "   speechiness  acousticness  instrumentalness  liveness   valence     tempo  \\\n",
       "0     1.173748     -0.656353         -0.198392 -0.340442 -1.578582  0.315295   \n",
       "1     1.173748     -0.656353         -0.198392 -0.340442 -1.578582  0.315295   \n",
       "2     1.173748     -0.656353         -0.198392 -0.340442 -1.578582  0.315295   \n",
       "3     1.173748     -0.656353         -0.198392 -0.340442 -1.578582  0.315295   \n",
       "4     1.173748     -0.656353         -0.198392 -0.340442 -1.578582  0.315295   \n",
       "\n",
       "   time_signature  duration_minutes  \n",
       "0        0.104852          3.398877  \n",
       "1        0.104852          3.398877  \n",
       "2        0.104852          3.398877  \n",
       "3        0.104852          3.398877  \n",
       "4        0.104852          3.398877  "
      ]
     },
     "execution_count": 279,
     "metadata": {},
     "output_type": "execute_result"
    }
   ],
   "source": [
    "ss = StandardScaler()\n",
    "scaled_data = ss.fit_transform(song_details_df)\n",
    "scaled_data = pd.DataFrame(data=scaled_data, columns=song_details_df.columns)\n",
    "print(scaled_data.shape)\n",
    "scaled_data.head()"
   ]
  },
  {
   "attachments": {},
   "cell_type": "markdown",
   "metadata": {},
   "source": [
    "### Data Split \n",
    "\n",
    "80% train and 20% split"
   ]
  },
  {
   "cell_type": "code",
   "execution_count": 280,
   "metadata": {},
   "outputs": [
    {
     "name": "stdout",
     "output_type": "stream",
     "text": [
      "(16184, 13)\n",
      "(4047, 13)\n",
      "(16184,)\n",
      "(4047,)\n"
     ]
    }
   ],
   "source": [
    "y = scaled_data[['Position']]\n",
    "y = np.ravel(y)\n",
    "scaled_data.drop(['Position'], inplace=True, axis=1)\n",
    "x_train, x_test, y_train, y_test = train_test_split(scaled_data, y, test_size=.20, random_state=0)\n",
    "\n",
    "print(x_train.shape)\n",
    "print(x_test.shape)\n",
    "print(y_train.shape)\n",
    "print(y_test.shape)"
   ]
  },
  {
   "attachments": {},
   "cell_type": "markdown",
   "metadata": {},
   "source": [
    "# Model Selection"
   ]
  },
  {
   "attachments": {},
   "cell_type": "markdown",
   "metadata": {},
   "source": [
    "* Linear Regression\n",
    "* Decision Tree Regressor\n",
    "* Random Forest Regressor\n",
    "* SVM-R\n",
    "* Bagging Regressor\n",
    "* Lasso Regressor\n",
    "* Ridge Regressor"
   ]
  },
  {
   "cell_type": "code",
   "execution_count": 281,
   "metadata": {},
   "outputs": [],
   "source": [
    "prettytable = PrettyTable(field_names=[\"Model\", \"Score\"])"
   ]
  },
  {
   "cell_type": "code",
   "execution_count": 282,
   "metadata": {},
   "outputs": [],
   "source": [
    "lr_model = LinearRegression()\n",
    "lr_model = lr_model.fit(x_train, y_train)"
   ]
  },
  {
   "cell_type": "code",
   "execution_count": 283,
   "metadata": {},
   "outputs": [
    {
     "name": "stdout",
     "output_type": "stream",
     "text": [
      "Coefficients: \n",
      " [-0.05897696  0.13482324  0.04239386 -0.05348412  0.1024139  -0.05250242\n",
      " -0.00950303 -0.06374231  0.09490738  0.02969003  0.00939732 -0.04398001\n",
      " -0.04733162]\n",
      "MSE: 0.953823944402133\n",
      "R2: 0.048431591745774716\n"
     ]
    }
   ],
   "source": [
    "lr_train_pred = lr_model.predict(x_train)\n",
    "mse = mean_squared_error(y_train, lr_train_pred)\n",
    "r_squared = lr_model.score(x_train, y_train)\n",
    "print(\"Coefficients: \\n\", lr_model.coef_)\n",
    "print('MSE:', mse)\n",
    "print('R2:', r_squared)\n",
    "\n",
    "prettytable.add_row(['Linear Regression', round(lr_model.score(X=x_train, y=y_train), 5)])"
   ]
  },
  {
   "cell_type": "code",
   "execution_count": 284,
   "metadata": {},
   "outputs": [
    {
     "name": "stdout",
     "output_type": "stream",
     "text": [
      "-0.0015563910311034773\n"
     ]
    }
   ],
   "source": [
    "print(lr_model.intercept_)"
   ]
  },
  {
   "cell_type": "code",
   "execution_count": 285,
   "metadata": {},
   "outputs": [
    {
     "data": {
      "text/html": [
       "<div>\n",
       "<style scoped>\n",
       "    .dataframe tbody tr th:only-of-type {\n",
       "        vertical-align: middle;\n",
       "    }\n",
       "\n",
       "    .dataframe tbody tr th {\n",
       "        vertical-align: top;\n",
       "    }\n",
       "\n",
       "    .dataframe thead th {\n",
       "        text-align: right;\n",
       "    }\n",
       "</style>\n",
       "<table border=\"1\" class=\"dataframe\">\n",
       "  <thead>\n",
       "    <tr style=\"text-align: right;\">\n",
       "      <th></th>\n",
       "      <th>Attribute</th>\n",
       "      <th>Importance</th>\n",
       "    </tr>\n",
       "  </thead>\n",
       "  <tbody>\n",
       "    <tr>\n",
       "      <th>1</th>\n",
       "      <td>energy</td>\n",
       "      <td>0.134823</td>\n",
       "    </tr>\n",
       "    <tr>\n",
       "      <th>4</th>\n",
       "      <td>mode</td>\n",
       "      <td>0.102414</td>\n",
       "    </tr>\n",
       "    <tr>\n",
       "      <th>8</th>\n",
       "      <td>liveness</td>\n",
       "      <td>0.094907</td>\n",
       "    </tr>\n",
       "    <tr>\n",
       "      <th>2</th>\n",
       "      <td>key</td>\n",
       "      <td>0.042394</td>\n",
       "    </tr>\n",
       "    <tr>\n",
       "      <th>9</th>\n",
       "      <td>valence</td>\n",
       "      <td>0.029690</td>\n",
       "    </tr>\n",
       "    <tr>\n",
       "      <th>10</th>\n",
       "      <td>tempo</td>\n",
       "      <td>0.009397</td>\n",
       "    </tr>\n",
       "    <tr>\n",
       "      <th>6</th>\n",
       "      <td>acousticness</td>\n",
       "      <td>-0.009503</td>\n",
       "    </tr>\n",
       "    <tr>\n",
       "      <th>11</th>\n",
       "      <td>time_signature</td>\n",
       "      <td>-0.043980</td>\n",
       "    </tr>\n",
       "    <tr>\n",
       "      <th>12</th>\n",
       "      <td>duration_minutes</td>\n",
       "      <td>-0.047332</td>\n",
       "    </tr>\n",
       "    <tr>\n",
       "      <th>5</th>\n",
       "      <td>speechiness</td>\n",
       "      <td>-0.052502</td>\n",
       "    </tr>\n",
       "    <tr>\n",
       "      <th>3</th>\n",
       "      <td>loudness</td>\n",
       "      <td>-0.053484</td>\n",
       "    </tr>\n",
       "    <tr>\n",
       "      <th>0</th>\n",
       "      <td>danceability</td>\n",
       "      <td>-0.058977</td>\n",
       "    </tr>\n",
       "    <tr>\n",
       "      <th>7</th>\n",
       "      <td>instrumentalness</td>\n",
       "      <td>-0.063742</td>\n",
       "    </tr>\n",
       "  </tbody>\n",
       "</table>\n",
       "</div>"
      ],
      "text/plain": [
       "           Attribute  Importance\n",
       "1             energy    0.134823\n",
       "4               mode    0.102414\n",
       "8           liveness    0.094907\n",
       "2                key    0.042394\n",
       "9            valence    0.029690\n",
       "10             tempo    0.009397\n",
       "6       acousticness   -0.009503\n",
       "11    time_signature   -0.043980\n",
       "12  duration_minutes   -0.047332\n",
       "5        speechiness   -0.052502\n",
       "3           loudness   -0.053484\n",
       "0       danceability   -0.058977\n",
       "7   instrumentalness   -0.063742"
      ]
     },
     "execution_count": 285,
     "metadata": {},
     "output_type": "execute_result"
    }
   ],
   "source": [
    "importances = pd.DataFrame(data={\n",
    "    'Attribute': scaled_data.columns,\n",
    "    'Importance': lr_model.coef_\n",
    "})\n",
    "importances = importances.sort_values(by='Importance', ascending=False)\n",
    "importances"
   ]
  },
  {
   "cell_type": "code",
   "execution_count": 286,
   "metadata": {},
   "outputs": [
    {
     "data": {
      "image/png": "[encoded data removed]",
      "text/plain": [
       "<Figure size 1100x800 with 1 Axes>"
      ]
     },
     "metadata": {},
     "output_type": "display_data"
    }
   ],
   "source": [
    "plt.bar(x=importances['Attribute'], height=importances['Importance'])\n",
    "plt.title('Feature importances obtained from coefficients')\n",
    "plt.xticks(rotation='vertical')\n",
    "plt.show()"
   ]
  },
  {
   "cell_type": "code",
   "execution_count": 287,
   "metadata": {},
   "outputs": [],
   "source": [
    "# adds intercept constant\n",
    "x_train_tmp = sm.add_constant(x_train)\n",
    "ols_model = sm.OLS(y_train, x_train_tmp)\n",
    "ols_summary_results = ols_model.fit()"
   ]
  },
  {
   "cell_type": "code",
   "execution_count": 288,
   "metadata": {},
   "outputs": [
    {
     "name": "stdout",
     "output_type": "stream",
     "text": [
      "                            OLS Regression Results                            \n",
      "==============================================================================\n",
      "Dep. Variable:                      y   R-squared:                       0.048\n",
      "Model:                            OLS   Adj. R-squared:                  0.048\n",
      "Method:                 Least Squares   F-statistic:                     63.31\n",
      "Date:                Sat, 01 Apr 2023   Prob (F-statistic):          3.13e-163\n",
      "Time:                        18:18:25   Log-Likelihood:                -22582.\n",
      "No. Observations:               16184   AIC:                         4.519e+04\n",
      "Df Residuals:                   16170   BIC:                         4.530e+04\n",
      "Df Model:                          13                                         \n",
      "Covariance Type:            nonrobust                                         \n",
      "====================================================================================\n",
      "                       coef    std err          t      P>|t|      [0.025      0.975]\n",
      "------------------------------------------------------------------------------------\n",
      "const               -0.0016      0.008     -0.203      0.839      -0.017       0.013\n",
      "danceability        -0.0590      0.009     -6.446      0.000      -0.077      -0.041\n",
      "energy               0.1348      0.013     10.475      0.000       0.110       0.160\n",
      "key                  0.0424      0.008      5.274      0.000       0.027       0.058\n",
      "loudness            -0.0535      0.014     -3.797      0.000      -0.081      -0.026\n",
      "mode                 0.1024      0.008     12.778      0.000       0.087       0.118\n",
      "speechiness         -0.0525      0.010     -5.416      0.000      -0.072      -0.034\n",
      "acousticness        -0.0095      0.009     -1.080      0.280      -0.027       0.008\n",
      "instrumentalness    -0.0637      0.008     -7.818      0.000      -0.080      -0.048\n",
      "liveness             0.0949      0.008     11.792      0.000       0.079       0.111\n",
      "valence              0.0297      0.010      3.096      0.002       0.011       0.048\n",
      "tempo                0.0094      0.009      1.053      0.292      -0.008       0.027\n",
      "time_signature      -0.0440      0.008     -5.429      0.000      -0.060      -0.028\n",
      "duration_minutes    -0.0473      0.008     -5.794      0.000      -0.063      -0.031\n",
      "==============================================================================\n",
      "Omnibus:                     1342.965   Durbin-Watson:                   2.019\n",
      "Prob(Omnibus):                  0.000   Jarque-Bera (JB):             1545.763\n",
      "Skew:                           0.729   Prob(JB):                         0.00\n",
      "Kurtosis:                       2.592   Cond. No.                         3.71\n",
      "==============================================================================\n",
      "\n",
      "Notes:\n",
      "[1] Standard Errors assume that the covariance matrix of the errors is correctly specified.\n"
     ]
    }
   ],
   "source": [
    "print(ols_summary_results.summary())"
   ]
  },
  {
   "attachments": {},
   "cell_type": "markdown",
   "metadata": {},
   "source": [
    "The R^2 value is 0.05% which explains nothing about the data. There are several factors that have a p-value less than 0.05 indicating that the features do have a significant impact on popularity."
   ]
  },
  {
   "attachments": {},
   "cell_type": "markdown",
   "metadata": {},
   "source": [
    "The linear regression model and OLS states that energy was the most important factor in determining popularity of a song. ** Remember this as we will see it again soon."
   ]
  },
  {
   "attachments": {},
   "cell_type": "markdown",
   "metadata": {},
   "source": [
    "### SHAP and Explainable AI \n",
    "https://shap.readthedocs.io/en/latest/example_notebooks/overviews/An%20introduction%20to%20explainable%20AI%20with%20Shapley%20values.html \n",
    "\n",
    "For machine learning models this means that SHAP values of all the input features will always sum up to the difference between baseline (expected) model output and the current model output for the prediction being explained."
   ]
  },
  {
   "cell_type": "code",
   "execution_count": 289,
   "metadata": {},
   "outputs": [],
   "source": [
    "X100 = shap.utils.sample(x_train, 100)\n",
    "\n",
    "explainer = shap.Explainer(lr_model.predict, X100)"
   ]
  },
  {
   "cell_type": "code",
   "execution_count": 290,
   "metadata": {},
   "outputs": [
    {
     "name": "stderr",
     "output_type": "stream",
     "text": [
      "Permutation explainer: 16185it [06:15, 41.94it/s]                           \n"
     ]
    }
   ],
   "source": [
    "shap_values = explainer(x_train)"
   ]
  },
  {
   "cell_type": "code",
   "execution_count": 291,
   "metadata": {},
   "outputs": [
    {
     "data": {
      "image/png": "[encoded data removed]",
      "text/plain": [
       "<Figure size 800x800 with 3 Axes>"
      ]
     },
     "metadata": {},
     "output_type": "display_data"
    }
   ],
   "source": [
    "shap.plots.waterfall(shap_values[0], max_display=17)"
   ]
  },
  {
   "cell_type": "code",
   "execution_count": 292,
   "metadata": {},
   "outputs": [
    {
     "data": {
      "image/png": "[encoded data removed]",
      "text/plain": [
       "<Figure size 800x550 with 1 Axes>"
      ]
     },
     "metadata": {},
     "output_type": "display_data"
    }
   ],
   "source": [
    "shap.plots.beeswarm(shap_values.abs, color=\"shap_red\")"
   ]
  },
  {
   "cell_type": "code",
   "execution_count": 293,
   "metadata": {},
   "outputs": [
    {
     "name": "stdout",
     "output_type": "stream",
     "text": [
      "[-0.31636203  0.13942051 -0.79697413  0.374763    0.83453843]\n"
     ]
    }
   ],
   "source": [
    "dt_r = DecisionTreeRegressor(random_state=0)\n",
    "dt_r = dt_r.fit(x_train, y_train)\n",
    "dtr_y_pred = dt_r.predict(x_train)\n",
    "print(dtr_y_pred[:5])\n",
    "\n",
    "prettytable.add_row(['Decision Tree Regressor', round(dt_r.score(x_train, y_train), 5)])"
   ]
  },
  {
   "cell_type": "code",
   "execution_count": 294,
   "metadata": {},
   "outputs": [
    {
     "name": "stdout",
     "output_type": "stream",
     "text": [
      "[-0.31555757  0.13598619 -0.79687944  0.36467715  0.80687589]\n"
     ]
    }
   ],
   "source": [
    "rfr = RandomForestRegressor(n_estimators=100, random_state=0)\n",
    "rfr = rfr.fit(x_train, y_train)\n",
    "rfr_pred = rfr.predict(x_train)\n",
    "print(rfr_pred[:5])\n",
    "\n",
    "prettytable.add_row(['Random Forest Regressor', round(rfr.score(x_train, y_train), 5)])"
   ]
  },
  {
   "cell_type": "code",
   "execution_count": 295,
   "metadata": {},
   "outputs": [
    {
     "name": "stdout",
     "output_type": "stream",
     "text": [
      "[-0.44222661 -0.16319191 -0.91329135  0.24248921  1.0484721 ]\n"
     ]
    }
   ],
   "source": [
    "regr_svm = svm.SVR()\n",
    "regr_svm.fit(x_train, y_train)\n",
    "regr_svm_pred = regr_svm.predict(x_train)\n",
    "print(regr_svm_pred[:5])\n",
    "\n",
    "prettytable.add_row(['SVM Regressor', round(regr_svm.score(x_train, y_train), 5)])"
   ]
  },
  {
   "cell_type": "code",
   "execution_count": 296,
   "metadata": {},
   "outputs": [
    {
     "name": "stdout",
     "output_type": "stream",
     "text": [
      "[-0.34454327  0.13958115 -0.78962254  0.37859772  0.88783706]\n"
     ]
    }
   ],
   "source": [
    "bgr = BaggingRegressor()\n",
    "\n",
    "bgr = bgr.fit(x_train, y_train)\n",
    "bgr_pred = bgr.predict(x_train)\n",
    "print(bgr_pred[:5])\n",
    "\n",
    "prettytable.add_row(['Bagging Regressor', round(bgr.score(x_train, y_train), 5)])"
   ]
  },
  {
   "cell_type": "code",
   "execution_count": 297,
   "metadata": {},
   "outputs": [
    {
     "name": "stdout",
     "output_type": "stream",
     "text": [
      "[-0.00102187 -0.00102187 -0.00102187 -0.00102187 -0.00102187]\n"
     ]
    }
   ],
   "source": [
    "lasso = Lasso()\n",
    "lasso_model = lasso.fit(x_train, y_train)\n",
    "lasso_train_pred = lasso_model.predict(x_train)\n",
    "print(lasso_train_pred[:5])\n",
    "\n",
    "prettytable.add_row(['Lasso Regressor', round(lasso_model.score(x_train, y_train), 5)])"
   ]
  },
  {
   "cell_type": "code",
   "execution_count": 298,
   "metadata": {},
   "outputs": [
    {
     "name": "stdout",
     "output_type": "stream",
     "text": [
      "[-0.10016654  0.02283731  0.18000486 -0.00783678  0.67933035]\n"
     ]
    }
   ],
   "source": [
    "ridge = Ridge()\n",
    "ridge_model = ridge.fit(x_train, y_train)\n",
    "ridge_train_pred = ridge_model.predict(x_train)\n",
    "\n",
    "print(ridge_train_pred[:5])\n",
    "\n",
    "prettytable.add_row(['Ridge Regressor', round(ridge_model.score(x_train, y_train), 5)])"
   ]
  },
  {
   "cell_type": "code",
   "execution_count": 299,
   "metadata": {},
   "outputs": [
    {
     "data": {
      "text/html": [
       "<table>\n",
       "    <thead>\n",
       "        <tr>\n",
       "            <th>Model</th>\n",
       "            <th>Score</th>\n",
       "        </tr>\n",
       "    </thead>\n",
       "    <tbody>\n",
       "        <tr>\n",
       "            <td>Linear Regression</td>\n",
       "            <td>0.04843</td>\n",
       "        </tr>\n",
       "        <tr>\n",
       "            <td>Decision Tree Regressor</td>\n",
       "            <td>0.34649</td>\n",
       "        </tr>\n",
       "        <tr>\n",
       "            <td>Random Forest Regressor</td>\n",
       "            <td>0.34645</td>\n",
       "        </tr>\n",
       "        <tr>\n",
       "            <td>SVM Regressor</td>\n",
       "            <td>0.28844</td>\n",
       "        </tr>\n",
       "        <tr>\n",
       "            <td>Bagging Regressor</td>\n",
       "            <td>0.34608</td>\n",
       "        </tr>\n",
       "        <tr>\n",
       "            <td>Lasso Regressor</td>\n",
       "            <td>0.0</td>\n",
       "        </tr>\n",
       "        <tr>\n",
       "            <td>Ridge Regressor</td>\n",
       "            <td>0.04843</td>\n",
       "        </tr>\n",
       "    </tbody>\n",
       "</table>"
      ],
      "text/plain": [
       "+-------------------------+---------+\n",
       "|          Model          |  Score  |\n",
       "+-------------------------+---------+\n",
       "|    Linear Regression    | 0.04843 |\n",
       "| Decision Tree Regressor | 0.34649 |\n",
       "| Random Forest Regressor | 0.34645 |\n",
       "|      SVM Regressor      | 0.28844 |\n",
       "|    Bagging Regressor    | 0.34608 |\n",
       "|     Lasso Regressor     |   0.0   |\n",
       "|     Ridge Regressor     | 0.04843 |\n",
       "+-------------------------+---------+"
      ]
     },
     "execution_count": 299,
     "metadata": {},
     "output_type": "execute_result"
    }
   ],
   "source": [
    "prettytable"
   ]
  },
  {
   "attachments": {},
   "cell_type": "markdown",
   "metadata": {},
   "source": [
    "Our top three models are Decision Tree Regressor, Random Forest and Bagging Regressor."
   ]
  },
  {
   "attachments": {},
   "cell_type": "markdown",
   "metadata": {},
   "source": [
    "# Model Evaluation\n",
    "\n",
    "Selecting from our top three models, we use a cross validation score to find the model with the highest accuracy score."
   ]
  },
  {
   "cell_type": "code",
   "execution_count": 300,
   "metadata": {},
   "outputs": [
    {
     "data": {
      "text/html": [
       "<table>\n",
       "    <thead>\n",
       "        <tr>\n",
       "            <th>Model</th>\n",
       "            <th>Cross Validated Mean Accuracy Score</th>\n",
       "        </tr>\n",
       "    </thead>\n",
       "    <tbody>\n",
       "        <tr>\n",
       "            <td>Decision Tree Regressor</td>\n",
       "            <td>0.3385509388420863</td>\n",
       "        </tr>\n",
       "        <tr>\n",
       "            <td>Random Forest Regressor</td>\n",
       "            <td>0.3384373267634773</td>\n",
       "        </tr>\n",
       "        <tr>\n",
       "            <td>Bagging Regressor</td>\n",
       "            <td>0.33766207431745743</td>\n",
       "        </tr>\n",
       "    </tbody>\n",
       "</table>"
      ],
      "text/plain": [
       "+-------------------------+-------------------------------------+\n",
       "|          Model          | Cross Validated Mean Accuracy Score |\n",
       "+-------------------------+-------------------------------------+\n",
       "| Decision Tree Regressor |          0.3385509388420863         |\n",
       "| Random Forest Regressor |          0.3384373267634773         |\n",
       "|    Bagging Regressor    |         0.33766207431745743         |\n",
       "+-------------------------+-------------------------------------+"
      ]
     },
     "execution_count": 300,
     "metadata": {},
     "output_type": "execute_result"
    }
   ],
   "source": [
    "scores_dtr = cross_val_score(estimator=dt_r, X=x_train, y=y_train, cv=5, error_score='raise').mean()\n",
    "scores_rfr = cross_val_score(estimator=rfr, X=x_train, y=y_train, cv=5, error_score='raise').mean()\n",
    "scores_bag = cross_val_score(estimator=bgr, X=x_train, y=y_train, cv=5, error_score='raise').mean()\n",
    "\n",
    "pretty2table = PrettyTable(field_names=['Model', 'Cross Validated Mean Accuracy Score'])\n",
    "\n",
    "pretty2table.add_row([\"Decision Tree Regressor\", scores_dtr])\n",
    "pretty2table.add_row([\"Random Forest Regressor\", scores_rfr])\n",
    "pretty2table.add_row([\"Bagging Regressor\", scores_bag])\n",
    "\n",
    "pretty2table"
   ]
  },
  {
   "attachments": {},
   "cell_type": "markdown",
   "metadata": {},
   "source": [
    "### Hyper Parameter Tuning \n",
    "\n",
    "With random forest regressor"
   ]
  },
  {
   "cell_type": "code",
   "execution_count": 301,
   "metadata": {},
   "outputs": [
    {
     "name": "stdout",
     "output_type": "stream",
     "text": [
      "Fitting 3 folds for each of 14 candidates, totalling 42 fits\n"
     ]
    },
    {
     "data": {
      "text/html": [
       "<table>\n",
       "    <thead>\n",
       "        <tr>\n",
       "            <th>Grid Search CV</th>\n",
       "            <th>Score</th>\n",
       "        </tr>\n",
       "    </thead>\n",
       "    <tbody>\n",
       "        <tr>\n",
       "            <td>Grid Search CV</td>\n",
       "            <td>0.3464945790180416</td>\n",
       "        </tr>\n",
       "    </tbody>\n",
       "</table>"
      ],
      "text/plain": [
       "+----------------+--------------------+\n",
       "| Grid Search CV |       Score        |\n",
       "+----------------+--------------------+\n",
       "| Grid Search CV | 0.3464945790180416 |\n",
       "+----------------+--------------------+"
      ]
     },
     "execution_count": 301,
     "metadata": {},
     "output_type": "execute_result"
    }
   ],
   "source": [
    "param_grid_search = [\n",
    "    {'bootstrap': [True, False]},\n",
    "    {'max_depth': [10, 110]}, \n",
    "    {'max_features': ['auto', 'sqrt']},\n",
    "    {'min_samples_split': [2, 5, 10]}, \n",
    "    {'min_samples_leaf': [1, 2, 4]}, \n",
    "    {'n_estimators': [200, 2000]},\n",
    "]\n",
    "\n",
    "grid_search = GridSearchCV(estimator=rfr, cv=3, param_grid=param_grid_search, error_score='raise', verbose=3, n_jobs=10)\n",
    "\n",
    "rf_model = grid_search.fit(x_train, y_train)\n",
    "\n",
    "rf_score = rf_model.score(X=x_train, y=y_train)\n",
    "\n",
    "pretty3table = PrettyTable(field_names=['Grid Search CV', 'Score'])\n",
    "\n",
    "pretty3table.add_row([\"Grid Search CV\", rf_score])\n",
    "\n",
    "pretty3table"
   ]
  },
  {
   "cell_type": "code",
   "execution_count": 302,
   "metadata": {},
   "outputs": [
    {
     "data": {
      "text/html": [
       "<style>#sk-container-id-2 {color: black;background-color: white;}#sk-container-id-2 pre{padding: 0;}#sk-container-id-2 div.sk-toggleable {background-color: white;}#sk-container-id-2 label.sk-toggleable__label {cursor: pointer;display: block;width: 100%;margin-bottom: 0;padding: 0.3em;box-sizing: border-box;text-align: center;}#sk-container-id-2 label.sk-toggleable__label-arrow:before {content: \"▸\";float: left;margin-right: 0.25em;color: #696969;}#sk-container-id-2 label.sk-toggleable__label-arrow:hover:before {color: black;}#sk-container-id-2 div.sk-estimator:hover label.sk-toggleable__label-arrow:before {color: black;}#sk-container-id-2 div.sk-toggleable__content {max-height: 0;max-width: 0;overflow: hidden;text-align: left;background-color: #f0f8ff;}#sk-container-id-2 div.sk-toggleable__content pre {margin: 0.2em;color: black;border-radius: 0.25em;background-color: #f0f8ff;}#sk-container-id-2 input.sk-toggleable__control:checked~div.sk-toggleable__content {max-height: 200px;max-width: 100%;overflow: auto;}#sk-container-id-2 input.sk-toggleable__control:checked~label.sk-toggleable__label-arrow:before {content: \"▾\";}#sk-container-id-2 div.sk-estimator input.sk-toggleable__control:checked~label.sk-toggleable__label {background-color: #d4ebff;}#sk-container-id-2 div.sk-label input.sk-toggleable__control:checked~label.sk-toggleable__label {background-color: #d4ebff;}#sk-container-id-2 input.sk-hidden--visually {border: 0;clip: rect(1px 1px 1px 1px);clip: rect(1px, 1px, 1px, 1px);height: 1px;margin: -1px;overflow: hidden;padding: 0;position: absolute;width: 1px;}#sk-container-id-2 div.sk-estimator {font-family: monospace;background-color: #f0f8ff;border: 1px dotted black;border-radius: 0.25em;box-sizing: border-box;margin-bottom: 0.5em;}#sk-container-id-2 div.sk-estimator:hover {background-color: #d4ebff;}#sk-container-id-2 div.sk-parallel-item::after {content: \"\";width: 100%;border-bottom: 1px solid gray;flex-grow: 1;}#sk-container-id-2 div.sk-label:hover label.sk-toggleable__label {background-color: #d4ebff;}#sk-container-id-2 div.sk-serial::before {content: \"\";position: absolute;border-left: 1px solid gray;box-sizing: border-box;top: 0;bottom: 0;left: 50%;z-index: 0;}#sk-container-id-2 div.sk-serial {display: flex;flex-direction: column;align-items: center;background-color: white;padding-right: 0.2em;padding-left: 0.2em;position: relative;}#sk-container-id-2 div.sk-item {position: relative;z-index: 1;}#sk-container-id-2 div.sk-parallel {display: flex;align-items: stretch;justify-content: center;background-color: white;position: relative;}#sk-container-id-2 div.sk-item::before, #sk-container-id-2 div.sk-parallel-item::before {content: \"\";position: absolute;border-left: 1px solid gray;box-sizing: border-box;top: 0;bottom: 0;left: 50%;z-index: -1;}#sk-container-id-2 div.sk-parallel-item {display: flex;flex-direction: column;z-index: 1;position: relative;background-color: white;}#sk-container-id-2 div.sk-parallel-item:first-child::after {align-self: flex-end;width: 50%;}#sk-container-id-2 div.sk-parallel-item:last-child::after {align-self: flex-start;width: 50%;}#sk-container-id-2 div.sk-parallel-item:only-child::after {width: 0;}#sk-container-id-2 div.sk-dashed-wrapped {border: 1px dashed gray;margin: 0 0.4em 0.5em 0.4em;box-sizing: border-box;padding-bottom: 0.4em;background-color: white;}#sk-container-id-2 div.sk-label label {font-family: monospace;font-weight: bold;display: inline-block;line-height: 1.2em;}#sk-container-id-2 div.sk-label-container {text-align: center;}#sk-container-id-2 div.sk-container {/* jupyter's `normalize.less` sets `[hidden] { display: none; }` but bootstrap.min.css set `[hidden] { display: none !important; }` so we also need the `!important` here to be able to override the default hidden behavior on the sphinx rendered scikit-learn.org. See: https://github.com/scikit-learn/scikit-learn/issues/21755 */display: inline-block !important;position: relative;}#sk-container-id-2 div.sk-text-repr-fallback {display: none;}</style><div id=\"sk-container-id-2\" class=\"sk-top-container\"><div class=\"sk-text-repr-fallback\"><pre>RandomForestRegressor(bootstrap=False, random_state=0)</pre><b>In a Jupyter environment, please rerun this cell to show the HTML representation or trust the notebook. <br />On GitHub, the HTML representation is unable to render, please try loading this page with nbviewer.org.</b></div><div class=\"sk-container\" hidden><div class=\"sk-item\"><div class=\"sk-estimator sk-toggleable\"><input class=\"sk-toggleable__control sk-hidden--visually\" id=\"sk-estimator-id-2\" type=\"checkbox\" checked><label for=\"sk-estimator-id-2\" class=\"sk-toggleable__label sk-toggleable__label-arrow\">RandomForestRegressor</label><div class=\"sk-toggleable__content\"><pre>RandomForestRegressor(bootstrap=False, random_state=0)</pre></div></div></div></div></div>"
      ],
      "text/plain": [
       "RandomForestRegressor(bootstrap=False, random_state=0)"
      ]
     },
     "execution_count": 302,
     "metadata": {},
     "output_type": "execute_result"
    }
   ],
   "source": [
    "rf_model.best_estimator_"
   ]
  },
  {
   "cell_type": "code",
   "execution_count": 303,
   "metadata": {},
   "outputs": [
    {
     "data": {
      "text/plain": [
       "array([0.34819943, 0.33206785, 0.33977006, 0.32782356, 0.3448938 ])"
      ]
     },
     "execution_count": 303,
     "metadata": {},
     "output_type": "execute_result"
    }
   ],
   "source": [
    "best_est_scores = cross_val_score(estimator=rf_model.best_estimator_, X=x_train, y=y_train, n_jobs=10)\n",
    "best_est_scores"
   ]
  },
  {
   "attachments": {},
   "cell_type": "markdown",
   "metadata": {},
   "source": [
    "Best Training Predictions"
   ]
  },
  {
   "cell_type": "code",
   "execution_count": 304,
   "metadata": {},
   "outputs": [
    {
     "name": "stdout",
     "output_type": "stream",
     "text": [
      "Training Compare Best Estimator Scores:\n",
      "R2 Score: 0.35\n",
      "MSE: 0.66\n",
      "RMSE: 0.81\n"
     ]
    }
   ],
   "source": [
    "best_model = rf_model.best_estimator_\n",
    "\n",
    "predictions = best_model.predict(x_train)\n",
    "\n",
    "r2 = r2_score(y_train, predictions)\n",
    "mse = mean_squared_error(y_train, predictions)\n",
    "rmse = np.sqrt(mse)\n",
    "\n",
    "print(\"Training Compare Best Estimator Scores:\")\n",
    "print(\"R2 Score: %.2f\" % r2)\n",
    "print(\"MSE: %.2f\" % mse)\n",
    "print(\"RMSE: %.2f\" % rmse)"
   ]
  },
  {
   "attachments": {},
   "cell_type": "markdown",
   "metadata": {},
   "source": [
    "#### Final Predictions"
   ]
  },
  {
   "cell_type": "code",
   "execution_count": 305,
   "metadata": {},
   "outputs": [
    {
     "name": "stdout",
     "output_type": "stream",
     "text": [
      "Final Scores:\n",
      "R2 Score: 0.35\n",
      "MSE: 0.65\n",
      "RMSE: 0.80\n"
     ]
    }
   ],
   "source": [
    "final_predictions = best_model.predict(x_test)\n",
    "\n",
    "final_r2 = r2_score(y_test, final_predictions)\n",
    "final_mse = mean_squared_error(y_test, final_predictions)\n",
    "final_rmse = np.sqrt(final_mse)\n",
    "\n",
    "print(\"Final Scores:\")\n",
    "print(\"R2 Score: %.2f\" % final_r2)\n",
    "print(\"MSE: %.2f\" % final_mse)\n",
    "print(\"RMSE: %.2f\" % final_rmse)"
   ]
  },
  {
   "attachments": {},
   "cell_type": "markdown",
   "metadata": {},
   "source": [
    "### TODO add final model prediction statement"
   ]
  },
  {
   "attachments": {},
   "cell_type": "markdown",
   "metadata": {},
   "source": [
    "# Surprise! Explainable machine learning with explainerdashboard"
   ]
  },
  {
   "cell_type": "code",
   "execution_count": 306,
   "metadata": {},
   "outputs": [
    {
     "name": "stdout",
     "output_type": "stream",
     "text": [
      "WARNING: For shap='linear', shap interaction values can unfortunately not be calculated!\n",
      "Warning: shap values for shap.LinearExplainer get calculated against X_background, but paramater X_background=None, so using X instead\n",
      "Generating self.shap_explainer = shap.LinearExplainer(modelX)...\n",
      "Building ExplainerDashboard..\n",
      "WARNING: the number of idxs (=4047) > max_idxs_in_dropdown(=1000). However with your installed version of dash(2.9.2) dropdown search may not work smoothly. You can downgrade to `pip install dash==2.6.2` which should work better for now...\n",
      "For this type of model and model_output interactions don't work, so setting shap_interaction=False...\n",
      "The explainer object has no decision_trees property. so setting decision_trees=False...\n",
      "Generating layout...\n",
      "Calculating shap values...\n",
      "Calculating predictions...\n",
      "Calculating residuals...\n",
      "Calculating absolute residuals...\n",
      "Calculating dependencies...\n",
      "Calculating importances...\n",
      "Reminder: you can store the explainer (including calculated dependencies) with explainer.dump('explainer.joblib') and reload with e.g. ClassifierExplainer.from_file('explainer.joblib')\n",
      "Registering callbacks...\n",
      "Starting ExplainerDashboard on http://192.168.1.194:8051\n",
      "You can terminate the dashboard with ExplainerDashboard.terminate(8051)\n",
      "Dash is running on http://127.0.0.1:8051/\n",
      "\n",
      "Dash app running on http://127.0.0.1:8051/\n"
     ]
    }
   ],
   "source": [
    "from explainerdashboard import RegressionExplainer, ExplainerDashboard\n",
    "\n",
    "explainer = RegressionExplainer(lr_model, x_test, y_test)\n",
    "\n",
    "ExplainerDashboard(explainer, mode='external').run(port=8051)"
   ]
  },
  {
   "attachments": {},
   "cell_type": "markdown",
   "metadata": {},
   "source": [
    "# Conclusion \n",
    "\n",
    "In conclusion with the results from the model including what explainerdashboard provides, energy level is an important factor in determining if a song is popular. The other important features include.\n",
    "\n",
    "#### Future Improvements\n",
    "Future improvements can include a sliding toggle that changes the popularity threshold value. \n",
    "For example If you only want to capture the top 10 songs of everyday instead of the 200 described in the dataset. \n",
    "\n",
    "Spotify's Genre and Popularity variables was not captured in the initial dataset. "
   ]
  },
  {
   "attachments": {},
   "cell_type": "markdown",
   "metadata": {},
   "source": [
    "# References\n",
    "\n",
    "* [0] https://developer.spotify.com/documentation/web-api/reference/#/operations/get-several-audio-features \n",
    "* [1] https://en.wikipedia.org/wiki/Pitch_class \n",
    "* [2] https://en.wikipedia.org/wiki/Spotify \n",
    "* [3] https://www.kaggle.com/datasets/edumucelli/spotifys-worldwide-daily-song-ranking "
   ]
  }
 ],
 "metadata": {
  "kernelspec": {
   "display_name": "venvcomp4449",
   "language": "python",
   "name": "python3"
  },
  "language_info": {
   "codemirror_mode": {
    "name": "ipython",
    "version": 3
   },
   "file_extension": ".py",
   "mimetype": "text/x-python",
   "name": "python",
   "nbconvert_exporter": "python",
   "pygments_lexer": "ipython3",
   "version": "3.10.10"
  },
  "orig_nbformat": 4,
  "vscode": {
   "interpreter": {
    "hash": "3253edaa32c1802f556f44dcffe2243ada9903963e17e3cafd1aa2e10c205759"
   }
  }
 },
 "nbformat": 4,
 "nbformat_minor": 2
}
