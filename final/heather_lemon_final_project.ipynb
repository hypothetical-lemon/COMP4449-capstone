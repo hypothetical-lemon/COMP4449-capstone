{
 "cells": [
  {
   "cell_type": "code",
   "execution_count": 4,
   "metadata": {},
   "outputs": [],
   "source": [
    "import pandas as pd\n",
    "import json"
   ]
  },
  {
   "cell_type": "code",
   "execution_count": 27,
   "metadata": {},
   "outputs": [
    {
     "data": {
      "text/html": [
       "<div>\n",
       "<style scoped>\n",
       "    .dataframe tbody tr th:only-of-type {\n",
       "        vertical-align: middle;\n",
       "    }\n",
       "\n",
       "    .dataframe tbody tr th {\n",
       "        vertical-align: top;\n",
       "    }\n",
       "\n",
       "    .dataframe thead th {\n",
       "        text-align: right;\n",
       "    }\n",
       "</style>\n",
       "<table border=\"1\" class=\"dataframe\">\n",
       "  <thead>\n",
       "    <tr style=\"text-align: right;\">\n",
       "      <th></th>\n",
       "      <th>data</th>\n",
       "      <th>paging</th>\n",
       "      <th>season</th>\n",
       "    </tr>\n",
       "  </thead>\n",
       "  <tbody>\n",
       "    <tr>\n",
       "      <th>0</th>\n",
       "      <td>{'node': {'id': 53111, 'title': 'Dungeon ni De...</td>\n",
       "      <td>next</td>\n",
       "      <td>year</td>\n",
       "    </tr>\n",
       "    <tr>\n",
       "      <th>1</th>\n",
       "      <td>{'node': {'id': 52093, 'title': 'Trigun Stampe...</td>\n",
       "      <td>None</td>\n",
       "      <td>season</td>\n",
       "    </tr>\n",
       "    <tr>\n",
       "      <th>2</th>\n",
       "      <td>{'node': {'id': 49784, 'title': 'Mairimashita!...</td>\n",
       "      <td>None</td>\n",
       "      <td>None</td>\n",
       "    </tr>\n",
       "    <tr>\n",
       "      <th>3</th>\n",
       "      <td>{'node': {'id': 50739, 'title': 'Otonari no Te...</td>\n",
       "      <td>None</td>\n",
       "      <td>None</td>\n",
       "    </tr>\n",
       "    <tr>\n",
       "      <th>4</th>\n",
       "      <td>{'node': {'id': 50330, 'title': 'Bungou Stray ...</td>\n",
       "      <td>None</td>\n",
       "      <td>None</td>\n",
       "    </tr>\n",
       "    <tr>\n",
       "      <th>5</th>\n",
       "      <td>{'node': {'id': 51678, 'title': 'Oniichan wa O...</td>\n",
       "      <td>None</td>\n",
       "      <td>None</td>\n",
       "    </tr>\n",
       "    <tr>\n",
       "      <th>6</th>\n",
       "      <td>{'node': {'id': 966, 'title': 'Crayon Shin-cha...</td>\n",
       "      <td>None</td>\n",
       "      <td>None</td>\n",
       "    </tr>\n",
       "    <tr>\n",
       "      <th>7</th>\n",
       "      <td>{'node': {'id': 46654, 'title': 'IDOLiSH7 Thir...</td>\n",
       "      <td>None</td>\n",
       "      <td>None</td>\n",
       "    </tr>\n",
       "    <tr>\n",
       "      <th>8</th>\n",
       "      <td>{'node': {'id': 54029, 'title': 'Wu Liuqi: Any...</td>\n",
       "      <td>None</td>\n",
       "      <td>None</td>\n",
       "    </tr>\n",
       "    <tr>\n",
       "      <th>9</th>\n",
       "      <td>{'node': {'id': 52826, 'title': 'Tsurune: Tsun...</td>\n",
       "      <td>None</td>\n",
       "      <td>None</td>\n",
       "    </tr>\n",
       "  </tbody>\n",
       "</table>\n",
       "</div>"
      ],
      "text/plain": [
       "                                                data paging  season\n",
       "0  {'node': {'id': 53111, 'title': 'Dungeon ni De...   next    year\n",
       "1  {'node': {'id': 52093, 'title': 'Trigun Stampe...   None  season\n",
       "2  {'node': {'id': 49784, 'title': 'Mairimashita!...   None    None\n",
       "3  {'node': {'id': 50739, 'title': 'Otonari no Te...   None    None\n",
       "4  {'node': {'id': 50330, 'title': 'Bungou Stray ...   None    None\n",
       "5  {'node': {'id': 51678, 'title': 'Oniichan wa O...   None    None\n",
       "6  {'node': {'id': 966, 'title': 'Crayon Shin-cha...   None    None\n",
       "7  {'node': {'id': 46654, 'title': 'IDOLiSH7 Thir...   None    None\n",
       "8  {'node': {'id': 54029, 'title': 'Wu Liuqi: Any...   None    None\n",
       "9  {'node': {'id': 52826, 'title': 'Tsurune: Tsun...   None    None"
      ]
     },
     "execution_count": 27,
     "metadata": {},
     "output_type": "execute_result"
    }
   ],
   "source": [
    "f = open('anime.json')\n",
    "json_file = json.load(f)\n",
    "df = pd.read_json(json_file, orient='index')\n",
    "df = df.T\n",
    "df"
   ]
  },
  {
   "cell_type": "markdown",
   "metadata": {},
   "source": []
  }
 ],
 "metadata": {
  "kernelspec": {
   "display_name": "venvcomp4449",
   "language": "python",
   "name": "python3"
  },
  "language_info": {
   "codemirror_mode": {
    "name": "ipython",
    "version": 3
   },
   "file_extension": ".py",
   "mimetype": "text/x-python",
   "name": "python",
   "nbconvert_exporter": "python",
   "pygments_lexer": "ipython3",
   "version": "3.10.10"
  },
  "orig_nbformat": 4
 },
 "nbformat": 4,
 "nbformat_minor": 2
}
