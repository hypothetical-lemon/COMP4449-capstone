{
 "cells": [
  {
   "cell_type": "code",
   "execution_count": 65,
   "metadata": {},
   "outputs": [],
   "source": [
    "import os\n",
    "import pandas as pd\n",
    "import numpy as np \n",
    "import plotly\n",
    "import re\n",
    "import explainerdashboard\n",
    "from d3blocks import d3blocks\n",
    "from nltk.corpus import stopwords\n",
    "import string\n",
    "import nltk"
   ]
  },
  {
   "cell_type": "code",
   "execution_count": 66,
   "metadata": {},
   "outputs": [
    {
     "name": "stderr",
     "output_type": "stream",
     "text": [
      "[nltk_data] Downloading package stopwords to\n",
      "[nltk_data]     C:\\Users\\Heather\\AppData\\Roaming\\nltk_data...\n",
      "[nltk_data]   Package stopwords is already up-to-date!\n"
     ]
    },
    {
     "data": {
      "text/plain": [
       "['needn',\n",
       " 'out',\n",
       " 'few',\n",
       " \"it's\",\n",
       " 'of',\n",
       " 'that',\n",
       " 'after',\n",
       " \"needn't\",\n",
       " \"weren't\",\n",
       " 'off']"
      ]
     },
     "execution_count": 66,
     "metadata": {},
     "output_type": "execute_result"
    }
   ],
   "source": [
    "nltk.download('stopwords')\n",
    "sw = set(stopwords.words('english'))\n",
    "list(sw)[0:10]"
   ]
  },
  {
   "cell_type": "code",
   "execution_count": 67,
   "metadata": {},
   "outputs": [
    {
     "name": "stdout",
     "output_type": "stream",
     "text": [
      "{'^', '!', '_', ',', '`', '&', '~', '+', '|', ':', '{', ')', '$', \"'\", '=', '.', '>', '?', '%', '@', '\"', '[', '*', '}', '-', '\\\\', '(', '<', '#', '/', ';', ']'}\n"
     ]
    }
   ],
   "source": [
    "print(set(string.punctuation))"
   ]
  },
  {
   "attachments": {},
   "cell_type": "markdown",
   "metadata": {},
   "source": [
    "### Employee Records"
   ]
  },
  {
   "cell_type": "code",
   "execution_count": 5,
   "metadata": {},
   "outputs": [
    {
     "data": {
      "text/html": [
       "<div>\n",
       "<style scoped>\n",
       "    .dataframe tbody tr th:only-of-type {\n",
       "        vertical-align: middle;\n",
       "    }\n",
       "\n",
       "    .dataframe tbody tr th {\n",
       "        vertical-align: top;\n",
       "    }\n",
       "\n",
       "    .dataframe thead th {\n",
       "        text-align: right;\n",
       "    }\n",
       "</style>\n",
       "<table border=\"1\" class=\"dataframe\">\n",
       "  <thead>\n",
       "    <tr style=\"text-align: right;\">\n",
       "      <th></th>\n",
       "      <th>LastName</th>\n",
       "      <th>FirstName</th>\n",
       "      <th>BirthDate</th>\n",
       "      <th>BirthCountry</th>\n",
       "      <th>Gender</th>\n",
       "      <th>CitizenshipCountry</th>\n",
       "      <th>CitizenshipBasis</th>\n",
       "      <th>CitizenshipStartDate</th>\n",
       "      <th>PassportCountry</th>\n",
       "      <th>PassportIssueDate</th>\n",
       "      <th>PassportExpirationDate</th>\n",
       "      <th>CurrentEmploymentType</th>\n",
       "      <th>CurrentEmploymentTitle</th>\n",
       "      <th>CurrentEmploymentStartDate</th>\n",
       "      <th>EmailAddress</th>\n",
       "      <th>MilitaryServiceBranch</th>\n",
       "      <th>MilitaryDischargeType</th>\n",
       "      <th>MilitaryDischargeDate</th>\n",
       "    </tr>\n",
       "  </thead>\n",
       "  <tbody>\n",
       "    <tr>\n",
       "      <th>0</th>\n",
       "      <td>Bramar</td>\n",
       "      <td>Mat</td>\n",
       "      <td>1981-12-19</td>\n",
       "      <td>Tethys</td>\n",
       "      <td>Male</td>\n",
       "      <td>Tethys</td>\n",
       "      <td>BirthNation</td>\n",
       "      <td>1981-12-19</td>\n",
       "      <td>Tethys</td>\n",
       "      <td>2007-12-12</td>\n",
       "      <td>2017-12-11</td>\n",
       "      <td>Administration</td>\n",
       "      <td>Assistant to CEO</td>\n",
       "      <td>2005-07-01</td>\n",
       "      <td>Mat.Bramar@gastech.com.kronos</td>\n",
       "      <td>NaN</td>\n",
       "      <td>NaN</td>\n",
       "      <td>NaT</td>\n",
       "    </tr>\n",
       "    <tr>\n",
       "      <th>1</th>\n",
       "      <td>Ribera</td>\n",
       "      <td>Anda</td>\n",
       "      <td>1975-11-17</td>\n",
       "      <td>Tethys</td>\n",
       "      <td>Female</td>\n",
       "      <td>Tethys</td>\n",
       "      <td>BirthNation</td>\n",
       "      <td>1975-11-17</td>\n",
       "      <td>Tethys</td>\n",
       "      <td>2009-06-15</td>\n",
       "      <td>2019-06-14</td>\n",
       "      <td>Administration</td>\n",
       "      <td>Assistant to CFO</td>\n",
       "      <td>2009-10-30</td>\n",
       "      <td>Anda.Ribera@gastech.com.kronos</td>\n",
       "      <td>NaN</td>\n",
       "      <td>NaN</td>\n",
       "      <td>NaT</td>\n",
       "    </tr>\n",
       "  </tbody>\n",
       "</table>\n",
       "</div>"
      ],
      "text/plain": [
       "  LastName FirstName  BirthDate BirthCountry  Gender CitizenshipCountry  \\\n",
       "0   Bramar       Mat 1981-12-19       Tethys    Male             Tethys   \n",
       "1   Ribera      Anda 1975-11-17       Tethys  Female             Tethys   \n",
       "\n",
       "  CitizenshipBasis CitizenshipStartDate PassportCountry PassportIssueDate  \\\n",
       "0      BirthNation           1981-12-19          Tethys        2007-12-12   \n",
       "1      BirthNation           1975-11-17          Tethys        2009-06-15   \n",
       "\n",
       "  PassportExpirationDate CurrentEmploymentType CurrentEmploymentTitle  \\\n",
       "0             2017-12-11        Administration       Assistant to CEO   \n",
       "1             2019-06-14        Administration       Assistant to CFO   \n",
       "\n",
       "  CurrentEmploymentStartDate                    EmailAddress  \\\n",
       "0                 2005-07-01   Mat.Bramar@gastech.com.kronos   \n",
       "1                 2009-10-30  Anda.Ribera@gastech.com.kronos   \n",
       "\n",
       "  MilitaryServiceBranch MilitaryDischargeType MilitaryDischargeDate  \n",
       "0                   NaN                   NaN                   NaT  \n",
       "1                   NaN                   NaN                   NaT  "
      ]
     },
     "execution_count": 5,
     "metadata": {},
     "output_type": "execute_result"
    }
   ],
   "source": [
    "employee_records_df = pd.read_excel('EmployeeRecords.xlsx', sheet_name='Employee Records')\n",
    "employee_records_df.head(2)"
   ]
  },
  {
   "attachments": {},
   "cell_type": "markdown",
   "metadata": {},
   "source": [
    "For datetime64[ns] types, NaT represents missing values. (Not a valid time). \n",
    "\n",
    "While NaN is the default missing value marker for reasons of computational speed and convenience. In many cases, however, the Python `None` will arise and we wish to also consider that “missing” or “not available” or “NA”. "
   ]
  },
  {
   "cell_type": "code",
   "execution_count": 6,
   "metadata": {},
   "outputs": [
    {
     "data": {
      "text/html": [
       "<div>\n",
       "<style scoped>\n",
       "    .dataframe tbody tr th:only-of-type {\n",
       "        vertical-align: middle;\n",
       "    }\n",
       "\n",
       "    .dataframe tbody tr th {\n",
       "        vertical-align: top;\n",
       "    }\n",
       "\n",
       "    .dataframe thead th {\n",
       "        text-align: right;\n",
       "    }\n",
       "</style>\n",
       "<table border=\"1\" class=\"dataframe\">\n",
       "  <thead>\n",
       "    <tr style=\"text-align: right;\">\n",
       "      <th></th>\n",
       "      <th>Field Name</th>\n",
       "      <th>Description</th>\n",
       "    </tr>\n",
       "  </thead>\n",
       "  <tbody>\n",
       "    <tr>\n",
       "      <th>0</th>\n",
       "      <td>LastName</td>\n",
       "      <td>the last name of the employee</td>\n",
       "    </tr>\n",
       "    <tr>\n",
       "      <th>1</th>\n",
       "      <td>FirstName</td>\n",
       "      <td>the first name of the employee</td>\n",
       "    </tr>\n",
       "    <tr>\n",
       "      <th>2</th>\n",
       "      <td>BirthDate</td>\n",
       "      <td>the birth date of the employee</td>\n",
       "    </tr>\n",
       "  </tbody>\n",
       "</table>\n",
       "</div>"
      ],
      "text/plain": [
       "  Field Name                     Description\n",
       "0   LastName   the last name of the employee\n",
       "1  FirstName  the first name of the employee\n",
       "2  BirthDate  the birth date of the employee"
      ]
     },
     "execution_count": 6,
     "metadata": {},
     "output_type": "execute_result"
    }
   ],
   "source": [
    "index_employee_records_df = pd.read_excel('EmployeeRecords.xlsx', sheet_name='Index')\n",
    "index_employee_records_df.head(3)"
   ]
  },
  {
   "cell_type": "code",
   "execution_count": 11,
   "metadata": {},
   "outputs": [
    {
     "data": {
      "text/plain": [
       "(54, 18)"
      ]
     },
     "execution_count": 11,
     "metadata": {},
     "output_type": "execute_result"
    }
   ],
   "source": [
    "employee_records_df.shape"
   ]
  },
  {
   "cell_type": "code",
   "execution_count": 8,
   "metadata": {},
   "outputs": [
    {
     "data": {
      "text/plain": [
       "LastName                              object\n",
       "FirstName                             object\n",
       "BirthDate                     datetime64[ns]\n",
       "BirthCountry                          object\n",
       "Gender                                object\n",
       "CitizenshipCountry                    object\n",
       "CitizenshipBasis                      object\n",
       "CitizenshipStartDate          datetime64[ns]\n",
       "PassportCountry                       object\n",
       "PassportIssueDate             datetime64[ns]\n",
       "PassportExpirationDate        datetime64[ns]\n",
       "CurrentEmploymentType                 object\n",
       "CurrentEmploymentTitle                object\n",
       "CurrentEmploymentStartDate    datetime64[ns]\n",
       "EmailAddress                          object\n",
       "MilitaryServiceBranch                 object\n",
       "MilitaryDischargeType                 object\n",
       "MilitaryDischargeDate         datetime64[ns]\n",
       "dtype: object"
      ]
     },
     "execution_count": 8,
     "metadata": {},
     "output_type": "execute_result"
    }
   ],
   "source": [
    "employee_records_df.dtypes"
   ]
  },
  {
   "cell_type": "code",
   "execution_count": 10,
   "metadata": {},
   "outputs": [
    {
     "data": {
      "text/plain": [
       "LastName                       0\n",
       "FirstName                      0\n",
       "BirthDate                      0\n",
       "BirthCountry                   0\n",
       "Gender                         0\n",
       "CitizenshipCountry             0\n",
       "CitizenshipBasis               0\n",
       "CitizenshipStartDate           0\n",
       "PassportCountry               21\n",
       "PassportIssueDate             21\n",
       "PassportExpirationDate        21\n",
       "CurrentEmploymentType          0\n",
       "CurrentEmploymentTitle         0\n",
       "CurrentEmploymentStartDate     0\n",
       "EmailAddress                   0\n",
       "MilitaryServiceBranch         27\n",
       "MilitaryDischargeType         27\n",
       "MilitaryDischargeDate         27\n",
       "dtype: int64"
      ]
     },
     "execution_count": 10,
     "metadata": {},
     "output_type": "execute_result"
    }
   ],
   "source": [
    "employee_records_df.isnull().sum()"
   ]
  },
  {
   "attachments": {},
   "cell_type": "markdown",
   "metadata": {},
   "source": [
    "The missingness means the employee did not serve in a military branch.\n",
    "\n",
    "The missingness from passport means they did not own a passport."
   ]
  },
  {
   "cell_type": "code",
   "execution_count": 20,
   "metadata": {},
   "outputs": [
    {
     "name": "stderr",
     "output_type": "stream",
     "text": [
      "[d3blocks] >INFO> Cleaning edge_properties and config parameters..\n"
     ]
    }
   ],
   "source": [
    "# d3 = d3blocks.D3Blocks()"
   ]
  },
  {
   "attachments": {},
   "cell_type": "markdown",
   "metadata": {},
   "source": [
    "### Employee Emails"
   ]
  },
  {
   "cell_type": "code",
   "execution_count": 60,
   "metadata": {},
   "outputs": [
    {
     "data": {
      "text/html": [
       "<div>\n",
       "<style scoped>\n",
       "    .dataframe tbody tr th:only-of-type {\n",
       "        vertical-align: middle;\n",
       "    }\n",
       "\n",
       "    .dataframe tbody tr th {\n",
       "        vertical-align: top;\n",
       "    }\n",
       "\n",
       "    .dataframe thead th {\n",
       "        text-align: right;\n",
       "    }\n",
       "</style>\n",
       "<table border=\"1\" class=\"dataframe\">\n",
       "  <thead>\n",
       "    <tr style=\"text-align: right;\">\n",
       "      <th></th>\n",
       "      <th>From</th>\n",
       "      <th>To</th>\n",
       "      <th>Date</th>\n",
       "      <th>Subject</th>\n",
       "    </tr>\n",
       "  </thead>\n",
       "  <tbody>\n",
       "    <tr>\n",
       "      <th>0</th>\n",
       "      <td>Sven.Flecha@gastech.com.kronos</td>\n",
       "      <td>Isak.Baza@gastech.com.kronos, Lucas.Alcazar@ga...</td>\n",
       "      <td>1/6/2014 8:39</td>\n",
       "      <td>GT-SeismicProcessorPro Bug Report</td>\n",
       "    </tr>\n",
       "    <tr>\n",
       "      <th>1</th>\n",
       "      <td>Kanon.Herrero@gastech.com.kronos</td>\n",
       "      <td>Felix.Resumir@gastech.com.kronos, Hideki.Cocin...</td>\n",
       "      <td>1/6/2014 8:58</td>\n",
       "      <td>Inspection request for site</td>\n",
       "    </tr>\n",
       "    <tr>\n",
       "      <th>2</th>\n",
       "      <td>Bertrand.Ovan@gastech.com.kronos</td>\n",
       "      <td>Emile.Arpa@gastech.com.kronos, Varro.Awelon@ga...</td>\n",
       "      <td>1/6/2014 9:28</td>\n",
       "      <td>New refueling policies - Effective February 1</td>\n",
       "    </tr>\n",
       "    <tr>\n",
       "      <th>3</th>\n",
       "      <td>Valeria.Morlun@gastech.com.kronos</td>\n",
       "      <td>Dante.Coginian@gastech.com.kronos, Albina.Hafo...</td>\n",
       "      <td>1/6/2014 9:38</td>\n",
       "      <td>Route suggestion for next shift</td>\n",
       "    </tr>\n",
       "    <tr>\n",
       "      <th>4</th>\n",
       "      <td>Mat.Bramar@gastech.com.kronos</td>\n",
       "      <td>Rachel.Pantanal@gastech.com.kronos, Lars.Azada...</td>\n",
       "      <td>1/6/2014 9:49</td>\n",
       "      <td>Upcoming birthdays</td>\n",
       "    </tr>\n",
       "  </tbody>\n",
       "</table>\n",
       "</div>"
      ],
      "text/plain": [
       "                                From  \\\n",
       "0     Sven.Flecha@gastech.com.kronos   \n",
       "1   Kanon.Herrero@gastech.com.kronos   \n",
       "2   Bertrand.Ovan@gastech.com.kronos   \n",
       "3  Valeria.Morlun@gastech.com.kronos   \n",
       "4      Mat.Bramar@gastech.com.kronos   \n",
       "\n",
       "                                                  To           Date  \\\n",
       "0  Isak.Baza@gastech.com.kronos, Lucas.Alcazar@ga...  1/6/2014 8:39   \n",
       "1  Felix.Resumir@gastech.com.kronos, Hideki.Cocin...  1/6/2014 8:58   \n",
       "2  Emile.Arpa@gastech.com.kronos, Varro.Awelon@ga...  1/6/2014 9:28   \n",
       "3  Dante.Coginian@gastech.com.kronos, Albina.Hafo...  1/6/2014 9:38   \n",
       "4  Rachel.Pantanal@gastech.com.kronos, Lars.Azada...  1/6/2014 9:49   \n",
       "\n",
       "                                         Subject  \n",
       "0              GT-SeismicProcessorPro Bug Report  \n",
       "1                    Inspection request for site  \n",
       "2  New refueling policies - Effective February 1  \n",
       "3                Route suggestion for next shift  \n",
       "4                             Upcoming birthdays  "
      ]
     },
     "execution_count": 60,
     "metadata": {},
     "output_type": "execute_result"
    }
   ],
   "source": [
    "# single-byte charcter encoding of the latin alphabet\n",
    "email_df = pd.read_csv('emailheaders.csv', encoding='cp1252')\n",
    "email_df.head()"
   ]
  },
  {
   "cell_type": "code",
   "execution_count": 61,
   "metadata": {},
   "outputs": [
    {
     "name": "stdout",
     "output_type": "stream",
     "text": [
      "(1170, 4)\n",
      "From       object\n",
      "To         object\n",
      "Date       object\n",
      "Subject    object\n",
      "dtype: object\n"
     ]
    }
   ],
   "source": [
    "print(email_df.shape)\n",
    "print(email_df.dtypes)"
   ]
  },
  {
   "cell_type": "code",
   "execution_count": 62,
   "metadata": {},
   "outputs": [
    {
     "data": {
      "text/html": [
       "<div>\n",
       "<style scoped>\n",
       "    .dataframe tbody tr th:only-of-type {\n",
       "        vertical-align: middle;\n",
       "    }\n",
       "\n",
       "    .dataframe tbody tr th {\n",
       "        vertical-align: top;\n",
       "    }\n",
       "\n",
       "    .dataframe thead th {\n",
       "        text-align: right;\n",
       "    }\n",
       "</style>\n",
       "<table border=\"1\" class=\"dataframe\">\n",
       "  <thead>\n",
       "    <tr style=\"text-align: right;\">\n",
       "      <th></th>\n",
       "      <th>From</th>\n",
       "      <th>To</th>\n",
       "      <th>Date</th>\n",
       "      <th>Subject</th>\n",
       "    </tr>\n",
       "  </thead>\n",
       "  <tbody>\n",
       "    <tr>\n",
       "      <th>0</th>\n",
       "      <td>Sven Flecha</td>\n",
       "      <td>Isak.Baza@gastech.com.kronos, Lucas.Alcazar@ga...</td>\n",
       "      <td>1/6/2014 8:39</td>\n",
       "      <td>GT-SeismicProcessorPro Bug Report</td>\n",
       "    </tr>\n",
       "    <tr>\n",
       "      <th>1</th>\n",
       "      <td>Kanon Herrero</td>\n",
       "      <td>Felix.Resumir@gastech.com.kronos, Hideki.Cocin...</td>\n",
       "      <td>1/6/2014 8:58</td>\n",
       "      <td>Inspection request for site</td>\n",
       "    </tr>\n",
       "    <tr>\n",
       "      <th>2</th>\n",
       "      <td>Bertrand Ovan</td>\n",
       "      <td>Emile.Arpa@gastech.com.kronos, Varro.Awelon@ga...</td>\n",
       "      <td>1/6/2014 9:28</td>\n",
       "      <td>New refueling policies - Effective February 1</td>\n",
       "    </tr>\n",
       "  </tbody>\n",
       "</table>\n",
       "</div>"
      ],
      "text/plain": [
       "            From                                                 To  \\\n",
       "0    Sven Flecha  Isak.Baza@gastech.com.kronos, Lucas.Alcazar@ga...   \n",
       "1  Kanon Herrero  Felix.Resumir@gastech.com.kronos, Hideki.Cocin...   \n",
       "2  Bertrand Ovan  Emile.Arpa@gastech.com.kronos, Varro.Awelon@ga...   \n",
       "\n",
       "            Date                                        Subject  \n",
       "0  1/6/2014 8:39              GT-SeismicProcessorPro Bug Report  \n",
       "1  1/6/2014 8:58                    Inspection request for site  \n",
       "2  1/6/2014 9:28  New refueling policies - Effective February 1  "
      ]
     },
     "execution_count": 62,
     "metadata": {},
     "output_type": "execute_result"
    }
   ],
   "source": [
    "def stripEmail(email):\n",
    "    return re.sub(pattern=r\"\\b@[a-z][a-z.+]+.\", repl=\"\", string=email)\n",
    "\n",
    "def addSplit(email):\n",
    "    return re.sub(pattern=\"\\.\", repl=\" \", string=email)\n",
    "\n",
    "email_df['From'] = email_df['From'].apply(lambda x: stripEmail(x))\n",
    "email_df['From'] = email_df['From'].apply(lambda x: addSplit(x))\n",
    "email_df.head(3)"
   ]
  },
  {
   "cell_type": "code",
   "execution_count": 63,
   "metadata": {},
   "outputs": [
    {
     "data": {
      "text/html": [
       "<div>\n",
       "<style scoped>\n",
       "    .dataframe tbody tr th:only-of-type {\n",
       "        vertical-align: middle;\n",
       "    }\n",
       "\n",
       "    .dataframe tbody tr th {\n",
       "        vertical-align: top;\n",
       "    }\n",
       "\n",
       "    .dataframe thead th {\n",
       "        text-align: right;\n",
       "    }\n",
       "</style>\n",
       "<table border=\"1\" class=\"dataframe\">\n",
       "  <thead>\n",
       "    <tr style=\"text-align: right;\">\n",
       "      <th></th>\n",
       "      <th>From</th>\n",
       "      <th>To</th>\n",
       "      <th>Date</th>\n",
       "      <th>Subject</th>\n",
       "    </tr>\n",
       "  </thead>\n",
       "  <tbody>\n",
       "    <tr>\n",
       "      <th>0</th>\n",
       "      <td>Sven Flecha</td>\n",
       "      <td>Isak Baza Lucas Alcazar</td>\n",
       "      <td>1/6/2014 8:39</td>\n",
       "      <td>GT-SeismicProcessorPro Bug Report</td>\n",
       "    </tr>\n",
       "    <tr>\n",
       "      <th>1</th>\n",
       "      <td>Kanon Herrero</td>\n",
       "      <td>Felix Resumir Hideki Cocinaro Inga Ferro Varja...</td>\n",
       "      <td>1/6/2014 8:58</td>\n",
       "      <td>Inspection request for site</td>\n",
       "    </tr>\n",
       "    <tr>\n",
       "      <th>2</th>\n",
       "      <td>Bertrand Ovan</td>\n",
       "      <td>Emile Arpa Varro Awelon Dante Coginian Albina ...</td>\n",
       "      <td>1/6/2014 9:28</td>\n",
       "      <td>New refueling policies - Effective February 1</td>\n",
       "    </tr>\n",
       "  </tbody>\n",
       "</table>\n",
       "</div>"
      ],
      "text/plain": [
       "            From                                                 To  \\\n",
       "0    Sven Flecha                            Isak Baza Lucas Alcazar   \n",
       "1  Kanon Herrero  Felix Resumir Hideki Cocinaro Inga Ferro Varja...   \n",
       "2  Bertrand Ovan  Emile Arpa Varro Awelon Dante Coginian Albina ...   \n",
       "\n",
       "            Date                                        Subject  \n",
       "0  1/6/2014 8:39              GT-SeismicProcessorPro Bug Report  \n",
       "1  1/6/2014 8:58                    Inspection request for site  \n",
       "2  1/6/2014 9:28  New refueling policies - Effective February 1  "
      ]
     },
     "execution_count": 63,
     "metadata": {},
     "output_type": "execute_result"
    }
   ],
   "source": [
    "email_df['To'] = email_df['To'].apply(lambda x: stripEmail(x))\n",
    "email_df['To'] = email_df['To'].apply(lambda x: addSplit(x))\n",
    "email_df.head(3)"
   ]
  },
  {
   "cell_type": "code",
   "execution_count": 64,
   "metadata": {},
   "outputs": [
    {
     "data": {
      "text/plain": [
       "From               object\n",
       "To                 object\n",
       "Date       datetime64[ns]\n",
       "Subject            object\n",
       "dtype: object"
      ]
     },
     "execution_count": 64,
     "metadata": {},
     "output_type": "execute_result"
    }
   ],
   "source": [
    "# M/D/YYYY\n",
    "email_df['Date'] = pd.to_datetime(email_df['Date'], errors='raise')\n",
    "email_df.dtypes"
   ]
  },
  {
   "cell_type": "code",
   "execution_count": 68,
   "metadata": {},
   "outputs": [
    {
     "data": {
      "text/html": [
       "<div>\n",
       "<style scoped>\n",
       "    .dataframe tbody tr th:only-of-type {\n",
       "        vertical-align: middle;\n",
       "    }\n",
       "\n",
       "    .dataframe tbody tr th {\n",
       "        vertical-align: top;\n",
       "    }\n",
       "\n",
       "    .dataframe thead th {\n",
       "        text-align: right;\n",
       "    }\n",
       "</style>\n",
       "<table border=\"1\" class=\"dataframe\">\n",
       "  <thead>\n",
       "    <tr style=\"text-align: right;\">\n",
       "      <th></th>\n",
       "      <th>From</th>\n",
       "      <th>To</th>\n",
       "      <th>Date</th>\n",
       "      <th>Subject</th>\n",
       "    </tr>\n",
       "  </thead>\n",
       "  <tbody>\n",
       "    <tr>\n",
       "      <th>0</th>\n",
       "      <td>Sven Flecha</td>\n",
       "      <td>Isak Baza Lucas Alcazar</td>\n",
       "      <td>2014-01-06 08:39:00</td>\n",
       "      <td>gt-seismicprocessorpro bug report</td>\n",
       "    </tr>\n",
       "    <tr>\n",
       "      <th>1</th>\n",
       "      <td>Kanon Herrero</td>\n",
       "      <td>Felix Resumir Hideki Cocinaro Inga Ferro Varja...</td>\n",
       "      <td>2014-01-06 08:58:00</td>\n",
       "      <td>inspection request site</td>\n",
       "    </tr>\n",
       "    <tr>\n",
       "      <th>2</th>\n",
       "      <td>Bertrand Ovan</td>\n",
       "      <td>Emile Arpa Varro Awelon Dante Coginian Albina ...</td>\n",
       "      <td>2014-01-06 09:28:00</td>\n",
       "      <td>new refueling policies effective february 1</td>\n",
       "    </tr>\n",
       "  </tbody>\n",
       "</table>\n",
       "</div>"
      ],
      "text/plain": [
       "            From                                                 To  \\\n",
       "0    Sven Flecha                            Isak Baza Lucas Alcazar   \n",
       "1  Kanon Herrero  Felix Resumir Hideki Cocinaro Inga Ferro Varja...   \n",
       "2  Bertrand Ovan  Emile Arpa Varro Awelon Dante Coginian Albina ...   \n",
       "\n",
       "                 Date                                      Subject  \n",
       "0 2014-01-06 08:39:00            gt-seismicprocessorpro bug report  \n",
       "1 2014-01-06 08:58:00                      inspection request site  \n",
       "2 2014-01-06 09:28:00  new refueling policies effective february 1  "
      ]
     },
     "execution_count": 68,
     "metadata": {},
     "output_type": "execute_result"
    }
   ],
   "source": [
    "punctuation = None \n",
    "\n",
    "def clean(text, stopwords) -> str:\n",
    "    \"\"\"\n",
    "    Clean text sentence \n",
    "    Params: text: the string to clean\n",
    "    stopwords: a list of NLTK stopwords to remove from input row\n",
    "    Returns: cleaned sentence\n",
    "    \"\"\" \n",
    "    text = re.sub(r'<[^>?]*>', '', text)\n",
    "    text_list = text.split()\n",
    "    text_words = []\n",
    "    punctuation = set(string.punctuation)\n",
    "    \n",
    "    for word in text_list: \n",
    "        while len(word) > 0 and word[0] in punctuation: \n",
    "            word = word[1:]\n",
    "        \n",
    "        while len(word) > 0 and word[-1] in punctuation: \n",
    "            word = word[:-1]\n",
    "            \n",
    "        word = word.replace(',', '')\n",
    "        word = word.replace('\\\"', '')\n",
    "        word = word.replace('\\'', '')\n",
    "\n",
    "        if len(word) > 0 and \"/\" not in word: \n",
    "            if word.lower() not in stopwords: \n",
    "                text_words.append(word.lower())\n",
    "        cleaner_text = \" \".join(text_words)\n",
    "    return cleaner_text\n",
    "\n",
    "email_df['Subject'] = email_df['Subject'].apply(clean, stopwords=sw)\n",
    "email_df.head(3)"
   ]
  },
  {
   "attachments": {},
   "cell_type": "markdown",
   "metadata": {},
   "source": [
    "### News Articles"
   ]
  },
  {
   "attachments": {},
   "cell_type": "markdown",
   "metadata": {},
   "source": [
    "News articles contain historical information."
   ]
  },
  {
   "cell_type": "code",
   "execution_count": 76,
   "metadata": {},
   "outputs": [
    {
     "name": "stdout",
     "output_type": "stream",
     "text": [
      "(845, 2)\n"
     ]
    },
    {
     "data": {
      "text/html": [
       "<div>\n",
       "<style scoped>\n",
       "    .dataframe tbody tr th:only-of-type {\n",
       "        vertical-align: middle;\n",
       "    }\n",
       "\n",
       "    .dataframe tbody tr th {\n",
       "        vertical-align: top;\n",
       "    }\n",
       "\n",
       "    .dataframe thead th {\n",
       "        text-align: right;\n",
       "    }\n",
       "</style>\n",
       "<table border=\"1\" class=\"dataframe\">\n",
       "  <thead>\n",
       "    <tr style=\"text-align: right;\">\n",
       "      <th></th>\n",
       "      <th>index</th>\n",
       "      <th>description</th>\n",
       "    </tr>\n",
       "  </thead>\n",
       "  <tbody>\n",
       "    <tr>\n",
       "      <th>0</th>\n",
       "      <td>article 0</td>\n",
       "      <td>The Orb\\n\\n\\nBUMP OF PROTESTS IN ABILA IN RESP...</td>\n",
       "    </tr>\n",
       "    <tr>\n",
       "      <th>1</th>\n",
       "      <td>article 1</td>\n",
       "      <td>The Light of Truth\\n\\nENORMOUS IPO MAKES THE B...</td>\n",
       "    </tr>\n",
       "    <tr>\n",
       "      <th>2</th>\n",
       "      <td>article 10</td>\n",
       "      <td>Homeland Illumination\\nVOICES - a blog about w...</td>\n",
       "    </tr>\n",
       "    <tr>\n",
       "      <th>3</th>\n",
       "      <td>article 100</td>\n",
       "      <td>The Continent\\n\\nFour people have died in an e...</td>\n",
       "    </tr>\n",
       "    <tr>\n",
       "      <th>4</th>\n",
       "      <td>article 101</td>\n",
       "      <td>Daily Pegasus\\n\\nTHE DEMONSTRATION ATTRACTS TH...</td>\n",
       "    </tr>\n",
       "  </tbody>\n",
       "</table>\n",
       "</div>"
      ],
      "text/plain": [
       "         index                                        description\n",
       "0    article 0  The Orb\\n\\n\\nBUMP OF PROTESTS IN ABILA IN RESP...\n",
       "1    article 1  The Light of Truth\\n\\nENORMOUS IPO MAKES THE B...\n",
       "2   article 10  Homeland Illumination\\nVOICES - a blog about w...\n",
       "3  article 100  The Continent\\n\\nFour people have died in an e...\n",
       "4  article 101  Daily Pegasus\\n\\nTHE DEMONSTRATION ATTRACTS TH..."
      ]
     },
     "execution_count": 76,
     "metadata": {},
     "output_type": "execute_result"
    }
   ],
   "source": [
    "def extract_article_name(name) -> str:\n",
    "    \"\"\"\n",
    "    Params: str: article name\n",
    "    Returns:\n",
    "        str: shorten file name\n",
    "    \"\"\"\n",
    "    return \"article \" + re.sub(pattern=r\"\\.+.*\", repl=\"\", string=name)\n",
    "\n",
    "def extract_data(rootdir, news_article) -> dict:\n",
    "    \"\"\"\n",
    "    Params:\n",
    "        rootdir (Path): path to search for article files\n",
    "        news_article (dict): empty dict to fill of <article, description>\n",
    "    Returns:\n",
    "        news_article: full <article, description> dict\n",
    "    \"\"\"\n",
    "    assert os.path.exists(rootdir)\n",
    "    for subdir, dirs, files in os.walk(rootdir):\n",
    "        assert os.path.exists(subdir)\n",
    "        for file in files:\n",
    "            if file.__contains__('txt'):\n",
    "                nav_file = os.path.join(subdir, file)\n",
    "                with open(nav_file, 'r') as datafile:\n",
    "                    try:\n",
    "                        news_name = extract_article_name(file)\n",
    "                        news_article[news_name] = datafile.read()\n",
    "                        datafile.close()\n",
    "                    except Exception as ex:\n",
    "                        print(\"Failed to parse article: \", ex)\n",
    "                        continue\n",
    "    return news_article\n",
    "\n",
    "news_article = {}\n",
    "rootdir = 'articles/'\n",
    "news_article = extract_data(rootdir, news_article)\n",
    "articles_df = pd.DataFrame.from_dict(data=news_article, orient='index', columns=['description'])\n",
    "articles_df.reset_index(inplace=True)\n",
    "print(articles_df.shape)\n",
    "articles_df.head()"
   ]
  },
  {
   "cell_type": "code",
   "execution_count": 71,
   "metadata": {},
   "outputs": [
    {
     "data": {
      "text/html": [
       "<div>\n",
       "<style scoped>\n",
       "    .dataframe tbody tr th:only-of-type {\n",
       "        vertical-align: middle;\n",
       "    }\n",
       "\n",
       "    .dataframe tbody tr th {\n",
       "        vertical-align: top;\n",
       "    }\n",
       "\n",
       "    .dataframe thead th {\n",
       "        text-align: right;\n",
       "    }\n",
       "</style>\n",
       "<table border=\"1\" class=\"dataframe\">\n",
       "  <thead>\n",
       "    <tr style=\"text-align: right;\">\n",
       "      <th></th>\n",
       "      <th>index</th>\n",
       "      <th>description</th>\n",
       "    </tr>\n",
       "  </thead>\n",
       "  <tbody>\n",
       "    <tr>\n",
       "      <th>0</th>\n",
       "      <td>article 0</td>\n",
       "      <td>orb bump protests abila response calls action ...</td>\n",
       "    </tr>\n",
       "    <tr>\n",
       "      <th>1</th>\n",
       "      <td>article 1</td>\n",
       "      <td>light truth enormous ipo makes billionaire san...</td>\n",
       "    </tr>\n",
       "    <tr>\n",
       "      <th>2</th>\n",
       "      <td>article 10</td>\n",
       "      <td>homeland illumination voices blog important pe...</td>\n",
       "    </tr>\n",
       "    <tr>\n",
       "      <th>3</th>\n",
       "      <td>article 100</td>\n",
       "      <td>continent four people died enthusiastic discha...</td>\n",
       "    </tr>\n",
       "    <tr>\n",
       "      <th>4</th>\n",
       "      <td>article 101</td>\n",
       "      <td>daily pegasus demonstration attracts thousands...</td>\n",
       "    </tr>\n",
       "  </tbody>\n",
       "</table>\n",
       "</div>"
      ],
      "text/plain": [
       "         index                                        description\n",
       "0    article 0  orb bump protests abila response calls action ...\n",
       "1    article 1  light truth enormous ipo makes billionaire san...\n",
       "2   article 10  homeland illumination voices blog important pe...\n",
       "3  article 100  continent four people died enthusiastic discha...\n",
       "4  article 101  daily pegasus demonstration attracts thousands..."
      ]
     },
     "execution_count": 71,
     "metadata": {},
     "output_type": "execute_result"
    }
   ],
   "source": [
    "articles_df['description'] = articles_df['description'].apply(clean, stopwords=sw)\n",
    "articles_df.head()"
   ]
  },
  {
   "attachments": {},
   "cell_type": "markdown",
   "metadata": {},
   "source": [
    "### Resumes"
   ]
  },
  {
   "attachments": {},
   "cell_type": "markdown",
   "metadata": {},
   "source": [
    "Using resumes to look up historical employee data"
   ]
  },
  {
   "cell_type": "code",
   "execution_count": null,
   "metadata": {},
   "outputs": [],
   "source": [
    "resume_df = pd.read_csv('resumes/')"
   ]
  },
  {
   "cell_type": "code",
   "execution_count": null,
   "metadata": {},
   "outputs": [],
   "source": []
  }
 ],
 "metadata": {
  "kernelspec": {
   "display_name": "venvcomp4449",
   "language": "python",
   "name": "python3"
  },
  "language_info": {
   "codemirror_mode": {
    "name": "ipython",
    "version": 3
   },
   "file_extension": ".py",
   "mimetype": "text/x-python",
   "name": "python",
   "nbconvert_exporter": "python",
   "pygments_lexer": "ipython3",
   "version": "3.10.11"
  },
  "orig_nbformat": 4
 },
 "nbformat": 4,
 "nbformat_minor": 2
}
