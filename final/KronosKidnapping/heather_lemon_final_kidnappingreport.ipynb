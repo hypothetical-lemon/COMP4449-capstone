{
 "cells": [
  {
   "attachments": {},
   "cell_type": "markdown",
   "metadata": {},
   "source": [
    "### Heather Lemon Final Project - Kronos Kidnapping"
   ]
  },
  {
   "cell_type": "code",
   "execution_count": 151,
   "metadata": {},
   "outputs": [],
   "source": [
    "import os\n",
    "import pandas as pd\n",
    "import numpy as np \n",
    "import re\n",
    "from datetime import datetime\n",
    "from d3blocks import d3blocks\n",
    "from nltk.corpus import stopwords\n",
    "import string\n",
    "import nltk\n",
    "import docx\n",
    "from collections.abc import Iterable\n",
    "from pattern.en import sentiment, subjectivity\n",
    "import seaborn as sns\n",
    "import plotly.express as px"
   ]
  },
  {
   "cell_type": "code",
   "execution_count": 152,
   "metadata": {},
   "outputs": [
    {
     "name": "stderr",
     "output_type": "stream",
     "text": [
      "[nltk_data] Downloading package stopwords to\n",
      "[nltk_data]     C:\\Users\\Heather\\AppData\\Roaming\\nltk_data...\n",
      "[nltk_data]   Package stopwords is already up-to-date!\n"
     ]
    },
    {
     "data": {
      "text/plain": [
       "['while',\n",
       " 'she',\n",
       " 'theirs',\n",
       " 'about',\n",
       " 'during',\n",
       " \"don't\",\n",
       " 'all',\n",
       " 'isn',\n",
       " 'off',\n",
       " 'too']"
      ]
     },
     "execution_count": 152,
     "metadata": {},
     "output_type": "execute_result"
    }
   ],
   "source": [
    "nltk.download('stopwords')\n",
    "sw = set(stopwords.words('english'))\n",
    "list(sw)[0:10]"
   ]
  },
  {
   "cell_type": "code",
   "execution_count": 153,
   "metadata": {},
   "outputs": [
    {
     "name": "stdout",
     "output_type": "stream",
     "text": [
      "{'\"', '^', '>', '@', ']', '=', '/', '&', '(', '$', '-', '<', '.', \"'\", ':', '+', ')', '%', ';', '~', ',', '?', '[', '|', '}', '{', '_', '\\\\', '*', '#', '!', '`'}\n"
     ]
    }
   ],
   "source": [
    "print(set(string.punctuation))"
   ]
  },
  {
   "attachments": {},
   "cell_type": "markdown",
   "metadata": {},
   "source": [
    "# Data Ingest"
   ]
  },
  {
   "attachments": {},
   "cell_type": "markdown",
   "metadata": {},
   "source": [
    "### Employee Records"
   ]
  },
  {
   "cell_type": "code",
   "execution_count": 154,
   "metadata": {},
   "outputs": [
    {
     "data": {
      "text/html": [
       "<div>\n",
       "<style scoped>\n",
       "    .dataframe tbody tr th:only-of-type {\n",
       "        vertical-align: middle;\n",
       "    }\n",
       "\n",
       "    .dataframe tbody tr th {\n",
       "        vertical-align: top;\n",
       "    }\n",
       "\n",
       "    .dataframe thead th {\n",
       "        text-align: right;\n",
       "    }\n",
       "</style>\n",
       "<table border=\"1\" class=\"dataframe\">\n",
       "  <thead>\n",
       "    <tr style=\"text-align: right;\">\n",
       "      <th></th>\n",
       "      <th>LastName</th>\n",
       "      <th>FirstName</th>\n",
       "      <th>BirthDate</th>\n",
       "      <th>BirthCountry</th>\n",
       "      <th>Gender</th>\n",
       "      <th>CitizenshipCountry</th>\n",
       "      <th>CitizenshipBasis</th>\n",
       "      <th>CitizenshipStartDate</th>\n",
       "      <th>PassportCountry</th>\n",
       "      <th>PassportIssueDate</th>\n",
       "      <th>PassportExpirationDate</th>\n",
       "      <th>CurrentEmploymentType</th>\n",
       "      <th>CurrentEmploymentTitle</th>\n",
       "      <th>CurrentEmploymentStartDate</th>\n",
       "      <th>EmailAddress</th>\n",
       "      <th>MilitaryServiceBranch</th>\n",
       "      <th>MilitaryDischargeType</th>\n",
       "      <th>MilitaryDischargeDate</th>\n",
       "    </tr>\n",
       "  </thead>\n",
       "  <tbody>\n",
       "    <tr>\n",
       "      <th>0</th>\n",
       "      <td>Bramar</td>\n",
       "      <td>Mat</td>\n",
       "      <td>1981-12-19</td>\n",
       "      <td>Tethys</td>\n",
       "      <td>Male</td>\n",
       "      <td>Tethys</td>\n",
       "      <td>BirthNation</td>\n",
       "      <td>1981-12-19</td>\n",
       "      <td>Tethys</td>\n",
       "      <td>2007-12-12</td>\n",
       "      <td>2017-12-11</td>\n",
       "      <td>Administration</td>\n",
       "      <td>Assistant to CEO</td>\n",
       "      <td>2005-07-01</td>\n",
       "      <td>Mat.Bramar@gastech.com.kronos</td>\n",
       "      <td>NaN</td>\n",
       "      <td>NaN</td>\n",
       "      <td>NaT</td>\n",
       "    </tr>\n",
       "    <tr>\n",
       "      <th>1</th>\n",
       "      <td>Ribera</td>\n",
       "      <td>Anda</td>\n",
       "      <td>1975-11-17</td>\n",
       "      <td>Tethys</td>\n",
       "      <td>Female</td>\n",
       "      <td>Tethys</td>\n",
       "      <td>BirthNation</td>\n",
       "      <td>1975-11-17</td>\n",
       "      <td>Tethys</td>\n",
       "      <td>2009-06-15</td>\n",
       "      <td>2019-06-14</td>\n",
       "      <td>Administration</td>\n",
       "      <td>Assistant to CFO</td>\n",
       "      <td>2009-10-30</td>\n",
       "      <td>Anda.Ribera@gastech.com.kronos</td>\n",
       "      <td>NaN</td>\n",
       "      <td>NaN</td>\n",
       "      <td>NaT</td>\n",
       "    </tr>\n",
       "  </tbody>\n",
       "</table>\n",
       "</div>"
      ],
      "text/plain": [
       "  LastName FirstName  BirthDate BirthCountry  Gender CitizenshipCountry  \\\n",
       "0   Bramar       Mat 1981-12-19       Tethys    Male             Tethys   \n",
       "1   Ribera      Anda 1975-11-17       Tethys  Female             Tethys   \n",
       "\n",
       "  CitizenshipBasis CitizenshipStartDate PassportCountry PassportIssueDate  \\\n",
       "0      BirthNation           1981-12-19          Tethys        2007-12-12   \n",
       "1      BirthNation           1975-11-17          Tethys        2009-06-15   \n",
       "\n",
       "  PassportExpirationDate CurrentEmploymentType CurrentEmploymentTitle  \\\n",
       "0             2017-12-11        Administration       Assistant to CEO   \n",
       "1             2019-06-14        Administration       Assistant to CFO   \n",
       "\n",
       "  CurrentEmploymentStartDate                    EmailAddress  \\\n",
       "0                 2005-07-01   Mat.Bramar@gastech.com.kronos   \n",
       "1                 2009-10-30  Anda.Ribera@gastech.com.kronos   \n",
       "\n",
       "  MilitaryServiceBranch MilitaryDischargeType MilitaryDischargeDate  \n",
       "0                   NaN                   NaN                   NaT  \n",
       "1                   NaN                   NaN                   NaT  "
      ]
     },
     "execution_count": 154,
     "metadata": {},
     "output_type": "execute_result"
    }
   ],
   "source": [
    "employee_records_df = pd.read_excel('EmployeeRecords.xlsx', sheet_name='Employee Records')\n",
    "employee_records_df.head(2)"
   ]
  },
  {
   "attachments": {},
   "cell_type": "markdown",
   "metadata": {},
   "source": [
    "For datetime64[ns] types, NaT represents missing values. (Not a valid time). \n",
    "\n",
    "While NaN is the default missing value marker for reasons of computational speed and convenience. In many cases, however, the Python `None` will arise and we wish to also consider that “missing” or “not available” or “NA”. "
   ]
  },
  {
   "cell_type": "code",
   "execution_count": 155,
   "metadata": {},
   "outputs": [
    {
     "data": {
      "text/html": [
       "<div>\n",
       "<style scoped>\n",
       "    .dataframe tbody tr th:only-of-type {\n",
       "        vertical-align: middle;\n",
       "    }\n",
       "\n",
       "    .dataframe tbody tr th {\n",
       "        vertical-align: top;\n",
       "    }\n",
       "\n",
       "    .dataframe thead th {\n",
       "        text-align: right;\n",
       "    }\n",
       "</style>\n",
       "<table border=\"1\" class=\"dataframe\">\n",
       "  <thead>\n",
       "    <tr style=\"text-align: right;\">\n",
       "      <th></th>\n",
       "      <th>Field Name</th>\n",
       "      <th>Description</th>\n",
       "    </tr>\n",
       "  </thead>\n",
       "  <tbody>\n",
       "    <tr>\n",
       "      <th>0</th>\n",
       "      <td>LastName</td>\n",
       "      <td>the last name of the employee</td>\n",
       "    </tr>\n",
       "    <tr>\n",
       "      <th>1</th>\n",
       "      <td>FirstName</td>\n",
       "      <td>the first name of the employee</td>\n",
       "    </tr>\n",
       "    <tr>\n",
       "      <th>2</th>\n",
       "      <td>BirthDate</td>\n",
       "      <td>the birth date of the employee</td>\n",
       "    </tr>\n",
       "  </tbody>\n",
       "</table>\n",
       "</div>"
      ],
      "text/plain": [
       "  Field Name                     Description\n",
       "0   LastName   the last name of the employee\n",
       "1  FirstName  the first name of the employee\n",
       "2  BirthDate  the birth date of the employee"
      ]
     },
     "execution_count": 155,
     "metadata": {},
     "output_type": "execute_result"
    }
   ],
   "source": [
    "index_employee_records_df = pd.read_excel('EmployeeRecords.xlsx', sheet_name='Index')\n",
    "index_employee_records_df.head(3)"
   ]
  },
  {
   "cell_type": "code",
   "execution_count": 156,
   "metadata": {},
   "outputs": [
    {
     "data": {
      "text/plain": [
       "(54, 18)"
      ]
     },
     "execution_count": 156,
     "metadata": {},
     "output_type": "execute_result"
    }
   ],
   "source": [
    "employee_records_df.shape"
   ]
  },
  {
   "cell_type": "code",
   "execution_count": 157,
   "metadata": {},
   "outputs": [
    {
     "data": {
      "text/plain": [
       "LastName                              object\n",
       "FirstName                             object\n",
       "BirthDate                     datetime64[ns]\n",
       "BirthCountry                          object\n",
       "Gender                                object\n",
       "CitizenshipCountry                    object\n",
       "CitizenshipBasis                      object\n",
       "CitizenshipStartDate          datetime64[ns]\n",
       "PassportCountry                       object\n",
       "PassportIssueDate             datetime64[ns]\n",
       "PassportExpirationDate        datetime64[ns]\n",
       "CurrentEmploymentType                 object\n",
       "CurrentEmploymentTitle                object\n",
       "CurrentEmploymentStartDate    datetime64[ns]\n",
       "EmailAddress                          object\n",
       "MilitaryServiceBranch                 object\n",
       "MilitaryDischargeType                 object\n",
       "MilitaryDischargeDate         datetime64[ns]\n",
       "dtype: object"
      ]
     },
     "execution_count": 157,
     "metadata": {},
     "output_type": "execute_result"
    }
   ],
   "source": [
    "employee_records_df.dtypes"
   ]
  },
  {
   "cell_type": "code",
   "execution_count": 158,
   "metadata": {},
   "outputs": [
    {
     "data": {
      "text/plain": [
       "LastName                       0\n",
       "FirstName                      0\n",
       "BirthDate                      0\n",
       "BirthCountry                   0\n",
       "Gender                         0\n",
       "CitizenshipCountry             0\n",
       "CitizenshipBasis               0\n",
       "CitizenshipStartDate           0\n",
       "PassportCountry               21\n",
       "PassportIssueDate             21\n",
       "PassportExpirationDate        21\n",
       "CurrentEmploymentType          0\n",
       "CurrentEmploymentTitle         0\n",
       "CurrentEmploymentStartDate     0\n",
       "EmailAddress                   0\n",
       "MilitaryServiceBranch         27\n",
       "MilitaryDischargeType         27\n",
       "MilitaryDischargeDate         27\n",
       "dtype: int64"
      ]
     },
     "execution_count": 158,
     "metadata": {},
     "output_type": "execute_result"
    }
   ],
   "source": [
    "employee_records_df.isnull().sum()"
   ]
  },
  {
   "attachments": {},
   "cell_type": "markdown",
   "metadata": {},
   "source": [
    "The missingness means the employee did not serve in a military branch.\n",
    "\n",
    "The missingness from passport means they did not own a passport."
   ]
  },
  {
   "attachments": {},
   "cell_type": "markdown",
   "metadata": {},
   "source": [
    "#### Feature Engineering: Create Full Name column"
   ]
  },
  {
   "cell_type": "code",
   "execution_count": 159,
   "metadata": {},
   "outputs": [],
   "source": [
    "employee_records_df['FullName'] = employee_records_df['FirstName'] + ' ' + employee_records_df['LastName']"
   ]
  },
  {
   "attachments": {},
   "cell_type": "markdown",
   "metadata": {},
   "source": [
    "### Employee Emails"
   ]
  },
  {
   "cell_type": "code",
   "execution_count": 160,
   "metadata": {},
   "outputs": [
    {
     "data": {
      "text/html": [
       "<div>\n",
       "<style scoped>\n",
       "    .dataframe tbody tr th:only-of-type {\n",
       "        vertical-align: middle;\n",
       "    }\n",
       "\n",
       "    .dataframe tbody tr th {\n",
       "        vertical-align: top;\n",
       "    }\n",
       "\n",
       "    .dataframe thead th {\n",
       "        text-align: right;\n",
       "    }\n",
       "</style>\n",
       "<table border=\"1\" class=\"dataframe\">\n",
       "  <thead>\n",
       "    <tr style=\"text-align: right;\">\n",
       "      <th></th>\n",
       "      <th>From</th>\n",
       "      <th>To</th>\n",
       "      <th>Date</th>\n",
       "      <th>Subject</th>\n",
       "    </tr>\n",
       "  </thead>\n",
       "  <tbody>\n",
       "    <tr>\n",
       "      <th>0</th>\n",
       "      <td>Sven.Flecha@gastech.com.kronos</td>\n",
       "      <td>Isak.Baza@gastech.com.kronos, Lucas.Alcazar@ga...</td>\n",
       "      <td>1/6/2014 8:39</td>\n",
       "      <td>GT-SeismicProcessorPro Bug Report</td>\n",
       "    </tr>\n",
       "    <tr>\n",
       "      <th>1</th>\n",
       "      <td>Kanon.Herrero@gastech.com.kronos</td>\n",
       "      <td>Felix.Resumir@gastech.com.kronos, Hideki.Cocin...</td>\n",
       "      <td>1/6/2014 8:58</td>\n",
       "      <td>Inspection request for site</td>\n",
       "    </tr>\n",
       "    <tr>\n",
       "      <th>2</th>\n",
       "      <td>Bertrand.Ovan@gastech.com.kronos</td>\n",
       "      <td>Emile.Arpa@gastech.com.kronos, Varro.Awelon@ga...</td>\n",
       "      <td>1/6/2014 9:28</td>\n",
       "      <td>New refueling policies - Effective February 1</td>\n",
       "    </tr>\n",
       "    <tr>\n",
       "      <th>3</th>\n",
       "      <td>Valeria.Morlun@gastech.com.kronos</td>\n",
       "      <td>Dante.Coginian@gastech.com.kronos, Albina.Hafo...</td>\n",
       "      <td>1/6/2014 9:38</td>\n",
       "      <td>Route suggestion for next shift</td>\n",
       "    </tr>\n",
       "    <tr>\n",
       "      <th>4</th>\n",
       "      <td>Mat.Bramar@gastech.com.kronos</td>\n",
       "      <td>Rachel.Pantanal@gastech.com.kronos, Lars.Azada...</td>\n",
       "      <td>1/6/2014 9:49</td>\n",
       "      <td>Upcoming birthdays</td>\n",
       "    </tr>\n",
       "  </tbody>\n",
       "</table>\n",
       "</div>"
      ],
      "text/plain": [
       "                                From  \\\n",
       "0     Sven.Flecha@gastech.com.kronos   \n",
       "1   Kanon.Herrero@gastech.com.kronos   \n",
       "2   Bertrand.Ovan@gastech.com.kronos   \n",
       "3  Valeria.Morlun@gastech.com.kronos   \n",
       "4      Mat.Bramar@gastech.com.kronos   \n",
       "\n",
       "                                                  To           Date  \\\n",
       "0  Isak.Baza@gastech.com.kronos, Lucas.Alcazar@ga...  1/6/2014 8:39   \n",
       "1  Felix.Resumir@gastech.com.kronos, Hideki.Cocin...  1/6/2014 8:58   \n",
       "2  Emile.Arpa@gastech.com.kronos, Varro.Awelon@ga...  1/6/2014 9:28   \n",
       "3  Dante.Coginian@gastech.com.kronos, Albina.Hafo...  1/6/2014 9:38   \n",
       "4  Rachel.Pantanal@gastech.com.kronos, Lars.Azada...  1/6/2014 9:49   \n",
       "\n",
       "                                         Subject  \n",
       "0              GT-SeismicProcessorPro Bug Report  \n",
       "1                    Inspection request for site  \n",
       "2  New refueling policies - Effective February 1  \n",
       "3                Route suggestion for next shift  \n",
       "4                             Upcoming birthdays  "
      ]
     },
     "execution_count": 160,
     "metadata": {},
     "output_type": "execute_result"
    }
   ],
   "source": [
    "# single-byte charcter encoding of the latin alphabet\n",
    "email_df = pd.read_csv('emailheaders.csv', encoding='cp1252')\n",
    "email_df.head()"
   ]
  },
  {
   "cell_type": "code",
   "execution_count": 161,
   "metadata": {},
   "outputs": [
    {
     "name": "stdout",
     "output_type": "stream",
     "text": [
      "(1170, 4)\n",
      "From       object\n",
      "To         object\n",
      "Date       object\n",
      "Subject    object\n",
      "dtype: object\n"
     ]
    }
   ],
   "source": [
    "print(email_df.shape)\n",
    "print(email_df.dtypes)"
   ]
  },
  {
   "cell_type": "code",
   "execution_count": 162,
   "metadata": {},
   "outputs": [
    {
     "data": {
      "text/html": [
       "<div>\n",
       "<style scoped>\n",
       "    .dataframe tbody tr th:only-of-type {\n",
       "        vertical-align: middle;\n",
       "    }\n",
       "\n",
       "    .dataframe tbody tr th {\n",
       "        vertical-align: top;\n",
       "    }\n",
       "\n",
       "    .dataframe thead th {\n",
       "        text-align: right;\n",
       "    }\n",
       "</style>\n",
       "<table border=\"1\" class=\"dataframe\">\n",
       "  <thead>\n",
       "    <tr style=\"text-align: right;\">\n",
       "      <th></th>\n",
       "      <th>From</th>\n",
       "      <th>To</th>\n",
       "      <th>Date</th>\n",
       "      <th>Subject</th>\n",
       "    </tr>\n",
       "  </thead>\n",
       "  <tbody>\n",
       "    <tr>\n",
       "      <th>0</th>\n",
       "      <td>Sven Flecha</td>\n",
       "      <td>Isak.Baza@gastech.com.kronos, Lucas.Alcazar@ga...</td>\n",
       "      <td>1/6/2014 8:39</td>\n",
       "      <td>GT-SeismicProcessorPro Bug Report</td>\n",
       "    </tr>\n",
       "    <tr>\n",
       "      <th>1</th>\n",
       "      <td>Kanon Herrero</td>\n",
       "      <td>Felix.Resumir@gastech.com.kronos, Hideki.Cocin...</td>\n",
       "      <td>1/6/2014 8:58</td>\n",
       "      <td>Inspection request for site</td>\n",
       "    </tr>\n",
       "    <tr>\n",
       "      <th>2</th>\n",
       "      <td>Bertrand Ovan</td>\n",
       "      <td>Emile.Arpa@gastech.com.kronos, Varro.Awelon@ga...</td>\n",
       "      <td>1/6/2014 9:28</td>\n",
       "      <td>New refueling policies - Effective February 1</td>\n",
       "    </tr>\n",
       "  </tbody>\n",
       "</table>\n",
       "</div>"
      ],
      "text/plain": [
       "            From                                                 To  \\\n",
       "0    Sven Flecha  Isak.Baza@gastech.com.kronos, Lucas.Alcazar@ga...   \n",
       "1  Kanon Herrero  Felix.Resumir@gastech.com.kronos, Hideki.Cocin...   \n",
       "2  Bertrand Ovan  Emile.Arpa@gastech.com.kronos, Varro.Awelon@ga...   \n",
       "\n",
       "            Date                                        Subject  \n",
       "0  1/6/2014 8:39              GT-SeismicProcessorPro Bug Report  \n",
       "1  1/6/2014 8:58                    Inspection request for site  \n",
       "2  1/6/2014 9:28  New refueling policies - Effective February 1  "
      ]
     },
     "execution_count": 162,
     "metadata": {},
     "output_type": "execute_result"
    }
   ],
   "source": [
    "def stripEmail(email):\n",
    "    return re.sub(pattern=r\"\\br\\.|@[a-z][a-z.+]+.\", repl=\"\", string=email)\n",
    "\n",
    "def addSplit(email):\n",
    "    return re.sub(pattern=\"\\.\", repl=\" \", string=email)\n",
    "\n",
    "email_df['From'] = email_df['From'].apply(lambda x: stripEmail(x))\n",
    "email_df['From'] = email_df['From'].apply(lambda x: addSplit(x))\n",
    "email_df.head(3)"
   ]
  },
  {
   "cell_type": "code",
   "execution_count": 163,
   "metadata": {},
   "outputs": [],
   "source": [
    "def stripEmail_From(email):\n",
    "    return re.sub(pattern=r\"\\br\\.|@[a-z][a-z.+]+.\", repl=\"\", string=email)\n",
    "\n",
    "def addSplit(email):\n",
    "    return re.sub(pattern=\"\\.\", repl=\" \", string=email)"
   ]
  },
  {
   "cell_type": "code",
   "execution_count": 164,
   "metadata": {},
   "outputs": [
    {
     "data": {
      "text/plain": [
       "From               object\n",
       "To                 object\n",
       "Date       datetime64[ns]\n",
       "Subject            object\n",
       "dtype: object"
      ]
     },
     "execution_count": 164,
     "metadata": {},
     "output_type": "execute_result"
    }
   ],
   "source": [
    "# M/D/YYYY\n",
    "email_df['Date'] = pd.to_datetime(email_df['Date'], errors='raise')\n",
    "email_df.dtypes"
   ]
  },
  {
   "cell_type": "code",
   "execution_count": 165,
   "metadata": {},
   "outputs": [
    {
     "name": "stdout",
     "output_type": "stream",
     "text": [
      "(1170, 4)\n"
     ]
    }
   ],
   "source": [
    "print(email_df.shape)"
   ]
  },
  {
   "cell_type": "code",
   "execution_count": 166,
   "metadata": {},
   "outputs": [
    {
     "data": {
      "text/html": [
       "<div>\n",
       "<style scoped>\n",
       "    .dataframe tbody tr th:only-of-type {\n",
       "        vertical-align: middle;\n",
       "    }\n",
       "\n",
       "    .dataframe tbody tr th {\n",
       "        vertical-align: top;\n",
       "    }\n",
       "\n",
       "    .dataframe thead th {\n",
       "        text-align: right;\n",
       "    }\n",
       "</style>\n",
       "<table border=\"1\" class=\"dataframe\">\n",
       "  <thead>\n",
       "    <tr style=\"text-align: right;\">\n",
       "      <th></th>\n",
       "      <th>From</th>\n",
       "      <th>To</th>\n",
       "      <th>Date</th>\n",
       "      <th>Subject</th>\n",
       "    </tr>\n",
       "  </thead>\n",
       "  <tbody>\n",
       "    <tr>\n",
       "      <th>0</th>\n",
       "      <td>Sven Flecha</td>\n",
       "      <td>Isak.Baza@gastech.com.kronos, Lucas.Alcazar@ga...</td>\n",
       "      <td>2014-01-06 08:39:00</td>\n",
       "      <td>gt-seismicprocessorpro bug report</td>\n",
       "    </tr>\n",
       "    <tr>\n",
       "      <th>1</th>\n",
       "      <td>Kanon Herrero</td>\n",
       "      <td>Felix.Resumir@gastech.com.kronos, Hideki.Cocin...</td>\n",
       "      <td>2014-01-06 08:58:00</td>\n",
       "      <td>inspection request site</td>\n",
       "    </tr>\n",
       "    <tr>\n",
       "      <th>2</th>\n",
       "      <td>Bertrand Ovan</td>\n",
       "      <td>Emile.Arpa@gastech.com.kronos, Varro.Awelon@ga...</td>\n",
       "      <td>2014-01-06 09:28:00</td>\n",
       "      <td>new refueling policies effective february 1</td>\n",
       "    </tr>\n",
       "  </tbody>\n",
       "</table>\n",
       "</div>"
      ],
      "text/plain": [
       "            From                                                 To  \\\n",
       "0    Sven Flecha  Isak.Baza@gastech.com.kronos, Lucas.Alcazar@ga...   \n",
       "1  Kanon Herrero  Felix.Resumir@gastech.com.kronos, Hideki.Cocin...   \n",
       "2  Bertrand Ovan  Emile.Arpa@gastech.com.kronos, Varro.Awelon@ga...   \n",
       "\n",
       "                 Date                                      Subject  \n",
       "0 2014-01-06 08:39:00            gt-seismicprocessorpro bug report  \n",
       "1 2014-01-06 08:58:00                      inspection request site  \n",
       "2 2014-01-06 09:28:00  new refueling policies effective february 1  "
      ]
     },
     "execution_count": 166,
     "metadata": {},
     "output_type": "execute_result"
    }
   ],
   "source": [
    "punctuation = None \n",
    "\n",
    "def clean(text, stopwords) -> str:\n",
    "    \"\"\"\n",
    "    Clean text sentence \n",
    "    Params: text: the string to clean\n",
    "    stopwords: a list of NLTK stopwords to remove from input row\n",
    "    Returns: cleaned sentence\n",
    "    \"\"\" \n",
    "    text = re.sub(r'<[^>?]*>', '', text)\n",
    "    text_list = text.split()\n",
    "    text_words = []\n",
    "    punctuation = set(string.punctuation)\n",
    "    \n",
    "    for word in text_list: \n",
    "        while len(word) > 0 and word[0] in punctuation: \n",
    "            word = word[1:]\n",
    "        \n",
    "        while len(word) > 0 and word[-1] in punctuation: \n",
    "            word = word[:-1]\n",
    "            \n",
    "        word = word.replace(',', '')\n",
    "        word = word.replace('\\\"', '')\n",
    "        word = word.replace('\\'', '')\n",
    "\n",
    "        if len(word) > 0 and \"/\" not in word: \n",
    "            if word.lower() not in stopwords: \n",
    "                text_words.append(word.lower())\n",
    "        cleaner_text = \" \".join(text_words)\n",
    "    return cleaner_text\n",
    "\n",
    "email_df['Subject'] = email_df['Subject'].apply(clean, stopwords=sw)\n",
    "email_df.head(3)"
   ]
  },
  {
   "attachments": {},
   "cell_type": "markdown",
   "metadata": {},
   "source": [
    "### News Articles"
   ]
  },
  {
   "attachments": {},
   "cell_type": "markdown",
   "metadata": {},
   "source": [
    "News articles contain historical information."
   ]
  },
  {
   "cell_type": "code",
   "execution_count": 167,
   "metadata": {},
   "outputs": [
    {
     "name": "stdout",
     "output_type": "stream",
     "text": [
      "(845, 4)\n",
      "index           object\n",
      "description     object\n",
      "news_company    object\n",
      "datetime        object\n",
      "dtype: object\n"
     ]
    },
    {
     "data": {
      "text/html": [
       "<div>\n",
       "<style scoped>\n",
       "    .dataframe tbody tr th:only-of-type {\n",
       "        vertical-align: middle;\n",
       "    }\n",
       "\n",
       "    .dataframe tbody tr th {\n",
       "        vertical-align: top;\n",
       "    }\n",
       "\n",
       "    .dataframe thead th {\n",
       "        text-align: right;\n",
       "    }\n",
       "</style>\n",
       "<table border=\"1\" class=\"dataframe\">\n",
       "  <thead>\n",
       "    <tr style=\"text-align: right;\">\n",
       "      <th></th>\n",
       "      <th>index</th>\n",
       "      <th>description</th>\n",
       "      <th>news_company</th>\n",
       "      <th>datetime</th>\n",
       "    </tr>\n",
       "  </thead>\n",
       "  <tbody>\n",
       "    <tr>\n",
       "      <th>0</th>\n",
       "      <td>article 0</td>\n",
       "      <td>The Orb\\n\\n\\nBUMP OF PROTESTS IN ABILA IN RESP...</td>\n",
       "      <td>The Orb</td>\n",
       "      <td>[2012/09/08]</td>\n",
       "    </tr>\n",
       "    <tr>\n",
       "      <th>1</th>\n",
       "      <td>article 1</td>\n",
       "      <td>The Light of Truth\\n\\nENORMOUS IPO MAKES THE B...</td>\n",
       "      <td>The Light of Truth</td>\n",
       "      <td>[2013/12/18]</td>\n",
       "    </tr>\n",
       "    <tr>\n",
       "      <th>2</th>\n",
       "      <td>article 10</td>\n",
       "      <td>Homeland Illumination\\nVOICES - a blog about w...</td>\n",
       "      <td>Homeland Illumination</td>\n",
       "      <td>[20 January 2014, 20 Jan 2014]</td>\n",
       "    </tr>\n",
       "    <tr>\n",
       "      <th>3</th>\n",
       "      <td>article 100</td>\n",
       "      <td>The Continent\\n\\nFour people have died in an e...</td>\n",
       "      <td>The Continent</td>\n",
       "      <td>[2007/03/19]</td>\n",
       "    </tr>\n",
       "    <tr>\n",
       "      <th>4</th>\n",
       "      <td>article 101</td>\n",
       "      <td>Daily Pegasus\\n\\nTHE DEMONSTRATION ATTRACTS TH...</td>\n",
       "      <td>Daily Pegasus</td>\n",
       "      <td>[2012/11/11]</td>\n",
       "    </tr>\n",
       "  </tbody>\n",
       "</table>\n",
       "</div>"
      ],
      "text/plain": [
       "         index                                        description  \\\n",
       "0    article 0  The Orb\\n\\n\\nBUMP OF PROTESTS IN ABILA IN RESP...   \n",
       "1    article 1  The Light of Truth\\n\\nENORMOUS IPO MAKES THE B...   \n",
       "2   article 10  Homeland Illumination\\nVOICES - a blog about w...   \n",
       "3  article 100  The Continent\\n\\nFour people have died in an e...   \n",
       "4  article 101  Daily Pegasus\\n\\nTHE DEMONSTRATION ATTRACTS TH...   \n",
       "\n",
       "            news_company                        datetime  \n",
       "0                The Orb                    [2012/09/08]  \n",
       "1     The Light of Truth                    [2013/12/18]  \n",
       "2  Homeland Illumination  [20 January 2014, 20 Jan 2014]  \n",
       "3          The Continent                    [2007/03/19]  \n",
       "4          Daily Pegasus                    [2012/11/11]  "
      ]
     },
     "execution_count": 167,
     "metadata": {},
     "output_type": "execute_result"
    }
   ],
   "source": [
    "def extract_article_name(name) -> str:\n",
    "    \"\"\"\n",
    "    Params: str: article name\n",
    "    Returns:\n",
    "        str: shorten file name\n",
    "    \"\"\"\n",
    "    return \"article \" + re.sub(pattern=r\"\\.+.*\", repl=\"\", string=name)\n",
    "\n",
    "def extract_datetime(file) -> list:\n",
    "    \"\"\"\n",
    "    Extract datetime of news article for timeline\n",
    "    Params: article to parse\n",
    "    Returns: list of matches or empty list if no matches\n",
    "    \"\"\"\n",
    "    return re.findall(r'\\d+/\\d+/\\d+', file) or re.findall(r'\\d+ \\w+ \\d+', file) or re.findall(r'\\d+\\w+ \\d+', file) or re.findall(r'\\d+ \\w+  \\d+', file)\n",
    "\n",
    "def extract_news_company(file) -> str:\n",
    "    \"\"\"\n",
    "    Extract News outlet\n",
    "    Params: article to parse\n",
    "    Returns: list of matches or empty list if no matches\n",
    "    \"\"\"\n",
    "    return re.match(r'\\A.*', file).group()\n",
    "\n",
    "def extract_data(rootdir, news_article) -> dict:\n",
    "    \"\"\"\n",
    "    Params:\n",
    "        rootdir (Path): path to search for article files\n",
    "        news_article (dict): empty dict to fill of <article, description>\n",
    "    Returns:\n",
    "        news_article: full <article, description> dict\n",
    "    \"\"\"\n",
    "    assert os.path.exists(rootdir)\n",
    "    for subdir, dirs, files in os.walk(rootdir):\n",
    "        assert os.path.exists(subdir)\n",
    "        for file in files:\n",
    "            if file.__contains__('txt'):\n",
    "                nav_file = os.path.join(subdir, file)\n",
    "                with open(nav_file, 'r') as datafile:\n",
    "                    try:\n",
    "                        news_name = extract_article_name(file)\n",
    "                        news_article[news_name] = datafile.read()\n",
    "                        datafile.close()\n",
    "                    except Exception as ex:\n",
    "                        print(\"Failed to parse article: \", ex)\n",
    "                        continue\n",
    "    return news_article\n",
    "\n",
    "news_article = {}\n",
    "rootdir = 'articles/'\n",
    "news_article = extract_data(rootdir, news_article)\n",
    "articles_df = pd.DataFrame.from_dict(data=news_article, orient='index', columns=['description'])\n",
    "articles_df['news_company'] = articles_df['description'].apply(lambda x: extract_news_company(x))\n",
    "articles_df['datetime'] = articles_df['description'].apply(lambda x: extract_datetime(x))\n",
    "articles_df.reset_index(inplace=True)\n",
    "print(articles_df.shape)\n",
    "print(articles_df.dtypes)\n",
    "articles_df.head()"
   ]
  },
  {
   "cell_type": "code",
   "execution_count": 168,
   "metadata": {},
   "outputs": [
    {
     "data": {
      "text/html": [
       "<div>\n",
       "<style scoped>\n",
       "    .dataframe tbody tr th:only-of-type {\n",
       "        vertical-align: middle;\n",
       "    }\n",
       "\n",
       "    .dataframe tbody tr th {\n",
       "        vertical-align: top;\n",
       "    }\n",
       "\n",
       "    .dataframe thead th {\n",
       "        text-align: right;\n",
       "    }\n",
       "</style>\n",
       "<table border=\"1\" class=\"dataframe\">\n",
       "  <thead>\n",
       "    <tr style=\"text-align: right;\">\n",
       "      <th></th>\n",
       "      <th>index</th>\n",
       "      <th>description</th>\n",
       "      <th>news_company</th>\n",
       "      <th>datetime</th>\n",
       "    </tr>\n",
       "  </thead>\n",
       "  <tbody>\n",
       "    <tr>\n",
       "      <th>0</th>\n",
       "      <td>article 0</td>\n",
       "      <td>orb bump protests abila response calls action ...</td>\n",
       "      <td>The Orb</td>\n",
       "      <td>[2012/09/08]</td>\n",
       "    </tr>\n",
       "    <tr>\n",
       "      <th>1</th>\n",
       "      <td>article 1</td>\n",
       "      <td>light truth enormous ipo makes billionaire san...</td>\n",
       "      <td>The Light of Truth</td>\n",
       "      <td>[2013/12/18]</td>\n",
       "    </tr>\n",
       "    <tr>\n",
       "      <th>2</th>\n",
       "      <td>article 10</td>\n",
       "      <td>homeland illumination voices blog important pe...</td>\n",
       "      <td>Homeland Illumination</td>\n",
       "      <td>[20 January 2014, 20 Jan 2014]</td>\n",
       "    </tr>\n",
       "    <tr>\n",
       "      <th>3</th>\n",
       "      <td>article 100</td>\n",
       "      <td>continent four people died enthusiastic discha...</td>\n",
       "      <td>The Continent</td>\n",
       "      <td>[2007/03/19]</td>\n",
       "    </tr>\n",
       "    <tr>\n",
       "      <th>4</th>\n",
       "      <td>article 101</td>\n",
       "      <td>daily pegasus demonstration attracts thousands...</td>\n",
       "      <td>Daily Pegasus</td>\n",
       "      <td>[2012/11/11]</td>\n",
       "    </tr>\n",
       "  </tbody>\n",
       "</table>\n",
       "</div>"
      ],
      "text/plain": [
       "         index                                        description  \\\n",
       "0    article 0  orb bump protests abila response calls action ...   \n",
       "1    article 1  light truth enormous ipo makes billionaire san...   \n",
       "2   article 10  homeland illumination voices blog important pe...   \n",
       "3  article 100  continent four people died enthusiastic discha...   \n",
       "4  article 101  daily pegasus demonstration attracts thousands...   \n",
       "\n",
       "            news_company                        datetime  \n",
       "0                The Orb                    [2012/09/08]  \n",
       "1     The Light of Truth                    [2013/12/18]  \n",
       "2  Homeland Illumination  [20 January 2014, 20 Jan 2014]  \n",
       "3          The Continent                    [2007/03/19]  \n",
       "4          Daily Pegasus                    [2012/11/11]  "
      ]
     },
     "execution_count": 168,
     "metadata": {},
     "output_type": "execute_result"
    }
   ],
   "source": [
    "articles_df['description'] = articles_df['description'].apply(clean, stopwords=sw)\n",
    "articles_df.head()"
   ]
  },
  {
   "attachments": {},
   "cell_type": "markdown",
   "metadata": {},
   "source": [
    "### Resumes"
   ]
  },
  {
   "attachments": {},
   "cell_type": "markdown",
   "metadata": {},
   "source": [
    "Using resumes to look up historical employee data"
   ]
  },
  {
   "cell_type": "code",
   "execution_count": 169,
   "metadata": {},
   "outputs": [
    {
     "name": "stdout",
     "output_type": "stream",
     "text": [
      "(35, 2)\n"
     ]
    },
    {
     "data": {
      "text/html": [
       "<div>\n",
       "<style scoped>\n",
       "    .dataframe tbody tr th:only-of-type {\n",
       "        vertical-align: middle;\n",
       "    }\n",
       "\n",
       "    .dataframe tbody tr th {\n",
       "        vertical-align: top;\n",
       "    }\n",
       "\n",
       "    .dataframe thead th {\n",
       "        text-align: right;\n",
       "    }\n",
       "</style>\n",
       "<table border=\"1\" class=\"dataframe\">\n",
       "  <thead>\n",
       "    <tr style=\"text-align: right;\">\n",
       "      <th></th>\n",
       "      <th>index</th>\n",
       "      <th>resume</th>\n",
       "    </tr>\n",
       "  </thead>\n",
       "  <tbody>\n",
       "    <tr>\n",
       "      <th>0</th>\n",
       "      <td>Ada Campo</td>\n",
       "      <td>Ada Campo-Corrente\\nChief Information Officer\\...</td>\n",
       "    </tr>\n",
       "    <tr>\n",
       "      <th>1</th>\n",
       "      <td>Ingrid Barranco</td>\n",
       "      <td>Ingrid Barranco\\nChief Financial Officer\\n\\n\\n...</td>\n",
       "    </tr>\n",
       "    <tr>\n",
       "      <th>2</th>\n",
       "      <td>OrhanStrum</td>\n",
       "      <td>Orhan Strum\\nChief Operating Officer\\n\\n\\nMr. ...</td>\n",
       "    </tr>\n",
       "    <tr>\n",
       "      <th>3</th>\n",
       "      <td>Sten SanjorgeJr</td>\n",
       "      <td>Sten Sanjorge, Jr\\nPresident &amp; CEO GASTech\\nTe...</td>\n",
       "    </tr>\n",
       "    <tr>\n",
       "      <th>4</th>\n",
       "      <td>Willem Vasco</td>\n",
       "      <td>Willem Vasco-Pais\\nEnvironmental Safety Adviso...</td>\n",
       "    </tr>\n",
       "  </tbody>\n",
       "</table>\n",
       "</div>"
      ],
      "text/plain": [
       "              index                                             resume\n",
       "0         Ada Campo  Ada Campo-Corrente\\nChief Information Officer\\...\n",
       "1   Ingrid Barranco  Ingrid Barranco\\nChief Financial Officer\\n\\n\\n...\n",
       "2        OrhanStrum  Orhan Strum\\nChief Operating Officer\\n\\n\\nMr. ...\n",
       "3   Sten SanjorgeJr  Sten Sanjorge, Jr\\nPresident & CEO GASTech\\nTe...\n",
       "4      Willem Vasco  Willem Vasco-Pais\\nEnvironmental Safety Adviso..."
      ]
     },
     "execution_count": 169,
     "metadata": {},
     "output_type": "execute_result"
    }
   ],
   "source": [
    "def extract_resume_name(name) -> str:\n",
    "    \"\"\"\n",
    "    Params: str: resume name\n",
    "    Returns:\n",
    "        str: shorten file name\n",
    "    \"\"\"\n",
    "    name = re.sub(pattern=r\"\\.+.*|Bio|Resume\", repl=\"\", string=name)\n",
    "    name = re.sub(pattern=r\"-\", repl=\" \", string=name)\n",
    "    return name\n",
    "\n",
    "def extract_data(rootdir, resumes) -> dict:\n",
    "    \"\"\"\n",
    "    Params:\n",
    "        rootdir (Path): path to search for article files\n",
    "        news_article (dict): empty dict to fill of <article, description>\n",
    "    Returns:\n",
    "        news_article: full <article, description> dict\n",
    "    \"\"\"\n",
    "    assert os.path.exists(rootdir)\n",
    "    for subdir, dirs, files in os.walk(rootdir):\n",
    "        assert os.path.exists(subdir)\n",
    "        for file in files:\n",
    "            if file.__contains__('docx'):\n",
    "                nav_file = os.path.join(subdir, file)\n",
    "                with open(nav_file, 'r') as datafile:\n",
    "                    try:\n",
    "                        resume_name = extract_resume_name(file)\n",
    "                        doc = docx.Document(nav_file)\n",
    "                        fullText = []\n",
    "                        for para in doc.paragraphs:\n",
    "                            fullText.append(para.text)\n",
    "                        resumes[resume_name] = '\\n'.join(fullText)\n",
    "                        datafile.close()\n",
    "                    except Exception as ex:\n",
    "                        print(\"Failed to parse resume: \", ex)\n",
    "                        continue\n",
    "    return resumes\n",
    "\n",
    "resumes = {}\n",
    "rootdir = 'resumes/'\n",
    "resumes = extract_data(rootdir, resumes)\n",
    "resumes_df = pd.DataFrame.from_dict(data=resumes, orient='index', columns=['resume'])\n",
    "resumes_df.reset_index(inplace=True)\n",
    "print(resumes_df.shape)\n",
    "resumes_df.head()"
   ]
  },
  {
   "cell_type": "code",
   "execution_count": 170,
   "metadata": {},
   "outputs": [
    {
     "data": {
      "text/html": [
       "<div>\n",
       "<style scoped>\n",
       "    .dataframe tbody tr th:only-of-type {\n",
       "        vertical-align: middle;\n",
       "    }\n",
       "\n",
       "    .dataframe tbody tr th {\n",
       "        vertical-align: top;\n",
       "    }\n",
       "\n",
       "    .dataframe thead th {\n",
       "        text-align: right;\n",
       "    }\n",
       "</style>\n",
       "<table border=\"1\" class=\"dataframe\">\n",
       "  <thead>\n",
       "    <tr style=\"text-align: right;\">\n",
       "      <th></th>\n",
       "      <th>index</th>\n",
       "      <th>resume</th>\n",
       "    </tr>\n",
       "  </thead>\n",
       "  <tbody>\n",
       "    <tr>\n",
       "      <th>0</th>\n",
       "      <td>Ada Campo</td>\n",
       "      <td>ada campo-corrente chief information officer m...</td>\n",
       "    </tr>\n",
       "    <tr>\n",
       "      <th>1</th>\n",
       "      <td>Ingrid Barranco</td>\n",
       "      <td>ingrid barranco chief financial officer ms ing...</td>\n",
       "    </tr>\n",
       "    <tr>\n",
       "      <th>2</th>\n",
       "      <td>OrhanStrum</td>\n",
       "      <td>orhan strum chief operating officer mr strum s...</td>\n",
       "    </tr>\n",
       "    <tr>\n",
       "      <th>3</th>\n",
       "      <td>Sten SanjorgeJr</td>\n",
       "      <td>sten sanjorge jr president ceo gastech tethys ...</td>\n",
       "    </tr>\n",
       "    <tr>\n",
       "      <th>4</th>\n",
       "      <td>Willem Vasco</td>\n",
       "      <td>willem vasco-pais environmental safety advisor...</td>\n",
       "    </tr>\n",
       "  </tbody>\n",
       "</table>\n",
       "</div>"
      ],
      "text/plain": [
       "              index                                             resume\n",
       "0         Ada Campo  ada campo-corrente chief information officer m...\n",
       "1   Ingrid Barranco  ingrid barranco chief financial officer ms ing...\n",
       "2        OrhanStrum  orhan strum chief operating officer mr strum s...\n",
       "3   Sten SanjorgeJr  sten sanjorge jr president ceo gastech tethys ...\n",
       "4      Willem Vasco  willem vasco-pais environmental safety advisor..."
      ]
     },
     "execution_count": 170,
     "metadata": {},
     "output_type": "execute_result"
    }
   ],
   "source": [
    "def clean_text_resume(text):\n",
    "    text = re.sub(r'<[^>?]*>', '', text)\n",
    "    text_list = text.split()\n",
    "    text_words = []\n",
    "    punctuation = set(string.punctuation)\n",
    "    \n",
    "    for word in text_list: \n",
    "        while len(word) > 0 and word[0] in punctuation: \n",
    "            word = word[1:]\n",
    "        \n",
    "        while len(word) > 0 and word[-1] in punctuation: \n",
    "            word = word[:-1]\n",
    "            \n",
    "        word = word.replace(',', '')\n",
    "        word = word.replace('\\\"', '')\n",
    "        word = word.replace('\\'', '')\n",
    "\n",
    "        if len(word) > 0 and \"/\" not in word: \n",
    "            text_words.append(word.lower())\n",
    "        cleaner_text = \" \".join(text_words)\n",
    "    return cleaner_text\n",
    "\n",
    "resumes_df['resume'] = resumes_df['resume'].apply(clean_text_resume)\n",
    "resumes_df.head()"
   ]
  },
  {
   "attachments": {},
   "cell_type": "markdown",
   "metadata": {},
   "source": [
    "### Historical Documents"
   ]
  },
  {
   "cell_type": "code",
   "execution_count": 171,
   "metadata": {},
   "outputs": [
    {
     "name": "stdout",
     "output_type": "stream",
     "text": [
      "(2, 2)\n"
     ]
    },
    {
     "data": {
      "text/html": [
       "<div>\n",
       "<style scoped>\n",
       "    .dataframe tbody tr th:only-of-type {\n",
       "        vertical-align: middle;\n",
       "    }\n",
       "\n",
       "    .dataframe tbody tr th {\n",
       "        vertical-align: top;\n",
       "    }\n",
       "\n",
       "    .dataframe thead th {\n",
       "        text-align: right;\n",
       "    }\n",
       "</style>\n",
       "<table border=\"1\" class=\"dataframe\">\n",
       "  <thead>\n",
       "    <tr style=\"text-align: right;\">\n",
       "      <th></th>\n",
       "      <th>index</th>\n",
       "      <th>description</th>\n",
       "    </tr>\n",
       "  </thead>\n",
       "  <tbody>\n",
       "    <tr>\n",
       "      <th>0</th>\n",
       "      <td>10 year</td>\n",
       "      <td>\\n\\n&lt;EXCERPTS from&gt;The Application and Validat...</td>\n",
       "    </tr>\n",
       "    <tr>\n",
       "      <th>1</th>\n",
       "      <td>5 year</td>\n",
       "      <td>History of the Protectors of Kronos\\nA Psycorp...</td>\n",
       "    </tr>\n",
       "  </tbody>\n",
       "</table>\n",
       "</div>"
      ],
      "text/plain": [
       "     index                                        description\n",
       "0  10 year  \\n\\n<EXCERPTS from>The Application and Validat...\n",
       "1   5 year  History of the Protectors of Kronos\\nA Psycorp..."
      ]
     },
     "execution_count": 171,
     "metadata": {},
     "output_type": "execute_result"
    }
   ],
   "source": [
    "def extract_doc_name(name) -> str:\n",
    "    \"\"\"\n",
    "    Params: str: resume name\n",
    "    Returns:\n",
    "        str: shorten file name\n",
    "    \"\"\"\n",
    "    return re.match(pattern=r\"^([0-9]+ year).*$\", string=name).group(1)\n",
    "\n",
    "def extract_data(rootdir, hist_doc) -> dict:\n",
    "    \"\"\"\n",
    "    Params:\n",
    "        rootdir (Path): path to search for files\n",
    "        news_article (dict): empty dict to fill of <article, description>\n",
    "    Returns:\n",
    "        news_article: full <article, description> dict\n",
    "    \"\"\"\n",
    "    assert os.path.exists(rootdir)\n",
    "    for subdir, dirs, files in os.walk(rootdir):\n",
    "        assert os.path.exists(subdir)\n",
    "        for file in files:\n",
    "            if file.__contains__('docx'):\n",
    "                nav_file = os.path.join(subdir, file)\n",
    "                with open(nav_file, 'r') as datafile:\n",
    "                    try:\n",
    "                        hist_name = extract_doc_name(file)\n",
    "                        doc = docx.Document(nav_file)\n",
    "                        fullText = []\n",
    "                        for para in doc.paragraphs:\n",
    "                            fullText.append(para.text)\n",
    "                        hist_doc[hist_name] = '\\n'.join(fullText)\n",
    "                        datafile.close()\n",
    "                    except Exception as ex:\n",
    "                        print(\"Failed to parse resume: \", ex)\n",
    "                        continue\n",
    "    return hist_doc\n",
    "\n",
    "historical_doc = {}\n",
    "rootdir = 'HistoricalDocuments/'\n",
    "historical_doc = extract_data(rootdir, historical_doc)\n",
    "historical_df = pd.DataFrame.from_dict(data=historical_doc, orient='index', columns=['description'])\n",
    "historical_df.reset_index(inplace=True)\n",
    "print(historical_df.shape)\n",
    "historical_df.head()"
   ]
  },
  {
   "cell_type": "code",
   "execution_count": 172,
   "metadata": {},
   "outputs": [
    {
     "data": {
      "text/html": [
       "<div>\n",
       "<style scoped>\n",
       "    .dataframe tbody tr th:only-of-type {\n",
       "        vertical-align: middle;\n",
       "    }\n",
       "\n",
       "    .dataframe tbody tr th {\n",
       "        vertical-align: top;\n",
       "    }\n",
       "\n",
       "    .dataframe thead th {\n",
       "        text-align: right;\n",
       "    }\n",
       "</style>\n",
       "<table border=\"1\" class=\"dataframe\">\n",
       "  <thead>\n",
       "    <tr style=\"text-align: right;\">\n",
       "      <th></th>\n",
       "      <th>index</th>\n",
       "      <th>description</th>\n",
       "    </tr>\n",
       "  </thead>\n",
       "  <tbody>\n",
       "    <tr>\n",
       "      <th>0</th>\n",
       "      <td>10 year</td>\n",
       "      <td>\\n\\n&lt;EXCERPTS from&gt;The Application and Validat...</td>\n",
       "    </tr>\n",
       "    <tr>\n",
       "      <th>1</th>\n",
       "      <td>5 year</td>\n",
       "      <td>History of the Protectors of Kronos\\nA Psycorp...</td>\n",
       "    </tr>\n",
       "  </tbody>\n",
       "</table>\n",
       "</div>"
      ],
      "text/plain": [
       "     index                                        description\n",
       "0  10 year  \\n\\n<EXCERPTS from>The Application and Validat...\n",
       "1   5 year  History of the Protectors of Kronos\\nA Psycorp..."
      ]
     },
     "execution_count": 172,
     "metadata": {},
     "output_type": "execute_result"
    }
   ],
   "source": [
    "historical_df['description'].apply(clean_text_resume)\n",
    "historical_df.head()"
   ]
  },
  {
   "attachments": {},
   "cell_type": "markdown",
   "metadata": {},
   "source": [
    "### FactBook"
   ]
  },
  {
   "cell_type": "code",
   "execution_count": 173,
   "metadata": {},
   "outputs": [
    {
     "name": "stdout",
     "output_type": "stream",
     "text": [
      "FACTBOOK-Kronos.docx\n",
      "FACTBOOK-Tethys.docx\n",
      "(2, 2)\n"
     ]
    },
    {
     "data": {
      "text/html": [
       "<div>\n",
       "<style scoped>\n",
       "    .dataframe tbody tr th:only-of-type {\n",
       "        vertical-align: middle;\n",
       "    }\n",
       "\n",
       "    .dataframe tbody tr th {\n",
       "        vertical-align: top;\n",
       "    }\n",
       "\n",
       "    .dataframe thead th {\n",
       "        text-align: right;\n",
       "    }\n",
       "</style>\n",
       "<table border=\"1\" class=\"dataframe\">\n",
       "  <thead>\n",
       "    <tr style=\"text-align: right;\">\n",
       "      <th></th>\n",
       "      <th>index</th>\n",
       "      <th>description</th>\n",
       "    </tr>\n",
       "  </thead>\n",
       "  <tbody>\n",
       "    <tr>\n",
       "      <th>0</th>\n",
       "      <td>factbook-kronos</td>\n",
       "      <td>FACTBOOK :: Kronos \\nIntroduction\\nBackground:...</td>\n",
       "    </tr>\n",
       "    <tr>\n",
       "      <th>1</th>\n",
       "      <td>factbook-tethys</td>\n",
       "      <td>FACTBOOK :: Tethys\\n\\nIntroduction\\nBackground...</td>\n",
       "    </tr>\n",
       "  </tbody>\n",
       "</table>\n",
       "</div>"
      ],
      "text/plain": [
       "             index                                        description\n",
       "0  factbook-kronos  FACTBOOK :: Kronos \\nIntroduction\\nBackground:...\n",
       "1  factbook-tethys  FACTBOOK :: Tethys\\n\\nIntroduction\\nBackground..."
      ]
     },
     "execution_count": 173,
     "metadata": {},
     "output_type": "execute_result"
    }
   ],
   "source": [
    "def extract_doc_name(name) -> str:\n",
    "    \"\"\"\n",
    "    Params: str: resume name\n",
    "    Returns:\n",
    "        str: shorten file name\n",
    "    \"\"\"\n",
    "    return re.match(pattern=r\"^.*?(?=\\.)\", string=name).group(0)\n",
    "\n",
    "def extract_data(rootdir, hist_doc) -> dict:\n",
    "    \"\"\"\n",
    "    Params:\n",
    "        rootdir (Path): path to search for files\n",
    "        news_article (dict): empty dict to fill of <file name, description>\n",
    "    Returns:\n",
    "        news_article: full <file name, description> dict\n",
    "    \"\"\"\n",
    "    assert os.path.exists(rootdir)\n",
    "    for subdir, dirs, files in os.walk(rootdir):\n",
    "        assert os.path.exists(subdir)\n",
    "        for file in files:\n",
    "            if file.__contains__('docx'):\n",
    "                nav_file = os.path.join(subdir, file)\n",
    "                with open(nav_file, 'r') as datafile:\n",
    "                    try:\n",
    "                        print(file)\n",
    "                        file_name = str.lower(extract_doc_name(file))\n",
    "                        doc = docx.Document(nav_file)\n",
    "                        fullText = []\n",
    "                        for para in doc.paragraphs:\n",
    "                            fullText.append(para.text)\n",
    "                        factbook_doc[file_name] = '\\n'.join(fullText)\n",
    "                        datafile.close()\n",
    "                    except Exception as ex:\n",
    "                        print(\"Failed to parse factbook: \", ex)\n",
    "                        continue\n",
    "    return factbook_doc\n",
    "\n",
    "factbook_doc = {}\n",
    "rootdir = 'factbook/'\n",
    "factbook_doc = extract_data(rootdir, factbook_doc)\n",
    "factbook_df = pd.DataFrame.from_dict(data=factbook_doc, orient='index', columns=['description'])\n",
    "factbook_df.reset_index(inplace=True)\n",
    "print(factbook_df.shape)\n",
    "factbook_df.head()"
   ]
  },
  {
   "cell_type": "code",
   "execution_count": 174,
   "metadata": {},
   "outputs": [
    {
     "data": {
      "text/html": [
       "<div>\n",
       "<style scoped>\n",
       "    .dataframe tbody tr th:only-of-type {\n",
       "        vertical-align: middle;\n",
       "    }\n",
       "\n",
       "    .dataframe tbody tr th {\n",
       "        vertical-align: top;\n",
       "    }\n",
       "\n",
       "    .dataframe thead th {\n",
       "        text-align: right;\n",
       "    }\n",
       "</style>\n",
       "<table border=\"1\" class=\"dataframe\">\n",
       "  <thead>\n",
       "    <tr style=\"text-align: right;\">\n",
       "      <th></th>\n",
       "      <th>index</th>\n",
       "      <th>description</th>\n",
       "    </tr>\n",
       "  </thead>\n",
       "  <tbody>\n",
       "    <tr>\n",
       "      <th>0</th>\n",
       "      <td>factbook-kronos</td>\n",
       "      <td>FACTBOOK :: Kronos \\nIntroduction\\nBackground:...</td>\n",
       "    </tr>\n",
       "    <tr>\n",
       "      <th>1</th>\n",
       "      <td>factbook-tethys</td>\n",
       "      <td>FACTBOOK :: Tethys\\n\\nIntroduction\\nBackground...</td>\n",
       "    </tr>\n",
       "  </tbody>\n",
       "</table>\n",
       "</div>"
      ],
      "text/plain": [
       "             index                                        description\n",
       "0  factbook-kronos  FACTBOOK :: Kronos \\nIntroduction\\nBackground:...\n",
       "1  factbook-tethys  FACTBOOK :: Tethys\\n\\nIntroduction\\nBackground..."
      ]
     },
     "execution_count": 174,
     "metadata": {},
     "output_type": "execute_result"
    }
   ],
   "source": [
    "factbook_df['description'].apply(clean_text_resume)\n",
    "factbook_df.head()"
   ]
  },
  {
   "attachments": {},
   "cell_type": "markdown",
   "metadata": {},
   "source": [
    "## EDA"
   ]
  },
  {
   "attachments": {},
   "cell_type": "markdown",
   "metadata": {},
   "source": [
    "### Email Analysis"
   ]
  },
  {
   "cell_type": "code",
   "execution_count": 175,
   "metadata": {},
   "outputs": [
    {
     "data": {
      "text/html": [
       "<div>\n",
       "<style scoped>\n",
       "    .dataframe tbody tr th:only-of-type {\n",
       "        vertical-align: middle;\n",
       "    }\n",
       "\n",
       "    .dataframe tbody tr th {\n",
       "        vertical-align: top;\n",
       "    }\n",
       "\n",
       "    .dataframe thead th {\n",
       "        text-align: right;\n",
       "    }\n",
       "</style>\n",
       "<table border=\"1\" class=\"dataframe\">\n",
       "  <thead>\n",
       "    <tr style=\"text-align: right;\">\n",
       "      <th></th>\n",
       "      <th>From</th>\n",
       "      <th>To</th>\n",
       "      <th>Date</th>\n",
       "      <th>Subject</th>\n",
       "    </tr>\n",
       "  </thead>\n",
       "  <tbody>\n",
       "    <tr>\n",
       "      <th>0</th>\n",
       "      <td>Sven Flecha</td>\n",
       "      <td>Isak.Baza@gastech.com.kronos, Lucas.Alcazar@ga...</td>\n",
       "      <td>2014-01-06 08:39:00</td>\n",
       "      <td>gt-seismicprocessorpro bug report</td>\n",
       "    </tr>\n",
       "    <tr>\n",
       "      <th>1</th>\n",
       "      <td>Kanon Herrero</td>\n",
       "      <td>Felix.Resumir@gastech.com.kronos, Hideki.Cocin...</td>\n",
       "      <td>2014-01-06 08:58:00</td>\n",
       "      <td>inspection request site</td>\n",
       "    </tr>\n",
       "    <tr>\n",
       "      <th>2</th>\n",
       "      <td>Bertrand Ovan</td>\n",
       "      <td>Emile.Arpa@gastech.com.kronos, Varro.Awelon@ga...</td>\n",
       "      <td>2014-01-06 09:28:00</td>\n",
       "      <td>new refueling policies effective february 1</td>\n",
       "    </tr>\n",
       "    <tr>\n",
       "      <th>3</th>\n",
       "      <td>Valeria Morlun</td>\n",
       "      <td>Dante.Coginian@gastech.com.kronos, Albina.Hafo...</td>\n",
       "      <td>2014-01-06 09:38:00</td>\n",
       "      <td>route suggestion next shift</td>\n",
       "    </tr>\n",
       "    <tr>\n",
       "      <th>4</th>\n",
       "      <td>Mat Bramar</td>\n",
       "      <td>Rachel.Pantanal@gastech.com.kronos, Lars.Azada...</td>\n",
       "      <td>2014-01-06 09:49:00</td>\n",
       "      <td>upcoming birthdays</td>\n",
       "    </tr>\n",
       "  </tbody>\n",
       "</table>\n",
       "</div>"
      ],
      "text/plain": [
       "             From                                                 To  \\\n",
       "0     Sven Flecha  Isak.Baza@gastech.com.kronos, Lucas.Alcazar@ga...   \n",
       "1   Kanon Herrero  Felix.Resumir@gastech.com.kronos, Hideki.Cocin...   \n",
       "2   Bertrand Ovan  Emile.Arpa@gastech.com.kronos, Varro.Awelon@ga...   \n",
       "3  Valeria Morlun  Dante.Coginian@gastech.com.kronos, Albina.Hafo...   \n",
       "4      Mat Bramar  Rachel.Pantanal@gastech.com.kronos, Lars.Azada...   \n",
       "\n",
       "                 Date                                      Subject  \n",
       "0 2014-01-06 08:39:00            gt-seismicprocessorpro bug report  \n",
       "1 2014-01-06 08:58:00                      inspection request site  \n",
       "2 2014-01-06 09:28:00  new refueling policies effective february 1  \n",
       "3 2014-01-06 09:38:00                  route suggestion next shift  \n",
       "4 2014-01-06 09:49:00                           upcoming birthdays  "
      ]
     },
     "execution_count": 175,
     "metadata": {},
     "output_type": "execute_result"
    }
   ],
   "source": [
    "email_df.head()"
   ]
  },
  {
   "cell_type": "code",
   "execution_count": 176,
   "metadata": {},
   "outputs": [
    {
     "data": {
      "text/html": [
       "<div>\n",
       "<style scoped>\n",
       "    .dataframe tbody tr th:only-of-type {\n",
       "        vertical-align: middle;\n",
       "    }\n",
       "\n",
       "    .dataframe tbody tr th {\n",
       "        vertical-align: top;\n",
       "    }\n",
       "\n",
       "    .dataframe thead th {\n",
       "        text-align: right;\n",
       "    }\n",
       "</style>\n",
       "<table border=\"1\" class=\"dataframe\">\n",
       "  <thead>\n",
       "    <tr style=\"text-align: right;\">\n",
       "      <th></th>\n",
       "      <th>To</th>\n",
       "      <th>Date</th>\n",
       "      <th>Subject</th>\n",
       "    </tr>\n",
       "    <tr>\n",
       "      <th>From</th>\n",
       "      <th></th>\n",
       "      <th></th>\n",
       "      <th></th>\n",
       "    </tr>\n",
       "  </thead>\n",
       "  <tbody>\n",
       "    <tr>\n",
       "      <th>Lucas Alcazar</th>\n",
       "      <td>59</td>\n",
       "      <td>59</td>\n",
       "      <td>59</td>\n",
       "    </tr>\n",
       "    <tr>\n",
       "      <th>Nils Calixto</th>\n",
       "      <td>54</td>\n",
       "      <td>54</td>\n",
       "      <td>54</td>\n",
       "    </tr>\n",
       "    <tr>\n",
       "      <th>Isak Baza</th>\n",
       "      <td>50</td>\n",
       "      <td>50</td>\n",
       "      <td>50</td>\n",
       "    </tr>\n",
       "    <tr>\n",
       "      <th>Sven Flecha</th>\n",
       "      <td>42</td>\n",
       "      <td>42</td>\n",
       "      <td>42</td>\n",
       "    </tr>\n",
       "    <tr>\n",
       "      <th>Mat Bramar</th>\n",
       "      <td>42</td>\n",
       "      <td>42</td>\n",
       "      <td>42</td>\n",
       "    </tr>\n",
       "  </tbody>\n",
       "</table>\n",
       "</div>"
      ],
      "text/plain": [
       "               To  Date  Subject\n",
       "From                            \n",
       "Lucas Alcazar  59    59       59\n",
       "Nils Calixto   54    54       54\n",
       "Isak Baza      50    50       50\n",
       "Sven Flecha    42    42       42\n",
       "Mat Bramar     42    42       42"
      ]
     },
     "execution_count": 176,
     "metadata": {},
     "output_type": "execute_result"
    }
   ],
   "source": [
    "groupby_name = email_df.copy()\n",
    "groupby_name = email_df.groupby(by=['From'])\n",
    "groupby_name = groupby_name.count().sort_values(by='To', ascending=False)\n",
    "groupby_name.head()"
   ]
  },
  {
   "attachments": {},
   "cell_type": "markdown",
   "metadata": {},
   "source": [
    "\n",
    "Create a commuication network within the GASTech organization and Protectors of Kronos members."
   ]
  },
  {
   "cell_type": "code",
   "execution_count": 177,
   "metadata": {},
   "outputs": [
    {
     "data": {
      "text/html": [
       "<div>\n",
       "<style scoped>\n",
       "    .dataframe tbody tr th:only-of-type {\n",
       "        vertical-align: middle;\n",
       "    }\n",
       "\n",
       "    .dataframe tbody tr th {\n",
       "        vertical-align: top;\n",
       "    }\n",
       "\n",
       "    .dataframe thead th {\n",
       "        text-align: right;\n",
       "    }\n",
       "</style>\n",
       "<table border=\"1\" class=\"dataframe\">\n",
       "  <thead>\n",
       "    <tr style=\"text-align: right;\">\n",
       "      <th></th>\n",
       "      <th>To</th>\n",
       "      <th>Date</th>\n",
       "      <th>Subject</th>\n",
       "      <th>Frequency</th>\n",
       "    </tr>\n",
       "    <tr>\n",
       "      <th>From</th>\n",
       "      <th></th>\n",
       "      <th></th>\n",
       "      <th></th>\n",
       "      <th></th>\n",
       "    </tr>\n",
       "  </thead>\n",
       "  <tbody>\n",
       "    <tr>\n",
       "      <th>Lucas Alcazar</th>\n",
       "      <td>59</td>\n",
       "      <td>59</td>\n",
       "      <td>59</td>\n",
       "      <td>5.042735</td>\n",
       "    </tr>\n",
       "    <tr>\n",
       "      <th>Nils Calixto</th>\n",
       "      <td>54</td>\n",
       "      <td>54</td>\n",
       "      <td>54</td>\n",
       "      <td>4.615385</td>\n",
       "    </tr>\n",
       "    <tr>\n",
       "      <th>Isak Baza</th>\n",
       "      <td>50</td>\n",
       "      <td>50</td>\n",
       "      <td>50</td>\n",
       "      <td>4.273504</td>\n",
       "    </tr>\n",
       "    <tr>\n",
       "      <th>Sven Flecha</th>\n",
       "      <td>42</td>\n",
       "      <td>42</td>\n",
       "      <td>42</td>\n",
       "      <td>3.589744</td>\n",
       "    </tr>\n",
       "    <tr>\n",
       "      <th>Mat Bramar</th>\n",
       "      <td>42</td>\n",
       "      <td>42</td>\n",
       "      <td>42</td>\n",
       "      <td>3.589744</td>\n",
       "    </tr>\n",
       "  </tbody>\n",
       "</table>\n",
       "</div>"
      ],
      "text/plain": [
       "               To  Date  Subject  Frequency\n",
       "From                                       \n",
       "Lucas Alcazar  59    59       59   5.042735\n",
       "Nils Calixto   54    54       54   4.615385\n",
       "Isak Baza      50    50       50   4.273504\n",
       "Sven Flecha    42    42       42   3.589744\n",
       "Mat Bramar     42    42       42   3.589744"
      ]
     },
     "execution_count": 177,
     "metadata": {},
     "output_type": "execute_result"
    }
   ],
   "source": [
    "total_email_count = email_df.shape[0]\n",
    "groupby_name['Frequency'] = groupby_name['To'].apply(lambda x: (x/total_email_count)*100)\n",
    "groupby_name.head()"
   ]
  },
  {
   "cell_type": "code",
   "execution_count": 178,
   "metadata": {},
   "outputs": [
    {
     "data": {
      "text/html": [
       "<div>\n",
       "<style scoped>\n",
       "    .dataframe tbody tr th:only-of-type {\n",
       "        vertical-align: middle;\n",
       "    }\n",
       "\n",
       "    .dataframe tbody tr th {\n",
       "        vertical-align: top;\n",
       "    }\n",
       "\n",
       "    .dataframe thead th {\n",
       "        text-align: right;\n",
       "    }\n",
       "</style>\n",
       "<table border=\"1\" class=\"dataframe\">\n",
       "  <thead>\n",
       "    <tr style=\"text-align: right;\">\n",
       "      <th></th>\n",
       "      <th>From</th>\n",
       "      <th>To</th>\n",
       "      <th>Date</th>\n",
       "      <th>Subject</th>\n",
       "    </tr>\n",
       "  </thead>\n",
       "  <tbody>\n",
       "    <tr>\n",
       "      <th>0</th>\n",
       "      <td>Sven Flecha</td>\n",
       "      <td>Isak.Baza@gastech.com.kronos, Lucas.Alcazar@ga...</td>\n",
       "      <td>2014-01-06 08:39:00</td>\n",
       "      <td>gt-seismicprocessorpro bug report</td>\n",
       "    </tr>\n",
       "    <tr>\n",
       "      <th>1</th>\n",
       "      <td>Kanon Herrero</td>\n",
       "      <td>Felix.Resumir@gastech.com.kronos, Hideki.Cocin...</td>\n",
       "      <td>2014-01-06 08:58:00</td>\n",
       "      <td>inspection request site</td>\n",
       "    </tr>\n",
       "    <tr>\n",
       "      <th>2</th>\n",
       "      <td>Bertrand Ovan</td>\n",
       "      <td>Emile.Arpa@gastech.com.kronos, Varro.Awelon@ga...</td>\n",
       "      <td>2014-01-06 09:28:00</td>\n",
       "      <td>new refueling policies effective february 1</td>\n",
       "    </tr>\n",
       "    <tr>\n",
       "      <th>3</th>\n",
       "      <td>Valeria Morlun</td>\n",
       "      <td>Dante.Coginian@gastech.com.kronos, Albina.Hafo...</td>\n",
       "      <td>2014-01-06 09:38:00</td>\n",
       "      <td>route suggestion next shift</td>\n",
       "    </tr>\n",
       "    <tr>\n",
       "      <th>4</th>\n",
       "      <td>Mat Bramar</td>\n",
       "      <td>Rachel.Pantanal@gastech.com.kronos, Lars.Azada...</td>\n",
       "      <td>2014-01-06 09:49:00</td>\n",
       "      <td>upcoming birthdays</td>\n",
       "    </tr>\n",
       "    <tr>\n",
       "      <th>...</th>\n",
       "      <td>...</td>\n",
       "      <td>...</td>\n",
       "      <td>...</td>\n",
       "      <td>...</td>\n",
       "    </tr>\n",
       "    <tr>\n",
       "      <th>750</th>\n",
       "      <td>Minke Mies</td>\n",
       "      <td>Inga.Ferro@gastech.com.kronos</td>\n",
       "      <td>2014-01-14 15:36:00</td>\n",
       "      <td>late meeting</td>\n",
       "    </tr>\n",
       "    <tr>\n",
       "      <th>821</th>\n",
       "      <td>Marin Onda</td>\n",
       "      <td>Emile.Arpa@gastech.com.kronos</td>\n",
       "      <td>2014-01-15 11:17:00</td>\n",
       "      <td>files</td>\n",
       "    </tr>\n",
       "    <tr>\n",
       "      <th>829</th>\n",
       "      <td>Linnea Bergen</td>\n",
       "      <td>Claudio.Hawelon@gastech.com.kronos</td>\n",
       "      <td>2014-01-15 12:10:00</td>\n",
       "      <td>favor borrow hedge trimmer</td>\n",
       "    </tr>\n",
       "    <tr>\n",
       "      <th>848</th>\n",
       "      <td>Birgitta Frente</td>\n",
       "      <td>Marin.Onda@gastech.com.kronos, Brand.Tempestad...</td>\n",
       "      <td>2014-01-15 13:26:00</td>\n",
       "      <td>wellhead flow rate data overpressure well 1783-03</td>\n",
       "    </tr>\n",
       "    <tr>\n",
       "      <th>854</th>\n",
       "      <td>Birgitta Frente</td>\n",
       "      <td>Isak.Baza@gastech.com.kronos</td>\n",
       "      <td>2014-01-15 13:45:00</td>\n",
       "      <td>buying coffee</td>\n",
       "    </tr>\n",
       "  </tbody>\n",
       "</table>\n",
       "<p>270 rows × 4 columns</p>\n",
       "</div>"
      ],
      "text/plain": [
       "                From                                                 To  \\\n",
       "0        Sven Flecha  Isak.Baza@gastech.com.kronos, Lucas.Alcazar@ga...   \n",
       "1      Kanon Herrero  Felix.Resumir@gastech.com.kronos, Hideki.Cocin...   \n",
       "2      Bertrand Ovan  Emile.Arpa@gastech.com.kronos, Varro.Awelon@ga...   \n",
       "3     Valeria Morlun  Dante.Coginian@gastech.com.kronos, Albina.Hafo...   \n",
       "4         Mat Bramar  Rachel.Pantanal@gastech.com.kronos, Lars.Azada...   \n",
       "..               ...                                                ...   \n",
       "750       Minke Mies                      Inga.Ferro@gastech.com.kronos   \n",
       "821       Marin Onda                      Emile.Arpa@gastech.com.kronos   \n",
       "829    Linnea Bergen                 Claudio.Hawelon@gastech.com.kronos   \n",
       "848  Birgitta Frente  Marin.Onda@gastech.com.kronos, Brand.Tempestad...   \n",
       "854  Birgitta Frente                       Isak.Baza@gastech.com.kronos   \n",
       "\n",
       "                   Date                                            Subject  \n",
       "0   2014-01-06 08:39:00                  gt-seismicprocessorpro bug report  \n",
       "1   2014-01-06 08:58:00                            inspection request site  \n",
       "2   2014-01-06 09:28:00        new refueling policies effective february 1  \n",
       "3   2014-01-06 09:38:00                        route suggestion next shift  \n",
       "4   2014-01-06 09:49:00                                 upcoming birthdays  \n",
       "..                  ...                                                ...  \n",
       "750 2014-01-14 15:36:00                                       late meeting  \n",
       "821 2014-01-15 11:17:00                                              files  \n",
       "829 2014-01-15 12:10:00                         favor borrow hedge trimmer  \n",
       "848 2014-01-15 13:26:00  wellhead flow rate data overpressure well 1783-03  \n",
       "854 2014-01-15 13:45:00                                      buying coffee  \n",
       "\n",
       "[270 rows x 4 columns]"
      ]
     },
     "execution_count": 178,
     "metadata": {},
     "output_type": "execute_result"
    }
   ],
   "source": [
    "comm_network = email_df.groupby(by=['From'])\n",
    "comm_network.head()"
   ]
  },
  {
   "attachments": {},
   "cell_type": "markdown",
   "metadata": {},
   "source": [
    "### How frequently do people contact each other? ie. Ada emailed Felix 2 times.\n",
    "Also, does there exist any email accounts in which they are not in the employee records csv file? "
   ]
  },
  {
   "cell_type": "code",
   "execution_count": 179,
   "metadata": {},
   "outputs": [
    {
     "name": "stderr",
     "output_type": "stream",
     "text": [
      "C:\\Users\\Heather\\AppData\\Local\\Temp\\ipykernel_20464\\3833676466.py:2: FutureWarning:\n",
      "\n",
      "In a future version of pandas, a length 1 tuple will be returned when iterating over a groupby with a grouper equal to a list of length 1. Don't supply a list with a single grouper to avoid this warning.\n",
      "\n"
     ]
    },
    {
     "name": "stdout",
     "output_type": "stream",
     "text": [
      " Sten.Sanjorge Jr.@gastech.com.tethys\n",
      " Sten.Sanjorge Jr.@gastech.com.tethys\n",
      " Sten.Sanjorge Jr.@gastech.com.tethys\n",
      "Sten.Sanjorge Jr.@gastech.com.tethys\n",
      "Sten.Sanjorge Jr.@gastech.com.tethys\n",
      " Sten.Sanjorge Jr.@gastech.com.tethys\n",
      " Sten.Sanjorge Jr.@gastech.com.tethys\n",
      " Sten.Sanjorge Jr.@gastech.com.tethys\n",
      " Sten.Sanjorge Jr.@gastech.com.tethys\n",
      " Sten.Sanjorge Jr.@gastech.com.tethys\n",
      " Sten.Sanjorge Jr.@gastech.com.tethys\n",
      " Sten.Sanjorge Jr.@gastech.com.tethys\n",
      "Sten.Sanjorge Jr.@gastech.com.tethys\n",
      "Sten.Sanjorge Jr.@gastech.com.tethys\n",
      "Sten.Sanjorge Jr.@gastech.com.tethys\n",
      "Sten.Sanjorge Jr.@gastech.com.tethys\n",
      "Sten.Sanjorge Jr.@gastech.com.tethys\n",
      " Sten.Sanjorge Jr.@gastech.com.tethys\n",
      " Sten.Sanjorge Jr.@gastech.com.tethys\n",
      " Sten.Sanjorge Jr.@gastech.com.tethys\n",
      " Sten.Sanjorge Jr.@gastech.com.tethys\n",
      "Sten.Sanjorge Jr.@gastech.com.tethys\n",
      " Sten.Sanjorge Jr.@gastech.com.tethys\n",
      " Sten.Sanjorge Jr.@gastech.com.tethys\n",
      "Sten.Sanjorge Jr.@gastech.com.tethys\n",
      " Sten.Sanjorge Jr.@gastech.com.tethys\n",
      " Sten.Sanjorge Jr.@gastech.com.tethys\n",
      " Sten.Sanjorge Jr.@gastech.com.tethys\n",
      " Sten.Sanjorge Jr.@gastech.com.tethys\n",
      "Sten.Sanjorge Jr.@gastech.com.tethys\n",
      " Sten.Sanjorge Jr.@gastech.com.tethys\n",
      " Sten.Sanjorge Jr.@gastech.com.tethys\n",
      " Sten.Sanjorge Jr.@gastech.com.tethys\n",
      " Sten.Sanjorge Jr.@gastech.com.tethys\n",
      " Sten.Sanjorge Jr.@gastech.com.tethys\n",
      " Sten.Sanjorge Jr.@gastech.com.tethys\n",
      " Sten.Sanjorge Jr.@gastech.com.tethys\n",
      "Sten.Sanjorge Jr.@gastech.com.tethys\n",
      "Sten.Sanjorge Jr.@gastech.com.tethys\n",
      " Sten.Sanjorge Jr.@gastech.com.tethys\n",
      " Sten.Sanjorge Jr.@gastech.com.tethys\n",
      " Sten.Sanjorge Jr.@gastech.com.tethys\n",
      " Sten.Sanjorge Jr.@gastech.com.tethys\n",
      " Sten.Sanjorge Jr.@gastech.com.tethys\n",
      "Sten.Sanjorge Jr.@gastech.com.tethys\n",
      "Sten.Sanjorge Jr.@gastech.com.tethys\n",
      "Sten.Sanjorge Jr.@gastech.com.tethys\n",
      "Sten.Sanjorge Jr.@gastech.com.tethys\n",
      "Sten.Sanjorge Jr.@gastech.com.tethys\n",
      "Sten.Sanjorge Jr.@gastech.com.tethys\n",
      "Sten.Sanjorge Jr.@gastech.com.tethys\n",
      " Sten.Sanjorge Jr.@gastech.com.tethys\n",
      " Sten.Sanjorge Jr.@gastech.com.tethys\n",
      "Sten.Sanjorge Jr.@gastech.com.tethys\n",
      " Sten.Sanjorge Jr.@gastech.com.tethys\n",
      " Sten.Sanjorge Jr.@gastech.com.tethys\n",
      " Sten.Sanjorge Jr.@gastech.com.tethys\n",
      "Sten.Sanjorge Jr.@gastech.com.tethys\n"
     ]
    }
   ],
   "source": [
    "emails_sent = pd.DataFrame()\n",
    "for employee_from_name, employee_to_name in comm_network:\n",
    "    name_map_frequency = {}\n",
    "    for arr_name in employee_to_name['To']:\n",
    "        # check that email exists in employee records df\n",
    "        counter = 0\n",
    "        if arr_name.__contains__(\",\"):\n",
    "            arr_name = arr_name.split(\",\")\n",
    "            for employee in arr_name: \n",
    "                try:\n",
    "                    assert employee_records_df['EmailAddress'].eq(employee.strip()).any()\n",
    "                    counter+=1\n",
    "                    employee = stripEmail(employee)\n",
    "                    employee = addSplit(employee)\n",
    "                    name_map_frequency[employee] = name_map_frequency.get(employee, 0) + counter\n",
    "                except Exception as ex:\n",
    "                    print(employee)\n",
    "        else:\n",
    "            try:\n",
    "                assert employee_records_df['EmailAddress'].eq(arr_name).any()\n",
    "                counter+=1\n",
    "                arr_name = stripEmail(arr_name)\n",
    "                arr_name = addSplit(arr_name)\n",
    "                name_map_frequency[arr_name] = name_map_frequency.get(arr_name, 0) + counter\n",
    "            except Exception as ex:\n",
    "                print(arr_name)\n",
    "    emails_sent[employee_from_name] = name_map_frequency    \n",
    "emails_sent = emails_sent.T"
   ]
  },
  {
   "attachments": {},
   "cell_type": "markdown",
   "metadata": {},
   "source": [
    "Sten.Sanjorge Jr has 2 email accounts: Sten.Sanjorge Jr.@gastech.com.kronos & Sten.Sanjorge Jr.@gastech.com.tethys"
   ]
  },
  {
   "cell_type": "code",
   "execution_count": 180,
   "metadata": {},
   "outputs": [
    {
     "data": {
      "text/html": [
       "<div>\n",
       "<style scoped>\n",
       "    .dataframe tbody tr th:only-of-type {\n",
       "        vertical-align: middle;\n",
       "    }\n",
       "\n",
       "    .dataframe tbody tr th {\n",
       "        vertical-align: top;\n",
       "    }\n",
       "\n",
       "    .dataframe thead th {\n",
       "        text-align: right;\n",
       "    }\n",
       "</style>\n",
       "<table border=\"1\" class=\"dataframe\">\n",
       "  <thead>\n",
       "    <tr style=\"text-align: right;\">\n",
       "      <th></th>\n",
       "      <th>Felix Resumir</th>\n",
       "      <th>Rachel Pantanal</th>\n",
       "      <th>Lars Azada</th>\n",
       "      <th>Felix Balas</th>\n",
       "      <th>Isande Borrasca</th>\n",
       "      <th>Axel Calzas</th>\n",
       "      <th>Gustav Cazar</th>\n",
       "      <th>Lidelse Dedos</th>\n",
       "      <th>Birgitta Frente</th>\n",
       "      <th>Vira Frente</th>\n",
       "      <th>...</th>\n",
       "      <th>Carla Forluniau</th>\n",
       "      <th>Linda Lagos</th>\n",
       "      <th>Cornelia Lais</th>\n",
       "      <th>Ruscella Mies Haber</th>\n",
       "      <th>Anda Ribera</th>\n",
       "      <th>Orhan Strum</th>\n",
       "      <th>Ada Campo-Corrente</th>\n",
       "      <th>Ingrid Barranco</th>\n",
       "      <th>Ruscella Mies Haber</th>\n",
       "      <th>Willem Vasco-Pais</th>\n",
       "    </tr>\n",
       "  </thead>\n",
       "  <tbody>\n",
       "    <tr>\n",
       "      <th>Ada Campo-Corrente</th>\n",
       "      <td>2.0</td>\n",
       "      <td>2.0</td>\n",
       "      <td>4.0</td>\n",
       "      <td>6.0</td>\n",
       "      <td>8.0</td>\n",
       "      <td>10.0</td>\n",
       "      <td>12.0</td>\n",
       "      <td>14.0</td>\n",
       "      <td>16.0</td>\n",
       "      <td>18.0</td>\n",
       "      <td>...</td>\n",
       "      <td>100.0</td>\n",
       "      <td>102.0</td>\n",
       "      <td>104.0</td>\n",
       "      <td>106.0</td>\n",
       "      <td>108.0</td>\n",
       "      <td>3.0</td>\n",
       "      <td>4.0</td>\n",
       "      <td>4.0</td>\n",
       "      <td>1.0</td>\n",
       "      <td>3.0</td>\n",
       "    </tr>\n",
       "    <tr>\n",
       "      <th>Adan Morlun</th>\n",
       "      <td>NaN</td>\n",
       "      <td>1.0</td>\n",
       "      <td>2.0</td>\n",
       "      <td>3.0</td>\n",
       "      <td>4.0</td>\n",
       "      <td>5.0</td>\n",
       "      <td>6.0</td>\n",
       "      <td>7.0</td>\n",
       "      <td>8.0</td>\n",
       "      <td>9.0</td>\n",
       "      <td>...</td>\n",
       "      <td>50.0</td>\n",
       "      <td>51.0</td>\n",
       "      <td>52.0</td>\n",
       "      <td>53.0</td>\n",
       "      <td>54.0</td>\n",
       "      <td>NaN</td>\n",
       "      <td>NaN</td>\n",
       "      <td>NaN</td>\n",
       "      <td>NaN</td>\n",
       "      <td>NaN</td>\n",
       "    </tr>\n",
       "    <tr>\n",
       "      <th>Adra Nubarron</th>\n",
       "      <td>NaN</td>\n",
       "      <td>3.0</td>\n",
       "      <td>19.0</td>\n",
       "      <td>24.0</td>\n",
       "      <td>18.0</td>\n",
       "      <td>18.0</td>\n",
       "      <td>34.0</td>\n",
       "      <td>36.0</td>\n",
       "      <td>39.0</td>\n",
       "      <td>39.0</td>\n",
       "      <td>...</td>\n",
       "      <td>150.0</td>\n",
       "      <td>153.0</td>\n",
       "      <td>156.0</td>\n",
       "      <td>159.0</td>\n",
       "      <td>162.0</td>\n",
       "      <td>NaN</td>\n",
       "      <td>NaN</td>\n",
       "      <td>NaN</td>\n",
       "      <td>2.0</td>\n",
       "      <td>NaN</td>\n",
       "    </tr>\n",
       "    <tr>\n",
       "      <th>Albina Hafon</th>\n",
       "      <td>NaN</td>\n",
       "      <td>2.0</td>\n",
       "      <td>NaN</td>\n",
       "      <td>NaN</td>\n",
       "      <td>NaN</td>\n",
       "      <td>NaN</td>\n",
       "      <td>NaN</td>\n",
       "      <td>NaN</td>\n",
       "      <td>NaN</td>\n",
       "      <td>NaN</td>\n",
       "      <td>...</td>\n",
       "      <td>NaN</td>\n",
       "      <td>NaN</td>\n",
       "      <td>NaN</td>\n",
       "      <td>NaN</td>\n",
       "      <td>NaN</td>\n",
       "      <td>NaN</td>\n",
       "      <td>NaN</td>\n",
       "      <td>NaN</td>\n",
       "      <td>NaN</td>\n",
       "      <td>NaN</td>\n",
       "    </tr>\n",
       "    <tr>\n",
       "      <th>Anda Ribera</th>\n",
       "      <td>NaN</td>\n",
       "      <td>1.0</td>\n",
       "      <td>2.0</td>\n",
       "      <td>3.0</td>\n",
       "      <td>4.0</td>\n",
       "      <td>5.0</td>\n",
       "      <td>6.0</td>\n",
       "      <td>7.0</td>\n",
       "      <td>8.0</td>\n",
       "      <td>9.0</td>\n",
       "      <td>...</td>\n",
       "      <td>128.0</td>\n",
       "      <td>103.0</td>\n",
       "      <td>143.0</td>\n",
       "      <td>118.0</td>\n",
       "      <td>80.0</td>\n",
       "      <td>NaN</td>\n",
       "      <td>NaN</td>\n",
       "      <td>NaN</td>\n",
       "      <td>NaN</td>\n",
       "      <td>NaN</td>\n",
       "    </tr>\n",
       "  </tbody>\n",
       "</table>\n",
       "<p>5 rows × 60 columns</p>\n",
       "</div>"
      ],
      "text/plain": [
       "                    Felix Resumir  Rachel Pantanal   Lars Azada   Felix Balas  \\\n",
       "Ada Campo-Corrente            2.0              2.0          4.0           6.0   \n",
       "Adan Morlun                   NaN              1.0          2.0           3.0   \n",
       "Adra Nubarron                 NaN              3.0         19.0          24.0   \n",
       "Albina Hafon                  NaN              2.0          NaN           NaN   \n",
       "Anda Ribera                   NaN              1.0          2.0           3.0   \n",
       "\n",
       "                     Isande Borrasca   Axel Calzas   Gustav Cazar  \\\n",
       "Ada Campo-Corrente               8.0          10.0           12.0   \n",
       "Adan Morlun                      4.0           5.0            6.0   \n",
       "Adra Nubarron                   18.0          18.0           34.0   \n",
       "Albina Hafon                     NaN           NaN            NaN   \n",
       "Anda Ribera                      4.0           5.0            6.0   \n",
       "\n",
       "                     Lidelse Dedos   Birgitta Frente   Vira Frente  ...  \\\n",
       "Ada Campo-Corrente            14.0              16.0          18.0  ...   \n",
       "Adan Morlun                    7.0               8.0           9.0  ...   \n",
       "Adra Nubarron                 36.0              39.0          39.0  ...   \n",
       "Albina Hafon                   NaN               NaN           NaN  ...   \n",
       "Anda Ribera                    7.0               8.0           9.0  ...   \n",
       "\n",
       "                     Carla Forluniau   Linda Lagos   Cornelia Lais  \\\n",
       "Ada Campo-Corrente             100.0         102.0           104.0   \n",
       "Adan Morlun                     50.0          51.0            52.0   \n",
       "Adra Nubarron                  150.0         153.0           156.0   \n",
       "Albina Hafon                     NaN           NaN             NaN   \n",
       "Anda Ribera                    128.0         103.0           143.0   \n",
       "\n",
       "                     Ruscella Mies Haber   Anda Ribera  Orhan Strum  \\\n",
       "Ada Campo-Corrente                 106.0         108.0          3.0   \n",
       "Adan Morlun                         53.0          54.0          NaN   \n",
       "Adra Nubarron                      159.0         162.0          NaN   \n",
       "Albina Hafon                         NaN           NaN          NaN   \n",
       "Anda Ribera                        118.0          80.0          NaN   \n",
       "\n",
       "                    Ada Campo-Corrente  Ingrid Barranco  Ruscella Mies Haber  \\\n",
       "Ada Campo-Corrente                 4.0              4.0                  1.0   \n",
       "Adan Morlun                        NaN              NaN                  NaN   \n",
       "Adra Nubarron                      NaN              NaN                  2.0   \n",
       "Albina Hafon                       NaN              NaN                  NaN   \n",
       "Anda Ribera                        NaN              NaN                  NaN   \n",
       "\n",
       "                    Willem Vasco-Pais  \n",
       "Ada Campo-Corrente                3.0  \n",
       "Adan Morlun                       NaN  \n",
       "Adra Nubarron                     NaN  \n",
       "Albina Hafon                      NaN  \n",
       "Anda Ribera                       NaN  \n",
       "\n",
       "[5 rows x 60 columns]"
      ]
     },
     "execution_count": 180,
     "metadata": {},
     "output_type": "execute_result"
    }
   ],
   "source": [
    "emails_sent.head()"
   ]
  },
  {
   "cell_type": "code",
   "execution_count": 181,
   "metadata": {},
   "outputs": [],
   "source": [
    "emails_sent.columns = emails_sent.columns.str.strip()"
   ]
  },
  {
   "cell_type": "code",
   "execution_count": 182,
   "metadata": {},
   "outputs": [
    {
     "data": {
      "text/plain": [
       "(54, 60)"
      ]
     },
     "execution_count": 182,
     "metadata": {},
     "output_type": "execute_result"
    }
   ],
   "source": [
    "emails_sent.shape"
   ]
  },
  {
   "attachments": {},
   "cell_type": "markdown",
   "metadata": {},
   "source": [
    "Replace NaN's with 0 email frequency."
   ]
  },
  {
   "cell_type": "code",
   "execution_count": 183,
   "metadata": {},
   "outputs": [
    {
     "data": {
      "text/html": [
       "<div>\n",
       "<style scoped>\n",
       "    .dataframe tbody tr th:only-of-type {\n",
       "        vertical-align: middle;\n",
       "    }\n",
       "\n",
       "    .dataframe tbody tr th {\n",
       "        vertical-align: top;\n",
       "    }\n",
       "\n",
       "    .dataframe thead th {\n",
       "        text-align: right;\n",
       "    }\n",
       "</style>\n",
       "<table border=\"1\" class=\"dataframe\">\n",
       "  <thead>\n",
       "    <tr style=\"text-align: right;\">\n",
       "      <th></th>\n",
       "      <th>Felix Resumir</th>\n",
       "      <th>Rachel Pantanal</th>\n",
       "      <th>Lars Azada</th>\n",
       "      <th>Felix Balas</th>\n",
       "      <th>Isande Borrasca</th>\n",
       "      <th>Axel Calzas</th>\n",
       "      <th>Gustav Cazar</th>\n",
       "      <th>Lidelse Dedos</th>\n",
       "      <th>Birgitta Frente</th>\n",
       "      <th>Vira Frente</th>\n",
       "      <th>...</th>\n",
       "      <th>Carla Forluniau</th>\n",
       "      <th>Linda Lagos</th>\n",
       "      <th>Cornelia Lais</th>\n",
       "      <th>Ruscella Mies Haber</th>\n",
       "      <th>Anda Ribera</th>\n",
       "      <th>Orhan Strum</th>\n",
       "      <th>Ada Campo-Corrente</th>\n",
       "      <th>Ingrid Barranco</th>\n",
       "      <th>Ruscella Mies Haber</th>\n",
       "      <th>Willem Vasco-Pais</th>\n",
       "    </tr>\n",
       "  </thead>\n",
       "  <tbody>\n",
       "    <tr>\n",
       "      <th>Ada Campo-Corrente</th>\n",
       "      <td>2.0</td>\n",
       "      <td>2.0</td>\n",
       "      <td>4.0</td>\n",
       "      <td>6.0</td>\n",
       "      <td>8.0</td>\n",
       "      <td>10.0</td>\n",
       "      <td>12.0</td>\n",
       "      <td>14.0</td>\n",
       "      <td>16.0</td>\n",
       "      <td>18.0</td>\n",
       "      <td>...</td>\n",
       "      <td>100.0</td>\n",
       "      <td>102.0</td>\n",
       "      <td>104.0</td>\n",
       "      <td>106.0</td>\n",
       "      <td>108.0</td>\n",
       "      <td>3.0</td>\n",
       "      <td>4.0</td>\n",
       "      <td>4.0</td>\n",
       "      <td>1.0</td>\n",
       "      <td>3.0</td>\n",
       "    </tr>\n",
       "    <tr>\n",
       "      <th>Adan Morlun</th>\n",
       "      <td>0.0</td>\n",
       "      <td>1.0</td>\n",
       "      <td>2.0</td>\n",
       "      <td>3.0</td>\n",
       "      <td>4.0</td>\n",
       "      <td>5.0</td>\n",
       "      <td>6.0</td>\n",
       "      <td>7.0</td>\n",
       "      <td>8.0</td>\n",
       "      <td>9.0</td>\n",
       "      <td>...</td>\n",
       "      <td>50.0</td>\n",
       "      <td>51.0</td>\n",
       "      <td>52.0</td>\n",
       "      <td>53.0</td>\n",
       "      <td>54.0</td>\n",
       "      <td>0.0</td>\n",
       "      <td>0.0</td>\n",
       "      <td>0.0</td>\n",
       "      <td>0.0</td>\n",
       "      <td>0.0</td>\n",
       "    </tr>\n",
       "    <tr>\n",
       "      <th>Adra Nubarron</th>\n",
       "      <td>0.0</td>\n",
       "      <td>3.0</td>\n",
       "      <td>19.0</td>\n",
       "      <td>24.0</td>\n",
       "      <td>18.0</td>\n",
       "      <td>18.0</td>\n",
       "      <td>34.0</td>\n",
       "      <td>36.0</td>\n",
       "      <td>39.0</td>\n",
       "      <td>39.0</td>\n",
       "      <td>...</td>\n",
       "      <td>150.0</td>\n",
       "      <td>153.0</td>\n",
       "      <td>156.0</td>\n",
       "      <td>159.0</td>\n",
       "      <td>162.0</td>\n",
       "      <td>0.0</td>\n",
       "      <td>0.0</td>\n",
       "      <td>0.0</td>\n",
       "      <td>2.0</td>\n",
       "      <td>0.0</td>\n",
       "    </tr>\n",
       "    <tr>\n",
       "      <th>Albina Hafon</th>\n",
       "      <td>0.0</td>\n",
       "      <td>2.0</td>\n",
       "      <td>0.0</td>\n",
       "      <td>0.0</td>\n",
       "      <td>0.0</td>\n",
       "      <td>0.0</td>\n",
       "      <td>0.0</td>\n",
       "      <td>0.0</td>\n",
       "      <td>0.0</td>\n",
       "      <td>0.0</td>\n",
       "      <td>...</td>\n",
       "      <td>0.0</td>\n",
       "      <td>0.0</td>\n",
       "      <td>0.0</td>\n",
       "      <td>0.0</td>\n",
       "      <td>0.0</td>\n",
       "      <td>0.0</td>\n",
       "      <td>0.0</td>\n",
       "      <td>0.0</td>\n",
       "      <td>0.0</td>\n",
       "      <td>0.0</td>\n",
       "    </tr>\n",
       "    <tr>\n",
       "      <th>Anda Ribera</th>\n",
       "      <td>0.0</td>\n",
       "      <td>1.0</td>\n",
       "      <td>2.0</td>\n",
       "      <td>3.0</td>\n",
       "      <td>4.0</td>\n",
       "      <td>5.0</td>\n",
       "      <td>6.0</td>\n",
       "      <td>7.0</td>\n",
       "      <td>8.0</td>\n",
       "      <td>9.0</td>\n",
       "      <td>...</td>\n",
       "      <td>128.0</td>\n",
       "      <td>103.0</td>\n",
       "      <td>143.0</td>\n",
       "      <td>118.0</td>\n",
       "      <td>80.0</td>\n",
       "      <td>0.0</td>\n",
       "      <td>0.0</td>\n",
       "      <td>0.0</td>\n",
       "      <td>0.0</td>\n",
       "      <td>0.0</td>\n",
       "    </tr>\n",
       "  </tbody>\n",
       "</table>\n",
       "<p>5 rows × 60 columns</p>\n",
       "</div>"
      ],
      "text/plain": [
       "                    Felix Resumir  Rachel Pantanal  Lars Azada  Felix Balas  \\\n",
       "Ada Campo-Corrente            2.0              2.0         4.0          6.0   \n",
       "Adan Morlun                   0.0              1.0         2.0          3.0   \n",
       "Adra Nubarron                 0.0              3.0        19.0         24.0   \n",
       "Albina Hafon                  0.0              2.0         0.0          0.0   \n",
       "Anda Ribera                   0.0              1.0         2.0          3.0   \n",
       "\n",
       "                    Isande Borrasca  Axel Calzas  Gustav Cazar  Lidelse Dedos  \\\n",
       "Ada Campo-Corrente              8.0         10.0          12.0           14.0   \n",
       "Adan Morlun                     4.0          5.0           6.0            7.0   \n",
       "Adra Nubarron                  18.0         18.0          34.0           36.0   \n",
       "Albina Hafon                    0.0          0.0           0.0            0.0   \n",
       "Anda Ribera                     4.0          5.0           6.0            7.0   \n",
       "\n",
       "                    Birgitta Frente  Vira Frente  ...  Carla Forluniau  \\\n",
       "Ada Campo-Corrente             16.0         18.0  ...            100.0   \n",
       "Adan Morlun                     8.0          9.0  ...             50.0   \n",
       "Adra Nubarron                  39.0         39.0  ...            150.0   \n",
       "Albina Hafon                    0.0          0.0  ...              0.0   \n",
       "Anda Ribera                     8.0          9.0  ...            128.0   \n",
       "\n",
       "                    Linda Lagos  Cornelia Lais  Ruscella Mies Haber  \\\n",
       "Ada Campo-Corrente        102.0          104.0                106.0   \n",
       "Adan Morlun                51.0           52.0                 53.0   \n",
       "Adra Nubarron             153.0          156.0                159.0   \n",
       "Albina Hafon                0.0            0.0                  0.0   \n",
       "Anda Ribera               103.0          143.0                118.0   \n",
       "\n",
       "                    Anda Ribera  Orhan Strum  Ada Campo-Corrente  \\\n",
       "Ada Campo-Corrente        108.0          3.0                 4.0   \n",
       "Adan Morlun                54.0          0.0                 0.0   \n",
       "Adra Nubarron             162.0          0.0                 0.0   \n",
       "Albina Hafon                0.0          0.0                 0.0   \n",
       "Anda Ribera                80.0          0.0                 0.0   \n",
       "\n",
       "                    Ingrid Barranco  Ruscella Mies Haber  Willem Vasco-Pais  \n",
       "Ada Campo-Corrente              4.0                  1.0                3.0  \n",
       "Adan Morlun                     0.0                  0.0                0.0  \n",
       "Adra Nubarron                   0.0                  2.0                0.0  \n",
       "Albina Hafon                    0.0                  0.0                0.0  \n",
       "Anda Ribera                     0.0                  0.0                0.0  \n",
       "\n",
       "[5 rows x 60 columns]"
      ]
     },
     "execution_count": 183,
     "metadata": {},
     "output_type": "execute_result"
    }
   ],
   "source": [
    "emails_sent.fillna(0, inplace=True)\n",
    "emails_sent.head()"
   ]
  },
  {
   "cell_type": "code",
   "execution_count": 184,
   "metadata": {},
   "outputs": [
    {
     "name": "stdout",
     "output_type": "stream",
     "text": [
      "Index(['Felix Resumir', 'Rachel Pantanal', 'Lars Azada', 'Felix Balas',\n",
      "       'Isande Borrasca', 'Axel Calzas', 'Gustav Cazar', 'Lidelse Dedos',\n",
      "       'Birgitta Frente', 'Vira Frente', 'Adra Nubarron', 'Marin Onda',\n",
      "       'Kare Orilla', 'Elsa Orilla', 'Brand Tempestad', 'Ingrid Barranco',\n",
      "       'Ada Campo-Corrente', 'Sten Sanjorge Jr', 'Orhan Strum',\n",
      "       'Willem Vasco-Pais', 'Bertrand Ovan', 'Albina Hafon', 'Benito Hawelon',\n",
      "       'Claudio Hawelon', 'Henk Mies', 'Valeria Morlun', 'Adan Morlun',\n",
      "       'Cecilia Morluniau', 'Irene Nant', 'Dylan Scozzese', 'Lucas Alcazar',\n",
      "       'Isak Baza', 'Linnea Bergen', 'Nils Calixto', 'Sven Flecha',\n",
      "       'Hideki Cocinaro', 'Inga Ferro', 'Loreto Bodrogi', 'Isia Vann',\n",
      "       'Stenig Fusil', 'Hennie Osvaldo', 'Kanon Herrero', 'Varja Lagos',\n",
      "       'Minke Mies', 'Felix Resumir', 'Edvard Vann', 'Emile Arpa',\n",
      "       'Varro Awelon', 'Mat Bramar', 'Dante Coginian', 'Carla Forluniau',\n",
      "       'Linda Lagos', 'Cornelia Lais', 'Ruscella Mies Haber', 'Anda Ribera',\n",
      "       'Orhan Strum', 'Ada Campo-Corrente', 'Ingrid Barranco',\n",
      "       'Ruscella Mies Haber', 'Willem Vasco-Pais'],\n",
      "      dtype='object')\n"
     ]
    }
   ],
   "source": [
    "print(emails_sent.columns)"
   ]
  },
  {
   "cell_type": "code",
   "execution_count": 185,
   "metadata": {},
   "outputs": [
    {
     "data": {
      "text/plain": [
       "Index(['Felix Resumir', 'Rachel Pantanal', 'Lars Azada', 'Felix Balas',\n",
       "       'Isande Borrasca', 'Axel Calzas', 'Gustav Cazar', 'Lidelse Dedos',\n",
       "       'Birgitta Frente', 'Vira Frente', 'Adra Nubarron', 'Marin Onda',\n",
       "       'Kare Orilla', 'Elsa Orilla', 'Brand Tempestad', 'Ingrid Barranco',\n",
       "       'Ada Campo-Corrente', 'Sten Sanjorge Jr', 'Orhan Strum',\n",
       "       'Willem Vasco-Pais', 'Bertrand Ovan', 'Albina Hafon', 'Benito Hawelon',\n",
       "       'Claudio Hawelon', 'Henk Mies', 'Valeria Morlun', 'Adan Morlun',\n",
       "       'Cecilia Morluniau', 'Irene Nant', 'Dylan Scozzese', 'Lucas Alcazar',\n",
       "       'Isak Baza', 'Linnea Bergen', 'Nils Calixto', 'Sven Flecha',\n",
       "       'Hideki Cocinaro', 'Inga Ferro', 'Loreto Bodrogi', 'Isia Vann',\n",
       "       'Stenig Fusil', 'Hennie Osvaldo', 'Kanon Herrero', 'Varja Lagos',\n",
       "       'Minke Mies', 'Edvard Vann', 'Emile Arpa', 'Varro Awelon', 'Mat Bramar',\n",
       "       'Dante Coginian', 'Carla Forluniau', 'Linda Lagos', 'Cornelia Lais',\n",
       "       'Ruscella Mies Haber', 'Anda Ribera'],\n",
       "      dtype='object')"
      ]
     },
     "execution_count": 185,
     "metadata": {},
     "output_type": "execute_result"
    }
   ],
   "source": [
    "emails_sent = emails_sent.loc[:,~emails_sent.columns.duplicated()].copy()\n",
    "emails_sent.columns"
   ]
  },
  {
   "cell_type": "code",
   "execution_count": 186,
   "metadata": {},
   "outputs": [
    {
     "data": {
      "text/plain": [
       "(54, 54)"
      ]
     },
     "execution_count": 186,
     "metadata": {},
     "output_type": "execute_result"
    }
   ],
   "source": [
    "emails_sent.shape"
   ]
  },
  {
   "cell_type": "code",
   "execution_count": 187,
   "metadata": {},
   "outputs": [
    {
     "data": {
      "text/html": [
       "<div>\n",
       "<style scoped>\n",
       "    .dataframe tbody tr th:only-of-type {\n",
       "        vertical-align: middle;\n",
       "    }\n",
       "\n",
       "    .dataframe tbody tr th {\n",
       "        vertical-align: top;\n",
       "    }\n",
       "\n",
       "    .dataframe thead th {\n",
       "        text-align: right;\n",
       "    }\n",
       "</style>\n",
       "<table border=\"1\" class=\"dataframe\">\n",
       "  <thead>\n",
       "    <tr style=\"text-align: right;\">\n",
       "      <th></th>\n",
       "      <th>Felix Resumir</th>\n",
       "      <th>Rachel Pantanal</th>\n",
       "      <th>Lars Azada</th>\n",
       "      <th>Felix Balas</th>\n",
       "      <th>Isande Borrasca</th>\n",
       "      <th>Axel Calzas</th>\n",
       "      <th>Gustav Cazar</th>\n",
       "      <th>Lidelse Dedos</th>\n",
       "      <th>Birgitta Frente</th>\n",
       "      <th>Vira Frente</th>\n",
       "      <th>...</th>\n",
       "      <th>Edvard Vann</th>\n",
       "      <th>Emile Arpa</th>\n",
       "      <th>Varro Awelon</th>\n",
       "      <th>Mat Bramar</th>\n",
       "      <th>Dante Coginian</th>\n",
       "      <th>Carla Forluniau</th>\n",
       "      <th>Linda Lagos</th>\n",
       "      <th>Cornelia Lais</th>\n",
       "      <th>Ruscella Mies Haber</th>\n",
       "      <th>Anda Ribera</th>\n",
       "    </tr>\n",
       "  </thead>\n",
       "  <tbody>\n",
       "    <tr>\n",
       "      <th>Ada Campo-Corrente</th>\n",
       "      <td>2.0</td>\n",
       "      <td>2.0</td>\n",
       "      <td>4.0</td>\n",
       "      <td>6.0</td>\n",
       "      <td>8.0</td>\n",
       "      <td>10.0</td>\n",
       "      <td>12.0</td>\n",
       "      <td>14.0</td>\n",
       "      <td>16.0</td>\n",
       "      <td>18.0</td>\n",
       "      <td>...</td>\n",
       "      <td>90.0</td>\n",
       "      <td>92.0</td>\n",
       "      <td>94.0</td>\n",
       "      <td>96.0</td>\n",
       "      <td>98.0</td>\n",
       "      <td>100.0</td>\n",
       "      <td>102.0</td>\n",
       "      <td>104.0</td>\n",
       "      <td>106.0</td>\n",
       "      <td>108.0</td>\n",
       "    </tr>\n",
       "    <tr>\n",
       "      <th>Adan Morlun</th>\n",
       "      <td>0.0</td>\n",
       "      <td>1.0</td>\n",
       "      <td>2.0</td>\n",
       "      <td>3.0</td>\n",
       "      <td>4.0</td>\n",
       "      <td>5.0</td>\n",
       "      <td>6.0</td>\n",
       "      <td>7.0</td>\n",
       "      <td>8.0</td>\n",
       "      <td>9.0</td>\n",
       "      <td>...</td>\n",
       "      <td>45.0</td>\n",
       "      <td>75.0</td>\n",
       "      <td>82.0</td>\n",
       "      <td>48.0</td>\n",
       "      <td>88.0</td>\n",
       "      <td>50.0</td>\n",
       "      <td>51.0</td>\n",
       "      <td>52.0</td>\n",
       "      <td>53.0</td>\n",
       "      <td>54.0</td>\n",
       "    </tr>\n",
       "    <tr>\n",
       "      <th>Adra Nubarron</th>\n",
       "      <td>0.0</td>\n",
       "      <td>3.0</td>\n",
       "      <td>19.0</td>\n",
       "      <td>24.0</td>\n",
       "      <td>18.0</td>\n",
       "      <td>18.0</td>\n",
       "      <td>34.0</td>\n",
       "      <td>36.0</td>\n",
       "      <td>39.0</td>\n",
       "      <td>39.0</td>\n",
       "      <td>...</td>\n",
       "      <td>135.0</td>\n",
       "      <td>138.0</td>\n",
       "      <td>141.0</td>\n",
       "      <td>144.0</td>\n",
       "      <td>147.0</td>\n",
       "      <td>150.0</td>\n",
       "      <td>153.0</td>\n",
       "      <td>156.0</td>\n",
       "      <td>159.0</td>\n",
       "      <td>162.0</td>\n",
       "    </tr>\n",
       "    <tr>\n",
       "      <th>Albina Hafon</th>\n",
       "      <td>0.0</td>\n",
       "      <td>2.0</td>\n",
       "      <td>0.0</td>\n",
       "      <td>0.0</td>\n",
       "      <td>0.0</td>\n",
       "      <td>0.0</td>\n",
       "      <td>0.0</td>\n",
       "      <td>0.0</td>\n",
       "      <td>0.0</td>\n",
       "      <td>0.0</td>\n",
       "      <td>...</td>\n",
       "      <td>0.0</td>\n",
       "      <td>32.0</td>\n",
       "      <td>25.0</td>\n",
       "      <td>0.0</td>\n",
       "      <td>38.0</td>\n",
       "      <td>0.0</td>\n",
       "      <td>0.0</td>\n",
       "      <td>0.0</td>\n",
       "      <td>0.0</td>\n",
       "      <td>0.0</td>\n",
       "    </tr>\n",
       "    <tr>\n",
       "      <th>Anda Ribera</th>\n",
       "      <td>0.0</td>\n",
       "      <td>1.0</td>\n",
       "      <td>2.0</td>\n",
       "      <td>3.0</td>\n",
       "      <td>4.0</td>\n",
       "      <td>5.0</td>\n",
       "      <td>6.0</td>\n",
       "      <td>7.0</td>\n",
       "      <td>8.0</td>\n",
       "      <td>9.0</td>\n",
       "      <td>...</td>\n",
       "      <td>45.0</td>\n",
       "      <td>46.0</td>\n",
       "      <td>47.0</td>\n",
       "      <td>48.0</td>\n",
       "      <td>49.0</td>\n",
       "      <td>128.0</td>\n",
       "      <td>103.0</td>\n",
       "      <td>143.0</td>\n",
       "      <td>118.0</td>\n",
       "      <td>80.0</td>\n",
       "    </tr>\n",
       "  </tbody>\n",
       "</table>\n",
       "<p>5 rows × 54 columns</p>\n",
       "</div>"
      ],
      "text/plain": [
       "                    Felix Resumir  Rachel Pantanal  Lars Azada  Felix Balas  \\\n",
       "Ada Campo-Corrente            2.0              2.0         4.0          6.0   \n",
       "Adan Morlun                   0.0              1.0         2.0          3.0   \n",
       "Adra Nubarron                 0.0              3.0        19.0         24.0   \n",
       "Albina Hafon                  0.0              2.0         0.0          0.0   \n",
       "Anda Ribera                   0.0              1.0         2.0          3.0   \n",
       "\n",
       "                    Isande Borrasca  Axel Calzas  Gustav Cazar  Lidelse Dedos  \\\n",
       "Ada Campo-Corrente              8.0         10.0          12.0           14.0   \n",
       "Adan Morlun                     4.0          5.0           6.0            7.0   \n",
       "Adra Nubarron                  18.0         18.0          34.0           36.0   \n",
       "Albina Hafon                    0.0          0.0           0.0            0.0   \n",
       "Anda Ribera                     4.0          5.0           6.0            7.0   \n",
       "\n",
       "                    Birgitta Frente  Vira Frente  ...  Edvard Vann  \\\n",
       "Ada Campo-Corrente             16.0         18.0  ...         90.0   \n",
       "Adan Morlun                     8.0          9.0  ...         45.0   \n",
       "Adra Nubarron                  39.0         39.0  ...        135.0   \n",
       "Albina Hafon                    0.0          0.0  ...          0.0   \n",
       "Anda Ribera                     8.0          9.0  ...         45.0   \n",
       "\n",
       "                    Emile Arpa  Varro Awelon  Mat Bramar  Dante Coginian  \\\n",
       "Ada Campo-Corrente        92.0          94.0        96.0            98.0   \n",
       "Adan Morlun               75.0          82.0        48.0            88.0   \n",
       "Adra Nubarron            138.0         141.0       144.0           147.0   \n",
       "Albina Hafon              32.0          25.0         0.0            38.0   \n",
       "Anda Ribera               46.0          47.0        48.0            49.0   \n",
       "\n",
       "                    Carla Forluniau  Linda Lagos  Cornelia Lais  \\\n",
       "Ada Campo-Corrente            100.0        102.0          104.0   \n",
       "Adan Morlun                    50.0         51.0           52.0   \n",
       "Adra Nubarron                 150.0        153.0          156.0   \n",
       "Albina Hafon                    0.0          0.0            0.0   \n",
       "Anda Ribera                   128.0        103.0          143.0   \n",
       "\n",
       "                    Ruscella Mies Haber  Anda Ribera  \n",
       "Ada Campo-Corrente                106.0        108.0  \n",
       "Adan Morlun                        53.0         54.0  \n",
       "Adra Nubarron                     159.0        162.0  \n",
       "Albina Hafon                        0.0          0.0  \n",
       "Anda Ribera                       118.0         80.0  \n",
       "\n",
       "[5 rows x 54 columns]"
      ]
     },
     "execution_count": 187,
     "metadata": {},
     "output_type": "execute_result"
    }
   ],
   "source": [
    "emails_sent.head()"
   ]
  },
  {
   "attachments": {},
   "cell_type": "markdown",
   "metadata": {},
   "source": [
    "Reads row x column. ie. Ada sent Felix Resumir 2 emails."
   ]
  },
  {
   "cell_type": "code",
   "execution_count": 188,
   "metadata": {},
   "outputs": [
    {
     "data": {
      "text/html": [
       "<div>\n",
       "<style scoped>\n",
       "    .dataframe tbody tr th:only-of-type {\n",
       "        vertical-align: middle;\n",
       "    }\n",
       "\n",
       "    .dataframe tbody tr th {\n",
       "        vertical-align: top;\n",
       "    }\n",
       "\n",
       "    .dataframe thead th {\n",
       "        text-align: right;\n",
       "    }\n",
       "</style>\n",
       "<table border=\"1\" class=\"dataframe\">\n",
       "  <thead>\n",
       "    <tr style=\"text-align: right;\">\n",
       "      <th></th>\n",
       "      <th>Felix Resumir</th>\n",
       "      <th>Rachel Pantanal</th>\n",
       "      <th>Lars Azada</th>\n",
       "      <th>Felix Balas</th>\n",
       "      <th>Isande Borrasca</th>\n",
       "      <th>Axel Calzas</th>\n",
       "      <th>Gustav Cazar</th>\n",
       "      <th>Lidelse Dedos</th>\n",
       "      <th>Birgitta Frente</th>\n",
       "      <th>Vira Frente</th>\n",
       "      <th>...</th>\n",
       "      <th>Edvard Vann</th>\n",
       "      <th>Emile Arpa</th>\n",
       "      <th>Varro Awelon</th>\n",
       "      <th>Mat Bramar</th>\n",
       "      <th>Dante Coginian</th>\n",
       "      <th>Carla Forluniau</th>\n",
       "      <th>Linda Lagos</th>\n",
       "      <th>Cornelia Lais</th>\n",
       "      <th>Ruscella Mies Haber</th>\n",
       "      <th>Anda Ribera</th>\n",
       "    </tr>\n",
       "  </thead>\n",
       "  <tbody>\n",
       "    <tr>\n",
       "      <th>count</th>\n",
       "      <td>54.000000</td>\n",
       "      <td>54.000000</td>\n",
       "      <td>54.000000</td>\n",
       "      <td>54.000000</td>\n",
       "      <td>54.000000</td>\n",
       "      <td>54.000000</td>\n",
       "      <td>54.000000</td>\n",
       "      <td>54.000000</td>\n",
       "      <td>54.000000</td>\n",
       "      <td>54.000000</td>\n",
       "      <td>...</td>\n",
       "      <td>54.000000</td>\n",
       "      <td>54.000000</td>\n",
       "      <td>54.000000</td>\n",
       "      <td>54.000000</td>\n",
       "      <td>54.000000</td>\n",
       "      <td>54.000000</td>\n",
       "      <td>54.000000</td>\n",
       "      <td>54.000000</td>\n",
       "      <td>54.000000</td>\n",
       "      <td>54.000000</td>\n",
       "    </tr>\n",
       "    <tr>\n",
       "      <th>mean</th>\n",
       "      <td>0.166667</td>\n",
       "      <td>1.740741</td>\n",
       "      <td>9.259259</td>\n",
       "      <td>9.537037</td>\n",
       "      <td>9.740741</td>\n",
       "      <td>15.259259</td>\n",
       "      <td>12.185185</td>\n",
       "      <td>17.444444</td>\n",
       "      <td>16.962963</td>\n",
       "      <td>19.111111</td>\n",
       "      <td>...</td>\n",
       "      <td>69.037037</td>\n",
       "      <td>74.240741</td>\n",
       "      <td>76.370370</td>\n",
       "      <td>71.111111</td>\n",
       "      <td>80.962963</td>\n",
       "      <td>86.962963</td>\n",
       "      <td>84.148148</td>\n",
       "      <td>92.074074</td>\n",
       "      <td>90.148148</td>\n",
       "      <td>84.296296</td>\n",
       "    </tr>\n",
       "    <tr>\n",
       "      <th>std</th>\n",
       "      <td>0.540789</td>\n",
       "      <td>3.204862</td>\n",
       "      <td>13.420887</td>\n",
       "      <td>13.110147</td>\n",
       "      <td>13.848486</td>\n",
       "      <td>20.966447</td>\n",
       "      <td>19.027363</td>\n",
       "      <td>24.964629</td>\n",
       "      <td>25.803293</td>\n",
       "      <td>29.127350</td>\n",
       "      <td>...</td>\n",
       "      <td>136.027739</td>\n",
       "      <td>138.089926</td>\n",
       "      <td>140.908681</td>\n",
       "      <td>145.274583</td>\n",
       "      <td>146.764085</td>\n",
       "      <td>167.801653</td>\n",
       "      <td>164.696337</td>\n",
       "      <td>176.975518</td>\n",
       "      <td>174.078209</td>\n",
       "      <td>168.262781</td>\n",
       "    </tr>\n",
       "    <tr>\n",
       "      <th>min</th>\n",
       "      <td>0.000000</td>\n",
       "      <td>0.000000</td>\n",
       "      <td>0.000000</td>\n",
       "      <td>0.000000</td>\n",
       "      <td>0.000000</td>\n",
       "      <td>0.000000</td>\n",
       "      <td>0.000000</td>\n",
       "      <td>0.000000</td>\n",
       "      <td>0.000000</td>\n",
       "      <td>0.000000</td>\n",
       "      <td>...</td>\n",
       "      <td>0.000000</td>\n",
       "      <td>0.000000</td>\n",
       "      <td>0.000000</td>\n",
       "      <td>0.000000</td>\n",
       "      <td>0.000000</td>\n",
       "      <td>0.000000</td>\n",
       "      <td>0.000000</td>\n",
       "      <td>0.000000</td>\n",
       "      <td>0.000000</td>\n",
       "      <td>0.000000</td>\n",
       "    </tr>\n",
       "    <tr>\n",
       "      <th>25%</th>\n",
       "      <td>0.000000</td>\n",
       "      <td>0.000000</td>\n",
       "      <td>0.000000</td>\n",
       "      <td>0.000000</td>\n",
       "      <td>0.000000</td>\n",
       "      <td>0.000000</td>\n",
       "      <td>0.000000</td>\n",
       "      <td>0.000000</td>\n",
       "      <td>0.000000</td>\n",
       "      <td>0.000000</td>\n",
       "      <td>...</td>\n",
       "      <td>0.000000</td>\n",
       "      <td>0.000000</td>\n",
       "      <td>0.000000</td>\n",
       "      <td>0.000000</td>\n",
       "      <td>0.000000</td>\n",
       "      <td>0.000000</td>\n",
       "      <td>0.000000</td>\n",
       "      <td>0.000000</td>\n",
       "      <td>0.000000</td>\n",
       "      <td>0.000000</td>\n",
       "    </tr>\n",
       "    <tr>\n",
       "      <th>50%</th>\n",
       "      <td>0.000000</td>\n",
       "      <td>1.000000</td>\n",
       "      <td>2.000000</td>\n",
       "      <td>3.000000</td>\n",
       "      <td>4.000000</td>\n",
       "      <td>5.000000</td>\n",
       "      <td>6.000000</td>\n",
       "      <td>7.000000</td>\n",
       "      <td>8.000000</td>\n",
       "      <td>9.000000</td>\n",
       "      <td>...</td>\n",
       "      <td>45.000000</td>\n",
       "      <td>46.000000</td>\n",
       "      <td>47.000000</td>\n",
       "      <td>48.000000</td>\n",
       "      <td>49.000000</td>\n",
       "      <td>50.000000</td>\n",
       "      <td>51.000000</td>\n",
       "      <td>52.000000</td>\n",
       "      <td>53.000000</td>\n",
       "      <td>54.000000</td>\n",
       "    </tr>\n",
       "    <tr>\n",
       "      <th>75%</th>\n",
       "      <td>0.000000</td>\n",
       "      <td>2.000000</td>\n",
       "      <td>16.000000</td>\n",
       "      <td>14.500000</td>\n",
       "      <td>12.750000</td>\n",
       "      <td>22.500000</td>\n",
       "      <td>12.750000</td>\n",
       "      <td>24.750000</td>\n",
       "      <td>16.750000</td>\n",
       "      <td>22.250000</td>\n",
       "      <td>...</td>\n",
       "      <td>90.000000</td>\n",
       "      <td>92.000000</td>\n",
       "      <td>94.000000</td>\n",
       "      <td>96.000000</td>\n",
       "      <td>98.000000</td>\n",
       "      <td>100.000000</td>\n",
       "      <td>102.000000</td>\n",
       "      <td>104.000000</td>\n",
       "      <td>106.000000</td>\n",
       "      <td>108.000000</td>\n",
       "    </tr>\n",
       "    <tr>\n",
       "      <th>max</th>\n",
       "      <td>3.000000</td>\n",
       "      <td>20.000000</td>\n",
       "      <td>51.000000</td>\n",
       "      <td>60.000000</td>\n",
       "      <td>80.000000</td>\n",
       "      <td>100.000000</td>\n",
       "      <td>120.000000</td>\n",
       "      <td>140.000000</td>\n",
       "      <td>160.000000</td>\n",
       "      <td>180.000000</td>\n",
       "      <td>...</td>\n",
       "      <td>900.000000</td>\n",
       "      <td>920.000000</td>\n",
       "      <td>940.000000</td>\n",
       "      <td>960.000000</td>\n",
       "      <td>980.000000</td>\n",
       "      <td>1108.000000</td>\n",
       "      <td>1092.000000</td>\n",
       "      <td>1166.000000</td>\n",
       "      <td>1150.000000</td>\n",
       "      <td>1116.000000</td>\n",
       "    </tr>\n",
       "  </tbody>\n",
       "</table>\n",
       "<p>8 rows × 54 columns</p>\n",
       "</div>"
      ],
      "text/plain": [
       "       Felix Resumir  Rachel Pantanal  Lars Azada  Felix Balas  \\\n",
       "count      54.000000        54.000000   54.000000    54.000000   \n",
       "mean        0.166667         1.740741    9.259259     9.537037   \n",
       "std         0.540789         3.204862   13.420887    13.110147   \n",
       "min         0.000000         0.000000    0.000000     0.000000   \n",
       "25%         0.000000         0.000000    0.000000     0.000000   \n",
       "50%         0.000000         1.000000    2.000000     3.000000   \n",
       "75%         0.000000         2.000000   16.000000    14.500000   \n",
       "max         3.000000        20.000000   51.000000    60.000000   \n",
       "\n",
       "       Isande Borrasca  Axel Calzas  Gustav Cazar  Lidelse Dedos  \\\n",
       "count        54.000000    54.000000     54.000000      54.000000   \n",
       "mean          9.740741    15.259259     12.185185      17.444444   \n",
       "std          13.848486    20.966447     19.027363      24.964629   \n",
       "min           0.000000     0.000000      0.000000       0.000000   \n",
       "25%           0.000000     0.000000      0.000000       0.000000   \n",
       "50%           4.000000     5.000000      6.000000       7.000000   \n",
       "75%          12.750000    22.500000     12.750000      24.750000   \n",
       "max          80.000000   100.000000    120.000000     140.000000   \n",
       "\n",
       "       Birgitta Frente  Vira Frente  ...  Edvard Vann  Emile Arpa  \\\n",
       "count        54.000000    54.000000  ...    54.000000   54.000000   \n",
       "mean         16.962963    19.111111  ...    69.037037   74.240741   \n",
       "std          25.803293    29.127350  ...   136.027739  138.089926   \n",
       "min           0.000000     0.000000  ...     0.000000    0.000000   \n",
       "25%           0.000000     0.000000  ...     0.000000    0.000000   \n",
       "50%           8.000000     9.000000  ...    45.000000   46.000000   \n",
       "75%          16.750000    22.250000  ...    90.000000   92.000000   \n",
       "max         160.000000   180.000000  ...   900.000000  920.000000   \n",
       "\n",
       "       Varro Awelon  Mat Bramar  Dante Coginian  Carla Forluniau  Linda Lagos  \\\n",
       "count     54.000000   54.000000       54.000000        54.000000    54.000000   \n",
       "mean      76.370370   71.111111       80.962963        86.962963    84.148148   \n",
       "std      140.908681  145.274583      146.764085       167.801653   164.696337   \n",
       "min        0.000000    0.000000        0.000000         0.000000     0.000000   \n",
       "25%        0.000000    0.000000        0.000000         0.000000     0.000000   \n",
       "50%       47.000000   48.000000       49.000000        50.000000    51.000000   \n",
       "75%       94.000000   96.000000       98.000000       100.000000   102.000000   \n",
       "max      940.000000  960.000000      980.000000      1108.000000  1092.000000   \n",
       "\n",
       "       Cornelia Lais  Ruscella Mies Haber  Anda Ribera  \n",
       "count      54.000000            54.000000    54.000000  \n",
       "mean       92.074074            90.148148    84.296296  \n",
       "std       176.975518           174.078209   168.262781  \n",
       "min         0.000000             0.000000     0.000000  \n",
       "25%         0.000000             0.000000     0.000000  \n",
       "50%        52.000000            53.000000    54.000000  \n",
       "75%       104.000000           106.000000   108.000000  \n",
       "max      1166.000000          1150.000000  1116.000000  \n",
       "\n",
       "[8 rows x 54 columns]"
      ]
     },
     "execution_count": 188,
     "metadata": {},
     "output_type": "execute_result"
    }
   ],
   "source": [
    "emails_sent.describe()"
   ]
  },
  {
   "cell_type": "code",
   "execution_count": 189,
   "metadata": {},
   "outputs": [
    {
     "data": {
      "application/vnd.plotly.v1+json": {
       "config": {
        "plotlyServerURL": "https://plot.ly"
       },
       "data": [
        {
         "alignmentgroup": "True",
         "hovertemplate": "variable=Felix Resumir<br>index=%{x}<br>value=%{y}<extra></extra>",
         "legendgroup": "Felix Resumir",
         "marker": {
          "color": "#636efa",
          "pattern": {
           "shape": ""
          }
         },
         "name": "Felix Resumir",
         "offsetgroup": "Felix Resumir",
         "orientation": "v",
         "showlegend": true,
         "textposition": "auto",
         "type": "bar",
         "x": [
          "Ada Campo-Corrente",
          "Adan Morlun",
          "Adra Nubarron",
          "Albina Hafon",
          "Anda Ribera",
          "Axel Calzas",
          "Benito Hawelon",
          "Bertrand Ovan",
          "Birgitta Frente",
          "Brand Tempestad",
          "Carla Forluniau",
          "Cecilia Morluniau",
          "Claudio Hawelon",
          "Cornelia Lais",
          "Dante Coginian",
          "Dylan Scozzese",
          "Edvard Vann",
          "Elsa Orilla",
          "Emile Arpa",
          "Felix Balas",
          "Felix Resumir",
          "Gustav Cazar",
          "Henk Mies",
          "Hennie Osvaldo",
          "Hideki Cocinaro",
          "Inga Ferro",
          "Ingrid Barranco",
          "Irene Nant",
          "Isak Baza",
          "Isande Borrasca",
          "Isia Vann",
          "Kanon Herrero",
          "Kare Orilla",
          "Lars Azada",
          "Lidelse Dedos",
          "Linda Lagos",
          "Linnea Bergen",
          "Loreto Bodrogi",
          "Lucas Alcazar",
          "Marin Onda",
          "Mat Bramar",
          "Minke Mies",
          "Nils Calixto",
          "Orhan Strum",
          "Rachel Pantanal",
          "Ruscella Mies Haber",
          "Sten Sanjorge Jr ",
          "Stenig Fusil",
          "Sven Flecha",
          "Valeria Morlun",
          "Varja Lagos",
          "Varro Awelon",
          "Vira Frente",
          "Willem Vasco-Pais"
         ],
         "xaxis": "x",
         "y": [
          2,
          0,
          0,
          0,
          0,
          0,
          3,
          0,
          0,
          0,
          0,
          0,
          0,
          0,
          1,
          0,
          1,
          0,
          0,
          0,
          1,
          0,
          0,
          0,
          0,
          0,
          0,
          0,
          0,
          0,
          0,
          1,
          0,
          0,
          0,
          0,
          0,
          0,
          0,
          0,
          0,
          0,
          0,
          0,
          0,
          0,
          0,
          0,
          0,
          0,
          0,
          0,
          0,
          0
         ],
         "yaxis": "y"
        },
        {
         "alignmentgroup": "True",
         "hovertemplate": "variable=Rachel Pantanal<br>index=%{x}<br>value=%{y}<extra></extra>",
         "legendgroup": "Rachel Pantanal",
         "marker": {
          "color": "#EF553B",
          "pattern": {
           "shape": ""
          }
         },
         "name": "Rachel Pantanal",
         "offsetgroup": "Rachel Pantanal",
         "orientation": "v",
         "showlegend": true,
         "textposition": "auto",
         "type": "bar",
         "x": [
          "Ada Campo-Corrente",
          "Adan Morlun",
          "Adra Nubarron",
          "Albina Hafon",
          "Anda Ribera",
          "Axel Calzas",
          "Benito Hawelon",
          "Bertrand Ovan",
          "Birgitta Frente",
          "Brand Tempestad",
          "Carla Forluniau",
          "Cecilia Morluniau",
          "Claudio Hawelon",
          "Cornelia Lais",
          "Dante Coginian",
          "Dylan Scozzese",
          "Edvard Vann",
          "Elsa Orilla",
          "Emile Arpa",
          "Felix Balas",
          "Felix Resumir",
          "Gustav Cazar",
          "Henk Mies",
          "Hennie Osvaldo",
          "Hideki Cocinaro",
          "Inga Ferro",
          "Ingrid Barranco",
          "Irene Nant",
          "Isak Baza",
          "Isande Borrasca",
          "Isia Vann",
          "Kanon Herrero",
          "Kare Orilla",
          "Lars Azada",
          "Lidelse Dedos",
          "Linda Lagos",
          "Linnea Bergen",
          "Loreto Bodrogi",
          "Lucas Alcazar",
          "Marin Onda",
          "Mat Bramar",
          "Minke Mies",
          "Nils Calixto",
          "Orhan Strum",
          "Rachel Pantanal",
          "Ruscella Mies Haber",
          "Sten Sanjorge Jr ",
          "Stenig Fusil",
          "Sven Flecha",
          "Valeria Morlun",
          "Varja Lagos",
          "Varro Awelon",
          "Vira Frente",
          "Willem Vasco-Pais"
         ],
         "xaxis": "x",
         "y": [
          2,
          1,
          3,
          2,
          1,
          2,
          1,
          0,
          0,
          0,
          0,
          0,
          2,
          1,
          1,
          1,
          2,
          2,
          1,
          0,
          2,
          1,
          0,
          5,
          1,
          2,
          5,
          1,
          2,
          2,
          9,
          1,
          0,
          2,
          0,
          0,
          2,
          1,
          2,
          1,
          20,
          1,
          0,
          0,
          0,
          10,
          0,
          0,
          0,
          0,
          0,
          1,
          0,
          1
         ],
         "yaxis": "y"
        },
        {
         "alignmentgroup": "True",
         "hovertemplate": "variable=Lars Azada<br>index=%{x}<br>value=%{y}<extra></extra>",
         "legendgroup": "Lars Azada",
         "marker": {
          "color": "#00cc96",
          "pattern": {
           "shape": ""
          }
         },
         "name": "Lars Azada",
         "offsetgroup": "Lars Azada",
         "orientation": "v",
         "showlegend": true,
         "textposition": "auto",
         "type": "bar",
         "x": [
          "Ada Campo-Corrente",
          "Adan Morlun",
          "Adra Nubarron",
          "Albina Hafon",
          "Anda Ribera",
          "Axel Calzas",
          "Benito Hawelon",
          "Bertrand Ovan",
          "Birgitta Frente",
          "Brand Tempestad",
          "Carla Forluniau",
          "Cecilia Morluniau",
          "Claudio Hawelon",
          "Cornelia Lais",
          "Dante Coginian",
          "Dylan Scozzese",
          "Edvard Vann",
          "Elsa Orilla",
          "Emile Arpa",
          "Felix Balas",
          "Felix Resumir",
          "Gustav Cazar",
          "Henk Mies",
          "Hennie Osvaldo",
          "Hideki Cocinaro",
          "Inga Ferro",
          "Ingrid Barranco",
          "Irene Nant",
          "Isak Baza",
          "Isande Borrasca",
          "Isia Vann",
          "Kanon Herrero",
          "Kare Orilla",
          "Lars Azada",
          "Lidelse Dedos",
          "Linda Lagos",
          "Linnea Bergen",
          "Loreto Bodrogi",
          "Lucas Alcazar",
          "Marin Onda",
          "Mat Bramar",
          "Minke Mies",
          "Nils Calixto",
          "Orhan Strum",
          "Rachel Pantanal",
          "Ruscella Mies Haber",
          "Sten Sanjorge Jr ",
          "Stenig Fusil",
          "Sven Flecha",
          "Valeria Morlun",
          "Varja Lagos",
          "Varro Awelon",
          "Vira Frente",
          "Willem Vasco-Pais"
         ],
         "xaxis": "x",
         "y": [
          4,
          2,
          19,
          0,
          2,
          33,
          2,
          0,
          20,
          38,
          0,
          0,
          2,
          2,
          2,
          2,
          4,
          44,
          2,
          22,
          4,
          30,
          0,
          6,
          2,
          4,
          10,
          2,
          4,
          28,
          0,
          2,
          10,
          51,
          31,
          0,
          4,
          2,
          4,
          18,
          40,
          2,
          0,
          0,
          0,
          20,
          0,
          0,
          0,
          0,
          0,
          2,
          22,
          2
         ],
         "yaxis": "y"
        },
        {
         "alignmentgroup": "True",
         "hovertemplate": "variable=Felix Balas<br>index=%{x}<br>value=%{y}<extra></extra>",
         "legendgroup": "Felix Balas",
         "marker": {
          "color": "#ab63fa",
          "pattern": {
           "shape": ""
          }
         },
         "name": "Felix Balas",
         "offsetgroup": "Felix Balas",
         "orientation": "v",
         "showlegend": true,
         "textposition": "auto",
         "type": "bar",
         "x": [
          "Ada Campo-Corrente",
          "Adan Morlun",
          "Adra Nubarron",
          "Albina Hafon",
          "Anda Ribera",
          "Axel Calzas",
          "Benito Hawelon",
          "Bertrand Ovan",
          "Birgitta Frente",
          "Brand Tempestad",
          "Carla Forluniau",
          "Cecilia Morluniau",
          "Claudio Hawelon",
          "Cornelia Lais",
          "Dante Coginian",
          "Dylan Scozzese",
          "Edvard Vann",
          "Elsa Orilla",
          "Emile Arpa",
          "Felix Balas",
          "Felix Resumir",
          "Gustav Cazar",
          "Henk Mies",
          "Hennie Osvaldo",
          "Hideki Cocinaro",
          "Inga Ferro",
          "Ingrid Barranco",
          "Irene Nant",
          "Isak Baza",
          "Isande Borrasca",
          "Isia Vann",
          "Kanon Herrero",
          "Kare Orilla",
          "Lars Azada",
          "Lidelse Dedos",
          "Linda Lagos",
          "Linnea Bergen",
          "Loreto Bodrogi",
          "Lucas Alcazar",
          "Marin Onda",
          "Mat Bramar",
          "Minke Mies",
          "Nils Calixto",
          "Orhan Strum",
          "Rachel Pantanal",
          "Ruscella Mies Haber",
          "Sten Sanjorge Jr ",
          "Stenig Fusil",
          "Sven Flecha",
          "Valeria Morlun",
          "Varja Lagos",
          "Varro Awelon",
          "Vira Frente",
          "Willem Vasco-Pais"
         ],
         "xaxis": "x",
         "y": [
          6,
          3,
          24,
          0,
          3,
          28,
          3,
          0,
          6,
          38,
          0,
          0,
          3,
          3,
          3,
          3,
          6,
          46,
          3,
          25,
          6,
          22,
          0,
          9,
          3,
          6,
          15,
          3,
          6,
          26,
          0,
          3,
          13,
          24,
          27,
          0,
          6,
          3,
          6,
          17,
          60,
          3,
          0,
          0,
          0,
          30,
          0,
          0,
          0,
          0,
          0,
          3,
          18,
          3
         ],
         "yaxis": "y"
        },
        {
         "alignmentgroup": "True",
         "hovertemplate": "variable=Isande Borrasca<br>index=%{x}<br>value=%{y}<extra></extra>",
         "legendgroup": "Isande Borrasca",
         "marker": {
          "color": "#FFA15A",
          "pattern": {
           "shape": ""
          }
         },
         "name": "Isande Borrasca",
         "offsetgroup": "Isande Borrasca",
         "orientation": "v",
         "showlegend": true,
         "textposition": "auto",
         "type": "bar",
         "x": [
          "Ada Campo-Corrente",
          "Adan Morlun",
          "Adra Nubarron",
          "Albina Hafon",
          "Anda Ribera",
          "Axel Calzas",
          "Benito Hawelon",
          "Bertrand Ovan",
          "Birgitta Frente",
          "Brand Tempestad",
          "Carla Forluniau",
          "Cecilia Morluniau",
          "Claudio Hawelon",
          "Cornelia Lais",
          "Dante Coginian",
          "Dylan Scozzese",
          "Edvard Vann",
          "Elsa Orilla",
          "Emile Arpa",
          "Felix Balas",
          "Felix Resumir",
          "Gustav Cazar",
          "Henk Mies",
          "Hennie Osvaldo",
          "Hideki Cocinaro",
          "Inga Ferro",
          "Ingrid Barranco",
          "Irene Nant",
          "Isak Baza",
          "Isande Borrasca",
          "Isia Vann",
          "Kanon Herrero",
          "Kare Orilla",
          "Lars Azada",
          "Lidelse Dedos",
          "Linda Lagos",
          "Linnea Bergen",
          "Loreto Bodrogi",
          "Lucas Alcazar",
          "Marin Onda",
          "Mat Bramar",
          "Minke Mies",
          "Nils Calixto",
          "Orhan Strum",
          "Rachel Pantanal",
          "Ruscella Mies Haber",
          "Sten Sanjorge Jr ",
          "Stenig Fusil",
          "Sven Flecha",
          "Valeria Morlun",
          "Varja Lagos",
          "Varro Awelon",
          "Vira Frente",
          "Willem Vasco-Pais"
         ],
         "xaxis": "x",
         "y": [
          8,
          4,
          18,
          0,
          4,
          23,
          4,
          0,
          13,
          30,
          0,
          0,
          4,
          4,
          4,
          4,
          8,
          28,
          4,
          18,
          8,
          18,
          0,
          12,
          4,
          8,
          20,
          4,
          8,
          41,
          0,
          4,
          19,
          12,
          16,
          0,
          8,
          4,
          8,
          14,
          80,
          4,
          0,
          0,
          0,
          40,
          0,
          0,
          0,
          0,
          0,
          4,
          8,
          4
         ],
         "yaxis": "y"
        },
        {
         "alignmentgroup": "True",
         "hovertemplate": "variable=Axel Calzas<br>index=%{x}<br>value=%{y}<extra></extra>",
         "legendgroup": "Axel Calzas",
         "marker": {
          "color": "#19d3f3",
          "pattern": {
           "shape": ""
          }
         },
         "name": "Axel Calzas",
         "offsetgroup": "Axel Calzas",
         "orientation": "v",
         "showlegend": true,
         "textposition": "auto",
         "type": "bar",
         "x": [
          "Ada Campo-Corrente",
          "Adan Morlun",
          "Adra Nubarron",
          "Albina Hafon",
          "Anda Ribera",
          "Axel Calzas",
          "Benito Hawelon",
          "Bertrand Ovan",
          "Birgitta Frente",
          "Brand Tempestad",
          "Carla Forluniau",
          "Cecilia Morluniau",
          "Claudio Hawelon",
          "Cornelia Lais",
          "Dante Coginian",
          "Dylan Scozzese",
          "Edvard Vann",
          "Elsa Orilla",
          "Emile Arpa",
          "Felix Balas",
          "Felix Resumir",
          "Gustav Cazar",
          "Henk Mies",
          "Hennie Osvaldo",
          "Hideki Cocinaro",
          "Inga Ferro",
          "Ingrid Barranco",
          "Irene Nant",
          "Isak Baza",
          "Isande Borrasca",
          "Isia Vann",
          "Kanon Herrero",
          "Kare Orilla",
          "Lars Azada",
          "Lidelse Dedos",
          "Linda Lagos",
          "Linnea Bergen",
          "Loreto Bodrogi",
          "Lucas Alcazar",
          "Marin Onda",
          "Mat Bramar",
          "Minke Mies",
          "Nils Calixto",
          "Orhan Strum",
          "Rachel Pantanal",
          "Ruscella Mies Haber",
          "Sten Sanjorge Jr ",
          "Stenig Fusil",
          "Sven Flecha",
          "Valeria Morlun",
          "Varja Lagos",
          "Varro Awelon",
          "Vira Frente",
          "Willem Vasco-Pais"
         ],
         "xaxis": "x",
         "y": [
          10,
          5,
          18,
          0,
          5,
          57,
          5,
          0,
          24,
          49,
          0,
          0,
          5,
          5,
          5,
          5,
          10,
          69,
          5,
          27,
          10,
          39,
          0,
          15,
          5,
          10,
          25,
          5,
          10,
          55,
          0,
          5,
          30,
          42,
          28,
          0,
          10,
          5,
          10,
          18,
          100,
          5,
          0,
          0,
          0,
          50,
          0,
          0,
          0,
          0,
          0,
          5,
          33,
          5
         ],
         "yaxis": "y"
        },
        {
         "alignmentgroup": "True",
         "hovertemplate": "variable=Gustav Cazar<br>index=%{x}<br>value=%{y}<extra></extra>",
         "legendgroup": "Gustav Cazar",
         "marker": {
          "color": "#FF6692",
          "pattern": {
           "shape": ""
          }
         },
         "name": "Gustav Cazar",
         "offsetgroup": "Gustav Cazar",
         "orientation": "v",
         "showlegend": true,
         "textposition": "auto",
         "type": "bar",
         "x": [
          "Ada Campo-Corrente",
          "Adan Morlun",
          "Adra Nubarron",
          "Albina Hafon",
          "Anda Ribera",
          "Axel Calzas",
          "Benito Hawelon",
          "Bertrand Ovan",
          "Birgitta Frente",
          "Brand Tempestad",
          "Carla Forluniau",
          "Cecilia Morluniau",
          "Claudio Hawelon",
          "Cornelia Lais",
          "Dante Coginian",
          "Dylan Scozzese",
          "Edvard Vann",
          "Elsa Orilla",
          "Emile Arpa",
          "Felix Balas",
          "Felix Resumir",
          "Gustav Cazar",
          "Henk Mies",
          "Hennie Osvaldo",
          "Hideki Cocinaro",
          "Inga Ferro",
          "Ingrid Barranco",
          "Irene Nant",
          "Isak Baza",
          "Isande Borrasca",
          "Isia Vann",
          "Kanon Herrero",
          "Kare Orilla",
          "Lars Azada",
          "Lidelse Dedos",
          "Linda Lagos",
          "Linnea Bergen",
          "Loreto Bodrogi",
          "Lucas Alcazar",
          "Marin Onda",
          "Mat Bramar",
          "Minke Mies",
          "Nils Calixto",
          "Orhan Strum",
          "Rachel Pantanal",
          "Ruscella Mies Haber",
          "Sten Sanjorge Jr ",
          "Stenig Fusil",
          "Sven Flecha",
          "Valeria Morlun",
          "Varja Lagos",
          "Varro Awelon",
          "Vira Frente",
          "Willem Vasco-Pais"
         ],
         "xaxis": "x",
         "y": [
          12,
          6,
          34,
          0,
          6,
          33,
          6,
          0,
          13,
          14,
          0,
          0,
          6,
          6,
          6,
          6,
          12,
          29,
          6,
          4,
          12,
          29,
          0,
          18,
          6,
          12,
          30,
          6,
          12,
          30,
          0,
          6,
          2,
          15,
          12,
          0,
          12,
          6,
          12,
          18,
          120,
          6,
          0,
          0,
          0,
          60,
          0,
          0,
          0,
          0,
          0,
          6,
          23,
          6
         ],
         "yaxis": "y"
        },
        {
         "alignmentgroup": "True",
         "hovertemplate": "variable=Lidelse Dedos<br>index=%{x}<br>value=%{y}<extra></extra>",
         "legendgroup": "Lidelse Dedos",
         "marker": {
          "color": "#B6E880",
          "pattern": {
           "shape": ""
          }
         },
         "name": "Lidelse Dedos",
         "offsetgroup": "Lidelse Dedos",
         "orientation": "v",
         "showlegend": true,
         "textposition": "auto",
         "type": "bar",
         "x": [
          "Ada Campo-Corrente",
          "Adan Morlun",
          "Adra Nubarron",
          "Albina Hafon",
          "Anda Ribera",
          "Axel Calzas",
          "Benito Hawelon",
          "Bertrand Ovan",
          "Birgitta Frente",
          "Brand Tempestad",
          "Carla Forluniau",
          "Cecilia Morluniau",
          "Claudio Hawelon",
          "Cornelia Lais",
          "Dante Coginian",
          "Dylan Scozzese",
          "Edvard Vann",
          "Elsa Orilla",
          "Emile Arpa",
          "Felix Balas",
          "Felix Resumir",
          "Gustav Cazar",
          "Henk Mies",
          "Hennie Osvaldo",
          "Hideki Cocinaro",
          "Inga Ferro",
          "Ingrid Barranco",
          "Irene Nant",
          "Isak Baza",
          "Isande Borrasca",
          "Isia Vann",
          "Kanon Herrero",
          "Kare Orilla",
          "Lars Azada",
          "Lidelse Dedos",
          "Linda Lagos",
          "Linnea Bergen",
          "Loreto Bodrogi",
          "Lucas Alcazar",
          "Marin Onda",
          "Mat Bramar",
          "Minke Mies",
          "Nils Calixto",
          "Orhan Strum",
          "Rachel Pantanal",
          "Ruscella Mies Haber",
          "Sten Sanjorge Jr ",
          "Stenig Fusil",
          "Sven Flecha",
          "Valeria Morlun",
          "Varja Lagos",
          "Varro Awelon",
          "Vira Frente",
          "Willem Vasco-Pais"
         ],
         "xaxis": "x",
         "y": [
          14,
          7,
          36,
          0,
          7,
          40,
          7,
          0,
          0,
          39,
          0,
          0,
          7,
          7,
          7,
          7,
          14,
          79,
          7,
          24,
          14,
          45,
          0,
          21,
          7,
          14,
          35,
          7,
          14,
          33,
          0,
          7,
          28,
          48,
          49,
          0,
          14,
          7,
          14,
          25,
          140,
          7,
          0,
          0,
          0,
          70,
          0,
          0,
          0,
          0,
          0,
          7,
          27,
          7
         ],
         "yaxis": "y"
        },
        {
         "alignmentgroup": "True",
         "hovertemplate": "variable=Birgitta Frente<br>index=%{x}<br>value=%{y}<extra></extra>",
         "legendgroup": "Birgitta Frente",
         "marker": {
          "color": "#FF97FF",
          "pattern": {
           "shape": ""
          }
         },
         "name": "Birgitta Frente",
         "offsetgroup": "Birgitta Frente",
         "orientation": "v",
         "showlegend": true,
         "textposition": "auto",
         "type": "bar",
         "x": [
          "Ada Campo-Corrente",
          "Adan Morlun",
          "Adra Nubarron",
          "Albina Hafon",
          "Anda Ribera",
          "Axel Calzas",
          "Benito Hawelon",
          "Bertrand Ovan",
          "Birgitta Frente",
          "Brand Tempestad",
          "Carla Forluniau",
          "Cecilia Morluniau",
          "Claudio Hawelon",
          "Cornelia Lais",
          "Dante Coginian",
          "Dylan Scozzese",
          "Edvard Vann",
          "Elsa Orilla",
          "Emile Arpa",
          "Felix Balas",
          "Felix Resumir",
          "Gustav Cazar",
          "Henk Mies",
          "Hennie Osvaldo",
          "Hideki Cocinaro",
          "Inga Ferro",
          "Ingrid Barranco",
          "Irene Nant",
          "Isak Baza",
          "Isande Borrasca",
          "Isia Vann",
          "Kanon Herrero",
          "Kare Orilla",
          "Lars Azada",
          "Lidelse Dedos",
          "Linda Lagos",
          "Linnea Bergen",
          "Loreto Bodrogi",
          "Lucas Alcazar",
          "Marin Onda",
          "Mat Bramar",
          "Minke Mies",
          "Nils Calixto",
          "Orhan Strum",
          "Rachel Pantanal",
          "Ruscella Mies Haber",
          "Sten Sanjorge Jr ",
          "Stenig Fusil",
          "Sven Flecha",
          "Valeria Morlun",
          "Varja Lagos",
          "Varro Awelon",
          "Vira Frente",
          "Willem Vasco-Pais"
         ],
         "xaxis": "x",
         "y": [
          16,
          8,
          39,
          0,
          8,
          39,
          8,
          0,
          22,
          44,
          0,
          0,
          8,
          8,
          8,
          8,
          16,
          62,
          8,
          16,
          16,
          23,
          0,
          24,
          8,
          16,
          40,
          8,
          16,
          38,
          0,
          8,
          11,
          36,
          17,
          0,
          16,
          8,
          16,
          24,
          160,
          8,
          0,
          0,
          0,
          80,
          0,
          0,
          0,
          0,
          0,
          8,
          9,
          8
         ],
         "yaxis": "y"
        },
        {
         "alignmentgroup": "True",
         "hovertemplate": "variable=Vira Frente<br>index=%{x}<br>value=%{y}<extra></extra>",
         "legendgroup": "Vira Frente",
         "marker": {
          "color": "#FECB52",
          "pattern": {
           "shape": ""
          }
         },
         "name": "Vira Frente",
         "offsetgroup": "Vira Frente",
         "orientation": "v",
         "showlegend": true,
         "textposition": "auto",
         "type": "bar",
         "x": [
          "Ada Campo-Corrente",
          "Adan Morlun",
          "Adra Nubarron",
          "Albina Hafon",
          "Anda Ribera",
          "Axel Calzas",
          "Benito Hawelon",
          "Bertrand Ovan",
          "Birgitta Frente",
          "Brand Tempestad",
          "Carla Forluniau",
          "Cecilia Morluniau",
          "Claudio Hawelon",
          "Cornelia Lais",
          "Dante Coginian",
          "Dylan Scozzese",
          "Edvard Vann",
          "Elsa Orilla",
          "Emile Arpa",
          "Felix Balas",
          "Felix Resumir",
          "Gustav Cazar",
          "Henk Mies",
          "Hennie Osvaldo",
          "Hideki Cocinaro",
          "Inga Ferro",
          "Ingrid Barranco",
          "Irene Nant",
          "Isak Baza",
          "Isande Borrasca",
          "Isia Vann",
          "Kanon Herrero",
          "Kare Orilla",
          "Lars Azada",
          "Lidelse Dedos",
          "Linda Lagos",
          "Linnea Bergen",
          "Loreto Bodrogi",
          "Lucas Alcazar",
          "Marin Onda",
          "Mat Bramar",
          "Minke Mies",
          "Nils Calixto",
          "Orhan Strum",
          "Rachel Pantanal",
          "Ruscella Mies Haber",
          "Sten Sanjorge Jr ",
          "Stenig Fusil",
          "Sven Flecha",
          "Valeria Morlun",
          "Varja Lagos",
          "Varro Awelon",
          "Vira Frente",
          "Willem Vasco-Pais"
         ],
         "xaxis": "x",
         "y": [
          18,
          9,
          39,
          0,
          9,
          51,
          9,
          0,
          4,
          34,
          0,
          0,
          9,
          9,
          9,
          9,
          18,
          66,
          9,
          29,
          18,
          24,
          0,
          27,
          9,
          18,
          45,
          9,
          18,
          45,
          0,
          9,
          23,
          56,
          25,
          0,
          18,
          9,
          18,
          13,
          180,
          9,
          0,
          0,
          0,
          90,
          0,
          0,
          0,
          0,
          0,
          9,
          20,
          9
         ],
         "yaxis": "y"
        },
        {
         "alignmentgroup": "True",
         "hovertemplate": "variable=Adra Nubarron<br>index=%{x}<br>value=%{y}<extra></extra>",
         "legendgroup": "Adra Nubarron",
         "marker": {
          "color": "#636efa",
          "pattern": {
           "shape": ""
          }
         },
         "name": "Adra Nubarron",
         "offsetgroup": "Adra Nubarron",
         "orientation": "v",
         "showlegend": true,
         "textposition": "auto",
         "type": "bar",
         "x": [
          "Ada Campo-Corrente",
          "Adan Morlun",
          "Adra Nubarron",
          "Albina Hafon",
          "Anda Ribera",
          "Axel Calzas",
          "Benito Hawelon",
          "Bertrand Ovan",
          "Birgitta Frente",
          "Brand Tempestad",
          "Carla Forluniau",
          "Cecilia Morluniau",
          "Claudio Hawelon",
          "Cornelia Lais",
          "Dante Coginian",
          "Dylan Scozzese",
          "Edvard Vann",
          "Elsa Orilla",
          "Emile Arpa",
          "Felix Balas",
          "Felix Resumir",
          "Gustav Cazar",
          "Henk Mies",
          "Hennie Osvaldo",
          "Hideki Cocinaro",
          "Inga Ferro",
          "Ingrid Barranco",
          "Irene Nant",
          "Isak Baza",
          "Isande Borrasca",
          "Isia Vann",
          "Kanon Herrero",
          "Kare Orilla",
          "Lars Azada",
          "Lidelse Dedos",
          "Linda Lagos",
          "Linnea Bergen",
          "Loreto Bodrogi",
          "Lucas Alcazar",
          "Marin Onda",
          "Mat Bramar",
          "Minke Mies",
          "Nils Calixto",
          "Orhan Strum",
          "Rachel Pantanal",
          "Ruscella Mies Haber",
          "Sten Sanjorge Jr ",
          "Stenig Fusil",
          "Sven Flecha",
          "Valeria Morlun",
          "Varja Lagos",
          "Varro Awelon",
          "Vira Frente",
          "Willem Vasco-Pais"
         ],
         "xaxis": "x",
         "y": [
          20,
          10,
          57,
          0,
          10,
          32,
          10,
          0,
          8,
          40,
          0,
          0,
          10,
          10,
          10,
          10,
          20,
          56,
          10,
          32,
          20,
          26,
          0,
          30,
          10,
          20,
          50,
          10,
          20,
          32,
          0,
          10,
          33,
          30,
          44,
          0,
          20,
          10,
          20,
          29,
          200,
          10,
          0,
          0,
          0,
          100,
          0,
          0,
          0,
          0,
          0,
          10,
          22,
          10
         ],
         "yaxis": "y"
        },
        {
         "alignmentgroup": "True",
         "hovertemplate": "variable=Marin Onda<br>index=%{x}<br>value=%{y}<extra></extra>",
         "legendgroup": "Marin Onda",
         "marker": {
          "color": "#EF553B",
          "pattern": {
           "shape": ""
          }
         },
         "name": "Marin Onda",
         "offsetgroup": "Marin Onda",
         "orientation": "v",
         "showlegend": true,
         "textposition": "auto",
         "type": "bar",
         "x": [
          "Ada Campo-Corrente",
          "Adan Morlun",
          "Adra Nubarron",
          "Albina Hafon",
          "Anda Ribera",
          "Axel Calzas",
          "Benito Hawelon",
          "Bertrand Ovan",
          "Birgitta Frente",
          "Brand Tempestad",
          "Carla Forluniau",
          "Cecilia Morluniau",
          "Claudio Hawelon",
          "Cornelia Lais",
          "Dante Coginian",
          "Dylan Scozzese",
          "Edvard Vann",
          "Elsa Orilla",
          "Emile Arpa",
          "Felix Balas",
          "Felix Resumir",
          "Gustav Cazar",
          "Henk Mies",
          "Hennie Osvaldo",
          "Hideki Cocinaro",
          "Inga Ferro",
          "Ingrid Barranco",
          "Irene Nant",
          "Isak Baza",
          "Isande Borrasca",
          "Isia Vann",
          "Kanon Herrero",
          "Kare Orilla",
          "Lars Azada",
          "Lidelse Dedos",
          "Linda Lagos",
          "Linnea Bergen",
          "Loreto Bodrogi",
          "Lucas Alcazar",
          "Marin Onda",
          "Mat Bramar",
          "Minke Mies",
          "Nils Calixto",
          "Orhan Strum",
          "Rachel Pantanal",
          "Ruscella Mies Haber",
          "Sten Sanjorge Jr ",
          "Stenig Fusil",
          "Sven Flecha",
          "Valeria Morlun",
          "Varja Lagos",
          "Varro Awelon",
          "Vira Frente",
          "Willem Vasco-Pais"
         ],
         "xaxis": "x",
         "y": [
          22,
          11,
          58,
          0,
          11,
          37,
          11,
          0,
          18,
          35,
          0,
          0,
          11,
          11,
          11,
          11,
          22,
          77,
          11,
          19,
          22,
          24,
          0,
          33,
          11,
          22,
          55,
          11,
          22,
          43,
          0,
          11,
          29,
          42,
          12,
          0,
          22,
          11,
          22,
          30,
          220,
          11,
          0,
          0,
          0,
          110,
          0,
          0,
          0,
          0,
          0,
          11,
          38,
          11
         ],
         "yaxis": "y"
        },
        {
         "alignmentgroup": "True",
         "hovertemplate": "variable=Kare Orilla<br>index=%{x}<br>value=%{y}<extra></extra>",
         "legendgroup": "Kare Orilla",
         "marker": {
          "color": "#00cc96",
          "pattern": {
           "shape": ""
          }
         },
         "name": "Kare Orilla",
         "offsetgroup": "Kare Orilla",
         "orientation": "v",
         "showlegend": true,
         "textposition": "auto",
         "type": "bar",
         "x": [
          "Ada Campo-Corrente",
          "Adan Morlun",
          "Adra Nubarron",
          "Albina Hafon",
          "Anda Ribera",
          "Axel Calzas",
          "Benito Hawelon",
          "Bertrand Ovan",
          "Birgitta Frente",
          "Brand Tempestad",
          "Carla Forluniau",
          "Cecilia Morluniau",
          "Claudio Hawelon",
          "Cornelia Lais",
          "Dante Coginian",
          "Dylan Scozzese",
          "Edvard Vann",
          "Elsa Orilla",
          "Emile Arpa",
          "Felix Balas",
          "Felix Resumir",
          "Gustav Cazar",
          "Henk Mies",
          "Hennie Osvaldo",
          "Hideki Cocinaro",
          "Inga Ferro",
          "Ingrid Barranco",
          "Irene Nant",
          "Isak Baza",
          "Isande Borrasca",
          "Isia Vann",
          "Kanon Herrero",
          "Kare Orilla",
          "Lars Azada",
          "Lidelse Dedos",
          "Linda Lagos",
          "Linnea Bergen",
          "Loreto Bodrogi",
          "Lucas Alcazar",
          "Marin Onda",
          "Mat Bramar",
          "Minke Mies",
          "Nils Calixto",
          "Orhan Strum",
          "Rachel Pantanal",
          "Ruscella Mies Haber",
          "Sten Sanjorge Jr ",
          "Stenig Fusil",
          "Sven Flecha",
          "Valeria Morlun",
          "Varja Lagos",
          "Varro Awelon",
          "Vira Frente",
          "Willem Vasco-Pais"
         ],
         "xaxis": "x",
         "y": [
          24,
          12,
          62,
          0,
          12,
          55,
          12,
          0,
          13,
          54,
          0,
          0,
          12,
          12,
          12,
          12,
          24,
          77,
          12,
          39,
          24,
          31,
          0,
          36,
          12,
          24,
          60,
          12,
          24,
          66,
          0,
          12,
          45,
          55,
          48,
          0,
          24,
          12,
          24,
          30,
          240,
          12,
          0,
          0,
          0,
          120,
          0,
          0,
          0,
          0,
          0,
          12,
          23,
          12
         ],
         "yaxis": "y"
        },
        {
         "alignmentgroup": "True",
         "hovertemplate": "variable=Elsa Orilla<br>index=%{x}<br>value=%{y}<extra></extra>",
         "legendgroup": "Elsa Orilla",
         "marker": {
          "color": "#ab63fa",
          "pattern": {
           "shape": ""
          }
         },
         "name": "Elsa Orilla",
         "offsetgroup": "Elsa Orilla",
         "orientation": "v",
         "showlegend": true,
         "textposition": "auto",
         "type": "bar",
         "x": [
          "Ada Campo-Corrente",
          "Adan Morlun",
          "Adra Nubarron",
          "Albina Hafon",
          "Anda Ribera",
          "Axel Calzas",
          "Benito Hawelon",
          "Bertrand Ovan",
          "Birgitta Frente",
          "Brand Tempestad",
          "Carla Forluniau",
          "Cecilia Morluniau",
          "Claudio Hawelon",
          "Cornelia Lais",
          "Dante Coginian",
          "Dylan Scozzese",
          "Edvard Vann",
          "Elsa Orilla",
          "Emile Arpa",
          "Felix Balas",
          "Felix Resumir",
          "Gustav Cazar",
          "Henk Mies",
          "Hennie Osvaldo",
          "Hideki Cocinaro",
          "Inga Ferro",
          "Ingrid Barranco",
          "Irene Nant",
          "Isak Baza",
          "Isande Borrasca",
          "Isia Vann",
          "Kanon Herrero",
          "Kare Orilla",
          "Lars Azada",
          "Lidelse Dedos",
          "Linda Lagos",
          "Linnea Bergen",
          "Loreto Bodrogi",
          "Lucas Alcazar",
          "Marin Onda",
          "Mat Bramar",
          "Minke Mies",
          "Nils Calixto",
          "Orhan Strum",
          "Rachel Pantanal",
          "Ruscella Mies Haber",
          "Sten Sanjorge Jr ",
          "Stenig Fusil",
          "Sven Flecha",
          "Valeria Morlun",
          "Varja Lagos",
          "Varro Awelon",
          "Vira Frente",
          "Willem Vasco-Pais"
         ],
         "xaxis": "x",
         "y": [
          26,
          13,
          67,
          0,
          13,
          50,
          13,
          0,
          5,
          35,
          0,
          0,
          13,
          13,
          13,
          13,
          26,
          68,
          13,
          21,
          26,
          25,
          0,
          39,
          13,
          26,
          65,
          13,
          26,
          45,
          0,
          13,
          35,
          56,
          15,
          0,
          26,
          13,
          26,
          22,
          260,
          13,
          0,
          0,
          0,
          130,
          0,
          0,
          0,
          0,
          0,
          13,
          27,
          13
         ],
         "yaxis": "y"
        },
        {
         "alignmentgroup": "True",
         "hovertemplate": "variable=Brand Tempestad<br>index=%{x}<br>value=%{y}<extra></extra>",
         "legendgroup": "Brand Tempestad",
         "marker": {
          "color": "#FFA15A",
          "pattern": {
           "shape": ""
          }
         },
         "name": "Brand Tempestad",
         "offsetgroup": "Brand Tempestad",
         "orientation": "v",
         "showlegend": true,
         "textposition": "auto",
         "type": "bar",
         "x": [
          "Ada Campo-Corrente",
          "Adan Morlun",
          "Adra Nubarron",
          "Albina Hafon",
          "Anda Ribera",
          "Axel Calzas",
          "Benito Hawelon",
          "Bertrand Ovan",
          "Birgitta Frente",
          "Brand Tempestad",
          "Carla Forluniau",
          "Cecilia Morluniau",
          "Claudio Hawelon",
          "Cornelia Lais",
          "Dante Coginian",
          "Dylan Scozzese",
          "Edvard Vann",
          "Elsa Orilla",
          "Emile Arpa",
          "Felix Balas",
          "Felix Resumir",
          "Gustav Cazar",
          "Henk Mies",
          "Hennie Osvaldo",
          "Hideki Cocinaro",
          "Inga Ferro",
          "Ingrid Barranco",
          "Irene Nant",
          "Isak Baza",
          "Isande Borrasca",
          "Isia Vann",
          "Kanon Herrero",
          "Kare Orilla",
          "Lars Azada",
          "Lidelse Dedos",
          "Linda Lagos",
          "Linnea Bergen",
          "Loreto Bodrogi",
          "Lucas Alcazar",
          "Marin Onda",
          "Mat Bramar",
          "Minke Mies",
          "Nils Calixto",
          "Orhan Strum",
          "Rachel Pantanal",
          "Ruscella Mies Haber",
          "Sten Sanjorge Jr ",
          "Stenig Fusil",
          "Sven Flecha",
          "Valeria Morlun",
          "Varja Lagos",
          "Varro Awelon",
          "Vira Frente",
          "Willem Vasco-Pais"
         ],
         "xaxis": "x",
         "y": [
          28,
          14,
          67,
          0,
          14,
          47,
          14,
          0,
          21,
          58,
          0,
          0,
          14,
          14,
          14,
          14,
          28,
          90,
          14,
          34,
          28,
          34,
          0,
          42,
          14,
          28,
          70,
          14,
          28,
          59,
          0,
          14,
          37,
          68,
          29,
          0,
          28,
          14,
          28,
          32,
          280,
          14,
          0,
          0,
          0,
          140,
          0,
          0,
          0,
          0,
          0,
          14,
          34,
          14
         ],
         "yaxis": "y"
        },
        {
         "alignmentgroup": "True",
         "hovertemplate": "variable=Ingrid Barranco<br>index=%{x}<br>value=%{y}<extra></extra>",
         "legendgroup": "Ingrid Barranco",
         "marker": {
          "color": "#19d3f3",
          "pattern": {
           "shape": ""
          }
         },
         "name": "Ingrid Barranco",
         "offsetgroup": "Ingrid Barranco",
         "orientation": "v",
         "showlegend": true,
         "textposition": "auto",
         "type": "bar",
         "x": [
          "Ada Campo-Corrente",
          "Adan Morlun",
          "Adra Nubarron",
          "Albina Hafon",
          "Anda Ribera",
          "Axel Calzas",
          "Benito Hawelon",
          "Bertrand Ovan",
          "Birgitta Frente",
          "Brand Tempestad",
          "Carla Forluniau",
          "Cecilia Morluniau",
          "Claudio Hawelon",
          "Cornelia Lais",
          "Dante Coginian",
          "Dylan Scozzese",
          "Edvard Vann",
          "Elsa Orilla",
          "Emile Arpa",
          "Felix Balas",
          "Felix Resumir",
          "Gustav Cazar",
          "Henk Mies",
          "Hennie Osvaldo",
          "Hideki Cocinaro",
          "Inga Ferro",
          "Ingrid Barranco",
          "Irene Nant",
          "Isak Baza",
          "Isande Borrasca",
          "Isia Vann",
          "Kanon Herrero",
          "Kare Orilla",
          "Lars Azada",
          "Lidelse Dedos",
          "Linda Lagos",
          "Linnea Bergen",
          "Loreto Bodrogi",
          "Lucas Alcazar",
          "Marin Onda",
          "Mat Bramar",
          "Minke Mies",
          "Nils Calixto",
          "Orhan Strum",
          "Rachel Pantanal",
          "Ruscella Mies Haber",
          "Sten Sanjorge Jr ",
          "Stenig Fusil",
          "Sven Flecha",
          "Valeria Morlun",
          "Varja Lagos",
          "Varro Awelon",
          "Vira Frente",
          "Willem Vasco-Pais"
         ],
         "xaxis": "x",
         "y": [
          40,
          15,
          45,
          0,
          15,
          30,
          15,
          0,
          0,
          0,
          0,
          0,
          15,
          15,
          15,
          15,
          30,
          30,
          15,
          0,
          30,
          15,
          0,
          45,
          15,
          30,
          91,
          15,
          30,
          30,
          0,
          15,
          0,
          30,
          0,
          0,
          30,
          15,
          30,
          15,
          300,
          15,
          0,
          0,
          0,
          150,
          6,
          0,
          0,
          0,
          0,
          15,
          0,
          29
         ],
         "yaxis": "y"
        },
        {
         "alignmentgroup": "True",
         "hovertemplate": "variable=Ada Campo-Corrente<br>index=%{x}<br>value=%{y}<extra></extra>",
         "legendgroup": "Ada Campo-Corrente",
         "marker": {
          "color": "#FF6692",
          "pattern": {
           "shape": ""
          }
         },
         "name": "Ada Campo-Corrente",
         "offsetgroup": "Ada Campo-Corrente",
         "orientation": "v",
         "showlegend": true,
         "textposition": "auto",
         "type": "bar",
         "x": [
          "Ada Campo-Corrente",
          "Adan Morlun",
          "Adra Nubarron",
          "Albina Hafon",
          "Anda Ribera",
          "Axel Calzas",
          "Benito Hawelon",
          "Bertrand Ovan",
          "Birgitta Frente",
          "Brand Tempestad",
          "Carla Forluniau",
          "Cecilia Morluniau",
          "Claudio Hawelon",
          "Cornelia Lais",
          "Dante Coginian",
          "Dylan Scozzese",
          "Edvard Vann",
          "Elsa Orilla",
          "Emile Arpa",
          "Felix Balas",
          "Felix Resumir",
          "Gustav Cazar",
          "Henk Mies",
          "Hennie Osvaldo",
          "Hideki Cocinaro",
          "Inga Ferro",
          "Ingrid Barranco",
          "Irene Nant",
          "Isak Baza",
          "Isande Borrasca",
          "Isia Vann",
          "Kanon Herrero",
          "Kare Orilla",
          "Lars Azada",
          "Lidelse Dedos",
          "Linda Lagos",
          "Linnea Bergen",
          "Loreto Bodrogi",
          "Lucas Alcazar",
          "Marin Onda",
          "Mat Bramar",
          "Minke Mies",
          "Nils Calixto",
          "Orhan Strum",
          "Rachel Pantanal",
          "Ruscella Mies Haber",
          "Sten Sanjorge Jr ",
          "Stenig Fusil",
          "Sven Flecha",
          "Valeria Morlun",
          "Varja Lagos",
          "Varro Awelon",
          "Vira Frente",
          "Willem Vasco-Pais"
         ],
         "xaxis": "x",
         "y": [
          58,
          16,
          48,
          0,
          16,
          32,
          16,
          0,
          0,
          0,
          0,
          0,
          16,
          16,
          16,
          16,
          32,
          32,
          16,
          0,
          32,
          16,
          0,
          48,
          16,
          32,
          95,
          16,
          32,
          32,
          0,
          16,
          0,
          32,
          0,
          0,
          32,
          16,
          32,
          16,
          320,
          16,
          0,
          12,
          0,
          160,
          33,
          0,
          0,
          0,
          0,
          16,
          0,
          30
         ],
         "yaxis": "y"
        },
        {
         "alignmentgroup": "True",
         "hovertemplate": "variable=Sten Sanjorge Jr<br>index=%{x}<br>value=%{y}<extra></extra>",
         "legendgroup": "Sten Sanjorge Jr",
         "marker": {
          "color": "#B6E880",
          "pattern": {
           "shape": ""
          }
         },
         "name": "Sten Sanjorge Jr",
         "offsetgroup": "Sten Sanjorge Jr",
         "orientation": "v",
         "showlegend": true,
         "textposition": "auto",
         "type": "bar",
         "x": [
          "Ada Campo-Corrente",
          "Adan Morlun",
          "Adra Nubarron",
          "Albina Hafon",
          "Anda Ribera",
          "Axel Calzas",
          "Benito Hawelon",
          "Bertrand Ovan",
          "Birgitta Frente",
          "Brand Tempestad",
          "Carla Forluniau",
          "Cecilia Morluniau",
          "Claudio Hawelon",
          "Cornelia Lais",
          "Dante Coginian",
          "Dylan Scozzese",
          "Edvard Vann",
          "Elsa Orilla",
          "Emile Arpa",
          "Felix Balas",
          "Felix Resumir",
          "Gustav Cazar",
          "Henk Mies",
          "Hennie Osvaldo",
          "Hideki Cocinaro",
          "Inga Ferro",
          "Ingrid Barranco",
          "Irene Nant",
          "Isak Baza",
          "Isande Borrasca",
          "Isia Vann",
          "Kanon Herrero",
          "Kare Orilla",
          "Lars Azada",
          "Lidelse Dedos",
          "Linda Lagos",
          "Linnea Bergen",
          "Loreto Bodrogi",
          "Lucas Alcazar",
          "Marin Onda",
          "Mat Bramar",
          "Minke Mies",
          "Nils Calixto",
          "Orhan Strum",
          "Rachel Pantanal",
          "Ruscella Mies Haber",
          "Sten Sanjorge Jr ",
          "Stenig Fusil",
          "Sven Flecha",
          "Valeria Morlun",
          "Varja Lagos",
          "Varro Awelon",
          "Vira Frente",
          "Willem Vasco-Pais"
         ],
         "xaxis": "x",
         "y": [
          34,
          17,
          51,
          0,
          17,
          34,
          17,
          0,
          0,
          0,
          0,
          0,
          17,
          17,
          17,
          17,
          34,
          34,
          17,
          0,
          34,
          17,
          0,
          51,
          17,
          34,
          85,
          17,
          34,
          34,
          0,
          17,
          0,
          34,
          0,
          0,
          34,
          17,
          34,
          17,
          340,
          17,
          0,
          0,
          0,
          170,
          0,
          0,
          0,
          0,
          0,
          17,
          0,
          17
         ],
         "yaxis": "y"
        },
        {
         "alignmentgroup": "True",
         "hovertemplate": "variable=Orhan Strum<br>index=%{x}<br>value=%{y}<extra></extra>",
         "legendgroup": "Orhan Strum",
         "marker": {
          "color": "#FF97FF",
          "pattern": {
           "shape": ""
          }
         },
         "name": "Orhan Strum",
         "offsetgroup": "Orhan Strum",
         "orientation": "v",
         "showlegend": true,
         "textposition": "auto",
         "type": "bar",
         "x": [
          "Ada Campo-Corrente",
          "Adan Morlun",
          "Adra Nubarron",
          "Albina Hafon",
          "Anda Ribera",
          "Axel Calzas",
          "Benito Hawelon",
          "Bertrand Ovan",
          "Birgitta Frente",
          "Brand Tempestad",
          "Carla Forluniau",
          "Cecilia Morluniau",
          "Claudio Hawelon",
          "Cornelia Lais",
          "Dante Coginian",
          "Dylan Scozzese",
          "Edvard Vann",
          "Elsa Orilla",
          "Emile Arpa",
          "Felix Balas",
          "Felix Resumir",
          "Gustav Cazar",
          "Henk Mies",
          "Hennie Osvaldo",
          "Hideki Cocinaro",
          "Inga Ferro",
          "Ingrid Barranco",
          "Irene Nant",
          "Isak Baza",
          "Isande Borrasca",
          "Isia Vann",
          "Kanon Herrero",
          "Kare Orilla",
          "Lars Azada",
          "Lidelse Dedos",
          "Linda Lagos",
          "Linnea Bergen",
          "Loreto Bodrogi",
          "Lucas Alcazar",
          "Marin Onda",
          "Mat Bramar",
          "Minke Mies",
          "Nils Calixto",
          "Orhan Strum",
          "Rachel Pantanal",
          "Ruscella Mies Haber",
          "Sten Sanjorge Jr ",
          "Stenig Fusil",
          "Sven Flecha",
          "Valeria Morlun",
          "Varja Lagos",
          "Varro Awelon",
          "Vira Frente",
          "Willem Vasco-Pais"
         ],
         "xaxis": "x",
         "y": [
          52,
          18,
          54,
          0,
          18,
          36,
          18,
          0,
          0,
          0,
          0,
          0,
          18,
          18,
          18,
          18,
          36,
          36,
          18,
          0,
          36,
          18,
          0,
          54,
          18,
          36,
          107,
          18,
          36,
          36,
          0,
          18,
          0,
          36,
          0,
          0,
          36,
          18,
          36,
          18,
          360,
          18,
          0,
          21,
          0,
          180,
          13,
          0,
          0,
          0,
          0,
          18,
          0,
          40
         ],
         "yaxis": "y"
        },
        {
         "alignmentgroup": "True",
         "hovertemplate": "variable=Willem Vasco-Pais<br>index=%{x}<br>value=%{y}<extra></extra>",
         "legendgroup": "Willem Vasco-Pais",
         "marker": {
          "color": "#FECB52",
          "pattern": {
           "shape": ""
          }
         },
         "name": "Willem Vasco-Pais",
         "offsetgroup": "Willem Vasco-Pais",
         "orientation": "v",
         "showlegend": true,
         "textposition": "auto",
         "type": "bar",
         "x": [
          "Ada Campo-Corrente",
          "Adan Morlun",
          "Adra Nubarron",
          "Albina Hafon",
          "Anda Ribera",
          "Axel Calzas",
          "Benito Hawelon",
          "Bertrand Ovan",
          "Birgitta Frente",
          "Brand Tempestad",
          "Carla Forluniau",
          "Cecilia Morluniau",
          "Claudio Hawelon",
          "Cornelia Lais",
          "Dante Coginian",
          "Dylan Scozzese",
          "Edvard Vann",
          "Elsa Orilla",
          "Emile Arpa",
          "Felix Balas",
          "Felix Resumir",
          "Gustav Cazar",
          "Henk Mies",
          "Hennie Osvaldo",
          "Hideki Cocinaro",
          "Inga Ferro",
          "Ingrid Barranco",
          "Irene Nant",
          "Isak Baza",
          "Isande Borrasca",
          "Isia Vann",
          "Kanon Herrero",
          "Kare Orilla",
          "Lars Azada",
          "Lidelse Dedos",
          "Linda Lagos",
          "Linnea Bergen",
          "Loreto Bodrogi",
          "Lucas Alcazar",
          "Marin Onda",
          "Mat Bramar",
          "Minke Mies",
          "Nils Calixto",
          "Orhan Strum",
          "Rachel Pantanal",
          "Ruscella Mies Haber",
          "Sten Sanjorge Jr ",
          "Stenig Fusil",
          "Sven Flecha",
          "Valeria Morlun",
          "Varja Lagos",
          "Varro Awelon",
          "Vira Frente",
          "Willem Vasco-Pais"
         ],
         "xaxis": "x",
         "y": [
          52,
          19,
          57,
          0,
          19,
          38,
          19,
          0,
          0,
          0,
          0,
          0,
          19,
          19,
          19,
          19,
          38,
          38,
          19,
          0,
          38,
          19,
          0,
          57,
          19,
          38,
          102,
          19,
          38,
          38,
          0,
          19,
          0,
          38,
          0,
          0,
          38,
          19,
          38,
          19,
          380,
          19,
          0,
          6,
          0,
          190,
          15,
          0,
          0,
          0,
          0,
          19,
          0,
          42
         ],
         "yaxis": "y"
        },
        {
         "alignmentgroup": "True",
         "hovertemplate": "variable=Bertrand Ovan<br>index=%{x}<br>value=%{y}<extra></extra>",
         "legendgroup": "Bertrand Ovan",
         "marker": {
          "color": "#636efa",
          "pattern": {
           "shape": ""
          }
         },
         "name": "Bertrand Ovan",
         "offsetgroup": "Bertrand Ovan",
         "orientation": "v",
         "showlegend": true,
         "textposition": "auto",
         "type": "bar",
         "x": [
          "Ada Campo-Corrente",
          "Adan Morlun",
          "Adra Nubarron",
          "Albina Hafon",
          "Anda Ribera",
          "Axel Calzas",
          "Benito Hawelon",
          "Bertrand Ovan",
          "Birgitta Frente",
          "Brand Tempestad",
          "Carla Forluniau",
          "Cecilia Morluniau",
          "Claudio Hawelon",
          "Cornelia Lais",
          "Dante Coginian",
          "Dylan Scozzese",
          "Edvard Vann",
          "Elsa Orilla",
          "Emile Arpa",
          "Felix Balas",
          "Felix Resumir",
          "Gustav Cazar",
          "Henk Mies",
          "Hennie Osvaldo",
          "Hideki Cocinaro",
          "Inga Ferro",
          "Ingrid Barranco",
          "Irene Nant",
          "Isak Baza",
          "Isande Borrasca",
          "Isia Vann",
          "Kanon Herrero",
          "Kare Orilla",
          "Lars Azada",
          "Lidelse Dedos",
          "Linda Lagos",
          "Linnea Bergen",
          "Loreto Bodrogi",
          "Lucas Alcazar",
          "Marin Onda",
          "Mat Bramar",
          "Minke Mies",
          "Nils Calixto",
          "Orhan Strum",
          "Rachel Pantanal",
          "Ruscella Mies Haber",
          "Sten Sanjorge Jr ",
          "Stenig Fusil",
          "Sven Flecha",
          "Valeria Morlun",
          "Varja Lagos",
          "Varro Awelon",
          "Vira Frente",
          "Willem Vasco-Pais"
         ],
         "xaxis": "x",
         "y": [
          40,
          26,
          60,
          9,
          20,
          40,
          32,
          23,
          0,
          0,
          0,
          0,
          34,
          20,
          32,
          34,
          40,
          40,
          26,
          0,
          40,
          20,
          26,
          60,
          20,
          40,
          100,
          20,
          40,
          40,
          0,
          20,
          0,
          40,
          0,
          0,
          40,
          20,
          40,
          20,
          400,
          20,
          0,
          0,
          0,
          200,
          0,
          0,
          0,
          0,
          0,
          20,
          0,
          20
         ],
         "yaxis": "y"
        },
        {
         "alignmentgroup": "True",
         "hovertemplate": "variable=Albina Hafon<br>index=%{x}<br>value=%{y}<extra></extra>",
         "legendgroup": "Albina Hafon",
         "marker": {
          "color": "#EF553B",
          "pattern": {
           "shape": ""
          }
         },
         "name": "Albina Hafon",
         "offsetgroup": "Albina Hafon",
         "orientation": "v",
         "showlegend": true,
         "textposition": "auto",
         "type": "bar",
         "x": [
          "Ada Campo-Corrente",
          "Adan Morlun",
          "Adra Nubarron",
          "Albina Hafon",
          "Anda Ribera",
          "Axel Calzas",
          "Benito Hawelon",
          "Bertrand Ovan",
          "Birgitta Frente",
          "Brand Tempestad",
          "Carla Forluniau",
          "Cecilia Morluniau",
          "Claudio Hawelon",
          "Cornelia Lais",
          "Dante Coginian",
          "Dylan Scozzese",
          "Edvard Vann",
          "Elsa Orilla",
          "Emile Arpa",
          "Felix Balas",
          "Felix Resumir",
          "Gustav Cazar",
          "Henk Mies",
          "Hennie Osvaldo",
          "Hideki Cocinaro",
          "Inga Ferro",
          "Ingrid Barranco",
          "Irene Nant",
          "Isak Baza",
          "Isande Borrasca",
          "Isia Vann",
          "Kanon Herrero",
          "Kare Orilla",
          "Lars Azada",
          "Lidelse Dedos",
          "Linda Lagos",
          "Linnea Bergen",
          "Loreto Bodrogi",
          "Lucas Alcazar",
          "Marin Onda",
          "Mat Bramar",
          "Minke Mies",
          "Nils Calixto",
          "Orhan Strum",
          "Rachel Pantanal",
          "Ruscella Mies Haber",
          "Sten Sanjorge Jr ",
          "Stenig Fusil",
          "Sven Flecha",
          "Valeria Morlun",
          "Varja Lagos",
          "Varro Awelon",
          "Vira Frente",
          "Willem Vasco-Pais"
         ],
         "xaxis": "x",
         "y": [
          42,
          68,
          63,
          65,
          21,
          42,
          65,
          116,
          0,
          0,
          0,
          37,
          69,
          21,
          47,
          60,
          42,
          42,
          30,
          0,
          42,
          21,
          108,
          63,
          21,
          42,
          105,
          48,
          42,
          42,
          0,
          21,
          0,
          42,
          0,
          0,
          42,
          21,
          42,
          21,
          420,
          21,
          0,
          0,
          0,
          210,
          0,
          0,
          0,
          12,
          0,
          43,
          0,
          21
         ],
         "yaxis": "y"
        },
        {
         "alignmentgroup": "True",
         "hovertemplate": "variable=Benito Hawelon<br>index=%{x}<br>value=%{y}<extra></extra>",
         "legendgroup": "Benito Hawelon",
         "marker": {
          "color": "#00cc96",
          "pattern": {
           "shape": ""
          }
         },
         "name": "Benito Hawelon",
         "offsetgroup": "Benito Hawelon",
         "orientation": "v",
         "showlegend": true,
         "textposition": "auto",
         "type": "bar",
         "x": [
          "Ada Campo-Corrente",
          "Adan Morlun",
          "Adra Nubarron",
          "Albina Hafon",
          "Anda Ribera",
          "Axel Calzas",
          "Benito Hawelon",
          "Bertrand Ovan",
          "Birgitta Frente",
          "Brand Tempestad",
          "Carla Forluniau",
          "Cecilia Morluniau",
          "Claudio Hawelon",
          "Cornelia Lais",
          "Dante Coginian",
          "Dylan Scozzese",
          "Edvard Vann",
          "Elsa Orilla",
          "Emile Arpa",
          "Felix Balas",
          "Felix Resumir",
          "Gustav Cazar",
          "Henk Mies",
          "Hennie Osvaldo",
          "Hideki Cocinaro",
          "Inga Ferro",
          "Ingrid Barranco",
          "Irene Nant",
          "Isak Baza",
          "Isande Borrasca",
          "Isia Vann",
          "Kanon Herrero",
          "Kare Orilla",
          "Lars Azada",
          "Lidelse Dedos",
          "Linda Lagos",
          "Linnea Bergen",
          "Loreto Bodrogi",
          "Lucas Alcazar",
          "Marin Onda",
          "Mat Bramar",
          "Minke Mies",
          "Nils Calixto",
          "Orhan Strum",
          "Rachel Pantanal",
          "Ruscella Mies Haber",
          "Sten Sanjorge Jr ",
          "Stenig Fusil",
          "Sven Flecha",
          "Valeria Morlun",
          "Varja Lagos",
          "Varro Awelon",
          "Vira Frente",
          "Willem Vasco-Pais"
         ],
         "xaxis": "x",
         "y": [
          44,
          51,
          66,
          56,
          22,
          44,
          60,
          134,
          0,
          0,
          0,
          13,
          47,
          22,
          44,
          49,
          44,
          44,
          37,
          0,
          44,
          22,
          104,
          66,
          22,
          44,
          110,
          33,
          44,
          44,
          0,
          22,
          0,
          44,
          0,
          0,
          44,
          22,
          44,
          22,
          440,
          22,
          0,
          0,
          0,
          220,
          0,
          0,
          0,
          10,
          0,
          50,
          0,
          22
         ],
         "yaxis": "y"
        },
        {
         "alignmentgroup": "True",
         "hovertemplate": "variable=Claudio Hawelon<br>index=%{x}<br>value=%{y}<extra></extra>",
         "legendgroup": "Claudio Hawelon",
         "marker": {
          "color": "#ab63fa",
          "pattern": {
           "shape": ""
          }
         },
         "name": "Claudio Hawelon",
         "offsetgroup": "Claudio Hawelon",
         "orientation": "v",
         "showlegend": true,
         "textposition": "auto",
         "type": "bar",
         "x": [
          "Ada Campo-Corrente",
          "Adan Morlun",
          "Adra Nubarron",
          "Albina Hafon",
          "Anda Ribera",
          "Axel Calzas",
          "Benito Hawelon",
          "Bertrand Ovan",
          "Birgitta Frente",
          "Brand Tempestad",
          "Carla Forluniau",
          "Cecilia Morluniau",
          "Claudio Hawelon",
          "Cornelia Lais",
          "Dante Coginian",
          "Dylan Scozzese",
          "Edvard Vann",
          "Elsa Orilla",
          "Emile Arpa",
          "Felix Balas",
          "Felix Resumir",
          "Gustav Cazar",
          "Henk Mies",
          "Hennie Osvaldo",
          "Hideki Cocinaro",
          "Inga Ferro",
          "Ingrid Barranco",
          "Irene Nant",
          "Isak Baza",
          "Isande Borrasca",
          "Isia Vann",
          "Kanon Herrero",
          "Kare Orilla",
          "Lars Azada",
          "Lidelse Dedos",
          "Linda Lagos",
          "Linnea Bergen",
          "Loreto Bodrogi",
          "Lucas Alcazar",
          "Marin Onda",
          "Mat Bramar",
          "Minke Mies",
          "Nils Calixto",
          "Orhan Strum",
          "Rachel Pantanal",
          "Ruscella Mies Haber",
          "Sten Sanjorge Jr ",
          "Stenig Fusil",
          "Sven Flecha",
          "Valeria Morlun",
          "Varja Lagos",
          "Varro Awelon",
          "Vira Frente",
          "Willem Vasco-Pais"
         ],
         "xaxis": "x",
         "y": [
          46,
          40,
          69,
          25,
          23,
          46,
          71,
          159,
          0,
          0,
          0,
          40,
          71,
          23,
          42,
          63,
          46,
          46,
          56,
          0,
          46,
          23,
          70,
          69,
          23,
          46,
          115,
          62,
          46,
          46,
          0,
          23,
          0,
          46,
          0,
          0,
          46,
          23,
          46,
          23,
          460,
          23,
          0,
          0,
          0,
          230,
          0,
          0,
          0,
          16,
          0,
          52,
          0,
          23
         ],
         "yaxis": "y"
        },
        {
         "alignmentgroup": "True",
         "hovertemplate": "variable=Henk Mies<br>index=%{x}<br>value=%{y}<extra></extra>",
         "legendgroup": "Henk Mies",
         "marker": {
          "color": "#FFA15A",
          "pattern": {
           "shape": ""
          }
         },
         "name": "Henk Mies",
         "offsetgroup": "Henk Mies",
         "orientation": "v",
         "showlegend": true,
         "textposition": "auto",
         "type": "bar",
         "x": [
          "Ada Campo-Corrente",
          "Adan Morlun",
          "Adra Nubarron",
          "Albina Hafon",
          "Anda Ribera",
          "Axel Calzas",
          "Benito Hawelon",
          "Bertrand Ovan",
          "Birgitta Frente",
          "Brand Tempestad",
          "Carla Forluniau",
          "Cecilia Morluniau",
          "Claudio Hawelon",
          "Cornelia Lais",
          "Dante Coginian",
          "Dylan Scozzese",
          "Edvard Vann",
          "Elsa Orilla",
          "Emile Arpa",
          "Felix Balas",
          "Felix Resumir",
          "Gustav Cazar",
          "Henk Mies",
          "Hennie Osvaldo",
          "Hideki Cocinaro",
          "Inga Ferro",
          "Ingrid Barranco",
          "Irene Nant",
          "Isak Baza",
          "Isande Borrasca",
          "Isia Vann",
          "Kanon Herrero",
          "Kare Orilla",
          "Lars Azada",
          "Lidelse Dedos",
          "Linda Lagos",
          "Linnea Bergen",
          "Loreto Bodrogi",
          "Lucas Alcazar",
          "Marin Onda",
          "Mat Bramar",
          "Minke Mies",
          "Nils Calixto",
          "Orhan Strum",
          "Rachel Pantanal",
          "Ruscella Mies Haber",
          "Sten Sanjorge Jr ",
          "Stenig Fusil",
          "Sven Flecha",
          "Valeria Morlun",
          "Varja Lagos",
          "Varro Awelon",
          "Vira Frente",
          "Willem Vasco-Pais"
         ],
         "xaxis": "x",
         "y": [
          48,
          72,
          72,
          50,
          24,
          48,
          63,
          193,
          0,
          0,
          0,
          46,
          67,
          24,
          60,
          67,
          48,
          48,
          30,
          0,
          48,
          24,
          117,
          72,
          24,
          48,
          120,
          49,
          48,
          48,
          0,
          24,
          0,
          48,
          0,
          0,
          48,
          24,
          48,
          24,
          480,
          24,
          0,
          0,
          0,
          240,
          0,
          0,
          0,
          16,
          0,
          55,
          0,
          24
         ],
         "yaxis": "y"
        },
        {
         "alignmentgroup": "True",
         "hovertemplate": "variable=Valeria Morlun<br>index=%{x}<br>value=%{y}<extra></extra>",
         "legendgroup": "Valeria Morlun",
         "marker": {
          "color": "#19d3f3",
          "pattern": {
           "shape": ""
          }
         },
         "name": "Valeria Morlun",
         "offsetgroup": "Valeria Morlun",
         "orientation": "v",
         "showlegend": true,
         "textposition": "auto",
         "type": "bar",
         "x": [
          "Ada Campo-Corrente",
          "Adan Morlun",
          "Adra Nubarron",
          "Albina Hafon",
          "Anda Ribera",
          "Axel Calzas",
          "Benito Hawelon",
          "Bertrand Ovan",
          "Birgitta Frente",
          "Brand Tempestad",
          "Carla Forluniau",
          "Cecilia Morluniau",
          "Claudio Hawelon",
          "Cornelia Lais",
          "Dante Coginian",
          "Dylan Scozzese",
          "Edvard Vann",
          "Elsa Orilla",
          "Emile Arpa",
          "Felix Balas",
          "Felix Resumir",
          "Gustav Cazar",
          "Henk Mies",
          "Hennie Osvaldo",
          "Hideki Cocinaro",
          "Inga Ferro",
          "Ingrid Barranco",
          "Irene Nant",
          "Isak Baza",
          "Isande Borrasca",
          "Isia Vann",
          "Kanon Herrero",
          "Kare Orilla",
          "Lars Azada",
          "Lidelse Dedos",
          "Linda Lagos",
          "Linnea Bergen",
          "Loreto Bodrogi",
          "Lucas Alcazar",
          "Marin Onda",
          "Mat Bramar",
          "Minke Mies",
          "Nils Calixto",
          "Orhan Strum",
          "Rachel Pantanal",
          "Ruscella Mies Haber",
          "Sten Sanjorge Jr ",
          "Stenig Fusil",
          "Sven Flecha",
          "Valeria Morlun",
          "Varja Lagos",
          "Varro Awelon",
          "Vira Frente",
          "Willem Vasco-Pais"
         ],
         "xaxis": "x",
         "y": [
          50,
          72,
          75,
          36,
          25,
          50,
          68,
          204,
          0,
          0,
          0,
          25,
          67,
          25,
          54,
          73,
          50,
          50,
          53,
          0,
          50,
          25,
          61,
          75,
          25,
          50,
          125,
          39,
          50,
          50,
          0,
          25,
          0,
          50,
          0,
          0,
          50,
          25,
          50,
          25,
          500,
          25,
          0,
          0,
          0,
          250,
          0,
          0,
          0,
          19,
          0,
          42,
          0,
          25
         ],
         "yaxis": "y"
        },
        {
         "alignmentgroup": "True",
         "hovertemplate": "variable=Adan Morlun<br>index=%{x}<br>value=%{y}<extra></extra>",
         "legendgroup": "Adan Morlun",
         "marker": {
          "color": "#FF6692",
          "pattern": {
           "shape": ""
          }
         },
         "name": "Adan Morlun",
         "offsetgroup": "Adan Morlun",
         "orientation": "v",
         "showlegend": true,
         "textposition": "auto",
         "type": "bar",
         "x": [
          "Ada Campo-Corrente",
          "Adan Morlun",
          "Adra Nubarron",
          "Albina Hafon",
          "Anda Ribera",
          "Axel Calzas",
          "Benito Hawelon",
          "Bertrand Ovan",
          "Birgitta Frente",
          "Brand Tempestad",
          "Carla Forluniau",
          "Cecilia Morluniau",
          "Claudio Hawelon",
          "Cornelia Lais",
          "Dante Coginian",
          "Dylan Scozzese",
          "Edvard Vann",
          "Elsa Orilla",
          "Emile Arpa",
          "Felix Balas",
          "Felix Resumir",
          "Gustav Cazar",
          "Henk Mies",
          "Hennie Osvaldo",
          "Hideki Cocinaro",
          "Inga Ferro",
          "Ingrid Barranco",
          "Irene Nant",
          "Isak Baza",
          "Isande Borrasca",
          "Isia Vann",
          "Kanon Herrero",
          "Kare Orilla",
          "Lars Azada",
          "Lidelse Dedos",
          "Linda Lagos",
          "Linnea Bergen",
          "Loreto Bodrogi",
          "Lucas Alcazar",
          "Marin Onda",
          "Mat Bramar",
          "Minke Mies",
          "Nils Calixto",
          "Orhan Strum",
          "Rachel Pantanal",
          "Ruscella Mies Haber",
          "Sten Sanjorge Jr ",
          "Stenig Fusil",
          "Sven Flecha",
          "Valeria Morlun",
          "Varja Lagos",
          "Varro Awelon",
          "Vira Frente",
          "Willem Vasco-Pais"
         ],
         "xaxis": "x",
         "y": [
          52,
          63,
          78,
          42,
          26,
          52,
          66,
          212,
          0,
          0,
          0,
          30,
          66,
          26,
          57,
          62,
          52,
          52,
          54,
          0,
          52,
          26,
          35,
          78,
          26,
          52,
          130,
          69,
          52,
          52,
          0,
          26,
          0,
          52,
          0,
          0,
          52,
          26,
          52,
          26,
          520,
          26,
          0,
          0,
          0,
          260,
          0,
          0,
          0,
          4,
          0,
          46,
          0,
          26
         ],
         "yaxis": "y"
        },
        {
         "alignmentgroup": "True",
         "hovertemplate": "variable=Cecilia Morluniau<br>index=%{x}<br>value=%{y}<extra></extra>",
         "legendgroup": "Cecilia Morluniau",
         "marker": {
          "color": "#B6E880",
          "pattern": {
           "shape": ""
          }
         },
         "name": "Cecilia Morluniau",
         "offsetgroup": "Cecilia Morluniau",
         "orientation": "v",
         "showlegend": true,
         "textposition": "auto",
         "type": "bar",
         "x": [
          "Ada Campo-Corrente",
          "Adan Morlun",
          "Adra Nubarron",
          "Albina Hafon",
          "Anda Ribera",
          "Axel Calzas",
          "Benito Hawelon",
          "Bertrand Ovan",
          "Birgitta Frente",
          "Brand Tempestad",
          "Carla Forluniau",
          "Cecilia Morluniau",
          "Claudio Hawelon",
          "Cornelia Lais",
          "Dante Coginian",
          "Dylan Scozzese",
          "Edvard Vann",
          "Elsa Orilla",
          "Emile Arpa",
          "Felix Balas",
          "Felix Resumir",
          "Gustav Cazar",
          "Henk Mies",
          "Hennie Osvaldo",
          "Hideki Cocinaro",
          "Inga Ferro",
          "Ingrid Barranco",
          "Irene Nant",
          "Isak Baza",
          "Isande Borrasca",
          "Isia Vann",
          "Kanon Herrero",
          "Kare Orilla",
          "Lars Azada",
          "Lidelse Dedos",
          "Linda Lagos",
          "Linnea Bergen",
          "Loreto Bodrogi",
          "Lucas Alcazar",
          "Marin Onda",
          "Mat Bramar",
          "Minke Mies",
          "Nils Calixto",
          "Orhan Strum",
          "Rachel Pantanal",
          "Ruscella Mies Haber",
          "Sten Sanjorge Jr ",
          "Stenig Fusil",
          "Sven Flecha",
          "Valeria Morlun",
          "Varja Lagos",
          "Varro Awelon",
          "Vira Frente",
          "Willem Vasco-Pais"
         ],
         "xaxis": "x",
         "y": [
          54,
          58,
          81,
          50,
          27,
          54,
          54,
          244,
          0,
          0,
          0,
          46,
          58,
          27,
          36,
          60,
          54,
          54,
          30,
          0,
          54,
          27,
          72,
          81,
          27,
          54,
          135,
          56,
          54,
          54,
          0,
          27,
          0,
          54,
          0,
          0,
          54,
          27,
          54,
          27,
          540,
          27,
          0,
          0,
          0,
          270,
          0,
          0,
          0,
          8,
          0,
          60,
          0,
          27
         ],
         "yaxis": "y"
        },
        {
         "alignmentgroup": "True",
         "hovertemplate": "variable=Irene Nant<br>index=%{x}<br>value=%{y}<extra></extra>",
         "legendgroup": "Irene Nant",
         "marker": {
          "color": "#FF97FF",
          "pattern": {
           "shape": ""
          }
         },
         "name": "Irene Nant",
         "offsetgroup": "Irene Nant",
         "orientation": "v",
         "showlegend": true,
         "textposition": "auto",
         "type": "bar",
         "x": [
          "Ada Campo-Corrente",
          "Adan Morlun",
          "Adra Nubarron",
          "Albina Hafon",
          "Anda Ribera",
          "Axel Calzas",
          "Benito Hawelon",
          "Bertrand Ovan",
          "Birgitta Frente",
          "Brand Tempestad",
          "Carla Forluniau",
          "Cecilia Morluniau",
          "Claudio Hawelon",
          "Cornelia Lais",
          "Dante Coginian",
          "Dylan Scozzese",
          "Edvard Vann",
          "Elsa Orilla",
          "Emile Arpa",
          "Felix Balas",
          "Felix Resumir",
          "Gustav Cazar",
          "Henk Mies",
          "Hennie Osvaldo",
          "Hideki Cocinaro",
          "Inga Ferro",
          "Ingrid Barranco",
          "Irene Nant",
          "Isak Baza",
          "Isande Borrasca",
          "Isia Vann",
          "Kanon Herrero",
          "Kare Orilla",
          "Lars Azada",
          "Lidelse Dedos",
          "Linda Lagos",
          "Linnea Bergen",
          "Loreto Bodrogi",
          "Lucas Alcazar",
          "Marin Onda",
          "Mat Bramar",
          "Minke Mies",
          "Nils Calixto",
          "Orhan Strum",
          "Rachel Pantanal",
          "Ruscella Mies Haber",
          "Sten Sanjorge Jr ",
          "Stenig Fusil",
          "Sven Flecha",
          "Valeria Morlun",
          "Varja Lagos",
          "Varro Awelon",
          "Vira Frente",
          "Willem Vasco-Pais"
         ],
         "xaxis": "x",
         "y": [
          56,
          74,
          84,
          63,
          28,
          56,
          59,
          269,
          0,
          0,
          0,
          47,
          101,
          28,
          52,
          61,
          56,
          56,
          44,
          0,
          56,
          28,
          104,
          84,
          28,
          56,
          140,
          82,
          56,
          56,
          0,
          28,
          0,
          56,
          0,
          0,
          56,
          28,
          56,
          28,
          560,
          28,
          0,
          0,
          0,
          280,
          0,
          0,
          0,
          14,
          0,
          48,
          0,
          28
         ],
         "yaxis": "y"
        },
        {
         "alignmentgroup": "True",
         "hovertemplate": "variable=Dylan Scozzese<br>index=%{x}<br>value=%{y}<extra></extra>",
         "legendgroup": "Dylan Scozzese",
         "marker": {
          "color": "#FECB52",
          "pattern": {
           "shape": ""
          }
         },
         "name": "Dylan Scozzese",
         "offsetgroup": "Dylan Scozzese",
         "orientation": "v",
         "showlegend": true,
         "textposition": "auto",
         "type": "bar",
         "x": [
          "Ada Campo-Corrente",
          "Adan Morlun",
          "Adra Nubarron",
          "Albina Hafon",
          "Anda Ribera",
          "Axel Calzas",
          "Benito Hawelon",
          "Bertrand Ovan",
          "Birgitta Frente",
          "Brand Tempestad",
          "Carla Forluniau",
          "Cecilia Morluniau",
          "Claudio Hawelon",
          "Cornelia Lais",
          "Dante Coginian",
          "Dylan Scozzese",
          "Edvard Vann",
          "Elsa Orilla",
          "Emile Arpa",
          "Felix Balas",
          "Felix Resumir",
          "Gustav Cazar",
          "Henk Mies",
          "Hennie Osvaldo",
          "Hideki Cocinaro",
          "Inga Ferro",
          "Ingrid Barranco",
          "Irene Nant",
          "Isak Baza",
          "Isande Borrasca",
          "Isia Vann",
          "Kanon Herrero",
          "Kare Orilla",
          "Lars Azada",
          "Lidelse Dedos",
          "Linda Lagos",
          "Linnea Bergen",
          "Loreto Bodrogi",
          "Lucas Alcazar",
          "Marin Onda",
          "Mat Bramar",
          "Minke Mies",
          "Nils Calixto",
          "Orhan Strum",
          "Rachel Pantanal",
          "Ruscella Mies Haber",
          "Sten Sanjorge Jr ",
          "Stenig Fusil",
          "Sven Flecha",
          "Valeria Morlun",
          "Varja Lagos",
          "Varro Awelon",
          "Vira Frente",
          "Willem Vasco-Pais"
         ],
         "xaxis": "x",
         "y": [
          58,
          98,
          87,
          61,
          29,
          58,
          43,
          289,
          0,
          0,
          0,
          18,
          67,
          29,
          61,
          78,
          58,
          58,
          52,
          0,
          58,
          29,
          84,
          87,
          29,
          58,
          145,
          48,
          58,
          58,
          0,
          29,
          0,
          58,
          0,
          0,
          58,
          29,
          58,
          29,
          580,
          29,
          0,
          0,
          0,
          290,
          0,
          0,
          0,
          16,
          0,
          39,
          0,
          29
         ],
         "yaxis": "y"
        },
        {
         "alignmentgroup": "True",
         "hovertemplate": "variable=Lucas Alcazar<br>index=%{x}<br>value=%{y}<extra></extra>",
         "legendgroup": "Lucas Alcazar",
         "marker": {
          "color": "#636efa",
          "pattern": {
           "shape": ""
          }
         },
         "name": "Lucas Alcazar",
         "offsetgroup": "Lucas Alcazar",
         "orientation": "v",
         "showlegend": true,
         "textposition": "auto",
         "type": "bar",
         "x": [
          "Ada Campo-Corrente",
          "Adan Morlun",
          "Adra Nubarron",
          "Albina Hafon",
          "Anda Ribera",
          "Axel Calzas",
          "Benito Hawelon",
          "Bertrand Ovan",
          "Birgitta Frente",
          "Brand Tempestad",
          "Carla Forluniau",
          "Cecilia Morluniau",
          "Claudio Hawelon",
          "Cornelia Lais",
          "Dante Coginian",
          "Dylan Scozzese",
          "Edvard Vann",
          "Elsa Orilla",
          "Emile Arpa",
          "Felix Balas",
          "Felix Resumir",
          "Gustav Cazar",
          "Henk Mies",
          "Hennie Osvaldo",
          "Hideki Cocinaro",
          "Inga Ferro",
          "Ingrid Barranco",
          "Irene Nant",
          "Isak Baza",
          "Isande Borrasca",
          "Isia Vann",
          "Kanon Herrero",
          "Kare Orilla",
          "Lars Azada",
          "Lidelse Dedos",
          "Linda Lagos",
          "Linnea Bergen",
          "Loreto Bodrogi",
          "Lucas Alcazar",
          "Marin Onda",
          "Mat Bramar",
          "Minke Mies",
          "Nils Calixto",
          "Orhan Strum",
          "Rachel Pantanal",
          "Ruscella Mies Haber",
          "Sten Sanjorge Jr ",
          "Stenig Fusil",
          "Sven Flecha",
          "Valeria Morlun",
          "Varja Lagos",
          "Varro Awelon",
          "Vira Frente",
          "Willem Vasco-Pais"
         ],
         "xaxis": "x",
         "y": [
          60,
          30,
          90,
          0,
          30,
          60,
          30,
          0,
          0,
          0,
          0,
          0,
          30,
          30,
          30,
          30,
          60,
          60,
          30,
          0,
          60,
          30,
          0,
          90,
          30,
          60,
          150,
          30,
          82,
          60,
          0,
          30,
          0,
          60,
          0,
          0,
          60,
          30,
          96,
          30,
          600,
          30,
          6,
          0,
          0,
          300,
          0,
          0,
          24,
          0,
          0,
          30,
          0,
          30
         ],
         "yaxis": "y"
        },
        {
         "alignmentgroup": "True",
         "hovertemplate": "variable=Isak Baza<br>index=%{x}<br>value=%{y}<extra></extra>",
         "legendgroup": "Isak Baza",
         "marker": {
          "color": "#EF553B",
          "pattern": {
           "shape": ""
          }
         },
         "name": "Isak Baza",
         "offsetgroup": "Isak Baza",
         "orientation": "v",
         "showlegend": true,
         "textposition": "auto",
         "type": "bar",
         "x": [
          "Ada Campo-Corrente",
          "Adan Morlun",
          "Adra Nubarron",
          "Albina Hafon",
          "Anda Ribera",
          "Axel Calzas",
          "Benito Hawelon",
          "Bertrand Ovan",
          "Birgitta Frente",
          "Brand Tempestad",
          "Carla Forluniau",
          "Cecilia Morluniau",
          "Claudio Hawelon",
          "Cornelia Lais",
          "Dante Coginian",
          "Dylan Scozzese",
          "Edvard Vann",
          "Elsa Orilla",
          "Emile Arpa",
          "Felix Balas",
          "Felix Resumir",
          "Gustav Cazar",
          "Henk Mies",
          "Hennie Osvaldo",
          "Hideki Cocinaro",
          "Inga Ferro",
          "Ingrid Barranco",
          "Irene Nant",
          "Isak Baza",
          "Isande Borrasca",
          "Isia Vann",
          "Kanon Herrero",
          "Kare Orilla",
          "Lars Azada",
          "Lidelse Dedos",
          "Linda Lagos",
          "Linnea Bergen",
          "Loreto Bodrogi",
          "Lucas Alcazar",
          "Marin Onda",
          "Mat Bramar",
          "Minke Mies",
          "Nils Calixto",
          "Orhan Strum",
          "Rachel Pantanal",
          "Ruscella Mies Haber",
          "Sten Sanjorge Jr ",
          "Stenig Fusil",
          "Sven Flecha",
          "Valeria Morlun",
          "Varja Lagos",
          "Varro Awelon",
          "Vira Frente",
          "Willem Vasco-Pais"
         ],
         "xaxis": "x",
         "y": [
          62,
          31,
          93,
          0,
          31,
          62,
          31,
          0,
          0,
          0,
          0,
          0,
          31,
          31,
          31,
          31,
          62,
          62,
          31,
          0,
          62,
          31,
          0,
          93,
          31,
          62,
          155,
          31,
          125,
          62,
          0,
          31,
          0,
          62,
          0,
          0,
          62,
          31,
          133,
          31,
          620,
          31,
          42,
          0,
          0,
          310,
          0,
          0,
          44,
          0,
          0,
          31,
          0,
          31
         ],
         "yaxis": "y"
        },
        {
         "alignmentgroup": "True",
         "hovertemplate": "variable=Linnea Bergen<br>index=%{x}<br>value=%{y}<extra></extra>",
         "legendgroup": "Linnea Bergen",
         "marker": {
          "color": "#00cc96",
          "pattern": {
           "shape": ""
          }
         },
         "name": "Linnea Bergen",
         "offsetgroup": "Linnea Bergen",
         "orientation": "v",
         "showlegend": true,
         "textposition": "auto",
         "type": "bar",
         "x": [
          "Ada Campo-Corrente",
          "Adan Morlun",
          "Adra Nubarron",
          "Albina Hafon",
          "Anda Ribera",
          "Axel Calzas",
          "Benito Hawelon",
          "Bertrand Ovan",
          "Birgitta Frente",
          "Brand Tempestad",
          "Carla Forluniau",
          "Cecilia Morluniau",
          "Claudio Hawelon",
          "Cornelia Lais",
          "Dante Coginian",
          "Dylan Scozzese",
          "Edvard Vann",
          "Elsa Orilla",
          "Emile Arpa",
          "Felix Balas",
          "Felix Resumir",
          "Gustav Cazar",
          "Henk Mies",
          "Hennie Osvaldo",
          "Hideki Cocinaro",
          "Inga Ferro",
          "Ingrid Barranco",
          "Irene Nant",
          "Isak Baza",
          "Isande Borrasca",
          "Isia Vann",
          "Kanon Herrero",
          "Kare Orilla",
          "Lars Azada",
          "Lidelse Dedos",
          "Linda Lagos",
          "Linnea Bergen",
          "Loreto Bodrogi",
          "Lucas Alcazar",
          "Marin Onda",
          "Mat Bramar",
          "Minke Mies",
          "Nils Calixto",
          "Orhan Strum",
          "Rachel Pantanal",
          "Ruscella Mies Haber",
          "Sten Sanjorge Jr ",
          "Stenig Fusil",
          "Sven Flecha",
          "Valeria Morlun",
          "Varja Lagos",
          "Varro Awelon",
          "Vira Frente",
          "Willem Vasco-Pais"
         ],
         "xaxis": "x",
         "y": [
          64,
          32,
          96,
          0,
          32,
          64,
          32,
          0,
          0,
          0,
          0,
          0,
          32,
          32,
          32,
          32,
          64,
          64,
          32,
          0,
          64,
          32,
          0,
          96,
          32,
          64,
          160,
          32,
          64,
          64,
          0,
          32,
          0,
          64,
          0,
          0,
          64,
          32,
          64,
          32,
          640,
          32,
          0,
          0,
          0,
          320,
          0,
          0,
          0,
          0,
          0,
          32,
          0,
          32
         ],
         "yaxis": "y"
        },
        {
         "alignmentgroup": "True",
         "hovertemplate": "variable=Nils Calixto<br>index=%{x}<br>value=%{y}<extra></extra>",
         "legendgroup": "Nils Calixto",
         "marker": {
          "color": "#ab63fa",
          "pattern": {
           "shape": ""
          }
         },
         "name": "Nils Calixto",
         "offsetgroup": "Nils Calixto",
         "orientation": "v",
         "showlegend": true,
         "textposition": "auto",
         "type": "bar",
         "x": [
          "Ada Campo-Corrente",
          "Adan Morlun",
          "Adra Nubarron",
          "Albina Hafon",
          "Anda Ribera",
          "Axel Calzas",
          "Benito Hawelon",
          "Bertrand Ovan",
          "Birgitta Frente",
          "Brand Tempestad",
          "Carla Forluniau",
          "Cecilia Morluniau",
          "Claudio Hawelon",
          "Cornelia Lais",
          "Dante Coginian",
          "Dylan Scozzese",
          "Edvard Vann",
          "Elsa Orilla",
          "Emile Arpa",
          "Felix Balas",
          "Felix Resumir",
          "Gustav Cazar",
          "Henk Mies",
          "Hennie Osvaldo",
          "Hideki Cocinaro",
          "Inga Ferro",
          "Ingrid Barranco",
          "Irene Nant",
          "Isak Baza",
          "Isande Borrasca",
          "Isia Vann",
          "Kanon Herrero",
          "Kare Orilla",
          "Lars Azada",
          "Lidelse Dedos",
          "Linda Lagos",
          "Linnea Bergen",
          "Loreto Bodrogi",
          "Lucas Alcazar",
          "Marin Onda",
          "Mat Bramar",
          "Minke Mies",
          "Nils Calixto",
          "Orhan Strum",
          "Rachel Pantanal",
          "Ruscella Mies Haber",
          "Sten Sanjorge Jr ",
          "Stenig Fusil",
          "Sven Flecha",
          "Valeria Morlun",
          "Varja Lagos",
          "Varro Awelon",
          "Vira Frente",
          "Willem Vasco-Pais"
         ],
         "xaxis": "x",
         "y": [
          66,
          33,
          99,
          0,
          33,
          66,
          33,
          0,
          0,
          0,
          0,
          0,
          33,
          33,
          33,
          33,
          66,
          66,
          33,
          0,
          66,
          33,
          0,
          99,
          33,
          66,
          165,
          33,
          122,
          66,
          0,
          33,
          0,
          66,
          0,
          0,
          66,
          33,
          116,
          33,
          660,
          33,
          77,
          0,
          0,
          330,
          0,
          0,
          43,
          0,
          0,
          33,
          0,
          33
         ],
         "yaxis": "y"
        },
        {
         "alignmentgroup": "True",
         "hovertemplate": "variable=Sven Flecha<br>index=%{x}<br>value=%{y}<extra></extra>",
         "legendgroup": "Sven Flecha",
         "marker": {
          "color": "#FFA15A",
          "pattern": {
           "shape": ""
          }
         },
         "name": "Sven Flecha",
         "offsetgroup": "Sven Flecha",
         "orientation": "v",
         "showlegend": true,
         "textposition": "auto",
         "type": "bar",
         "x": [
          "Ada Campo-Corrente",
          "Adan Morlun",
          "Adra Nubarron",
          "Albina Hafon",
          "Anda Ribera",
          "Axel Calzas",
          "Benito Hawelon",
          "Bertrand Ovan",
          "Birgitta Frente",
          "Brand Tempestad",
          "Carla Forluniau",
          "Cecilia Morluniau",
          "Claudio Hawelon",
          "Cornelia Lais",
          "Dante Coginian",
          "Dylan Scozzese",
          "Edvard Vann",
          "Elsa Orilla",
          "Emile Arpa",
          "Felix Balas",
          "Felix Resumir",
          "Gustav Cazar",
          "Henk Mies",
          "Hennie Osvaldo",
          "Hideki Cocinaro",
          "Inga Ferro",
          "Ingrid Barranco",
          "Irene Nant",
          "Isak Baza",
          "Isande Borrasca",
          "Isia Vann",
          "Kanon Herrero",
          "Kare Orilla",
          "Lars Azada",
          "Lidelse Dedos",
          "Linda Lagos",
          "Linnea Bergen",
          "Loreto Bodrogi",
          "Lucas Alcazar",
          "Marin Onda",
          "Mat Bramar",
          "Minke Mies",
          "Nils Calixto",
          "Orhan Strum",
          "Rachel Pantanal",
          "Ruscella Mies Haber",
          "Sten Sanjorge Jr ",
          "Stenig Fusil",
          "Sven Flecha",
          "Valeria Morlun",
          "Varja Lagos",
          "Varro Awelon",
          "Vira Frente",
          "Willem Vasco-Pais"
         ],
         "xaxis": "x",
         "y": [
          68,
          34,
          102,
          0,
          34,
          68,
          34,
          0,
          0,
          0,
          0,
          0,
          34,
          34,
          34,
          34,
          68,
          68,
          34,
          0,
          68,
          34,
          0,
          102,
          34,
          68,
          170,
          34,
          141,
          68,
          0,
          34,
          0,
          68,
          0,
          0,
          68,
          34,
          124,
          34,
          680,
          34,
          77,
          0,
          0,
          340,
          0,
          0,
          73,
          0,
          0,
          34,
          0,
          34
         ],
         "yaxis": "y"
        },
        {
         "alignmentgroup": "True",
         "hovertemplate": "variable=Hideki Cocinaro<br>index=%{x}<br>value=%{y}<extra></extra>",
         "legendgroup": "Hideki Cocinaro",
         "marker": {
          "color": "#19d3f3",
          "pattern": {
           "shape": ""
          }
         },
         "name": "Hideki Cocinaro",
         "offsetgroup": "Hideki Cocinaro",
         "orientation": "v",
         "showlegend": true,
         "textposition": "auto",
         "type": "bar",
         "x": [
          "Ada Campo-Corrente",
          "Adan Morlun",
          "Adra Nubarron",
          "Albina Hafon",
          "Anda Ribera",
          "Axel Calzas",
          "Benito Hawelon",
          "Bertrand Ovan",
          "Birgitta Frente",
          "Brand Tempestad",
          "Carla Forluniau",
          "Cecilia Morluniau",
          "Claudio Hawelon",
          "Cornelia Lais",
          "Dante Coginian",
          "Dylan Scozzese",
          "Edvard Vann",
          "Elsa Orilla",
          "Emile Arpa",
          "Felix Balas",
          "Felix Resumir",
          "Gustav Cazar",
          "Henk Mies",
          "Hennie Osvaldo",
          "Hideki Cocinaro",
          "Inga Ferro",
          "Ingrid Barranco",
          "Irene Nant",
          "Isak Baza",
          "Isande Borrasca",
          "Isia Vann",
          "Kanon Herrero",
          "Kare Orilla",
          "Lars Azada",
          "Lidelse Dedos",
          "Linda Lagos",
          "Linnea Bergen",
          "Loreto Bodrogi",
          "Lucas Alcazar",
          "Marin Onda",
          "Mat Bramar",
          "Minke Mies",
          "Nils Calixto",
          "Orhan Strum",
          "Rachel Pantanal",
          "Ruscella Mies Haber",
          "Sten Sanjorge Jr ",
          "Stenig Fusil",
          "Sven Flecha",
          "Valeria Morlun",
          "Varja Lagos",
          "Varro Awelon",
          "Vira Frente",
          "Willem Vasco-Pais"
         ],
         "xaxis": "x",
         "y": [
          70,
          35,
          105,
          0,
          35,
          70,
          35,
          0,
          0,
          0,
          0,
          0,
          35,
          35,
          35,
          35,
          78,
          70,
          35,
          0,
          72,
          35,
          0,
          112,
          49,
          76,
          175,
          35,
          70,
          70,
          13,
          43,
          0,
          70,
          0,
          0,
          70,
          41,
          70,
          35,
          700,
          35,
          0,
          0,
          0,
          350,
          0,
          21,
          0,
          0,
          19,
          35,
          0,
          35
         ],
         "yaxis": "y"
        },
        {
         "alignmentgroup": "True",
         "hovertemplate": "variable=Inga Ferro<br>index=%{x}<br>value=%{y}<extra></extra>",
         "legendgroup": "Inga Ferro",
         "marker": {
          "color": "#FF6692",
          "pattern": {
           "shape": ""
          }
         },
         "name": "Inga Ferro",
         "offsetgroup": "Inga Ferro",
         "orientation": "v",
         "showlegend": true,
         "textposition": "auto",
         "type": "bar",
         "x": [
          "Ada Campo-Corrente",
          "Adan Morlun",
          "Adra Nubarron",
          "Albina Hafon",
          "Anda Ribera",
          "Axel Calzas",
          "Benito Hawelon",
          "Bertrand Ovan",
          "Birgitta Frente",
          "Brand Tempestad",
          "Carla Forluniau",
          "Cecilia Morluniau",
          "Claudio Hawelon",
          "Cornelia Lais",
          "Dante Coginian",
          "Dylan Scozzese",
          "Edvard Vann",
          "Elsa Orilla",
          "Emile Arpa",
          "Felix Balas",
          "Felix Resumir",
          "Gustav Cazar",
          "Henk Mies",
          "Hennie Osvaldo",
          "Hideki Cocinaro",
          "Inga Ferro",
          "Ingrid Barranco",
          "Irene Nant",
          "Isak Baza",
          "Isande Borrasca",
          "Isia Vann",
          "Kanon Herrero",
          "Kare Orilla",
          "Lars Azada",
          "Lidelse Dedos",
          "Linda Lagos",
          "Linnea Bergen",
          "Loreto Bodrogi",
          "Lucas Alcazar",
          "Marin Onda",
          "Mat Bramar",
          "Minke Mies",
          "Nils Calixto",
          "Orhan Strum",
          "Rachel Pantanal",
          "Ruscella Mies Haber",
          "Sten Sanjorge Jr ",
          "Stenig Fusil",
          "Sven Flecha",
          "Valeria Morlun",
          "Varja Lagos",
          "Varro Awelon",
          "Vira Frente",
          "Willem Vasco-Pais"
         ],
         "xaxis": "x",
         "y": [
          72,
          36,
          108,
          0,
          36,
          72,
          36,
          0,
          0,
          0,
          0,
          0,
          36,
          36,
          36,
          36,
          86,
          72,
          36,
          0,
          79,
          36,
          0,
          111,
          39,
          79,
          180,
          36,
          72,
          72,
          0,
          58,
          0,
          72,
          0,
          0,
          72,
          44,
          72,
          36,
          720,
          36,
          0,
          0,
          0,
          360,
          0,
          9,
          0,
          0,
          18,
          36,
          0,
          36
         ],
         "yaxis": "y"
        },
        {
         "alignmentgroup": "True",
         "hovertemplate": "variable=Loreto Bodrogi<br>index=%{x}<br>value=%{y}<extra></extra>",
         "legendgroup": "Loreto Bodrogi",
         "marker": {
          "color": "#B6E880",
          "pattern": {
           "shape": ""
          }
         },
         "name": "Loreto Bodrogi",
         "offsetgroup": "Loreto Bodrogi",
         "orientation": "v",
         "showlegend": true,
         "textposition": "auto",
         "type": "bar",
         "x": [
          "Ada Campo-Corrente",
          "Adan Morlun",
          "Adra Nubarron",
          "Albina Hafon",
          "Anda Ribera",
          "Axel Calzas",
          "Benito Hawelon",
          "Bertrand Ovan",
          "Birgitta Frente",
          "Brand Tempestad",
          "Carla Forluniau",
          "Cecilia Morluniau",
          "Claudio Hawelon",
          "Cornelia Lais",
          "Dante Coginian",
          "Dylan Scozzese",
          "Edvard Vann",
          "Elsa Orilla",
          "Emile Arpa",
          "Felix Balas",
          "Felix Resumir",
          "Gustav Cazar",
          "Henk Mies",
          "Hennie Osvaldo",
          "Hideki Cocinaro",
          "Inga Ferro",
          "Ingrid Barranco",
          "Irene Nant",
          "Isak Baza",
          "Isande Borrasca",
          "Isia Vann",
          "Kanon Herrero",
          "Kare Orilla",
          "Lars Azada",
          "Lidelse Dedos",
          "Linda Lagos",
          "Linnea Bergen",
          "Loreto Bodrogi",
          "Lucas Alcazar",
          "Marin Onda",
          "Mat Bramar",
          "Minke Mies",
          "Nils Calixto",
          "Orhan Strum",
          "Rachel Pantanal",
          "Ruscella Mies Haber",
          "Sten Sanjorge Jr ",
          "Stenig Fusil",
          "Sven Flecha",
          "Valeria Morlun",
          "Varja Lagos",
          "Varro Awelon",
          "Vira Frente",
          "Willem Vasco-Pais"
         ],
         "xaxis": "x",
         "y": [
          74,
          37,
          111,
          0,
          37,
          74,
          37,
          0,
          0,
          0,
          0,
          0,
          37,
          37,
          37,
          37,
          84,
          74,
          37,
          0,
          87,
          37,
          0,
          123,
          37,
          90,
          185,
          37,
          74,
          74,
          2,
          55,
          0,
          74,
          0,
          0,
          76,
          51,
          74,
          37,
          740,
          39,
          0,
          0,
          0,
          374,
          0,
          21,
          0,
          0,
          21,
          37,
          0,
          37
         ],
         "yaxis": "y"
        },
        {
         "alignmentgroup": "True",
         "hovertemplate": "variable=Isia Vann<br>index=%{x}<br>value=%{y}<extra></extra>",
         "legendgroup": "Isia Vann",
         "marker": {
          "color": "#FF97FF",
          "pattern": {
           "shape": ""
          }
         },
         "name": "Isia Vann",
         "offsetgroup": "Isia Vann",
         "orientation": "v",
         "showlegend": true,
         "textposition": "auto",
         "type": "bar",
         "x": [
          "Ada Campo-Corrente",
          "Adan Morlun",
          "Adra Nubarron",
          "Albina Hafon",
          "Anda Ribera",
          "Axel Calzas",
          "Benito Hawelon",
          "Bertrand Ovan",
          "Birgitta Frente",
          "Brand Tempestad",
          "Carla Forluniau",
          "Cecilia Morluniau",
          "Claudio Hawelon",
          "Cornelia Lais",
          "Dante Coginian",
          "Dylan Scozzese",
          "Edvard Vann",
          "Elsa Orilla",
          "Emile Arpa",
          "Felix Balas",
          "Felix Resumir",
          "Gustav Cazar",
          "Henk Mies",
          "Hennie Osvaldo",
          "Hideki Cocinaro",
          "Inga Ferro",
          "Ingrid Barranco",
          "Irene Nant",
          "Isak Baza",
          "Isande Borrasca",
          "Isia Vann",
          "Kanon Herrero",
          "Kare Orilla",
          "Lars Azada",
          "Lidelse Dedos",
          "Linda Lagos",
          "Linnea Bergen",
          "Loreto Bodrogi",
          "Lucas Alcazar",
          "Marin Onda",
          "Mat Bramar",
          "Minke Mies",
          "Nils Calixto",
          "Orhan Strum",
          "Rachel Pantanal",
          "Ruscella Mies Haber",
          "Sten Sanjorge Jr ",
          "Stenig Fusil",
          "Sven Flecha",
          "Valeria Morlun",
          "Varja Lagos",
          "Varro Awelon",
          "Vira Frente",
          "Willem Vasco-Pais"
         ],
         "xaxis": "x",
         "y": [
          76,
          38,
          114,
          0,
          38,
          76,
          38,
          0,
          0,
          0,
          0,
          0,
          38,
          38,
          38,
          38,
          85,
          76,
          38,
          0,
          84,
          38,
          0,
          133,
          64,
          96,
          190,
          38,
          76,
          76,
          22,
          54,
          0,
          76,
          0,
          0,
          79,
          47,
          76,
          38,
          760,
          41,
          0,
          0,
          0,
          386,
          0,
          31,
          0,
          0,
          23,
          38,
          0,
          38
         ],
         "yaxis": "y"
        },
        {
         "alignmentgroup": "True",
         "hovertemplate": "variable=Stenig Fusil<br>index=%{x}<br>value=%{y}<extra></extra>",
         "legendgroup": "Stenig Fusil",
         "marker": {
          "color": "#FECB52",
          "pattern": {
           "shape": ""
          }
         },
         "name": "Stenig Fusil",
         "offsetgroup": "Stenig Fusil",
         "orientation": "v",
         "showlegend": true,
         "textposition": "auto",
         "type": "bar",
         "x": [
          "Ada Campo-Corrente",
          "Adan Morlun",
          "Adra Nubarron",
          "Albina Hafon",
          "Anda Ribera",
          "Axel Calzas",
          "Benito Hawelon",
          "Bertrand Ovan",
          "Birgitta Frente",
          "Brand Tempestad",
          "Carla Forluniau",
          "Cecilia Morluniau",
          "Claudio Hawelon",
          "Cornelia Lais",
          "Dante Coginian",
          "Dylan Scozzese",
          "Edvard Vann",
          "Elsa Orilla",
          "Emile Arpa",
          "Felix Balas",
          "Felix Resumir",
          "Gustav Cazar",
          "Henk Mies",
          "Hennie Osvaldo",
          "Hideki Cocinaro",
          "Inga Ferro",
          "Ingrid Barranco",
          "Irene Nant",
          "Isak Baza",
          "Isande Borrasca",
          "Isia Vann",
          "Kanon Herrero",
          "Kare Orilla",
          "Lars Azada",
          "Lidelse Dedos",
          "Linda Lagos",
          "Linnea Bergen",
          "Loreto Bodrogi",
          "Lucas Alcazar",
          "Marin Onda",
          "Mat Bramar",
          "Minke Mies",
          "Nils Calixto",
          "Orhan Strum",
          "Rachel Pantanal",
          "Ruscella Mies Haber",
          "Sten Sanjorge Jr ",
          "Stenig Fusil",
          "Sven Flecha",
          "Valeria Morlun",
          "Varja Lagos",
          "Varro Awelon",
          "Vira Frente",
          "Willem Vasco-Pais"
         ],
         "xaxis": "x",
         "y": [
          78,
          39,
          117,
          0,
          39,
          78,
          39,
          0,
          0,
          0,
          0,
          0,
          39,
          39,
          39,
          39,
          83,
          78,
          39,
          0,
          89,
          39,
          0,
          131,
          55,
          78,
          195,
          39,
          78,
          78,
          7,
          45,
          0,
          78,
          0,
          0,
          78,
          44,
          78,
          39,
          780,
          39,
          0,
          0,
          0,
          390,
          0,
          29,
          0,
          0,
          14,
          39,
          0,
          39
         ],
         "yaxis": "y"
        },
        {
         "alignmentgroup": "True",
         "hovertemplate": "variable=Hennie Osvaldo<br>index=%{x}<br>value=%{y}<extra></extra>",
         "legendgroup": "Hennie Osvaldo",
         "marker": {
          "color": "#636efa",
          "pattern": {
           "shape": ""
          }
         },
         "name": "Hennie Osvaldo",
         "offsetgroup": "Hennie Osvaldo",
         "orientation": "v",
         "showlegend": true,
         "textposition": "auto",
         "type": "bar",
         "x": [
          "Ada Campo-Corrente",
          "Adan Morlun",
          "Adra Nubarron",
          "Albina Hafon",
          "Anda Ribera",
          "Axel Calzas",
          "Benito Hawelon",
          "Bertrand Ovan",
          "Birgitta Frente",
          "Brand Tempestad",
          "Carla Forluniau",
          "Cecilia Morluniau",
          "Claudio Hawelon",
          "Cornelia Lais",
          "Dante Coginian",
          "Dylan Scozzese",
          "Edvard Vann",
          "Elsa Orilla",
          "Emile Arpa",
          "Felix Balas",
          "Felix Resumir",
          "Gustav Cazar",
          "Henk Mies",
          "Hennie Osvaldo",
          "Hideki Cocinaro",
          "Inga Ferro",
          "Ingrid Barranco",
          "Irene Nant",
          "Isak Baza",
          "Isande Borrasca",
          "Isia Vann",
          "Kanon Herrero",
          "Kare Orilla",
          "Lars Azada",
          "Lidelse Dedos",
          "Linda Lagos",
          "Linnea Bergen",
          "Loreto Bodrogi",
          "Lucas Alcazar",
          "Marin Onda",
          "Mat Bramar",
          "Minke Mies",
          "Nils Calixto",
          "Orhan Strum",
          "Rachel Pantanal",
          "Ruscella Mies Haber",
          "Sten Sanjorge Jr ",
          "Stenig Fusil",
          "Sven Flecha",
          "Valeria Morlun",
          "Varja Lagos",
          "Varro Awelon",
          "Vira Frente",
          "Willem Vasco-Pais"
         ],
         "xaxis": "x",
         "y": [
          80,
          40,
          120,
          0,
          40,
          80,
          40,
          0,
          0,
          0,
          0,
          0,
          40,
          40,
          40,
          40,
          101,
          80,
          40,
          0,
          96,
          40,
          0,
          139,
          49,
          98,
          200,
          40,
          80,
          80,
          6,
          58,
          0,
          80,
          0,
          0,
          84,
          56,
          80,
          40,
          800,
          44,
          0,
          0,
          0,
          408,
          0,
          47,
          0,
          0,
          15,
          40,
          0,
          40
         ],
         "yaxis": "y"
        },
        {
         "alignmentgroup": "True",
         "hovertemplate": "variable=Kanon Herrero<br>index=%{x}<br>value=%{y}<extra></extra>",
         "legendgroup": "Kanon Herrero",
         "marker": {
          "color": "#EF553B",
          "pattern": {
           "shape": ""
          }
         },
         "name": "Kanon Herrero",
         "offsetgroup": "Kanon Herrero",
         "orientation": "v",
         "showlegend": true,
         "textposition": "auto",
         "type": "bar",
         "x": [
          "Ada Campo-Corrente",
          "Adan Morlun",
          "Adra Nubarron",
          "Albina Hafon",
          "Anda Ribera",
          "Axel Calzas",
          "Benito Hawelon",
          "Bertrand Ovan",
          "Birgitta Frente",
          "Brand Tempestad",
          "Carla Forluniau",
          "Cecilia Morluniau",
          "Claudio Hawelon",
          "Cornelia Lais",
          "Dante Coginian",
          "Dylan Scozzese",
          "Edvard Vann",
          "Elsa Orilla",
          "Emile Arpa",
          "Felix Balas",
          "Felix Resumir",
          "Gustav Cazar",
          "Henk Mies",
          "Hennie Osvaldo",
          "Hideki Cocinaro",
          "Inga Ferro",
          "Ingrid Barranco",
          "Irene Nant",
          "Isak Baza",
          "Isande Borrasca",
          "Isia Vann",
          "Kanon Herrero",
          "Kare Orilla",
          "Lars Azada",
          "Lidelse Dedos",
          "Linda Lagos",
          "Linnea Bergen",
          "Loreto Bodrogi",
          "Lucas Alcazar",
          "Marin Onda",
          "Mat Bramar",
          "Minke Mies",
          "Nils Calixto",
          "Orhan Strum",
          "Rachel Pantanal",
          "Ruscella Mies Haber",
          "Sten Sanjorge Jr ",
          "Stenig Fusil",
          "Sven Flecha",
          "Valeria Morlun",
          "Varja Lagos",
          "Varro Awelon",
          "Vira Frente",
          "Willem Vasco-Pais"
         ],
         "xaxis": "x",
         "y": [
          82,
          41,
          123,
          0,
          41,
          82,
          41,
          0,
          0,
          0,
          0,
          0,
          41,
          41,
          41,
          41,
          90,
          82,
          41,
          0,
          87,
          41,
          0,
          129,
          41,
          87,
          205,
          41,
          82,
          82,
          3,
          54,
          0,
          82,
          0,
          0,
          82,
          50,
          82,
          41,
          820,
          41,
          0,
          0,
          0,
          410,
          0,
          12,
          0,
          0,
          19,
          41,
          0,
          41
         ],
         "yaxis": "y"
        },
        {
         "alignmentgroup": "True",
         "hovertemplate": "variable=Varja Lagos<br>index=%{x}<br>value=%{y}<extra></extra>",
         "legendgroup": "Varja Lagos",
         "marker": {
          "color": "#00cc96",
          "pattern": {
           "shape": ""
          }
         },
         "name": "Varja Lagos",
         "offsetgroup": "Varja Lagos",
         "orientation": "v",
         "showlegend": true,
         "textposition": "auto",
         "type": "bar",
         "x": [
          "Ada Campo-Corrente",
          "Adan Morlun",
          "Adra Nubarron",
          "Albina Hafon",
          "Anda Ribera",
          "Axel Calzas",
          "Benito Hawelon",
          "Bertrand Ovan",
          "Birgitta Frente",
          "Brand Tempestad",
          "Carla Forluniau",
          "Cecilia Morluniau",
          "Claudio Hawelon",
          "Cornelia Lais",
          "Dante Coginian",
          "Dylan Scozzese",
          "Edvard Vann",
          "Elsa Orilla",
          "Emile Arpa",
          "Felix Balas",
          "Felix Resumir",
          "Gustav Cazar",
          "Henk Mies",
          "Hennie Osvaldo",
          "Hideki Cocinaro",
          "Inga Ferro",
          "Ingrid Barranco",
          "Irene Nant",
          "Isak Baza",
          "Isande Borrasca",
          "Isia Vann",
          "Kanon Herrero",
          "Kare Orilla",
          "Lars Azada",
          "Lidelse Dedos",
          "Linda Lagos",
          "Linnea Bergen",
          "Loreto Bodrogi",
          "Lucas Alcazar",
          "Marin Onda",
          "Mat Bramar",
          "Minke Mies",
          "Nils Calixto",
          "Orhan Strum",
          "Rachel Pantanal",
          "Ruscella Mies Haber",
          "Sten Sanjorge Jr ",
          "Stenig Fusil",
          "Sven Flecha",
          "Valeria Morlun",
          "Varja Lagos",
          "Varro Awelon",
          "Vira Frente",
          "Willem Vasco-Pais"
         ],
         "xaxis": "x",
         "y": [
          84,
          42,
          126,
          0,
          42,
          84,
          42,
          0,
          0,
          0,
          0,
          0,
          42,
          42,
          42,
          42,
          88,
          84,
          42,
          0,
          90,
          42,
          0,
          136,
          50,
          96,
          210,
          42,
          84,
          84,
          7,
          60,
          0,
          84,
          0,
          0,
          84,
          47,
          84,
          42,
          840,
          42,
          0,
          0,
          0,
          420,
          0,
          7,
          0,
          0,
          31,
          42,
          0,
          42
         ],
         "yaxis": "y"
        },
        {
         "alignmentgroup": "True",
         "hovertemplate": "variable=Minke Mies<br>index=%{x}<br>value=%{y}<extra></extra>",
         "legendgroup": "Minke Mies",
         "marker": {
          "color": "#ab63fa",
          "pattern": {
           "shape": ""
          }
         },
         "name": "Minke Mies",
         "offsetgroup": "Minke Mies",
         "orientation": "v",
         "showlegend": true,
         "textposition": "auto",
         "type": "bar",
         "x": [
          "Ada Campo-Corrente",
          "Adan Morlun",
          "Adra Nubarron",
          "Albina Hafon",
          "Anda Ribera",
          "Axel Calzas",
          "Benito Hawelon",
          "Bertrand Ovan",
          "Birgitta Frente",
          "Brand Tempestad",
          "Carla Forluniau",
          "Cecilia Morluniau",
          "Claudio Hawelon",
          "Cornelia Lais",
          "Dante Coginian",
          "Dylan Scozzese",
          "Edvard Vann",
          "Elsa Orilla",
          "Emile Arpa",
          "Felix Balas",
          "Felix Resumir",
          "Gustav Cazar",
          "Henk Mies",
          "Hennie Osvaldo",
          "Hideki Cocinaro",
          "Inga Ferro",
          "Ingrid Barranco",
          "Irene Nant",
          "Isak Baza",
          "Isande Borrasca",
          "Isia Vann",
          "Kanon Herrero",
          "Kare Orilla",
          "Lars Azada",
          "Lidelse Dedos",
          "Linda Lagos",
          "Linnea Bergen",
          "Loreto Bodrogi",
          "Lucas Alcazar",
          "Marin Onda",
          "Mat Bramar",
          "Minke Mies",
          "Nils Calixto",
          "Orhan Strum",
          "Rachel Pantanal",
          "Ruscella Mies Haber",
          "Sten Sanjorge Jr ",
          "Stenig Fusil",
          "Sven Flecha",
          "Valeria Morlun",
          "Varja Lagos",
          "Varro Awelon",
          "Vira Frente",
          "Willem Vasco-Pais"
         ],
         "xaxis": "x",
         "y": [
          86,
          43,
          129,
          0,
          43,
          86,
          43,
          0,
          0,
          0,
          0,
          0,
          43,
          43,
          43,
          43,
          108,
          86,
          43,
          0,
          96,
          43,
          0,
          147,
          51,
          120,
          215,
          43,
          86,
          86,
          9,
          63,
          0,
          86,
          0,
          0,
          91,
          60,
          86,
          43,
          860,
          48,
          0,
          0,
          0,
          440,
          0,
          20,
          0,
          0,
          29,
          43,
          0,
          43
         ],
         "yaxis": "y"
        },
        {
         "alignmentgroup": "True",
         "hovertemplate": "variable=Edvard Vann<br>index=%{x}<br>value=%{y}<extra></extra>",
         "legendgroup": "Edvard Vann",
         "marker": {
          "color": "#FFA15A",
          "pattern": {
           "shape": ""
          }
         },
         "name": "Edvard Vann",
         "offsetgroup": "Edvard Vann",
         "orientation": "v",
         "showlegend": true,
         "textposition": "auto",
         "type": "bar",
         "x": [
          "Ada Campo-Corrente",
          "Adan Morlun",
          "Adra Nubarron",
          "Albina Hafon",
          "Anda Ribera",
          "Axel Calzas",
          "Benito Hawelon",
          "Bertrand Ovan",
          "Birgitta Frente",
          "Brand Tempestad",
          "Carla Forluniau",
          "Cecilia Morluniau",
          "Claudio Hawelon",
          "Cornelia Lais",
          "Dante Coginian",
          "Dylan Scozzese",
          "Edvard Vann",
          "Elsa Orilla",
          "Emile Arpa",
          "Felix Balas",
          "Felix Resumir",
          "Gustav Cazar",
          "Henk Mies",
          "Hennie Osvaldo",
          "Hideki Cocinaro",
          "Inga Ferro",
          "Ingrid Barranco",
          "Irene Nant",
          "Isak Baza",
          "Isande Borrasca",
          "Isia Vann",
          "Kanon Herrero",
          "Kare Orilla",
          "Lars Azada",
          "Lidelse Dedos",
          "Linda Lagos",
          "Linnea Bergen",
          "Loreto Bodrogi",
          "Lucas Alcazar",
          "Marin Onda",
          "Mat Bramar",
          "Minke Mies",
          "Nils Calixto",
          "Orhan Strum",
          "Rachel Pantanal",
          "Ruscella Mies Haber",
          "Sten Sanjorge Jr ",
          "Stenig Fusil",
          "Sven Flecha",
          "Valeria Morlun",
          "Varja Lagos",
          "Varro Awelon",
          "Vira Frente",
          "Willem Vasco-Pais"
         ],
         "xaxis": "x",
         "y": [
          90,
          45,
          135,
          0,
          45,
          90,
          45,
          0,
          0,
          0,
          0,
          0,
          45,
          45,
          45,
          45,
          110,
          90,
          45,
          0,
          108,
          45,
          0,
          139,
          57,
          95,
          225,
          45,
          90,
          90,
          12,
          74,
          0,
          90,
          0,
          0,
          90,
          47,
          90,
          45,
          900,
          45,
          0,
          0,
          0,
          450,
          0,
          17,
          0,
          0,
          9,
          45,
          0,
          45
         ],
         "yaxis": "y"
        },
        {
         "alignmentgroup": "True",
         "hovertemplate": "variable=Emile Arpa<br>index=%{x}<br>value=%{y}<extra></extra>",
         "legendgroup": "Emile Arpa",
         "marker": {
          "color": "#19d3f3",
          "pattern": {
           "shape": ""
          }
         },
         "name": "Emile Arpa",
         "offsetgroup": "Emile Arpa",
         "orientation": "v",
         "showlegend": true,
         "textposition": "auto",
         "type": "bar",
         "x": [
          "Ada Campo-Corrente",
          "Adan Morlun",
          "Adra Nubarron",
          "Albina Hafon",
          "Anda Ribera",
          "Axel Calzas",
          "Benito Hawelon",
          "Bertrand Ovan",
          "Birgitta Frente",
          "Brand Tempestad",
          "Carla Forluniau",
          "Cecilia Morluniau",
          "Claudio Hawelon",
          "Cornelia Lais",
          "Dante Coginian",
          "Dylan Scozzese",
          "Edvard Vann",
          "Elsa Orilla",
          "Emile Arpa",
          "Felix Balas",
          "Felix Resumir",
          "Gustav Cazar",
          "Henk Mies",
          "Hennie Osvaldo",
          "Hideki Cocinaro",
          "Inga Ferro",
          "Ingrid Barranco",
          "Irene Nant",
          "Isak Baza",
          "Isande Borrasca",
          "Isia Vann",
          "Kanon Herrero",
          "Kare Orilla",
          "Lars Azada",
          "Lidelse Dedos",
          "Linda Lagos",
          "Linnea Bergen",
          "Loreto Bodrogi",
          "Lucas Alcazar",
          "Marin Onda",
          "Mat Bramar",
          "Minke Mies",
          "Nils Calixto",
          "Orhan Strum",
          "Rachel Pantanal",
          "Ruscella Mies Haber",
          "Sten Sanjorge Jr ",
          "Stenig Fusil",
          "Sven Flecha",
          "Valeria Morlun",
          "Varja Lagos",
          "Varro Awelon",
          "Vira Frente",
          "Willem Vasco-Pais"
         ],
         "xaxis": "x",
         "y": [
          92,
          75,
          138,
          32,
          46,
          92,
          82,
          13,
          0,
          0,
          0,
          7,
          71,
          46,
          80,
          85,
          92,
          92,
          67,
          0,
          92,
          46,
          60,
          138,
          46,
          92,
          230,
          64,
          92,
          92,
          0,
          46,
          0,
          92,
          0,
          0,
          92,
          46,
          92,
          46,
          920,
          46,
          0,
          0,
          0,
          460,
          0,
          0,
          0,
          10,
          0,
          51,
          0,
          46
         ],
         "yaxis": "y"
        },
        {
         "alignmentgroup": "True",
         "hovertemplate": "variable=Varro Awelon<br>index=%{x}<br>value=%{y}<extra></extra>",
         "legendgroup": "Varro Awelon",
         "marker": {
          "color": "#FF6692",
          "pattern": {
           "shape": ""
          }
         },
         "name": "Varro Awelon",
         "offsetgroup": "Varro Awelon",
         "orientation": "v",
         "showlegend": true,
         "textposition": "auto",
         "type": "bar",
         "x": [
          "Ada Campo-Corrente",
          "Adan Morlun",
          "Adra Nubarron",
          "Albina Hafon",
          "Anda Ribera",
          "Axel Calzas",
          "Benito Hawelon",
          "Bertrand Ovan",
          "Birgitta Frente",
          "Brand Tempestad",
          "Carla Forluniau",
          "Cecilia Morluniau",
          "Claudio Hawelon",
          "Cornelia Lais",
          "Dante Coginian",
          "Dylan Scozzese",
          "Edvard Vann",
          "Elsa Orilla",
          "Emile Arpa",
          "Felix Balas",
          "Felix Resumir",
          "Gustav Cazar",
          "Henk Mies",
          "Hennie Osvaldo",
          "Hideki Cocinaro",
          "Inga Ferro",
          "Ingrid Barranco",
          "Irene Nant",
          "Isak Baza",
          "Isande Borrasca",
          "Isia Vann",
          "Kanon Herrero",
          "Kare Orilla",
          "Lars Azada",
          "Lidelse Dedos",
          "Linda Lagos",
          "Linnea Bergen",
          "Loreto Bodrogi",
          "Lucas Alcazar",
          "Marin Onda",
          "Mat Bramar",
          "Minke Mies",
          "Nils Calixto",
          "Orhan Strum",
          "Rachel Pantanal",
          "Ruscella Mies Haber",
          "Sten Sanjorge Jr ",
          "Stenig Fusil",
          "Sven Flecha",
          "Valeria Morlun",
          "Varja Lagos",
          "Varro Awelon",
          "Vira Frente",
          "Willem Vasco-Pais"
         ],
         "xaxis": "x",
         "y": [
          94,
          82,
          141,
          25,
          47,
          94,
          73,
          55,
          0,
          0,
          0,
          6,
          88,
          47,
          82,
          60,
          94,
          94,
          63,
          0,
          94,
          47,
          62,
          141,
          47,
          94,
          235,
          64,
          94,
          94,
          0,
          47,
          0,
          94,
          0,
          0,
          94,
          47,
          94,
          47,
          940,
          47,
          0,
          0,
          0,
          470,
          0,
          0,
          0,
          10,
          0,
          70,
          0,
          47
         ],
         "yaxis": "y"
        },
        {
         "alignmentgroup": "True",
         "hovertemplate": "variable=Mat Bramar<br>index=%{x}<br>value=%{y}<extra></extra>",
         "legendgroup": "Mat Bramar",
         "marker": {
          "color": "#B6E880",
          "pattern": {
           "shape": ""
          }
         },
         "name": "Mat Bramar",
         "offsetgroup": "Mat Bramar",
         "orientation": "v",
         "showlegend": true,
         "textposition": "auto",
         "type": "bar",
         "x": [
          "Ada Campo-Corrente",
          "Adan Morlun",
          "Adra Nubarron",
          "Albina Hafon",
          "Anda Ribera",
          "Axel Calzas",
          "Benito Hawelon",
          "Bertrand Ovan",
          "Birgitta Frente",
          "Brand Tempestad",
          "Carla Forluniau",
          "Cecilia Morluniau",
          "Claudio Hawelon",
          "Cornelia Lais",
          "Dante Coginian",
          "Dylan Scozzese",
          "Edvard Vann",
          "Elsa Orilla",
          "Emile Arpa",
          "Felix Balas",
          "Felix Resumir",
          "Gustav Cazar",
          "Henk Mies",
          "Hennie Osvaldo",
          "Hideki Cocinaro",
          "Inga Ferro",
          "Ingrid Barranco",
          "Irene Nant",
          "Isak Baza",
          "Isande Borrasca",
          "Isia Vann",
          "Kanon Herrero",
          "Kare Orilla",
          "Lars Azada",
          "Lidelse Dedos",
          "Linda Lagos",
          "Linnea Bergen",
          "Loreto Bodrogi",
          "Lucas Alcazar",
          "Marin Onda",
          "Mat Bramar",
          "Minke Mies",
          "Nils Calixto",
          "Orhan Strum",
          "Rachel Pantanal",
          "Ruscella Mies Haber",
          "Sten Sanjorge Jr ",
          "Stenig Fusil",
          "Sven Flecha",
          "Valeria Morlun",
          "Varja Lagos",
          "Varro Awelon",
          "Vira Frente",
          "Willem Vasco-Pais"
         ],
         "xaxis": "x",
         "y": [
          96,
          48,
          144,
          0,
          48,
          96,
          48,
          0,
          0,
          0,
          0,
          0,
          48,
          48,
          48,
          48,
          96,
          96,
          48,
          0,
          96,
          48,
          0,
          144,
          48,
          96,
          240,
          48,
          96,
          96,
          0,
          48,
          0,
          96,
          0,
          0,
          96,
          48,
          96,
          48,
          960,
          48,
          0,
          0,
          0,
          480,
          0,
          0,
          0,
          0,
          0,
          48,
          0,
          48
         ],
         "yaxis": "y"
        },
        {
         "alignmentgroup": "True",
         "hovertemplate": "variable=Dante Coginian<br>index=%{x}<br>value=%{y}<extra></extra>",
         "legendgroup": "Dante Coginian",
         "marker": {
          "color": "#FF97FF",
          "pattern": {
           "shape": ""
          }
         },
         "name": "Dante Coginian",
         "offsetgroup": "Dante Coginian",
         "orientation": "v",
         "showlegend": true,
         "textposition": "auto",
         "type": "bar",
         "x": [
          "Ada Campo-Corrente",
          "Adan Morlun",
          "Adra Nubarron",
          "Albina Hafon",
          "Anda Ribera",
          "Axel Calzas",
          "Benito Hawelon",
          "Bertrand Ovan",
          "Birgitta Frente",
          "Brand Tempestad",
          "Carla Forluniau",
          "Cecilia Morluniau",
          "Claudio Hawelon",
          "Cornelia Lais",
          "Dante Coginian",
          "Dylan Scozzese",
          "Edvard Vann",
          "Elsa Orilla",
          "Emile Arpa",
          "Felix Balas",
          "Felix Resumir",
          "Gustav Cazar",
          "Henk Mies",
          "Hennie Osvaldo",
          "Hideki Cocinaro",
          "Inga Ferro",
          "Ingrid Barranco",
          "Irene Nant",
          "Isak Baza",
          "Isande Borrasca",
          "Isia Vann",
          "Kanon Herrero",
          "Kare Orilla",
          "Lars Azada",
          "Lidelse Dedos",
          "Linda Lagos",
          "Linnea Bergen",
          "Loreto Bodrogi",
          "Lucas Alcazar",
          "Marin Onda",
          "Mat Bramar",
          "Minke Mies",
          "Nils Calixto",
          "Orhan Strum",
          "Rachel Pantanal",
          "Ruscella Mies Haber",
          "Sten Sanjorge Jr ",
          "Stenig Fusil",
          "Sven Flecha",
          "Valeria Morlun",
          "Varja Lagos",
          "Varro Awelon",
          "Vira Frente",
          "Willem Vasco-Pais"
         ],
         "xaxis": "x",
         "y": [
          98,
          88,
          147,
          38,
          49,
          98,
          77,
          93,
          0,
          0,
          0,
          11,
          68,
          49,
          87,
          70,
          98,
          98,
          60,
          0,
          98,
          49,
          93,
          147,
          49,
          98,
          245,
          78,
          98,
          98,
          0,
          49,
          0,
          98,
          0,
          0,
          98,
          49,
          98,
          49,
          980,
          49,
          0,
          0,
          0,
          490,
          0,
          0,
          0,
          9,
          0,
          72,
          0,
          49
         ],
         "yaxis": "y"
        },
        {
         "alignmentgroup": "True",
         "hovertemplate": "variable=Carla Forluniau<br>index=%{x}<br>value=%{y}<extra></extra>",
         "legendgroup": "Carla Forluniau",
         "marker": {
          "color": "#FECB52",
          "pattern": {
           "shape": ""
          }
         },
         "name": "Carla Forluniau",
         "offsetgroup": "Carla Forluniau",
         "orientation": "v",
         "showlegend": true,
         "textposition": "auto",
         "type": "bar",
         "x": [
          "Ada Campo-Corrente",
          "Adan Morlun",
          "Adra Nubarron",
          "Albina Hafon",
          "Anda Ribera",
          "Axel Calzas",
          "Benito Hawelon",
          "Bertrand Ovan",
          "Birgitta Frente",
          "Brand Tempestad",
          "Carla Forluniau",
          "Cecilia Morluniau",
          "Claudio Hawelon",
          "Cornelia Lais",
          "Dante Coginian",
          "Dylan Scozzese",
          "Edvard Vann",
          "Elsa Orilla",
          "Emile Arpa",
          "Felix Balas",
          "Felix Resumir",
          "Gustav Cazar",
          "Henk Mies",
          "Hennie Osvaldo",
          "Hideki Cocinaro",
          "Inga Ferro",
          "Ingrid Barranco",
          "Irene Nant",
          "Isak Baza",
          "Isande Borrasca",
          "Isia Vann",
          "Kanon Herrero",
          "Kare Orilla",
          "Lars Azada",
          "Lidelse Dedos",
          "Linda Lagos",
          "Linnea Bergen",
          "Loreto Bodrogi",
          "Lucas Alcazar",
          "Marin Onda",
          "Mat Bramar",
          "Minke Mies",
          "Nils Calixto",
          "Orhan Strum",
          "Rachel Pantanal",
          "Ruscella Mies Haber",
          "Sten Sanjorge Jr ",
          "Stenig Fusil",
          "Sven Flecha",
          "Valeria Morlun",
          "Varja Lagos",
          "Varro Awelon",
          "Vira Frente",
          "Willem Vasco-Pais"
         ],
         "xaxis": "x",
         "y": [
          100,
          50,
          150,
          0,
          128,
          100,
          50,
          0,
          0,
          0,
          114,
          0,
          50,
          170,
          50,
          50,
          100,
          100,
          50,
          0,
          100,
          50,
          0,
          150,
          50,
          100,
          250,
          50,
          100,
          100,
          0,
          50,
          0,
          100,
          0,
          108,
          100,
          50,
          100,
          50,
          1108,
          50,
          0,
          0,
          84,
          584,
          0,
          0,
          0,
          0,
          0,
          50,
          0,
          50
         ],
         "yaxis": "y"
        },
        {
         "alignmentgroup": "True",
         "hovertemplate": "variable=Linda Lagos<br>index=%{x}<br>value=%{y}<extra></extra>",
         "legendgroup": "Linda Lagos",
         "marker": {
          "color": "#636efa",
          "pattern": {
           "shape": ""
          }
         },
         "name": "Linda Lagos",
         "offsetgroup": "Linda Lagos",
         "orientation": "v",
         "showlegend": true,
         "textposition": "auto",
         "type": "bar",
         "x": [
          "Ada Campo-Corrente",
          "Adan Morlun",
          "Adra Nubarron",
          "Albina Hafon",
          "Anda Ribera",
          "Axel Calzas",
          "Benito Hawelon",
          "Bertrand Ovan",
          "Birgitta Frente",
          "Brand Tempestad",
          "Carla Forluniau",
          "Cecilia Morluniau",
          "Claudio Hawelon",
          "Cornelia Lais",
          "Dante Coginian",
          "Dylan Scozzese",
          "Edvard Vann",
          "Elsa Orilla",
          "Emile Arpa",
          "Felix Balas",
          "Felix Resumir",
          "Gustav Cazar",
          "Henk Mies",
          "Hennie Osvaldo",
          "Hideki Cocinaro",
          "Inga Ferro",
          "Ingrid Barranco",
          "Irene Nant",
          "Isak Baza",
          "Isande Borrasca",
          "Isia Vann",
          "Kanon Herrero",
          "Kare Orilla",
          "Lars Azada",
          "Lidelse Dedos",
          "Linda Lagos",
          "Linnea Bergen",
          "Loreto Bodrogi",
          "Lucas Alcazar",
          "Marin Onda",
          "Mat Bramar",
          "Minke Mies",
          "Nils Calixto",
          "Orhan Strum",
          "Rachel Pantanal",
          "Ruscella Mies Haber",
          "Sten Sanjorge Jr ",
          "Stenig Fusil",
          "Sven Flecha",
          "Valeria Morlun",
          "Varja Lagos",
          "Varro Awelon",
          "Vira Frente",
          "Willem Vasco-Pais"
         ],
         "xaxis": "x",
         "y": [
          102,
          51,
          153,
          0,
          103,
          102,
          51,
          0,
          0,
          0,
          76,
          0,
          51,
          131,
          51,
          51,
          102,
          102,
          51,
          0,
          102,
          51,
          0,
          153,
          51,
          102,
          255,
          51,
          102,
          102,
          0,
          51,
          0,
          102,
          0,
          72,
          102,
          51,
          102,
          51,
          1092,
          51,
          0,
          0,
          56,
          566,
          0,
          0,
          0,
          0,
          0,
          51,
          0,
          51
         ],
         "yaxis": "y"
        },
        {
         "alignmentgroup": "True",
         "hovertemplate": "variable=Cornelia Lais<br>index=%{x}<br>value=%{y}<extra></extra>",
         "legendgroup": "Cornelia Lais",
         "marker": {
          "color": "#EF553B",
          "pattern": {
           "shape": ""
          }
         },
         "name": "Cornelia Lais",
         "offsetgroup": "Cornelia Lais",
         "orientation": "v",
         "showlegend": true,
         "textposition": "auto",
         "type": "bar",
         "x": [
          "Ada Campo-Corrente",
          "Adan Morlun",
          "Adra Nubarron",
          "Albina Hafon",
          "Anda Ribera",
          "Axel Calzas",
          "Benito Hawelon",
          "Bertrand Ovan",
          "Birgitta Frente",
          "Brand Tempestad",
          "Carla Forluniau",
          "Cecilia Morluniau",
          "Claudio Hawelon",
          "Cornelia Lais",
          "Dante Coginian",
          "Dylan Scozzese",
          "Edvard Vann",
          "Elsa Orilla",
          "Emile Arpa",
          "Felix Balas",
          "Felix Resumir",
          "Gustav Cazar",
          "Henk Mies",
          "Hennie Osvaldo",
          "Hideki Cocinaro",
          "Inga Ferro",
          "Ingrid Barranco",
          "Irene Nant",
          "Isak Baza",
          "Isande Borrasca",
          "Isia Vann",
          "Kanon Herrero",
          "Kare Orilla",
          "Lars Azada",
          "Lidelse Dedos",
          "Linda Lagos",
          "Linnea Bergen",
          "Loreto Bodrogi",
          "Lucas Alcazar",
          "Marin Onda",
          "Mat Bramar",
          "Minke Mies",
          "Nils Calixto",
          "Orhan Strum",
          "Rachel Pantanal",
          "Ruscella Mies Haber",
          "Sten Sanjorge Jr ",
          "Stenig Fusil",
          "Sven Flecha",
          "Valeria Morlun",
          "Varja Lagos",
          "Varro Awelon",
          "Vira Frente",
          "Willem Vasco-Pais"
         ],
         "xaxis": "x",
         "y": [
          104,
          52,
          156,
          0,
          143,
          104,
          52,
          0,
          0,
          0,
          133,
          0,
          52,
          192,
          52,
          52,
          104,
          104,
          52,
          0,
          104,
          52,
          0,
          156,
          52,
          104,
          260,
          52,
          104,
          104,
          0,
          52,
          0,
          104,
          0,
          126,
          104,
          52,
          104,
          52,
          1166,
          52,
          0,
          0,
          98,
          618,
          0,
          0,
          0,
          0,
          0,
          52,
          0,
          52
         ],
         "yaxis": "y"
        },
        {
         "alignmentgroup": "True",
         "hovertemplate": "variable=Ruscella Mies Haber<br>index=%{x}<br>value=%{y}<extra></extra>",
         "legendgroup": "Ruscella Mies Haber",
         "marker": {
          "color": "#00cc96",
          "pattern": {
           "shape": ""
          }
         },
         "name": "Ruscella Mies Haber",
         "offsetgroup": "Ruscella Mies Haber",
         "orientation": "v",
         "showlegend": true,
         "textposition": "auto",
         "type": "bar",
         "x": [
          "Ada Campo-Corrente",
          "Adan Morlun",
          "Adra Nubarron",
          "Albina Hafon",
          "Anda Ribera",
          "Axel Calzas",
          "Benito Hawelon",
          "Bertrand Ovan",
          "Birgitta Frente",
          "Brand Tempestad",
          "Carla Forluniau",
          "Cecilia Morluniau",
          "Claudio Hawelon",
          "Cornelia Lais",
          "Dante Coginian",
          "Dylan Scozzese",
          "Edvard Vann",
          "Elsa Orilla",
          "Emile Arpa",
          "Felix Balas",
          "Felix Resumir",
          "Gustav Cazar",
          "Henk Mies",
          "Hennie Osvaldo",
          "Hideki Cocinaro",
          "Inga Ferro",
          "Ingrid Barranco",
          "Irene Nant",
          "Isak Baza",
          "Isande Borrasca",
          "Isia Vann",
          "Kanon Herrero",
          "Kare Orilla",
          "Lars Azada",
          "Lidelse Dedos",
          "Linda Lagos",
          "Linnea Bergen",
          "Loreto Bodrogi",
          "Lucas Alcazar",
          "Marin Onda",
          "Mat Bramar",
          "Minke Mies",
          "Nils Calixto",
          "Orhan Strum",
          "Rachel Pantanal",
          "Ruscella Mies Haber",
          "Sten Sanjorge Jr ",
          "Stenig Fusil",
          "Sven Flecha",
          "Valeria Morlun",
          "Varja Lagos",
          "Varro Awelon",
          "Vira Frente",
          "Willem Vasco-Pais"
         ],
         "xaxis": "x",
         "y": [
          106,
          53,
          159,
          0,
          118,
          106,
          53,
          0,
          0,
          0,
          95,
          0,
          53,
          153,
          53,
          53,
          106,
          106,
          53,
          0,
          106,
          53,
          0,
          171,
          53,
          118,
          265,
          53,
          106,
          106,
          0,
          53,
          0,
          106,
          0,
          90,
          112,
          59,
          106,
          53,
          1150,
          59,
          0,
          0,
          70,
          606,
          0,
          0,
          0,
          0,
          0,
          53,
          0,
          53
         ],
         "yaxis": "y"
        },
        {
         "alignmentgroup": "True",
         "hovertemplate": "variable=Anda Ribera<br>index=%{x}<br>value=%{y}<extra></extra>",
         "legendgroup": "Anda Ribera",
         "marker": {
          "color": "#ab63fa",
          "pattern": {
           "shape": ""
          }
         },
         "name": "Anda Ribera",
         "offsetgroup": "Anda Ribera",
         "orientation": "v",
         "showlegend": true,
         "textposition": "auto",
         "type": "bar",
         "x": [
          "Ada Campo-Corrente",
          "Adan Morlun",
          "Adra Nubarron",
          "Albina Hafon",
          "Anda Ribera",
          "Axel Calzas",
          "Benito Hawelon",
          "Bertrand Ovan",
          "Birgitta Frente",
          "Brand Tempestad",
          "Carla Forluniau",
          "Cecilia Morluniau",
          "Claudio Hawelon",
          "Cornelia Lais",
          "Dante Coginian",
          "Dylan Scozzese",
          "Edvard Vann",
          "Elsa Orilla",
          "Emile Arpa",
          "Felix Balas",
          "Felix Resumir",
          "Gustav Cazar",
          "Henk Mies",
          "Hennie Osvaldo",
          "Hideki Cocinaro",
          "Inga Ferro",
          "Ingrid Barranco",
          "Irene Nant",
          "Isak Baza",
          "Isande Borrasca",
          "Isia Vann",
          "Kanon Herrero",
          "Kare Orilla",
          "Lars Azada",
          "Lidelse Dedos",
          "Linda Lagos",
          "Linnea Bergen",
          "Loreto Bodrogi",
          "Lucas Alcazar",
          "Marin Onda",
          "Mat Bramar",
          "Minke Mies",
          "Nils Calixto",
          "Orhan Strum",
          "Rachel Pantanal",
          "Ruscella Mies Haber",
          "Sten Sanjorge Jr ",
          "Stenig Fusil",
          "Sven Flecha",
          "Valeria Morlun",
          "Varja Lagos",
          "Varro Awelon",
          "Vira Frente",
          "Willem Vasco-Pais"
         ],
         "xaxis": "x",
         "y": [
          108,
          54,
          162,
          0,
          80,
          108,
          54,
          0,
          0,
          0,
          38,
          0,
          54,
          94,
          54,
          54,
          108,
          108,
          54,
          0,
          108,
          54,
          0,
          162,
          54,
          108,
          270,
          54,
          108,
          108,
          0,
          54,
          0,
          108,
          0,
          36,
          108,
          54,
          108,
          54,
          1116,
          54,
          0,
          0,
          28,
          568,
          0,
          0,
          0,
          0,
          0,
          54,
          0,
          54
         ],
         "yaxis": "y"
        }
       ],
       "layout": {
        "barmode": "relative",
        "legend": {
         "title": {
          "text": "variable"
         },
         "tracegroupgap": 0
        },
        "template": {
         "data": {
          "bar": [
           {
            "error_x": {
             "color": "#2a3f5f"
            },
            "error_y": {
             "color": "#2a3f5f"
            },
            "marker": {
             "line": {
              "color": "#E5ECF6",
              "width": 0.5
             },
             "pattern": {
              "fillmode": "overlay",
              "size": 10,
              "solidity": 0.2
             }
            },
            "type": "bar"
           }
          ],
          "barpolar": [
           {
            "marker": {
             "line": {
              "color": "#E5ECF6",
              "width": 0.5
             },
             "pattern": {
              "fillmode": "overlay",
              "size": 10,
              "solidity": 0.2
             }
            },
            "type": "barpolar"
           }
          ],
          "carpet": [
           {
            "aaxis": {
             "endlinecolor": "#2a3f5f",
             "gridcolor": "white",
             "linecolor": "white",
             "minorgridcolor": "white",
             "startlinecolor": "#2a3f5f"
            },
            "baxis": {
             "endlinecolor": "#2a3f5f",
             "gridcolor": "white",
             "linecolor": "white",
             "minorgridcolor": "white",
             "startlinecolor": "#2a3f5f"
            },
            "type": "carpet"
           }
          ],
          "choropleth": [
           {
            "colorbar": {
             "outlinewidth": 0,
             "ticks": ""
            },
            "type": "choropleth"
           }
          ],
          "contour": [
           {
            "colorbar": {
             "outlinewidth": 0,
             "ticks": ""
            },
            "colorscale": [
             [
              0,
              "#0d0887"
             ],
             [
              0.1111111111111111,
              "#46039f"
             ],
             [
              0.2222222222222222,
              "#7201a8"
             ],
             [
              0.3333333333333333,
              "#9c179e"
             ],
             [
              0.4444444444444444,
              "#bd3786"
             ],
             [
              0.5555555555555556,
              "#d8576b"
             ],
             [
              0.6666666666666666,
              "#ed7953"
             ],
             [
              0.7777777777777778,
              "#fb9f3a"
             ],
             [
              0.8888888888888888,
              "#fdca26"
             ],
             [
              1,
              "#f0f921"
             ]
            ],
            "type": "contour"
           }
          ],
          "contourcarpet": [
           {
            "colorbar": {
             "outlinewidth": 0,
             "ticks": ""
            },
            "type": "contourcarpet"
           }
          ],
          "heatmap": [
           {
            "colorbar": {
             "outlinewidth": 0,
             "ticks": ""
            },
            "colorscale": [
             [
              0,
              "#0d0887"
             ],
             [
              0.1111111111111111,
              "#46039f"
             ],
             [
              0.2222222222222222,
              "#7201a8"
             ],
             [
              0.3333333333333333,
              "#9c179e"
             ],
             [
              0.4444444444444444,
              "#bd3786"
             ],
             [
              0.5555555555555556,
              "#d8576b"
             ],
             [
              0.6666666666666666,
              "#ed7953"
             ],
             [
              0.7777777777777778,
              "#fb9f3a"
             ],
             [
              0.8888888888888888,
              "#fdca26"
             ],
             [
              1,
              "#f0f921"
             ]
            ],
            "type": "heatmap"
           }
          ],
          "heatmapgl": [
           {
            "colorbar": {
             "outlinewidth": 0,
             "ticks": ""
            },
            "colorscale": [
             [
              0,
              "#0d0887"
             ],
             [
              0.1111111111111111,
              "#46039f"
             ],
             [
              0.2222222222222222,
              "#7201a8"
             ],
             [
              0.3333333333333333,
              "#9c179e"
             ],
             [
              0.4444444444444444,
              "#bd3786"
             ],
             [
              0.5555555555555556,
              "#d8576b"
             ],
             [
              0.6666666666666666,
              "#ed7953"
             ],
             [
              0.7777777777777778,
              "#fb9f3a"
             ],
             [
              0.8888888888888888,
              "#fdca26"
             ],
             [
              1,
              "#f0f921"
             ]
            ],
            "type": "heatmapgl"
           }
          ],
          "histogram": [
           {
            "marker": {
             "pattern": {
              "fillmode": "overlay",
              "size": 10,
              "solidity": 0.2
             }
            },
            "type": "histogram"
           }
          ],
          "histogram2d": [
           {
            "colorbar": {
             "outlinewidth": 0,
             "ticks": ""
            },
            "colorscale": [
             [
              0,
              "#0d0887"
             ],
             [
              0.1111111111111111,
              "#46039f"
             ],
             [
              0.2222222222222222,
              "#7201a8"
             ],
             [
              0.3333333333333333,
              "#9c179e"
             ],
             [
              0.4444444444444444,
              "#bd3786"
             ],
             [
              0.5555555555555556,
              "#d8576b"
             ],
             [
              0.6666666666666666,
              "#ed7953"
             ],
             [
              0.7777777777777778,
              "#fb9f3a"
             ],
             [
              0.8888888888888888,
              "#fdca26"
             ],
             [
              1,
              "#f0f921"
             ]
            ],
            "type": "histogram2d"
           }
          ],
          "histogram2dcontour": [
           {
            "colorbar": {
             "outlinewidth": 0,
             "ticks": ""
            },
            "colorscale": [
             [
              0,
              "#0d0887"
             ],
             [
              0.1111111111111111,
              "#46039f"
             ],
             [
              0.2222222222222222,
              "#7201a8"
             ],
             [
              0.3333333333333333,
              "#9c179e"
             ],
             [
              0.4444444444444444,
              "#bd3786"
             ],
             [
              0.5555555555555556,
              "#d8576b"
             ],
             [
              0.6666666666666666,
              "#ed7953"
             ],
             [
              0.7777777777777778,
              "#fb9f3a"
             ],
             [
              0.8888888888888888,
              "#fdca26"
             ],
             [
              1,
              "#f0f921"
             ]
            ],
            "type": "histogram2dcontour"
           }
          ],
          "mesh3d": [
           {
            "colorbar": {
             "outlinewidth": 0,
             "ticks": ""
            },
            "type": "mesh3d"
           }
          ],
          "parcoords": [
           {
            "line": {
             "colorbar": {
              "outlinewidth": 0,
              "ticks": ""
             }
            },
            "type": "parcoords"
           }
          ],
          "pie": [
           {
            "automargin": true,
            "type": "pie"
           }
          ],
          "scatter": [
           {
            "fillpattern": {
             "fillmode": "overlay",
             "size": 10,
             "solidity": 0.2
            },
            "type": "scatter"
           }
          ],
          "scatter3d": [
           {
            "line": {
             "colorbar": {
              "outlinewidth": 0,
              "ticks": ""
             }
            },
            "marker": {
             "colorbar": {
              "outlinewidth": 0,
              "ticks": ""
             }
            },
            "type": "scatter3d"
           }
          ],
          "scattercarpet": [
           {
            "marker": {
             "colorbar": {
              "outlinewidth": 0,
              "ticks": ""
             }
            },
            "type": "scattercarpet"
           }
          ],
          "scattergeo": [
           {
            "marker": {
             "colorbar": {
              "outlinewidth": 0,
              "ticks": ""
             }
            },
            "type": "scattergeo"
           }
          ],
          "scattergl": [
           {
            "marker": {
             "colorbar": {
              "outlinewidth": 0,
              "ticks": ""
             }
            },
            "type": "scattergl"
           }
          ],
          "scattermapbox": [
           {
            "marker": {
             "colorbar": {
              "outlinewidth": 0,
              "ticks": ""
             }
            },
            "type": "scattermapbox"
           }
          ],
          "scatterpolar": [
           {
            "marker": {
             "colorbar": {
              "outlinewidth": 0,
              "ticks": ""
             }
            },
            "type": "scatterpolar"
           }
          ],
          "scatterpolargl": [
           {
            "marker": {
             "colorbar": {
              "outlinewidth": 0,
              "ticks": ""
             }
            },
            "type": "scatterpolargl"
           }
          ],
          "scatterternary": [
           {
            "marker": {
             "colorbar": {
              "outlinewidth": 0,
              "ticks": ""
             }
            },
            "type": "scatterternary"
           }
          ],
          "surface": [
           {
            "colorbar": {
             "outlinewidth": 0,
             "ticks": ""
            },
            "colorscale": [
             [
              0,
              "#0d0887"
             ],
             [
              0.1111111111111111,
              "#46039f"
             ],
             [
              0.2222222222222222,
              "#7201a8"
             ],
             [
              0.3333333333333333,
              "#9c179e"
             ],
             [
              0.4444444444444444,
              "#bd3786"
             ],
             [
              0.5555555555555556,
              "#d8576b"
             ],
             [
              0.6666666666666666,
              "#ed7953"
             ],
             [
              0.7777777777777778,
              "#fb9f3a"
             ],
             [
              0.8888888888888888,
              "#fdca26"
             ],
             [
              1,
              "#f0f921"
             ]
            ],
            "type": "surface"
           }
          ],
          "table": [
           {
            "cells": {
             "fill": {
              "color": "#EBF0F8"
             },
             "line": {
              "color": "white"
             }
            },
            "header": {
             "fill": {
              "color": "#C8D4E3"
             },
             "line": {
              "color": "white"
             }
            },
            "type": "table"
           }
          ]
         },
         "layout": {
          "annotationdefaults": {
           "arrowcolor": "#2a3f5f",
           "arrowhead": 0,
           "arrowwidth": 1
          },
          "autotypenumbers": "strict",
          "coloraxis": {
           "colorbar": {
            "outlinewidth": 0,
            "ticks": ""
           }
          },
          "colorscale": {
           "diverging": [
            [
             0,
             "#8e0152"
            ],
            [
             0.1,
             "#c51b7d"
            ],
            [
             0.2,
             "#de77ae"
            ],
            [
             0.3,
             "#f1b6da"
            ],
            [
             0.4,
             "#fde0ef"
            ],
            [
             0.5,
             "#f7f7f7"
            ],
            [
             0.6,
             "#e6f5d0"
            ],
            [
             0.7,
             "#b8e186"
            ],
            [
             0.8,
             "#7fbc41"
            ],
            [
             0.9,
             "#4d9221"
            ],
            [
             1,
             "#276419"
            ]
           ],
           "sequential": [
            [
             0,
             "#0d0887"
            ],
            [
             0.1111111111111111,
             "#46039f"
            ],
            [
             0.2222222222222222,
             "#7201a8"
            ],
            [
             0.3333333333333333,
             "#9c179e"
            ],
            [
             0.4444444444444444,
             "#bd3786"
            ],
            [
             0.5555555555555556,
             "#d8576b"
            ],
            [
             0.6666666666666666,
             "#ed7953"
            ],
            [
             0.7777777777777778,
             "#fb9f3a"
            ],
            [
             0.8888888888888888,
             "#fdca26"
            ],
            [
             1,
             "#f0f921"
            ]
           ],
           "sequentialminus": [
            [
             0,
             "#0d0887"
            ],
            [
             0.1111111111111111,
             "#46039f"
            ],
            [
             0.2222222222222222,
             "#7201a8"
            ],
            [
             0.3333333333333333,
             "#9c179e"
            ],
            [
             0.4444444444444444,
             "#bd3786"
            ],
            [
             0.5555555555555556,
             "#d8576b"
            ],
            [
             0.6666666666666666,
             "#ed7953"
            ],
            [
             0.7777777777777778,
             "#fb9f3a"
            ],
            [
             0.8888888888888888,
             "#fdca26"
            ],
            [
             1,
             "#f0f921"
            ]
           ]
          },
          "colorway": [
           "#636efa",
           "#EF553B",
           "#00cc96",
           "#ab63fa",
           "#FFA15A",
           "#19d3f3",
           "#FF6692",
           "#B6E880",
           "#FF97FF",
           "#FECB52"
          ],
          "font": {
           "color": "#2a3f5f"
          },
          "geo": {
           "bgcolor": "white",
           "lakecolor": "white",
           "landcolor": "#E5ECF6",
           "showlakes": true,
           "showland": true,
           "subunitcolor": "white"
          },
          "hoverlabel": {
           "align": "left"
          },
          "hovermode": "closest",
          "mapbox": {
           "style": "light"
          },
          "paper_bgcolor": "white",
          "plot_bgcolor": "#E5ECF6",
          "polar": {
           "angularaxis": {
            "gridcolor": "white",
            "linecolor": "white",
            "ticks": ""
           },
           "bgcolor": "#E5ECF6",
           "radialaxis": {
            "gridcolor": "white",
            "linecolor": "white",
            "ticks": ""
           }
          },
          "scene": {
           "xaxis": {
            "backgroundcolor": "#E5ECF6",
            "gridcolor": "white",
            "gridwidth": 2,
            "linecolor": "white",
            "showbackground": true,
            "ticks": "",
            "zerolinecolor": "white"
           },
           "yaxis": {
            "backgroundcolor": "#E5ECF6",
            "gridcolor": "white",
            "gridwidth": 2,
            "linecolor": "white",
            "showbackground": true,
            "ticks": "",
            "zerolinecolor": "white"
           },
           "zaxis": {
            "backgroundcolor": "#E5ECF6",
            "gridcolor": "white",
            "gridwidth": 2,
            "linecolor": "white",
            "showbackground": true,
            "ticks": "",
            "zerolinecolor": "white"
           }
          },
          "shapedefaults": {
           "line": {
            "color": "#2a3f5f"
           }
          },
          "ternary": {
           "aaxis": {
            "gridcolor": "white",
            "linecolor": "white",
            "ticks": ""
           },
           "baxis": {
            "gridcolor": "white",
            "linecolor": "white",
            "ticks": ""
           },
           "bgcolor": "#E5ECF6",
           "caxis": {
            "gridcolor": "white",
            "linecolor": "white",
            "ticks": ""
           }
          },
          "title": {
           "x": 0.05
          },
          "xaxis": {
           "automargin": true,
           "gridcolor": "white",
           "linecolor": "white",
           "ticks": "",
           "title": {
            "standoff": 15
           },
           "zerolinecolor": "white",
           "zerolinewidth": 2
          },
          "yaxis": {
           "automargin": true,
           "gridcolor": "white",
           "linecolor": "white",
           "ticks": "",
           "title": {
            "standoff": 15
           },
           "zerolinecolor": "white",
           "zerolinewidth": 2
          }
         }
        },
        "title": {
         "text": "GASTech Employee Email Frequency Recipients"
        },
        "xaxis": {
         "anchor": "y",
         "domain": [
          0,
          1
         ],
         "title": {
          "text": "index"
         }
        },
        "yaxis": {
         "anchor": "x",
         "domain": [
          0,
          1
         ],
         "title": {
          "text": "value"
         }
        }
       }
      }
     },
     "metadata": {},
     "output_type": "display_data"
    }
   ],
   "source": [
    "px.bar(emails_sent, x=emails_sent.index, y=emails_sent.columns.values, title='GASTech Employee Email Frequency Recipients')"
   ]
  },
  {
   "attachments": {},
   "cell_type": "markdown",
   "metadata": {},
   "source": [
    "We don't have much insight other than Mat could be a bot. "
   ]
  },
  {
   "cell_type": "code",
   "execution_count": 190,
   "metadata": {},
   "outputs": [
    {
     "data": {
      "text/html": [
       "<div>\n",
       "<style scoped>\n",
       "    .dataframe tbody tr th:only-of-type {\n",
       "        vertical-align: middle;\n",
       "    }\n",
       "\n",
       "    .dataframe tbody tr th {\n",
       "        vertical-align: top;\n",
       "    }\n",
       "\n",
       "    .dataframe thead th {\n",
       "        text-align: right;\n",
       "    }\n",
       "</style>\n",
       "<table border=\"1\" class=\"dataframe\">\n",
       "  <thead>\n",
       "    <tr style=\"text-align: right;\">\n",
       "      <th></th>\n",
       "      <th>Felix Resumir</th>\n",
       "      <th>Rachel Pantanal</th>\n",
       "      <th>Lars Azada</th>\n",
       "      <th>Felix Balas</th>\n",
       "      <th>Isande Borrasca</th>\n",
       "      <th>Axel Calzas</th>\n",
       "      <th>Gustav Cazar</th>\n",
       "      <th>Lidelse Dedos</th>\n",
       "      <th>Birgitta Frente</th>\n",
       "      <th>Vira Frente</th>\n",
       "      <th>...</th>\n",
       "      <th>Edvard Vann</th>\n",
       "      <th>Emile Arpa</th>\n",
       "      <th>Varro Awelon</th>\n",
       "      <th>Mat Bramar</th>\n",
       "      <th>Dante Coginian</th>\n",
       "      <th>Carla Forluniau</th>\n",
       "      <th>Linda Lagos</th>\n",
       "      <th>Cornelia Lais</th>\n",
       "      <th>Ruscella Mies Haber</th>\n",
       "      <th>Anda Ribera</th>\n",
       "    </tr>\n",
       "  </thead>\n",
       "  <tbody>\n",
       "    <tr>\n",
       "      <th>Ada Campo-Corrente</th>\n",
       "      <td>2.0</td>\n",
       "      <td>2.0</td>\n",
       "      <td>4.0</td>\n",
       "      <td>6.0</td>\n",
       "      <td>8.0</td>\n",
       "      <td>10.0</td>\n",
       "      <td>12.0</td>\n",
       "      <td>14.0</td>\n",
       "      <td>16.0</td>\n",
       "      <td>18.0</td>\n",
       "      <td>...</td>\n",
       "      <td>90.0</td>\n",
       "      <td>92.0</td>\n",
       "      <td>94.0</td>\n",
       "      <td>96.0</td>\n",
       "      <td>98.0</td>\n",
       "      <td>100.0</td>\n",
       "      <td>102.0</td>\n",
       "      <td>104.0</td>\n",
       "      <td>106.0</td>\n",
       "      <td>108.0</td>\n",
       "    </tr>\n",
       "  </tbody>\n",
       "</table>\n",
       "<p>1 rows × 54 columns</p>\n",
       "</div>"
      ],
      "text/plain": [
       "                    Felix Resumir  Rachel Pantanal  Lars Azada  Felix Balas  \\\n",
       "Ada Campo-Corrente            2.0              2.0         4.0          6.0   \n",
       "\n",
       "                    Isande Borrasca  Axel Calzas  Gustav Cazar  Lidelse Dedos  \\\n",
       "Ada Campo-Corrente              8.0         10.0          12.0           14.0   \n",
       "\n",
       "                    Birgitta Frente  Vira Frente  ...  Edvard Vann  \\\n",
       "Ada Campo-Corrente             16.0         18.0  ...         90.0   \n",
       "\n",
       "                    Emile Arpa  Varro Awelon  Mat Bramar  Dante Coginian  \\\n",
       "Ada Campo-Corrente        92.0          94.0        96.0            98.0   \n",
       "\n",
       "                    Carla Forluniau  Linda Lagos  Cornelia Lais  \\\n",
       "Ada Campo-Corrente            100.0        102.0          104.0   \n",
       "\n",
       "                    Ruscella Mies Haber  Anda Ribera  \n",
       "Ada Campo-Corrente                106.0        108.0  \n",
       "\n",
       "[1 rows x 54 columns]"
      ]
     },
     "execution_count": 190,
     "metadata": {},
     "output_type": "execute_result"
    }
   ],
   "source": [
    "emails_sent.head(1)"
   ]
  },
  {
   "cell_type": "code",
   "execution_count": 191,
   "metadata": {},
   "outputs": [],
   "source": [
    "emails_sent.columns = emails_sent.columns.str.strip()\n",
    "emails_sent.index = emails_sent.index.str.strip()"
   ]
  },
  {
   "attachments": {},
   "cell_type": "markdown",
   "metadata": {},
   "source": [
    "We unstack the dataframe into source, target, weight to prepare for chord graph vizualization. "
   ]
  },
  {
   "cell_type": "code",
   "execution_count": 192,
   "metadata": {},
   "outputs": [
    {
     "data": {
      "text/html": [
       "<div>\n",
       "<style scoped>\n",
       "    .dataframe tbody tr th:only-of-type {\n",
       "        vertical-align: middle;\n",
       "    }\n",
       "\n",
       "    .dataframe tbody tr th {\n",
       "        vertical-align: top;\n",
       "    }\n",
       "\n",
       "    .dataframe thead th {\n",
       "        text-align: right;\n",
       "    }\n",
       "</style>\n",
       "<table border=\"1\" class=\"dataframe\">\n",
       "  <thead>\n",
       "    <tr style=\"text-align: right;\">\n",
       "      <th></th>\n",
       "      <th>target</th>\n",
       "      <th>source</th>\n",
       "      <th>weight</th>\n",
       "    </tr>\n",
       "  </thead>\n",
       "  <tbody>\n",
       "    <tr>\n",
       "      <th>0</th>\n",
       "      <td>Felix Resumir</td>\n",
       "      <td>Ada Campo-Corrente</td>\n",
       "      <td>2.0</td>\n",
       "    </tr>\n",
       "    <tr>\n",
       "      <th>1</th>\n",
       "      <td>Felix Resumir</td>\n",
       "      <td>Adan Morlun</td>\n",
       "      <td>0.0</td>\n",
       "    </tr>\n",
       "    <tr>\n",
       "      <th>2</th>\n",
       "      <td>Felix Resumir</td>\n",
       "      <td>Adra Nubarron</td>\n",
       "      <td>0.0</td>\n",
       "    </tr>\n",
       "    <tr>\n",
       "      <th>3</th>\n",
       "      <td>Felix Resumir</td>\n",
       "      <td>Albina Hafon</td>\n",
       "      <td>0.0</td>\n",
       "    </tr>\n",
       "    <tr>\n",
       "      <th>4</th>\n",
       "      <td>Felix Resumir</td>\n",
       "      <td>Anda Ribera</td>\n",
       "      <td>0.0</td>\n",
       "    </tr>\n",
       "    <tr>\n",
       "      <th>...</th>\n",
       "      <td>...</td>\n",
       "      <td>...</td>\n",
       "      <td>...</td>\n",
       "    </tr>\n",
       "    <tr>\n",
       "      <th>2911</th>\n",
       "      <td>Anda Ribera</td>\n",
       "      <td>Valeria Morlun</td>\n",
       "      <td>0.0</td>\n",
       "    </tr>\n",
       "    <tr>\n",
       "      <th>2912</th>\n",
       "      <td>Anda Ribera</td>\n",
       "      <td>Varja Lagos</td>\n",
       "      <td>0.0</td>\n",
       "    </tr>\n",
       "    <tr>\n",
       "      <th>2913</th>\n",
       "      <td>Anda Ribera</td>\n",
       "      <td>Varro Awelon</td>\n",
       "      <td>54.0</td>\n",
       "    </tr>\n",
       "    <tr>\n",
       "      <th>2914</th>\n",
       "      <td>Anda Ribera</td>\n",
       "      <td>Vira Frente</td>\n",
       "      <td>0.0</td>\n",
       "    </tr>\n",
       "    <tr>\n",
       "      <th>2915</th>\n",
       "      <td>Anda Ribera</td>\n",
       "      <td>Willem Vasco-Pais</td>\n",
       "      <td>54.0</td>\n",
       "    </tr>\n",
       "  </tbody>\n",
       "</table>\n",
       "<p>2916 rows × 3 columns</p>\n",
       "</div>"
      ],
      "text/plain": [
       "             target              source  weight\n",
       "0     Felix Resumir  Ada Campo-Corrente     2.0\n",
       "1     Felix Resumir         Adan Morlun     0.0\n",
       "2     Felix Resumir       Adra Nubarron     0.0\n",
       "3     Felix Resumir        Albina Hafon     0.0\n",
       "4     Felix Resumir         Anda Ribera     0.0\n",
       "...             ...                 ...     ...\n",
       "2911    Anda Ribera      Valeria Morlun     0.0\n",
       "2912    Anda Ribera         Varja Lagos     0.0\n",
       "2913    Anda Ribera        Varro Awelon    54.0\n",
       "2914    Anda Ribera         Vira Frente     0.0\n",
       "2915    Anda Ribera   Willem Vasco-Pais    54.0\n",
       "\n",
       "[2916 rows x 3 columns]"
      ]
     },
     "execution_count": 192,
     "metadata": {},
     "output_type": "execute_result"
    }
   ],
   "source": [
    "emails_sent = emails_sent.unstack().reset_index().rename(columns={'index': 'index', 'level_0': 'target', 'level_1': 'source', 0: 'weight'})\n",
    "emails_sent"
   ]
  },
  {
   "attachments": {},
   "cell_type": "markdown",
   "metadata": {},
   "source": [
    "### GASTech Communication Network Chord Graph"
   ]
  },
  {
   "cell_type": "code",
   "execution_count": 193,
   "metadata": {},
   "outputs": [],
   "source": [
    "emails_sent.to_csv('emails_sent_header.csv', index=False)"
   ]
  },
  {
   "cell_type": "code",
   "execution_count": 194,
   "metadata": {},
   "outputs": [
    {
     "data": {
      "text/html": [
       "<div>\n",
       "<style scoped>\n",
       "    .dataframe tbody tr th:only-of-type {\n",
       "        vertical-align: middle;\n",
       "    }\n",
       "\n",
       "    .dataframe tbody tr th {\n",
       "        vertical-align: top;\n",
       "    }\n",
       "\n",
       "    .dataframe thead th {\n",
       "        text-align: right;\n",
       "    }\n",
       "</style>\n",
       "<table border=\"1\" class=\"dataframe\">\n",
       "  <thead>\n",
       "    <tr style=\"text-align: right;\">\n",
       "      <th></th>\n",
       "      <th>target</th>\n",
       "      <th>source</th>\n",
       "      <th>weight</th>\n",
       "    </tr>\n",
       "  </thead>\n",
       "  <tbody>\n",
       "    <tr>\n",
       "      <th>0</th>\n",
       "      <td>Felix Resumir</td>\n",
       "      <td>Ada Campo-Corrente</td>\n",
       "      <td>2.0</td>\n",
       "    </tr>\n",
       "  </tbody>\n",
       "</table>\n",
       "</div>"
      ],
      "text/plain": [
       "          target              source  weight\n",
       "0  Felix Resumir  Ada Campo-Corrente     2.0"
      ]
     },
     "execution_count": 194,
     "metadata": {},
     "output_type": "execute_result"
    }
   ],
   "source": [
    "emails_sent.head(1)"
   ]
  },
  {
   "cell_type": "code",
   "execution_count": 195,
   "metadata": {},
   "outputs": [
    {
     "name": "stderr",
     "output_type": "stream",
     "text": [
      "[d3blocks] >INFO> Cleaning edge_properties and config parameters..\n",
      "[d3blocks] >INFO> Cleaning edge_properties and config parameters..\n",
      "[d3blocks] >INFO> Initializing [Chord]\n",
      "[d3blocks] >INFO> filepath is set to [h:\\UniversityOfDenver\\COMP4449-capstone\\COMP4449-capstone\\final\\KronosKidnapping\\d3blocks.html]\n",
      "[d3blocks] >INFO> Convert to Frame.\n",
      "[d3blocks] >INFO> Node properties are set.\n",
      "[d3blocks] >INFO> Set edge-opacity to [100].\n",
      "[d3blocks] >INFO> Set edge-colors based on unique source-target pairs.\n",
      "[d3blocks] >INFO> Edge properties are set.\n",
      "[d3blocks] >INFO> File already exists and will be overwritten: [h:\\UniversityOfDenver\\COMP4449-capstone\\COMP4449-capstone\\final\\KronosKidnapping\\d3blocks.html]\n",
      "[d3blocks] >INFO> Open browser: h:\\UniversityOfDenver\\COMP4449-capstone\\COMP4449-capstone\\final\\KronosKidnapping\\d3blocks.html\n"
     ]
    }
   ],
   "source": [
    "d3 = d3blocks.D3Blocks()\n",
    "d3.chord(df=emails_sent, color='source-target', opacity=100, title='GASTech Communication Network Chord Graph', filepath='./d3blocks.html', figsize=[1000,1000])"
   ]
  },
  {
   "attachments": {},
   "cell_type": "markdown",
   "metadata": {},
   "source": [
    "![D3ChordGraph](D3ChordGraph.PNG)"
   ]
  },
  {
   "attachments": {},
   "cell_type": "markdown",
   "metadata": {},
   "source": [
    "From the chord graph, we don't have a lot of insights either about the communication between employees."
   ]
  },
  {
   "attachments": {},
   "cell_type": "markdown",
   "metadata": {},
   "source": [
    "### Trying again with Gephi \n",
    "https://gephi.org/\n",
    "\n",
    "![GASTechSocialNetworkGraph](GASTechSocialNetworkGraph.svg)"
   ]
  },
  {
   "attachments": {},
   "cell_type": "markdown",
   "metadata": {},
   "source": [
    "Much more impressive! We can see the brighter colored employees hold more weight than the grey colored ones. \n",
    "\n",
    "Noteable GASTech Employees\n",
    "\n",
    "* Sten Sanjorge Jr \n",
    "* Lars Azada \n",
    "* Gustav Cazar\n",
    "* Rachel Pantanal\n",
    "* Felix Resumir\n",
    "* Ada Campo-Corrente \n",
    "* Ingrid Barranco"
   ]
  },
  {
   "attachments": {},
   "cell_type": "markdown",
   "metadata": {},
   "source": [
    "### EDA for Employee Records"
   ]
  },
  {
   "cell_type": "code",
   "execution_count": 197,
   "metadata": {},
   "outputs": [
    {
     "data": {
      "application/vnd.plotly.v1+json": {
       "config": {
        "plotlyServerURL": "https://plot.ly"
       },
       "data": [
        {
         "alignmentgroup": "True",
         "hovertemplate": "CurrentEmploymentType=%{x}<br>size=%{y}<extra></extra>",
         "legendgroup": "",
         "marker": {
          "color": "#636efa",
          "pattern": {
           "shape": ""
          }
         },
         "name": "",
         "offsetgroup": "",
         "orientation": "v",
         "showlegend": false,
         "textposition": "auto",
         "type": "bar",
         "x": [
          "Administration",
          "Engineering",
          "Executive",
          "Facilities",
          "Information Technology",
          "Security"
         ],
         "xaxis": "x",
         "y": [
          7,
          13,
          5,
          13,
          5,
          11
         ],
         "yaxis": "y"
        }
       ],
       "layout": {
        "barmode": "relative",
        "legend": {
         "tracegroupgap": 0
        },
        "template": {
         "data": {
          "bar": [
           {
            "error_x": {
             "color": "#2a3f5f"
            },
            "error_y": {
             "color": "#2a3f5f"
            },
            "marker": {
             "line": {
              "color": "#E5ECF6",
              "width": 0.5
             },
             "pattern": {
              "fillmode": "overlay",
              "size": 10,
              "solidity": 0.2
             }
            },
            "type": "bar"
           }
          ],
          "barpolar": [
           {
            "marker": {
             "line": {
              "color": "#E5ECF6",
              "width": 0.5
             },
             "pattern": {
              "fillmode": "overlay",
              "size": 10,
              "solidity": 0.2
             }
            },
            "type": "barpolar"
           }
          ],
          "carpet": [
           {
            "aaxis": {
             "endlinecolor": "#2a3f5f",
             "gridcolor": "white",
             "linecolor": "white",
             "minorgridcolor": "white",
             "startlinecolor": "#2a3f5f"
            },
            "baxis": {
             "endlinecolor": "#2a3f5f",
             "gridcolor": "white",
             "linecolor": "white",
             "minorgridcolor": "white",
             "startlinecolor": "#2a3f5f"
            },
            "type": "carpet"
           }
          ],
          "choropleth": [
           {
            "colorbar": {
             "outlinewidth": 0,
             "ticks": ""
            },
            "type": "choropleth"
           }
          ],
          "contour": [
           {
            "colorbar": {
             "outlinewidth": 0,
             "ticks": ""
            },
            "colorscale": [
             [
              0,
              "#0d0887"
             ],
             [
              0.1111111111111111,
              "#46039f"
             ],
             [
              0.2222222222222222,
              "#7201a8"
             ],
             [
              0.3333333333333333,
              "#9c179e"
             ],
             [
              0.4444444444444444,
              "#bd3786"
             ],
             [
              0.5555555555555556,
              "#d8576b"
             ],
             [
              0.6666666666666666,
              "#ed7953"
             ],
             [
              0.7777777777777778,
              "#fb9f3a"
             ],
             [
              0.8888888888888888,
              "#fdca26"
             ],
             [
              1,
              "#f0f921"
             ]
            ],
            "type": "contour"
           }
          ],
          "contourcarpet": [
           {
            "colorbar": {
             "outlinewidth": 0,
             "ticks": ""
            },
            "type": "contourcarpet"
           }
          ],
          "heatmap": [
           {
            "colorbar": {
             "outlinewidth": 0,
             "ticks": ""
            },
            "colorscale": [
             [
              0,
              "#0d0887"
             ],
             [
              0.1111111111111111,
              "#46039f"
             ],
             [
              0.2222222222222222,
              "#7201a8"
             ],
             [
              0.3333333333333333,
              "#9c179e"
             ],
             [
              0.4444444444444444,
              "#bd3786"
             ],
             [
              0.5555555555555556,
              "#d8576b"
             ],
             [
              0.6666666666666666,
              "#ed7953"
             ],
             [
              0.7777777777777778,
              "#fb9f3a"
             ],
             [
              0.8888888888888888,
              "#fdca26"
             ],
             [
              1,
              "#f0f921"
             ]
            ],
            "type": "heatmap"
           }
          ],
          "heatmapgl": [
           {
            "colorbar": {
             "outlinewidth": 0,
             "ticks": ""
            },
            "colorscale": [
             [
              0,
              "#0d0887"
             ],
             [
              0.1111111111111111,
              "#46039f"
             ],
             [
              0.2222222222222222,
              "#7201a8"
             ],
             [
              0.3333333333333333,
              "#9c179e"
             ],
             [
              0.4444444444444444,
              "#bd3786"
             ],
             [
              0.5555555555555556,
              "#d8576b"
             ],
             [
              0.6666666666666666,
              "#ed7953"
             ],
             [
              0.7777777777777778,
              "#fb9f3a"
             ],
             [
              0.8888888888888888,
              "#fdca26"
             ],
             [
              1,
              "#f0f921"
             ]
            ],
            "type": "heatmapgl"
           }
          ],
          "histogram": [
           {
            "marker": {
             "pattern": {
              "fillmode": "overlay",
              "size": 10,
              "solidity": 0.2
             }
            },
            "type": "histogram"
           }
          ],
          "histogram2d": [
           {
            "colorbar": {
             "outlinewidth": 0,
             "ticks": ""
            },
            "colorscale": [
             [
              0,
              "#0d0887"
             ],
             [
              0.1111111111111111,
              "#46039f"
             ],
             [
              0.2222222222222222,
              "#7201a8"
             ],
             [
              0.3333333333333333,
              "#9c179e"
             ],
             [
              0.4444444444444444,
              "#bd3786"
             ],
             [
              0.5555555555555556,
              "#d8576b"
             ],
             [
              0.6666666666666666,
              "#ed7953"
             ],
             [
              0.7777777777777778,
              "#fb9f3a"
             ],
             [
              0.8888888888888888,
              "#fdca26"
             ],
             [
              1,
              "#f0f921"
             ]
            ],
            "type": "histogram2d"
           }
          ],
          "histogram2dcontour": [
           {
            "colorbar": {
             "outlinewidth": 0,
             "ticks": ""
            },
            "colorscale": [
             [
              0,
              "#0d0887"
             ],
             [
              0.1111111111111111,
              "#46039f"
             ],
             [
              0.2222222222222222,
              "#7201a8"
             ],
             [
              0.3333333333333333,
              "#9c179e"
             ],
             [
              0.4444444444444444,
              "#bd3786"
             ],
             [
              0.5555555555555556,
              "#d8576b"
             ],
             [
              0.6666666666666666,
              "#ed7953"
             ],
             [
              0.7777777777777778,
              "#fb9f3a"
             ],
             [
              0.8888888888888888,
              "#fdca26"
             ],
             [
              1,
              "#f0f921"
             ]
            ],
            "type": "histogram2dcontour"
           }
          ],
          "mesh3d": [
           {
            "colorbar": {
             "outlinewidth": 0,
             "ticks": ""
            },
            "type": "mesh3d"
           }
          ],
          "parcoords": [
           {
            "line": {
             "colorbar": {
              "outlinewidth": 0,
              "ticks": ""
             }
            },
            "type": "parcoords"
           }
          ],
          "pie": [
           {
            "automargin": true,
            "type": "pie"
           }
          ],
          "scatter": [
           {
            "fillpattern": {
             "fillmode": "overlay",
             "size": 10,
             "solidity": 0.2
            },
            "type": "scatter"
           }
          ],
          "scatter3d": [
           {
            "line": {
             "colorbar": {
              "outlinewidth": 0,
              "ticks": ""
             }
            },
            "marker": {
             "colorbar": {
              "outlinewidth": 0,
              "ticks": ""
             }
            },
            "type": "scatter3d"
           }
          ],
          "scattercarpet": [
           {
            "marker": {
             "colorbar": {
              "outlinewidth": 0,
              "ticks": ""
             }
            },
            "type": "scattercarpet"
           }
          ],
          "scattergeo": [
           {
            "marker": {
             "colorbar": {
              "outlinewidth": 0,
              "ticks": ""
             }
            },
            "type": "scattergeo"
           }
          ],
          "scattergl": [
           {
            "marker": {
             "colorbar": {
              "outlinewidth": 0,
              "ticks": ""
             }
            },
            "type": "scattergl"
           }
          ],
          "scattermapbox": [
           {
            "marker": {
             "colorbar": {
              "outlinewidth": 0,
              "ticks": ""
             }
            },
            "type": "scattermapbox"
           }
          ],
          "scatterpolar": [
           {
            "marker": {
             "colorbar": {
              "outlinewidth": 0,
              "ticks": ""
             }
            },
            "type": "scatterpolar"
           }
          ],
          "scatterpolargl": [
           {
            "marker": {
             "colorbar": {
              "outlinewidth": 0,
              "ticks": ""
             }
            },
            "type": "scatterpolargl"
           }
          ],
          "scatterternary": [
           {
            "marker": {
             "colorbar": {
              "outlinewidth": 0,
              "ticks": ""
             }
            },
            "type": "scatterternary"
           }
          ],
          "surface": [
           {
            "colorbar": {
             "outlinewidth": 0,
             "ticks": ""
            },
            "colorscale": [
             [
              0,
              "#0d0887"
             ],
             [
              0.1111111111111111,
              "#46039f"
             ],
             [
              0.2222222222222222,
              "#7201a8"
             ],
             [
              0.3333333333333333,
              "#9c179e"
             ],
             [
              0.4444444444444444,
              "#bd3786"
             ],
             [
              0.5555555555555556,
              "#d8576b"
             ],
             [
              0.6666666666666666,
              "#ed7953"
             ],
             [
              0.7777777777777778,
              "#fb9f3a"
             ],
             [
              0.8888888888888888,
              "#fdca26"
             ],
             [
              1,
              "#f0f921"
             ]
            ],
            "type": "surface"
           }
          ],
          "table": [
           {
            "cells": {
             "fill": {
              "color": "#EBF0F8"
             },
             "line": {
              "color": "white"
             }
            },
            "header": {
             "fill": {
              "color": "#C8D4E3"
             },
             "line": {
              "color": "white"
             }
            },
            "type": "table"
           }
          ]
         },
         "layout": {
          "annotationdefaults": {
           "arrowcolor": "#2a3f5f",
           "arrowhead": 0,
           "arrowwidth": 1
          },
          "autotypenumbers": "strict",
          "coloraxis": {
           "colorbar": {
            "outlinewidth": 0,
            "ticks": ""
           }
          },
          "colorscale": {
           "diverging": [
            [
             0,
             "#8e0152"
            ],
            [
             0.1,
             "#c51b7d"
            ],
            [
             0.2,
             "#de77ae"
            ],
            [
             0.3,
             "#f1b6da"
            ],
            [
             0.4,
             "#fde0ef"
            ],
            [
             0.5,
             "#f7f7f7"
            ],
            [
             0.6,
             "#e6f5d0"
            ],
            [
             0.7,
             "#b8e186"
            ],
            [
             0.8,
             "#7fbc41"
            ],
            [
             0.9,
             "#4d9221"
            ],
            [
             1,
             "#276419"
            ]
           ],
           "sequential": [
            [
             0,
             "#0d0887"
            ],
            [
             0.1111111111111111,
             "#46039f"
            ],
            [
             0.2222222222222222,
             "#7201a8"
            ],
            [
             0.3333333333333333,
             "#9c179e"
            ],
            [
             0.4444444444444444,
             "#bd3786"
            ],
            [
             0.5555555555555556,
             "#d8576b"
            ],
            [
             0.6666666666666666,
             "#ed7953"
            ],
            [
             0.7777777777777778,
             "#fb9f3a"
            ],
            [
             0.8888888888888888,
             "#fdca26"
            ],
            [
             1,
             "#f0f921"
            ]
           ],
           "sequentialminus": [
            [
             0,
             "#0d0887"
            ],
            [
             0.1111111111111111,
             "#46039f"
            ],
            [
             0.2222222222222222,
             "#7201a8"
            ],
            [
             0.3333333333333333,
             "#9c179e"
            ],
            [
             0.4444444444444444,
             "#bd3786"
            ],
            [
             0.5555555555555556,
             "#d8576b"
            ],
            [
             0.6666666666666666,
             "#ed7953"
            ],
            [
             0.7777777777777778,
             "#fb9f3a"
            ],
            [
             0.8888888888888888,
             "#fdca26"
            ],
            [
             1,
             "#f0f921"
            ]
           ]
          },
          "colorway": [
           "#636efa",
           "#EF553B",
           "#00cc96",
           "#ab63fa",
           "#FFA15A",
           "#19d3f3",
           "#FF6692",
           "#B6E880",
           "#FF97FF",
           "#FECB52"
          ],
          "font": {
           "color": "#2a3f5f"
          },
          "geo": {
           "bgcolor": "white",
           "lakecolor": "white",
           "landcolor": "#E5ECF6",
           "showlakes": true,
           "showland": true,
           "subunitcolor": "white"
          },
          "hoverlabel": {
           "align": "left"
          },
          "hovermode": "closest",
          "mapbox": {
           "style": "light"
          },
          "paper_bgcolor": "white",
          "plot_bgcolor": "#E5ECF6",
          "polar": {
           "angularaxis": {
            "gridcolor": "white",
            "linecolor": "white",
            "ticks": ""
           },
           "bgcolor": "#E5ECF6",
           "radialaxis": {
            "gridcolor": "white",
            "linecolor": "white",
            "ticks": ""
           }
          },
          "scene": {
           "xaxis": {
            "backgroundcolor": "#E5ECF6",
            "gridcolor": "white",
            "gridwidth": 2,
            "linecolor": "white",
            "showbackground": true,
            "ticks": "",
            "zerolinecolor": "white"
           },
           "yaxis": {
            "backgroundcolor": "#E5ECF6",
            "gridcolor": "white",
            "gridwidth": 2,
            "linecolor": "white",
            "showbackground": true,
            "ticks": "",
            "zerolinecolor": "white"
           },
           "zaxis": {
            "backgroundcolor": "#E5ECF6",
            "gridcolor": "white",
            "gridwidth": 2,
            "linecolor": "white",
            "showbackground": true,
            "ticks": "",
            "zerolinecolor": "white"
           }
          },
          "shapedefaults": {
           "line": {
            "color": "#2a3f5f"
           }
          },
          "ternary": {
           "aaxis": {
            "gridcolor": "white",
            "linecolor": "white",
            "ticks": ""
           },
           "baxis": {
            "gridcolor": "white",
            "linecolor": "white",
            "ticks": ""
           },
           "bgcolor": "#E5ECF6",
           "caxis": {
            "gridcolor": "white",
            "linecolor": "white",
            "ticks": ""
           }
          },
          "title": {
           "x": 0.05
          },
          "xaxis": {
           "automargin": true,
           "gridcolor": "white",
           "linecolor": "white",
           "ticks": "",
           "title": {
            "standoff": 15
           },
           "zerolinecolor": "white",
           "zerolinewidth": 2
          },
          "yaxis": {
           "automargin": true,
           "gridcolor": "white",
           "linecolor": "white",
           "ticks": "",
           "title": {
            "standoff": 15
           },
           "zerolinecolor": "white",
           "zerolinewidth": 2
          }
         }
        },
        "title": {
         "text": "Current Department Count"
        },
        "xaxis": {
         "anchor": "y",
         "domain": [
          0,
          1
         ],
         "title": {
          "text": "CurrentEmploymentType"
         }
        },
        "yaxis": {
         "anchor": "x",
         "domain": [
          0,
          1
         ],
         "title": {
          "text": "size"
         }
        }
       }
      }
     },
     "metadata": {},
     "output_type": "display_data"
    }
   ],
   "source": [
    "grouped_employment = employee_records_df.groupby(by=['CurrentEmploymentType'], as_index=False).size()\n",
    "px.bar(grouped_employment, x='CurrentEmploymentType', y='size', title='Current Department Count')"
   ]
  },
  {
   "cell_type": "code",
   "execution_count": 198,
   "metadata": {},
   "outputs": [
    {
     "data": {
      "application/vnd.plotly.v1+json": {
       "config": {
        "plotlyServerURL": "https://plot.ly"
       },
       "data": [
        {
         "alignmentgroup": "True",
         "hovertemplate": "CurrentEmploymentTitle=%{x}<br>size=%{y}<extra></extra>",
         "legendgroup": "",
         "marker": {
          "color": "#636efa",
          "pattern": {
           "shape": ""
          }
         },
         "name": "",
         "offsetgroup": "",
         "orientation": "v",
         "showlegend": false,
         "textposition": "auto",
         "type": "bar",
         "x": [
          "Assistant to CEO",
          "Assistant to CFO",
          "Assistant to CIO",
          "Assistant to COO",
          "Assistant to Engineering Group Manager",
          "Assistant to IT Group Manager",
          "Assistant to Security Group Manager",
          "Badging Office",
          "Building Control",
          "Drill Site Manager",
          "Drill Technician",
          "Engineer",
          "Engineering Group Manager",
          "Environmental Safety Advisor",
          "Facilities Group Manager",
          "Geologist",
          "Hydraulic Technician",
          "IT Group Manager",
          "IT Helpdesk",
          "IT Technician",
          "Janitor",
          "Lead Janitor",
          "Perimeter Control",
          "President/CEO",
          "SVP/CFO",
          "SVP/CIO",
          "SVP/COO",
          "Security Group Manager",
          "Site Control",
          "Truck Driver"
         ],
         "xaxis": "x",
         "y": [
          1,
          1,
          1,
          1,
          1,
          1,
          1,
          2,
          1,
          1,
          5,
          2,
          1,
          1,
          1,
          2,
          2,
          1,
          1,
          3,
          2,
          1,
          4,
          1,
          1,
          1,
          1,
          1,
          3,
          9
         ],
         "yaxis": "y"
        }
       ],
       "layout": {
        "barmode": "relative",
        "legend": {
         "tracegroupgap": 0
        },
        "template": {
         "data": {
          "bar": [
           {
            "error_x": {
             "color": "#2a3f5f"
            },
            "error_y": {
             "color": "#2a3f5f"
            },
            "marker": {
             "line": {
              "color": "#E5ECF6",
              "width": 0.5
             },
             "pattern": {
              "fillmode": "overlay",
              "size": 10,
              "solidity": 0.2
             }
            },
            "type": "bar"
           }
          ],
          "barpolar": [
           {
            "marker": {
             "line": {
              "color": "#E5ECF6",
              "width": 0.5
             },
             "pattern": {
              "fillmode": "overlay",
              "size": 10,
              "solidity": 0.2
             }
            },
            "type": "barpolar"
           }
          ],
          "carpet": [
           {
            "aaxis": {
             "endlinecolor": "#2a3f5f",
             "gridcolor": "white",
             "linecolor": "white",
             "minorgridcolor": "white",
             "startlinecolor": "#2a3f5f"
            },
            "baxis": {
             "endlinecolor": "#2a3f5f",
             "gridcolor": "white",
             "linecolor": "white",
             "minorgridcolor": "white",
             "startlinecolor": "#2a3f5f"
            },
            "type": "carpet"
           }
          ],
          "choropleth": [
           {
            "colorbar": {
             "outlinewidth": 0,
             "ticks": ""
            },
            "type": "choropleth"
           }
          ],
          "contour": [
           {
            "colorbar": {
             "outlinewidth": 0,
             "ticks": ""
            },
            "colorscale": [
             [
              0,
              "#0d0887"
             ],
             [
              0.1111111111111111,
              "#46039f"
             ],
             [
              0.2222222222222222,
              "#7201a8"
             ],
             [
              0.3333333333333333,
              "#9c179e"
             ],
             [
              0.4444444444444444,
              "#bd3786"
             ],
             [
              0.5555555555555556,
              "#d8576b"
             ],
             [
              0.6666666666666666,
              "#ed7953"
             ],
             [
              0.7777777777777778,
              "#fb9f3a"
             ],
             [
              0.8888888888888888,
              "#fdca26"
             ],
             [
              1,
              "#f0f921"
             ]
            ],
            "type": "contour"
           }
          ],
          "contourcarpet": [
           {
            "colorbar": {
             "outlinewidth": 0,
             "ticks": ""
            },
            "type": "contourcarpet"
           }
          ],
          "heatmap": [
           {
            "colorbar": {
             "outlinewidth": 0,
             "ticks": ""
            },
            "colorscale": [
             [
              0,
              "#0d0887"
             ],
             [
              0.1111111111111111,
              "#46039f"
             ],
             [
              0.2222222222222222,
              "#7201a8"
             ],
             [
              0.3333333333333333,
              "#9c179e"
             ],
             [
              0.4444444444444444,
              "#bd3786"
             ],
             [
              0.5555555555555556,
              "#d8576b"
             ],
             [
              0.6666666666666666,
              "#ed7953"
             ],
             [
              0.7777777777777778,
              "#fb9f3a"
             ],
             [
              0.8888888888888888,
              "#fdca26"
             ],
             [
              1,
              "#f0f921"
             ]
            ],
            "type": "heatmap"
           }
          ],
          "heatmapgl": [
           {
            "colorbar": {
             "outlinewidth": 0,
             "ticks": ""
            },
            "colorscale": [
             [
              0,
              "#0d0887"
             ],
             [
              0.1111111111111111,
              "#46039f"
             ],
             [
              0.2222222222222222,
              "#7201a8"
             ],
             [
              0.3333333333333333,
              "#9c179e"
             ],
             [
              0.4444444444444444,
              "#bd3786"
             ],
             [
              0.5555555555555556,
              "#d8576b"
             ],
             [
              0.6666666666666666,
              "#ed7953"
             ],
             [
              0.7777777777777778,
              "#fb9f3a"
             ],
             [
              0.8888888888888888,
              "#fdca26"
             ],
             [
              1,
              "#f0f921"
             ]
            ],
            "type": "heatmapgl"
           }
          ],
          "histogram": [
           {
            "marker": {
             "pattern": {
              "fillmode": "overlay",
              "size": 10,
              "solidity": 0.2
             }
            },
            "type": "histogram"
           }
          ],
          "histogram2d": [
           {
            "colorbar": {
             "outlinewidth": 0,
             "ticks": ""
            },
            "colorscale": [
             [
              0,
              "#0d0887"
             ],
             [
              0.1111111111111111,
              "#46039f"
             ],
             [
              0.2222222222222222,
              "#7201a8"
             ],
             [
              0.3333333333333333,
              "#9c179e"
             ],
             [
              0.4444444444444444,
              "#bd3786"
             ],
             [
              0.5555555555555556,
              "#d8576b"
             ],
             [
              0.6666666666666666,
              "#ed7953"
             ],
             [
              0.7777777777777778,
              "#fb9f3a"
             ],
             [
              0.8888888888888888,
              "#fdca26"
             ],
             [
              1,
              "#f0f921"
             ]
            ],
            "type": "histogram2d"
           }
          ],
          "histogram2dcontour": [
           {
            "colorbar": {
             "outlinewidth": 0,
             "ticks": ""
            },
            "colorscale": [
             [
              0,
              "#0d0887"
             ],
             [
              0.1111111111111111,
              "#46039f"
             ],
             [
              0.2222222222222222,
              "#7201a8"
             ],
             [
              0.3333333333333333,
              "#9c179e"
             ],
             [
              0.4444444444444444,
              "#bd3786"
             ],
             [
              0.5555555555555556,
              "#d8576b"
             ],
             [
              0.6666666666666666,
              "#ed7953"
             ],
             [
              0.7777777777777778,
              "#fb9f3a"
             ],
             [
              0.8888888888888888,
              "#fdca26"
             ],
             [
              1,
              "#f0f921"
             ]
            ],
            "type": "histogram2dcontour"
           }
          ],
          "mesh3d": [
           {
            "colorbar": {
             "outlinewidth": 0,
             "ticks": ""
            },
            "type": "mesh3d"
           }
          ],
          "parcoords": [
           {
            "line": {
             "colorbar": {
              "outlinewidth": 0,
              "ticks": ""
             }
            },
            "type": "parcoords"
           }
          ],
          "pie": [
           {
            "automargin": true,
            "type": "pie"
           }
          ],
          "scatter": [
           {
            "fillpattern": {
             "fillmode": "overlay",
             "size": 10,
             "solidity": 0.2
            },
            "type": "scatter"
           }
          ],
          "scatter3d": [
           {
            "line": {
             "colorbar": {
              "outlinewidth": 0,
              "ticks": ""
             }
            },
            "marker": {
             "colorbar": {
              "outlinewidth": 0,
              "ticks": ""
             }
            },
            "type": "scatter3d"
           }
          ],
          "scattercarpet": [
           {
            "marker": {
             "colorbar": {
              "outlinewidth": 0,
              "ticks": ""
             }
            },
            "type": "scattercarpet"
           }
          ],
          "scattergeo": [
           {
            "marker": {
             "colorbar": {
              "outlinewidth": 0,
              "ticks": ""
             }
            },
            "type": "scattergeo"
           }
          ],
          "scattergl": [
           {
            "marker": {
             "colorbar": {
              "outlinewidth": 0,
              "ticks": ""
             }
            },
            "type": "scattergl"
           }
          ],
          "scattermapbox": [
           {
            "marker": {
             "colorbar": {
              "outlinewidth": 0,
              "ticks": ""
             }
            },
            "type": "scattermapbox"
           }
          ],
          "scatterpolar": [
           {
            "marker": {
             "colorbar": {
              "outlinewidth": 0,
              "ticks": ""
             }
            },
            "type": "scatterpolar"
           }
          ],
          "scatterpolargl": [
           {
            "marker": {
             "colorbar": {
              "outlinewidth": 0,
              "ticks": ""
             }
            },
            "type": "scatterpolargl"
           }
          ],
          "scatterternary": [
           {
            "marker": {
             "colorbar": {
              "outlinewidth": 0,
              "ticks": ""
             }
            },
            "type": "scatterternary"
           }
          ],
          "surface": [
           {
            "colorbar": {
             "outlinewidth": 0,
             "ticks": ""
            },
            "colorscale": [
             [
              0,
              "#0d0887"
             ],
             [
              0.1111111111111111,
              "#46039f"
             ],
             [
              0.2222222222222222,
              "#7201a8"
             ],
             [
              0.3333333333333333,
              "#9c179e"
             ],
             [
              0.4444444444444444,
              "#bd3786"
             ],
             [
              0.5555555555555556,
              "#d8576b"
             ],
             [
              0.6666666666666666,
              "#ed7953"
             ],
             [
              0.7777777777777778,
              "#fb9f3a"
             ],
             [
              0.8888888888888888,
              "#fdca26"
             ],
             [
              1,
              "#f0f921"
             ]
            ],
            "type": "surface"
           }
          ],
          "table": [
           {
            "cells": {
             "fill": {
              "color": "#EBF0F8"
             },
             "line": {
              "color": "white"
             }
            },
            "header": {
             "fill": {
              "color": "#C8D4E3"
             },
             "line": {
              "color": "white"
             }
            },
            "type": "table"
           }
          ]
         },
         "layout": {
          "annotationdefaults": {
           "arrowcolor": "#2a3f5f",
           "arrowhead": 0,
           "arrowwidth": 1
          },
          "autotypenumbers": "strict",
          "coloraxis": {
           "colorbar": {
            "outlinewidth": 0,
            "ticks": ""
           }
          },
          "colorscale": {
           "diverging": [
            [
             0,
             "#8e0152"
            ],
            [
             0.1,
             "#c51b7d"
            ],
            [
             0.2,
             "#de77ae"
            ],
            [
             0.3,
             "#f1b6da"
            ],
            [
             0.4,
             "#fde0ef"
            ],
            [
             0.5,
             "#f7f7f7"
            ],
            [
             0.6,
             "#e6f5d0"
            ],
            [
             0.7,
             "#b8e186"
            ],
            [
             0.8,
             "#7fbc41"
            ],
            [
             0.9,
             "#4d9221"
            ],
            [
             1,
             "#276419"
            ]
           ],
           "sequential": [
            [
             0,
             "#0d0887"
            ],
            [
             0.1111111111111111,
             "#46039f"
            ],
            [
             0.2222222222222222,
             "#7201a8"
            ],
            [
             0.3333333333333333,
             "#9c179e"
            ],
            [
             0.4444444444444444,
             "#bd3786"
            ],
            [
             0.5555555555555556,
             "#d8576b"
            ],
            [
             0.6666666666666666,
             "#ed7953"
            ],
            [
             0.7777777777777778,
             "#fb9f3a"
            ],
            [
             0.8888888888888888,
             "#fdca26"
            ],
            [
             1,
             "#f0f921"
            ]
           ],
           "sequentialminus": [
            [
             0,
             "#0d0887"
            ],
            [
             0.1111111111111111,
             "#46039f"
            ],
            [
             0.2222222222222222,
             "#7201a8"
            ],
            [
             0.3333333333333333,
             "#9c179e"
            ],
            [
             0.4444444444444444,
             "#bd3786"
            ],
            [
             0.5555555555555556,
             "#d8576b"
            ],
            [
             0.6666666666666666,
             "#ed7953"
            ],
            [
             0.7777777777777778,
             "#fb9f3a"
            ],
            [
             0.8888888888888888,
             "#fdca26"
            ],
            [
             1,
             "#f0f921"
            ]
           ]
          },
          "colorway": [
           "#636efa",
           "#EF553B",
           "#00cc96",
           "#ab63fa",
           "#FFA15A",
           "#19d3f3",
           "#FF6692",
           "#B6E880",
           "#FF97FF",
           "#FECB52"
          ],
          "font": {
           "color": "#2a3f5f"
          },
          "geo": {
           "bgcolor": "white",
           "lakecolor": "white",
           "landcolor": "#E5ECF6",
           "showlakes": true,
           "showland": true,
           "subunitcolor": "white"
          },
          "hoverlabel": {
           "align": "left"
          },
          "hovermode": "closest",
          "mapbox": {
           "style": "light"
          },
          "paper_bgcolor": "white",
          "plot_bgcolor": "#E5ECF6",
          "polar": {
           "angularaxis": {
            "gridcolor": "white",
            "linecolor": "white",
            "ticks": ""
           },
           "bgcolor": "#E5ECF6",
           "radialaxis": {
            "gridcolor": "white",
            "linecolor": "white",
            "ticks": ""
           }
          },
          "scene": {
           "xaxis": {
            "backgroundcolor": "#E5ECF6",
            "gridcolor": "white",
            "gridwidth": 2,
            "linecolor": "white",
            "showbackground": true,
            "ticks": "",
            "zerolinecolor": "white"
           },
           "yaxis": {
            "backgroundcolor": "#E5ECF6",
            "gridcolor": "white",
            "gridwidth": 2,
            "linecolor": "white",
            "showbackground": true,
            "ticks": "",
            "zerolinecolor": "white"
           },
           "zaxis": {
            "backgroundcolor": "#E5ECF6",
            "gridcolor": "white",
            "gridwidth": 2,
            "linecolor": "white",
            "showbackground": true,
            "ticks": "",
            "zerolinecolor": "white"
           }
          },
          "shapedefaults": {
           "line": {
            "color": "#2a3f5f"
           }
          },
          "ternary": {
           "aaxis": {
            "gridcolor": "white",
            "linecolor": "white",
            "ticks": ""
           },
           "baxis": {
            "gridcolor": "white",
            "linecolor": "white",
            "ticks": ""
           },
           "bgcolor": "#E5ECF6",
           "caxis": {
            "gridcolor": "white",
            "linecolor": "white",
            "ticks": ""
           }
          },
          "title": {
           "x": 0.05
          },
          "xaxis": {
           "automargin": true,
           "gridcolor": "white",
           "linecolor": "white",
           "ticks": "",
           "title": {
            "standoff": 15
           },
           "zerolinecolor": "white",
           "zerolinewidth": 2
          },
          "yaxis": {
           "automargin": true,
           "gridcolor": "white",
           "linecolor": "white",
           "ticks": "",
           "title": {
            "standoff": 15
           },
           "zerolinecolor": "white",
           "zerolinewidth": 2
          }
         }
        },
        "title": {
         "text": "Employee Title Count"
        },
        "xaxis": {
         "anchor": "y",
         "domain": [
          0,
          1
         ],
         "title": {
          "text": "CurrentEmploymentTitle"
         }
        },
        "yaxis": {
         "anchor": "x",
         "domain": [
          0,
          1
         ],
         "title": {
          "text": "size"
         }
        }
       }
      }
     },
     "metadata": {},
     "output_type": "display_data"
    }
   ],
   "source": [
    "grouped_title = employee_records_df.groupby(by=['CurrentEmploymentTitle'], as_index=False).size()\n",
    "px.bar(grouped_title, x='CurrentEmploymentTitle', y='size', title='Employee Title Count')"
   ]
  },
  {
   "attachments": {},
   "cell_type": "markdown",
   "metadata": {},
   "source": [
    "### Query if a citzen's birth country is not the same as their current citizenship status"
   ]
  },
  {
   "cell_type": "code",
   "execution_count": 199,
   "metadata": {},
   "outputs": [
    {
     "data": {
      "application/vnd.plotly.v1+json": {
       "config": {
        "plotlyServerURL": "https://plot.ly"
       },
       "data": [
        {
         "alignmentgroup": "True",
         "hovertemplate": "BirthCountry=%{x}<br>size=%{y}<extra></extra>",
         "legendgroup": "",
         "marker": {
          "color": "#636efa",
          "pattern": {
           "shape": ""
          }
         },
         "name": "",
         "offsetgroup": "",
         "orientation": "v",
         "showlegend": false,
         "textposition": "auto",
         "type": "bar",
         "x": [
          "Asteria",
          "Kronos",
          "Tethys"
         ],
         "xaxis": "x",
         "y": [
          1,
          21,
          32
         ],
         "yaxis": "y"
        }
       ],
       "layout": {
        "barmode": "relative",
        "legend": {
         "tracegroupgap": 0
        },
        "template": {
         "data": {
          "bar": [
           {
            "error_x": {
             "color": "#2a3f5f"
            },
            "error_y": {
             "color": "#2a3f5f"
            },
            "marker": {
             "line": {
              "color": "#E5ECF6",
              "width": 0.5
             },
             "pattern": {
              "fillmode": "overlay",
              "size": 10,
              "solidity": 0.2
             }
            },
            "type": "bar"
           }
          ],
          "barpolar": [
           {
            "marker": {
             "line": {
              "color": "#E5ECF6",
              "width": 0.5
             },
             "pattern": {
              "fillmode": "overlay",
              "size": 10,
              "solidity": 0.2
             }
            },
            "type": "barpolar"
           }
          ],
          "carpet": [
           {
            "aaxis": {
             "endlinecolor": "#2a3f5f",
             "gridcolor": "white",
             "linecolor": "white",
             "minorgridcolor": "white",
             "startlinecolor": "#2a3f5f"
            },
            "baxis": {
             "endlinecolor": "#2a3f5f",
             "gridcolor": "white",
             "linecolor": "white",
             "minorgridcolor": "white",
             "startlinecolor": "#2a3f5f"
            },
            "type": "carpet"
           }
          ],
          "choropleth": [
           {
            "colorbar": {
             "outlinewidth": 0,
             "ticks": ""
            },
            "type": "choropleth"
           }
          ],
          "contour": [
           {
            "colorbar": {
             "outlinewidth": 0,
             "ticks": ""
            },
            "colorscale": [
             [
              0,
              "#0d0887"
             ],
             [
              0.1111111111111111,
              "#46039f"
             ],
             [
              0.2222222222222222,
              "#7201a8"
             ],
             [
              0.3333333333333333,
              "#9c179e"
             ],
             [
              0.4444444444444444,
              "#bd3786"
             ],
             [
              0.5555555555555556,
              "#d8576b"
             ],
             [
              0.6666666666666666,
              "#ed7953"
             ],
             [
              0.7777777777777778,
              "#fb9f3a"
             ],
             [
              0.8888888888888888,
              "#fdca26"
             ],
             [
              1,
              "#f0f921"
             ]
            ],
            "type": "contour"
           }
          ],
          "contourcarpet": [
           {
            "colorbar": {
             "outlinewidth": 0,
             "ticks": ""
            },
            "type": "contourcarpet"
           }
          ],
          "heatmap": [
           {
            "colorbar": {
             "outlinewidth": 0,
             "ticks": ""
            },
            "colorscale": [
             [
              0,
              "#0d0887"
             ],
             [
              0.1111111111111111,
              "#46039f"
             ],
             [
              0.2222222222222222,
              "#7201a8"
             ],
             [
              0.3333333333333333,
              "#9c179e"
             ],
             [
              0.4444444444444444,
              "#bd3786"
             ],
             [
              0.5555555555555556,
              "#d8576b"
             ],
             [
              0.6666666666666666,
              "#ed7953"
             ],
             [
              0.7777777777777778,
              "#fb9f3a"
             ],
             [
              0.8888888888888888,
              "#fdca26"
             ],
             [
              1,
              "#f0f921"
             ]
            ],
            "type": "heatmap"
           }
          ],
          "heatmapgl": [
           {
            "colorbar": {
             "outlinewidth": 0,
             "ticks": ""
            },
            "colorscale": [
             [
              0,
              "#0d0887"
             ],
             [
              0.1111111111111111,
              "#46039f"
             ],
             [
              0.2222222222222222,
              "#7201a8"
             ],
             [
              0.3333333333333333,
              "#9c179e"
             ],
             [
              0.4444444444444444,
              "#bd3786"
             ],
             [
              0.5555555555555556,
              "#d8576b"
             ],
             [
              0.6666666666666666,
              "#ed7953"
             ],
             [
              0.7777777777777778,
              "#fb9f3a"
             ],
             [
              0.8888888888888888,
              "#fdca26"
             ],
             [
              1,
              "#f0f921"
             ]
            ],
            "type": "heatmapgl"
           }
          ],
          "histogram": [
           {
            "marker": {
             "pattern": {
              "fillmode": "overlay",
              "size": 10,
              "solidity": 0.2
             }
            },
            "type": "histogram"
           }
          ],
          "histogram2d": [
           {
            "colorbar": {
             "outlinewidth": 0,
             "ticks": ""
            },
            "colorscale": [
             [
              0,
              "#0d0887"
             ],
             [
              0.1111111111111111,
              "#46039f"
             ],
             [
              0.2222222222222222,
              "#7201a8"
             ],
             [
              0.3333333333333333,
              "#9c179e"
             ],
             [
              0.4444444444444444,
              "#bd3786"
             ],
             [
              0.5555555555555556,
              "#d8576b"
             ],
             [
              0.6666666666666666,
              "#ed7953"
             ],
             [
              0.7777777777777778,
              "#fb9f3a"
             ],
             [
              0.8888888888888888,
              "#fdca26"
             ],
             [
              1,
              "#f0f921"
             ]
            ],
            "type": "histogram2d"
           }
          ],
          "histogram2dcontour": [
           {
            "colorbar": {
             "outlinewidth": 0,
             "ticks": ""
            },
            "colorscale": [
             [
              0,
              "#0d0887"
             ],
             [
              0.1111111111111111,
              "#46039f"
             ],
             [
              0.2222222222222222,
              "#7201a8"
             ],
             [
              0.3333333333333333,
              "#9c179e"
             ],
             [
              0.4444444444444444,
              "#bd3786"
             ],
             [
              0.5555555555555556,
              "#d8576b"
             ],
             [
              0.6666666666666666,
              "#ed7953"
             ],
             [
              0.7777777777777778,
              "#fb9f3a"
             ],
             [
              0.8888888888888888,
              "#fdca26"
             ],
             [
              1,
              "#f0f921"
             ]
            ],
            "type": "histogram2dcontour"
           }
          ],
          "mesh3d": [
           {
            "colorbar": {
             "outlinewidth": 0,
             "ticks": ""
            },
            "type": "mesh3d"
           }
          ],
          "parcoords": [
           {
            "line": {
             "colorbar": {
              "outlinewidth": 0,
              "ticks": ""
             }
            },
            "type": "parcoords"
           }
          ],
          "pie": [
           {
            "automargin": true,
            "type": "pie"
           }
          ],
          "scatter": [
           {
            "fillpattern": {
             "fillmode": "overlay",
             "size": 10,
             "solidity": 0.2
            },
            "type": "scatter"
           }
          ],
          "scatter3d": [
           {
            "line": {
             "colorbar": {
              "outlinewidth": 0,
              "ticks": ""
             }
            },
            "marker": {
             "colorbar": {
              "outlinewidth": 0,
              "ticks": ""
             }
            },
            "type": "scatter3d"
           }
          ],
          "scattercarpet": [
           {
            "marker": {
             "colorbar": {
              "outlinewidth": 0,
              "ticks": ""
             }
            },
            "type": "scattercarpet"
           }
          ],
          "scattergeo": [
           {
            "marker": {
             "colorbar": {
              "outlinewidth": 0,
              "ticks": ""
             }
            },
            "type": "scattergeo"
           }
          ],
          "scattergl": [
           {
            "marker": {
             "colorbar": {
              "outlinewidth": 0,
              "ticks": ""
             }
            },
            "type": "scattergl"
           }
          ],
          "scattermapbox": [
           {
            "marker": {
             "colorbar": {
              "outlinewidth": 0,
              "ticks": ""
             }
            },
            "type": "scattermapbox"
           }
          ],
          "scatterpolar": [
           {
            "marker": {
             "colorbar": {
              "outlinewidth": 0,
              "ticks": ""
             }
            },
            "type": "scatterpolar"
           }
          ],
          "scatterpolargl": [
           {
            "marker": {
             "colorbar": {
              "outlinewidth": 0,
              "ticks": ""
             }
            },
            "type": "scatterpolargl"
           }
          ],
          "scatterternary": [
           {
            "marker": {
             "colorbar": {
              "outlinewidth": 0,
              "ticks": ""
             }
            },
            "type": "scatterternary"
           }
          ],
          "surface": [
           {
            "colorbar": {
             "outlinewidth": 0,
             "ticks": ""
            },
            "colorscale": [
             [
              0,
              "#0d0887"
             ],
             [
              0.1111111111111111,
              "#46039f"
             ],
             [
              0.2222222222222222,
              "#7201a8"
             ],
             [
              0.3333333333333333,
              "#9c179e"
             ],
             [
              0.4444444444444444,
              "#bd3786"
             ],
             [
              0.5555555555555556,
              "#d8576b"
             ],
             [
              0.6666666666666666,
              "#ed7953"
             ],
             [
              0.7777777777777778,
              "#fb9f3a"
             ],
             [
              0.8888888888888888,
              "#fdca26"
             ],
             [
              1,
              "#f0f921"
             ]
            ],
            "type": "surface"
           }
          ],
          "table": [
           {
            "cells": {
             "fill": {
              "color": "#EBF0F8"
             },
             "line": {
              "color": "white"
             }
            },
            "header": {
             "fill": {
              "color": "#C8D4E3"
             },
             "line": {
              "color": "white"
             }
            },
            "type": "table"
           }
          ]
         },
         "layout": {
          "annotationdefaults": {
           "arrowcolor": "#2a3f5f",
           "arrowhead": 0,
           "arrowwidth": 1
          },
          "autotypenumbers": "strict",
          "coloraxis": {
           "colorbar": {
            "outlinewidth": 0,
            "ticks": ""
           }
          },
          "colorscale": {
           "diverging": [
            [
             0,
             "#8e0152"
            ],
            [
             0.1,
             "#c51b7d"
            ],
            [
             0.2,
             "#de77ae"
            ],
            [
             0.3,
             "#f1b6da"
            ],
            [
             0.4,
             "#fde0ef"
            ],
            [
             0.5,
             "#f7f7f7"
            ],
            [
             0.6,
             "#e6f5d0"
            ],
            [
             0.7,
             "#b8e186"
            ],
            [
             0.8,
             "#7fbc41"
            ],
            [
             0.9,
             "#4d9221"
            ],
            [
             1,
             "#276419"
            ]
           ],
           "sequential": [
            [
             0,
             "#0d0887"
            ],
            [
             0.1111111111111111,
             "#46039f"
            ],
            [
             0.2222222222222222,
             "#7201a8"
            ],
            [
             0.3333333333333333,
             "#9c179e"
            ],
            [
             0.4444444444444444,
             "#bd3786"
            ],
            [
             0.5555555555555556,
             "#d8576b"
            ],
            [
             0.6666666666666666,
             "#ed7953"
            ],
            [
             0.7777777777777778,
             "#fb9f3a"
            ],
            [
             0.8888888888888888,
             "#fdca26"
            ],
            [
             1,
             "#f0f921"
            ]
           ],
           "sequentialminus": [
            [
             0,
             "#0d0887"
            ],
            [
             0.1111111111111111,
             "#46039f"
            ],
            [
             0.2222222222222222,
             "#7201a8"
            ],
            [
             0.3333333333333333,
             "#9c179e"
            ],
            [
             0.4444444444444444,
             "#bd3786"
            ],
            [
             0.5555555555555556,
             "#d8576b"
            ],
            [
             0.6666666666666666,
             "#ed7953"
            ],
            [
             0.7777777777777778,
             "#fb9f3a"
            ],
            [
             0.8888888888888888,
             "#fdca26"
            ],
            [
             1,
             "#f0f921"
            ]
           ]
          },
          "colorway": [
           "#636efa",
           "#EF553B",
           "#00cc96",
           "#ab63fa",
           "#FFA15A",
           "#19d3f3",
           "#FF6692",
           "#B6E880",
           "#FF97FF",
           "#FECB52"
          ],
          "font": {
           "color": "#2a3f5f"
          },
          "geo": {
           "bgcolor": "white",
           "lakecolor": "white",
           "landcolor": "#E5ECF6",
           "showlakes": true,
           "showland": true,
           "subunitcolor": "white"
          },
          "hoverlabel": {
           "align": "left"
          },
          "hovermode": "closest",
          "mapbox": {
           "style": "light"
          },
          "paper_bgcolor": "white",
          "plot_bgcolor": "#E5ECF6",
          "polar": {
           "angularaxis": {
            "gridcolor": "white",
            "linecolor": "white",
            "ticks": ""
           },
           "bgcolor": "#E5ECF6",
           "radialaxis": {
            "gridcolor": "white",
            "linecolor": "white",
            "ticks": ""
           }
          },
          "scene": {
           "xaxis": {
            "backgroundcolor": "#E5ECF6",
            "gridcolor": "white",
            "gridwidth": 2,
            "linecolor": "white",
            "showbackground": true,
            "ticks": "",
            "zerolinecolor": "white"
           },
           "yaxis": {
            "backgroundcolor": "#E5ECF6",
            "gridcolor": "white",
            "gridwidth": 2,
            "linecolor": "white",
            "showbackground": true,
            "ticks": "",
            "zerolinecolor": "white"
           },
           "zaxis": {
            "backgroundcolor": "#E5ECF6",
            "gridcolor": "white",
            "gridwidth": 2,
            "linecolor": "white",
            "showbackground": true,
            "ticks": "",
            "zerolinecolor": "white"
           }
          },
          "shapedefaults": {
           "line": {
            "color": "#2a3f5f"
           }
          },
          "ternary": {
           "aaxis": {
            "gridcolor": "white",
            "linecolor": "white",
            "ticks": ""
           },
           "baxis": {
            "gridcolor": "white",
            "linecolor": "white",
            "ticks": ""
           },
           "bgcolor": "#E5ECF6",
           "caxis": {
            "gridcolor": "white",
            "linecolor": "white",
            "ticks": ""
           }
          },
          "title": {
           "x": 0.05
          },
          "xaxis": {
           "automargin": true,
           "gridcolor": "white",
           "linecolor": "white",
           "ticks": "",
           "title": {
            "standoff": 15
           },
           "zerolinecolor": "white",
           "zerolinewidth": 2
          },
          "yaxis": {
           "automargin": true,
           "gridcolor": "white",
           "linecolor": "white",
           "ticks": "",
           "title": {
            "standoff": 15
           },
           "zerolinecolor": "white",
           "zerolinewidth": 2
          }
         }
        },
        "title": {
         "text": "Birth Country Count"
        },
        "xaxis": {
         "anchor": "y",
         "domain": [
          0,
          1
         ],
         "title": {
          "text": "BirthCountry"
         }
        },
        "yaxis": {
         "anchor": "x",
         "domain": [
          0,
          1
         ],
         "title": {
          "text": "size"
         }
        }
       }
      }
     },
     "metadata": {},
     "output_type": "display_data"
    }
   ],
   "source": [
    "grouped_birth = employee_records_df.groupby(by=['BirthCountry'], as_index=False).size()\n",
    "px.bar(grouped_birth, x='BirthCountry', y='size', title='Birth Country Count')"
   ]
  },
  {
   "attachments": {},
   "cell_type": "markdown",
   "metadata": {},
   "source": [
    "The employee from Asteria is Orhan Strum COO from 2005."
   ]
  },
  {
   "cell_type": "code",
   "execution_count": 200,
   "metadata": {},
   "outputs": [
    {
     "data": {
      "text/html": [
       "<div>\n",
       "<style scoped>\n",
       "    .dataframe tbody tr th:only-of-type {\n",
       "        vertical-align: middle;\n",
       "    }\n",
       "\n",
       "    .dataframe tbody tr th {\n",
       "        vertical-align: top;\n",
       "    }\n",
       "\n",
       "    .dataframe thead th {\n",
       "        text-align: right;\n",
       "    }\n",
       "</style>\n",
       "<table border=\"1\" class=\"dataframe\">\n",
       "  <thead>\n",
       "    <tr style=\"text-align: right;\">\n",
       "      <th></th>\n",
       "      <th>LastName</th>\n",
       "      <th>FirstName</th>\n",
       "      <th>BirthDate</th>\n",
       "      <th>BirthCountry</th>\n",
       "      <th>Gender</th>\n",
       "      <th>CitizenshipCountry</th>\n",
       "      <th>CitizenshipBasis</th>\n",
       "      <th>CitizenshipStartDate</th>\n",
       "      <th>PassportCountry</th>\n",
       "      <th>PassportIssueDate</th>\n",
       "      <th>PassportExpirationDate</th>\n",
       "      <th>CurrentEmploymentType</th>\n",
       "      <th>CurrentEmploymentTitle</th>\n",
       "      <th>CurrentEmploymentStartDate</th>\n",
       "      <th>EmailAddress</th>\n",
       "      <th>MilitaryServiceBranch</th>\n",
       "      <th>MilitaryDischargeType</th>\n",
       "      <th>MilitaryDischargeDate</th>\n",
       "      <th>FullName</th>\n",
       "    </tr>\n",
       "  </thead>\n",
       "  <tbody>\n",
       "    <tr>\n",
       "      <th>24</th>\n",
       "      <td>Strum</td>\n",
       "      <td>Orhan</td>\n",
       "      <td>1963-10-18</td>\n",
       "      <td>Asteria</td>\n",
       "      <td>Male</td>\n",
       "      <td>Tethys</td>\n",
       "      <td>ParentCitizenship</td>\n",
       "      <td>1963-10-18</td>\n",
       "      <td>Tethys</td>\n",
       "      <td>2011-06-02</td>\n",
       "      <td>2021-06-01</td>\n",
       "      <td>Executive</td>\n",
       "      <td>SVP/COO</td>\n",
       "      <td>2003-08-07</td>\n",
       "      <td>Orhan.Strum@gastech.com.kronos</td>\n",
       "      <td>NaN</td>\n",
       "      <td>NaN</td>\n",
       "      <td>NaT</td>\n",
       "      <td>Orhan Strum</td>\n",
       "    </tr>\n",
       "  </tbody>\n",
       "</table>\n",
       "</div>"
      ],
      "text/plain": [
       "   LastName FirstName  BirthDate BirthCountry Gender CitizenshipCountry  \\\n",
       "24    Strum     Orhan 1963-10-18      Asteria   Male             Tethys   \n",
       "\n",
       "     CitizenshipBasis CitizenshipStartDate PassportCountry PassportIssueDate  \\\n",
       "24  ParentCitizenship           1963-10-18          Tethys        2011-06-02   \n",
       "\n",
       "   PassportExpirationDate CurrentEmploymentType CurrentEmploymentTitle  \\\n",
       "24             2021-06-01             Executive                SVP/COO   \n",
       "\n",
       "   CurrentEmploymentStartDate                    EmailAddress  \\\n",
       "24                 2003-08-07  Orhan.Strum@gastech.com.kronos   \n",
       "\n",
       "   MilitaryServiceBranch MilitaryDischargeType MilitaryDischargeDate  \\\n",
       "24                   NaN                   NaN                   NaT   \n",
       "\n",
       "       FullName  \n",
       "24  Orhan Strum  "
      ]
     },
     "execution_count": 200,
     "metadata": {},
     "output_type": "execute_result"
    }
   ],
   "source": [
    "citizen_transfer = employee_records_df.copy()\n",
    "citizen_transfer = citizen_transfer.query(expr=\"BirthCountry != CitizenshipCountry\")\n",
    "citizen_transfer.head()"
   ]
  },
  {
   "attachments": {},
   "cell_type": "markdown",
   "metadata": {},
   "source": [
    "### Query Are there any symapthizers within GASTech?"
   ]
  },
  {
   "cell_type": "code",
   "execution_count": 201,
   "metadata": {},
   "outputs": [
    {
     "name": "stdout",
     "output_type": "stream",
     "text": [
      "(13, 4)\n"
     ]
    },
    {
     "data": {
      "text/html": [
       "<div>\n",
       "<style scoped>\n",
       "    .dataframe tbody tr th:only-of-type {\n",
       "        vertical-align: middle;\n",
       "    }\n",
       "\n",
       "    .dataframe tbody tr th {\n",
       "        vertical-align: top;\n",
       "    }\n",
       "\n",
       "    .dataframe thead th {\n",
       "        text-align: right;\n",
       "    }\n",
       "</style>\n",
       "<table border=\"1\" class=\"dataframe\">\n",
       "  <thead>\n",
       "    <tr style=\"text-align: right;\">\n",
       "      <th></th>\n",
       "      <th>From</th>\n",
       "      <th>To</th>\n",
       "      <th>Date</th>\n",
       "      <th>Subject</th>\n",
       "    </tr>\n",
       "  </thead>\n",
       "  <tbody>\n",
       "    <tr>\n",
       "      <th>235</th>\n",
       "      <td>Orhan Strum</td>\n",
       "      <td>Orhan.Strum@gastech.com.kronos, Sten.Sanjorge ...</td>\n",
       "      <td>2014-01-08 08:23:00</td>\n",
       "      <td>impact kronos politics upcoming rollout</td>\n",
       "    </tr>\n",
       "    <tr>\n",
       "      <th>240</th>\n",
       "      <td>Sten Sanjorge Jr</td>\n",
       "      <td>Orhan.Strum@gastech.com.kronos, Sten.Sanjorge ...</td>\n",
       "      <td>2014-01-08 09:19:00</td>\n",
       "      <td>impact kronos politics upcoming rollout</td>\n",
       "    </tr>\n",
       "    <tr>\n",
       "      <th>242</th>\n",
       "      <td>Orhan Strum</td>\n",
       "      <td>Orhan.Strum@gastech.com.kronos, Sten.Sanjorge ...</td>\n",
       "      <td>2014-01-08 09:42:00</td>\n",
       "      <td>impact kronos politics upcoming rollout</td>\n",
       "    </tr>\n",
       "    <tr>\n",
       "      <th>246</th>\n",
       "      <td>Ada Campo-Corrente</td>\n",
       "      <td>Orhan.Strum@gastech.com.kronos, Sten.Sanjorge ...</td>\n",
       "      <td>2014-01-08 09:54:00</td>\n",
       "      <td>impact kronos politics upcoming rollout</td>\n",
       "    </tr>\n",
       "    <tr>\n",
       "      <th>249</th>\n",
       "      <td>Sten Sanjorge Jr</td>\n",
       "      <td>Orhan.Strum@gastech.com.kronos, Sten.Sanjorge ...</td>\n",
       "      <td>2014-01-08 10:25:00</td>\n",
       "      <td>impact kronos politics upcoming rollout</td>\n",
       "    </tr>\n",
       "    <tr>\n",
       "      <th>252</th>\n",
       "      <td>Ada Campo-Corrente</td>\n",
       "      <td>Orhan.Strum@gastech.com.kronos, Sten.Sanjorge ...</td>\n",
       "      <td>2014-01-08 11:02:00</td>\n",
       "      <td>impact kronos politics upcoming rollout</td>\n",
       "    </tr>\n",
       "    <tr>\n",
       "      <th>257</th>\n",
       "      <td>Sten Sanjorge Jr</td>\n",
       "      <td>Orhan.Strum@gastech.com.kronos, Sten.Sanjorge ...</td>\n",
       "      <td>2014-01-08 11:45:00</td>\n",
       "      <td>impact kronos politics upcoming rollout</td>\n",
       "    </tr>\n",
       "    <tr>\n",
       "      <th>261</th>\n",
       "      <td>Ada Campo-Corrente</td>\n",
       "      <td>Orhan.Strum@gastech.com.kronos, Sten.Sanjorge ...</td>\n",
       "      <td>2014-01-08 11:53:00</td>\n",
       "      <td>impact kronos politics upcoming rollout</td>\n",
       "    </tr>\n",
       "    <tr>\n",
       "      <th>631</th>\n",
       "      <td>Ruscella Mies Haber</td>\n",
       "      <td>Inga.Ferro@gastech.com.kronos, Loreto.Bodrogi@...</td>\n",
       "      <td>2014-01-13 16:48:00</td>\n",
       "      <td>fw arise inspiration defenders kronos</td>\n",
       "    </tr>\n",
       "    <tr>\n",
       "      <th>657</th>\n",
       "      <td>Loreto Bodrogi</td>\n",
       "      <td>Inga.Ferro@gastech.com.kronos, Loreto.Bodrogi@...</td>\n",
       "      <td>2014-01-13 19:28:00</td>\n",
       "      <td>fw arise inspiration defenders kronos</td>\n",
       "    </tr>\n",
       "    <tr>\n",
       "      <th>659</th>\n",
       "      <td>Inga Ferro</td>\n",
       "      <td>Inga.Ferro@gastech.com.kronos, Loreto.Bodrogi@...</td>\n",
       "      <td>2014-01-13 19:31:00</td>\n",
       "      <td>fw arise inspiration defenders kronos</td>\n",
       "    </tr>\n",
       "    <tr>\n",
       "      <th>661</th>\n",
       "      <td>Isia Vann</td>\n",
       "      <td>Inga.Ferro@gastech.com.kronos, Loreto.Bodrogi@...</td>\n",
       "      <td>2014-01-13 20:05:00</td>\n",
       "      <td>fw arise inspiration defenders kronos</td>\n",
       "    </tr>\n",
       "    <tr>\n",
       "      <th>669</th>\n",
       "      <td>Inga Ferro</td>\n",
       "      <td>Inga.Ferro@gastech.com.kronos, Loreto.Bodrogi@...</td>\n",
       "      <td>2014-01-13 21:33:00</td>\n",
       "      <td>fw arise inspiration defenders kronos</td>\n",
       "    </tr>\n",
       "  </tbody>\n",
       "</table>\n",
       "</div>"
      ],
      "text/plain": [
       "                    From                                                 To  \\\n",
       "235          Orhan Strum  Orhan.Strum@gastech.com.kronos, Sten.Sanjorge ...   \n",
       "240    Sten Sanjorge Jr   Orhan.Strum@gastech.com.kronos, Sten.Sanjorge ...   \n",
       "242          Orhan Strum  Orhan.Strum@gastech.com.kronos, Sten.Sanjorge ...   \n",
       "246   Ada Campo-Corrente  Orhan.Strum@gastech.com.kronos, Sten.Sanjorge ...   \n",
       "249    Sten Sanjorge Jr   Orhan.Strum@gastech.com.kronos, Sten.Sanjorge ...   \n",
       "252   Ada Campo-Corrente  Orhan.Strum@gastech.com.kronos, Sten.Sanjorge ...   \n",
       "257    Sten Sanjorge Jr   Orhan.Strum@gastech.com.kronos, Sten.Sanjorge ...   \n",
       "261   Ada Campo-Corrente  Orhan.Strum@gastech.com.kronos, Sten.Sanjorge ...   \n",
       "631  Ruscella Mies Haber  Inga.Ferro@gastech.com.kronos, Loreto.Bodrogi@...   \n",
       "657       Loreto Bodrogi  Inga.Ferro@gastech.com.kronos, Loreto.Bodrogi@...   \n",
       "659           Inga Ferro  Inga.Ferro@gastech.com.kronos, Loreto.Bodrogi@...   \n",
       "661            Isia Vann  Inga.Ferro@gastech.com.kronos, Loreto.Bodrogi@...   \n",
       "669           Inga Ferro  Inga.Ferro@gastech.com.kronos, Loreto.Bodrogi@...   \n",
       "\n",
       "                   Date                                  Subject  \n",
       "235 2014-01-08 08:23:00  impact kronos politics upcoming rollout  \n",
       "240 2014-01-08 09:19:00  impact kronos politics upcoming rollout  \n",
       "242 2014-01-08 09:42:00  impact kronos politics upcoming rollout  \n",
       "246 2014-01-08 09:54:00  impact kronos politics upcoming rollout  \n",
       "249 2014-01-08 10:25:00  impact kronos politics upcoming rollout  \n",
       "252 2014-01-08 11:02:00  impact kronos politics upcoming rollout  \n",
       "257 2014-01-08 11:45:00  impact kronos politics upcoming rollout  \n",
       "261 2014-01-08 11:53:00  impact kronos politics upcoming rollout  \n",
       "631 2014-01-13 16:48:00    fw arise inspiration defenders kronos  \n",
       "657 2014-01-13 19:28:00    fw arise inspiration defenders kronos  \n",
       "659 2014-01-13 19:31:00    fw arise inspiration defenders kronos  \n",
       "661 2014-01-13 20:05:00    fw arise inspiration defenders kronos  \n",
       "669 2014-01-13 21:33:00    fw arise inspiration defenders kronos  "
      ]
     },
     "execution_count": 201,
     "metadata": {},
     "output_type": "execute_result"
    }
   ],
   "source": [
    "sympathizers_kronos = email_df.query(\"Subject.str.contains('kronos')\", engine='python', inplace=False)\n",
    "print(sympathizers_kronos.shape)\n",
    "sympathizers_kronos"
   ]
  },
  {
   "cell_type": "code",
   "execution_count": 202,
   "metadata": {},
   "outputs": [
    {
     "data": {
      "text/html": [
       "<div>\n",
       "<style scoped>\n",
       "    .dataframe tbody tr th:only-of-type {\n",
       "        vertical-align: middle;\n",
       "    }\n",
       "\n",
       "    .dataframe tbody tr th {\n",
       "        vertical-align: top;\n",
       "    }\n",
       "\n",
       "    .dataframe thead th {\n",
       "        text-align: right;\n",
       "    }\n",
       "</style>\n",
       "<table border=\"1\" class=\"dataframe\">\n",
       "  <thead>\n",
       "    <tr style=\"text-align: right;\">\n",
       "      <th></th>\n",
       "      <th>LastName</th>\n",
       "      <th>FirstName</th>\n",
       "      <th>BirthDate</th>\n",
       "      <th>BirthCountry</th>\n",
       "      <th>Gender</th>\n",
       "      <th>CitizenshipCountry</th>\n",
       "      <th>CitizenshipBasis</th>\n",
       "      <th>CitizenshipStartDate</th>\n",
       "      <th>PassportCountry</th>\n",
       "      <th>PassportIssueDate</th>\n",
       "      <th>PassportExpirationDate</th>\n",
       "      <th>CurrentEmploymentType</th>\n",
       "      <th>CurrentEmploymentTitle</th>\n",
       "      <th>CurrentEmploymentStartDate</th>\n",
       "      <th>EmailAddress</th>\n",
       "      <th>MilitaryServiceBranch</th>\n",
       "      <th>MilitaryDischargeType</th>\n",
       "      <th>MilitaryDischargeDate</th>\n",
       "      <th>FullName</th>\n",
       "    </tr>\n",
       "  </thead>\n",
       "  <tbody>\n",
       "    <tr>\n",
       "      <th>4</th>\n",
       "      <td>Mies Haber</td>\n",
       "      <td>Ruscella</td>\n",
       "      <td>1964-04-26</td>\n",
       "      <td>Kronos</td>\n",
       "      <td>Female</td>\n",
       "      <td>Kronos</td>\n",
       "      <td>BirthNation</td>\n",
       "      <td>1964-04-26</td>\n",
       "      <td>NaN</td>\n",
       "      <td>NaT</td>\n",
       "      <td>NaT</td>\n",
       "      <td>Administration</td>\n",
       "      <td>Assistant to Engineering Group Manager</td>\n",
       "      <td>2003-04-02</td>\n",
       "      <td>Ruscella.Mies.Haber@gastech.com.kronos</td>\n",
       "      <td>ArmedForcesOfKronos</td>\n",
       "      <td>HonorableDischarge</td>\n",
       "      <td>1984-10-01</td>\n",
       "      <td>Ruscella Mies Haber</td>\n",
       "    </tr>\n",
       "    <tr>\n",
       "      <th>48</th>\n",
       "      <td>Vann</td>\n",
       "      <td>Isia</td>\n",
       "      <td>1986-12-13</td>\n",
       "      <td>Kronos</td>\n",
       "      <td>Male</td>\n",
       "      <td>Kronos</td>\n",
       "      <td>BirthNation</td>\n",
       "      <td>1986-12-13</td>\n",
       "      <td>NaN</td>\n",
       "      <td>NaT</td>\n",
       "      <td>NaT</td>\n",
       "      <td>Security</td>\n",
       "      <td>Perimeter Control</td>\n",
       "      <td>2007-12-14</td>\n",
       "      <td>Isia.Vann@gastech.com.kronos</td>\n",
       "      <td>ArmedForcesOfKronos</td>\n",
       "      <td>GeneralDischarge</td>\n",
       "      <td>2007-10-01</td>\n",
       "      <td>Isia Vann</td>\n",
       "    </tr>\n",
       "    <tr>\n",
       "      <th>51</th>\n",
       "      <td>Bodrogi</td>\n",
       "      <td>Loreto</td>\n",
       "      <td>1989-04-17</td>\n",
       "      <td>Kronos</td>\n",
       "      <td>Male</td>\n",
       "      <td>Kronos</td>\n",
       "      <td>BirthNation</td>\n",
       "      <td>1989-04-17</td>\n",
       "      <td>NaN</td>\n",
       "      <td>NaT</td>\n",
       "      <td>NaT</td>\n",
       "      <td>Security</td>\n",
       "      <td>Site Control</td>\n",
       "      <td>2013-08-17</td>\n",
       "      <td>Loreto.Bodrogi@gastech.com.kronos</td>\n",
       "      <td>ArmedForcesOfKronos</td>\n",
       "      <td>HonorableDischarge</td>\n",
       "      <td>2008-10-01</td>\n",
       "      <td>Loreto Bodrogi</td>\n",
       "    </tr>\n",
       "    <tr>\n",
       "      <th>53</th>\n",
       "      <td>Ferro</td>\n",
       "      <td>Inga</td>\n",
       "      <td>1989-06-17</td>\n",
       "      <td>Kronos</td>\n",
       "      <td>Female</td>\n",
       "      <td>Kronos</td>\n",
       "      <td>BirthNation</td>\n",
       "      <td>1989-06-17</td>\n",
       "      <td>NaN</td>\n",
       "      <td>NaT</td>\n",
       "      <td>NaT</td>\n",
       "      <td>Security</td>\n",
       "      <td>Site Control</td>\n",
       "      <td>2013-01-11</td>\n",
       "      <td>Inga.Ferro@gastech.com.kronos</td>\n",
       "      <td>ArmedForcesOfKronos</td>\n",
       "      <td>GeneralDischarge</td>\n",
       "      <td>2012-10-01</td>\n",
       "      <td>Inga Ferro</td>\n",
       "    </tr>\n",
       "  </tbody>\n",
       "</table>\n",
       "</div>"
      ],
      "text/plain": [
       "      LastName FirstName  BirthDate BirthCountry  Gender CitizenshipCountry  \\\n",
       "4   Mies Haber  Ruscella 1964-04-26       Kronos  Female             Kronos   \n",
       "48        Vann      Isia 1986-12-13       Kronos    Male             Kronos   \n",
       "51     Bodrogi    Loreto 1989-04-17       Kronos    Male             Kronos   \n",
       "53       Ferro      Inga 1989-06-17       Kronos  Female             Kronos   \n",
       "\n",
       "   CitizenshipBasis CitizenshipStartDate PassportCountry PassportIssueDate  \\\n",
       "4       BirthNation           1964-04-26             NaN               NaT   \n",
       "48      BirthNation           1986-12-13             NaN               NaT   \n",
       "51      BirthNation           1989-04-17             NaN               NaT   \n",
       "53      BirthNation           1989-06-17             NaN               NaT   \n",
       "\n",
       "   PassportExpirationDate CurrentEmploymentType  \\\n",
       "4                     NaT        Administration   \n",
       "48                    NaT              Security   \n",
       "51                    NaT              Security   \n",
       "53                    NaT              Security   \n",
       "\n",
       "                    CurrentEmploymentTitle CurrentEmploymentStartDate  \\\n",
       "4   Assistant to Engineering Group Manager                 2003-04-02   \n",
       "48                       Perimeter Control                 2007-12-14   \n",
       "51                            Site Control                 2013-08-17   \n",
       "53                            Site Control                 2013-01-11   \n",
       "\n",
       "                              EmailAddress MilitaryServiceBranch  \\\n",
       "4   Ruscella.Mies.Haber@gastech.com.kronos   ArmedForcesOfKronos   \n",
       "48            Isia.Vann@gastech.com.kronos   ArmedForcesOfKronos   \n",
       "51       Loreto.Bodrogi@gastech.com.kronos   ArmedForcesOfKronos   \n",
       "53           Inga.Ferro@gastech.com.kronos   ArmedForcesOfKronos   \n",
       "\n",
       "   MilitaryDischargeType MilitaryDischargeDate             FullName  \n",
       "4     HonorableDischarge            1984-10-01  Ruscella Mies Haber  \n",
       "48      GeneralDischarge            2007-10-01            Isia Vann  \n",
       "51    HonorableDischarge            2008-10-01       Loreto Bodrogi  \n",
       "53      GeneralDischarge            2012-10-01           Inga Ferro  "
      ]
     },
     "execution_count": 202,
     "metadata": {},
     "output_type": "execute_result"
    }
   ],
   "source": [
    "sympathizers = sympathizers_kronos.query(\"Subject.str.contains('defenders')\", engine='python', inplace=False)\n",
    "sympathizers = sympathizers[['From']]\n",
    "employee_sympatizers = employee_records_df.apply(lambda x: x[employee_records_df['FullName'].isin(sympathizers['From'])])\n",
    "employee_sympatizers.head()"
   ]
  },
  {
   "attachments": {},
   "cell_type": "markdown",
   "metadata": {},
   "source": [
    "* Ruscella Mies Haber\n",
    "* Isia Vann \n",
    "* Loreto Bodrogi\n",
    "* Inga Ferro \n",
    "\n",
    "The names listed are PoK symaptizers. Their citizenship is from Kronos, served in the military experience as well as sending out email contents of defenders of Kronos propaganda. \n",
    "The Asterian People's Army (APA) is a paramilitary organization which has been engaged in terrorist activities funded through its criminal enterprises, which include drug trafficking.  In recent years the APA has sought to build their brand through websites and the publication of a professional, high-quality magazine called \"Arise\". (article 775) 10/22/2013"
   ]
  },
  {
   "attachments": {},
   "cell_type": "markdown",
   "metadata": {},
   "source": [
    "## News Article EDA\n",
    "\n",
    "A note about news articles, they are in no order. They have been collected from various news sources. "
   ]
  },
  {
   "attachments": {},
   "cell_type": "markdown",
   "metadata": {},
   "source": [
    "### Sentiment Analysis of News Articles with Pattern Library"
   ]
  },
  {
   "attachments": {},
   "cell_type": "markdown",
   "metadata": {},
   "source": [
    "Sentiment Analysis with Pattern\n",
    "https://github.com/clips/pattern/wiki/pattern-en \n",
    "\n",
    "Written text can be broadly categorized into two types: facts and opinions. Opinions carry people's sentiments, appraisals and feelings toward the world. The pattern.en module bundles a lexicon of adjectives (e.g., good, bad, amazing, irritating, ...) that occur frequently in product reviews, annotated with scores for sentiment polarity (positive ↔ negative) and subjectivity (objective ↔ subjective). The sentiment() function returns a (polarity, subjectivity)-tuple for the given sentence, based on the adjectives it contains, where polarity is a value between -1.0 and +1.0 and subjectivity between 0.0 and 1.0. The sentence can be a string, Text, Sentence, Chunk, Word or a Synset (see below). "
   ]
  },
  {
   "cell_type": "code",
   "execution_count": 203,
   "metadata": {},
   "outputs": [],
   "source": [
    "def sentiment_analysis(sentence) -> tuple:\n",
    "    \"\"\"\n",
    "    Perform Sentiment analysis on recieved text\n",
    "    Params: str: sentence\n",
    "    Returns:\n",
    "        tuple: polarity(sentiment score), subjectivity(sentiment modality)\n",
    "         Polarity returns the average in the sentence.\n",
    "         Subjectivity quantifies the amount of personal opinion and factual information contained in the text. \n",
    "         The higher subjectivity means that the text contains personal opinion rather than factual information.\n",
    "    \"\"\"\n",
    "    sentiment_score, sentiment_modality = sentiment(sentence)\n",
    "    return sentiment_score, sentiment_modality\n",
    "\n",
    "articles_df['sentiment_score'], articles_df['sentiment_modality'] = zip(*articles_df['description'].apply(lambda x: sentiment_analysis(x)))"
   ]
  },
  {
   "attachments": {},
   "cell_type": "markdown",
   "metadata": {},
   "source": [
    "Sentiment score a value between -1.0 - +1.0. Where -1 means negative sentiment, 0 neutral, and 1 is postive sentiment.\n",
    "\n",
    "Sentiment modality a value between 0 - 1.0. Where 0 is a fact and 1.0 is a person's opinion\n",
    "\n",
    "** This is sorted alphabetically."
   ]
  },
  {
   "cell_type": "code",
   "execution_count": 204,
   "metadata": {},
   "outputs": [
    {
     "data": {
      "text/html": [
       "<div>\n",
       "<style scoped>\n",
       "    .dataframe tbody tr th:only-of-type {\n",
       "        vertical-align: middle;\n",
       "    }\n",
       "\n",
       "    .dataframe tbody tr th {\n",
       "        vertical-align: top;\n",
       "    }\n",
       "\n",
       "    .dataframe thead th {\n",
       "        text-align: right;\n",
       "    }\n",
       "</style>\n",
       "<table border=\"1\" class=\"dataframe\">\n",
       "  <thead>\n",
       "    <tr style=\"text-align: right;\">\n",
       "      <th></th>\n",
       "      <th>index</th>\n",
       "      <th>description</th>\n",
       "      <th>news_company</th>\n",
       "      <th>datetime</th>\n",
       "      <th>sentiment_score</th>\n",
       "      <th>sentiment_modality</th>\n",
       "    </tr>\n",
       "  </thead>\n",
       "  <tbody>\n",
       "    <tr>\n",
       "      <th>0</th>\n",
       "      <td>article 0</td>\n",
       "      <td>orb bump protests abila response calls action ...</td>\n",
       "      <td>The Orb</td>\n",
       "      <td>[2012/09/08]</td>\n",
       "      <td>0.133333</td>\n",
       "      <td>0.359365</td>\n",
       "    </tr>\n",
       "    <tr>\n",
       "      <th>1</th>\n",
       "      <td>article 1</td>\n",
       "      <td>light truth enormous ipo makes billionaire san...</td>\n",
       "      <td>The Light of Truth</td>\n",
       "      <td>[2013/12/18]</td>\n",
       "      <td>0.015476</td>\n",
       "      <td>0.338095</td>\n",
       "    </tr>\n",
       "    <tr>\n",
       "      <th>2</th>\n",
       "      <td>article 10</td>\n",
       "      <td>homeland illumination voices blog important pe...</td>\n",
       "      <td>Homeland Illumination</td>\n",
       "      <td>[20 January 2014, 20 Jan 2014]</td>\n",
       "      <td>0.250000</td>\n",
       "      <td>1.000000</td>\n",
       "    </tr>\n",
       "    <tr>\n",
       "      <th>3</th>\n",
       "      <td>article 100</td>\n",
       "      <td>continent four people died enthusiastic discha...</td>\n",
       "      <td>The Continent</td>\n",
       "      <td>[2007/03/19]</td>\n",
       "      <td>-0.060390</td>\n",
       "      <td>0.408550</td>\n",
       "    </tr>\n",
       "    <tr>\n",
       "      <th>4</th>\n",
       "      <td>article 101</td>\n",
       "      <td>daily pegasus demonstration attracts thousands...</td>\n",
       "      <td>Daily Pegasus</td>\n",
       "      <td>[2012/11/11]</td>\n",
       "      <td>0.021978</td>\n",
       "      <td>0.343773</td>\n",
       "    </tr>\n",
       "  </tbody>\n",
       "</table>\n",
       "</div>"
      ],
      "text/plain": [
       "         index                                        description  \\\n",
       "0    article 0  orb bump protests abila response calls action ...   \n",
       "1    article 1  light truth enormous ipo makes billionaire san...   \n",
       "2   article 10  homeland illumination voices blog important pe...   \n",
       "3  article 100  continent four people died enthusiastic discha...   \n",
       "4  article 101  daily pegasus demonstration attracts thousands...   \n",
       "\n",
       "            news_company                        datetime  sentiment_score  \\\n",
       "0                The Orb                    [2012/09/08]         0.133333   \n",
       "1     The Light of Truth                    [2013/12/18]         0.015476   \n",
       "2  Homeland Illumination  [20 January 2014, 20 Jan 2014]         0.250000   \n",
       "3          The Continent                    [2007/03/19]        -0.060390   \n",
       "4          Daily Pegasus                    [2012/11/11]         0.021978   \n",
       "\n",
       "   sentiment_modality  \n",
       "0            0.359365  \n",
       "1            0.338095  \n",
       "2            1.000000  \n",
       "3            0.408550  \n",
       "4            0.343773  "
      ]
     },
     "execution_count": 204,
     "metadata": {},
     "output_type": "execute_result"
    }
   ],
   "source": [
    "articles_df.head()"
   ]
  },
  {
   "cell_type": "code",
   "execution_count": 205,
   "metadata": {},
   "outputs": [
    {
     "data": {
      "text/html": [
       "<div>\n",
       "<style scoped>\n",
       "    .dataframe tbody tr th:only-of-type {\n",
       "        vertical-align: middle;\n",
       "    }\n",
       "\n",
       "    .dataframe tbody tr th {\n",
       "        vertical-align: top;\n",
       "    }\n",
       "\n",
       "    .dataframe thead th {\n",
       "        text-align: right;\n",
       "    }\n",
       "</style>\n",
       "<table border=\"1\" class=\"dataframe\">\n",
       "  <thead>\n",
       "    <tr style=\"text-align: right;\">\n",
       "      <th></th>\n",
       "      <th>sentiment_score</th>\n",
       "      <th>sentiment_modality</th>\n",
       "    </tr>\n",
       "  </thead>\n",
       "  <tbody>\n",
       "    <tr>\n",
       "      <th>count</th>\n",
       "      <td>845.000000</td>\n",
       "      <td>845.000000</td>\n",
       "    </tr>\n",
       "    <tr>\n",
       "      <th>mean</th>\n",
       "      <td>0.046916</td>\n",
       "      <td>0.364348</td>\n",
       "    </tr>\n",
       "    <tr>\n",
       "      <th>std</th>\n",
       "      <td>0.129246</td>\n",
       "      <td>0.183309</td>\n",
       "    </tr>\n",
       "    <tr>\n",
       "      <th>min</th>\n",
       "      <td>-0.425000</td>\n",
       "      <td>0.000000</td>\n",
       "    </tr>\n",
       "    <tr>\n",
       "      <th>25%</th>\n",
       "      <td>-0.023438</td>\n",
       "      <td>0.266667</td>\n",
       "    </tr>\n",
       "    <tr>\n",
       "      <th>50%</th>\n",
       "      <td>0.037698</td>\n",
       "      <td>0.365734</td>\n",
       "    </tr>\n",
       "    <tr>\n",
       "      <th>75%</th>\n",
       "      <td>0.116071</td>\n",
       "      <td>0.451389</td>\n",
       "    </tr>\n",
       "    <tr>\n",
       "      <th>max</th>\n",
       "      <td>0.500000</td>\n",
       "      <td>1.000000</td>\n",
       "    </tr>\n",
       "  </tbody>\n",
       "</table>\n",
       "</div>"
      ],
      "text/plain": [
       "       sentiment_score  sentiment_modality\n",
       "count       845.000000          845.000000\n",
       "mean          0.046916            0.364348\n",
       "std           0.129246            0.183309\n",
       "min          -0.425000            0.000000\n",
       "25%          -0.023438            0.266667\n",
       "50%           0.037698            0.365734\n",
       "75%           0.116071            0.451389\n",
       "max           0.500000            1.000000"
      ]
     },
     "execution_count": 205,
     "metadata": {},
     "output_type": "execute_result"
    }
   ],
   "source": [
    "articles_df.describe()"
   ]
  },
  {
   "attachments": {},
   "cell_type": "markdown",
   "metadata": {},
   "source": [
    "### Timeline of Events from January 20-21st"
   ]
  },
  {
   "cell_type": "code",
   "execution_count": 208,
   "metadata": {},
   "outputs": [
    {
     "data": {
      "text/html": [
       "<div>\n",
       "<style scoped>\n",
       "    .dataframe tbody tr th:only-of-type {\n",
       "        vertical-align: middle;\n",
       "    }\n",
       "\n",
       "    .dataframe tbody tr th {\n",
       "        vertical-align: top;\n",
       "    }\n",
       "\n",
       "    .dataframe thead th {\n",
       "        text-align: right;\n",
       "    }\n",
       "</style>\n",
       "<table border=\"1\" class=\"dataframe\">\n",
       "  <thead>\n",
       "    <tr style=\"text-align: right;\">\n",
       "      <th></th>\n",
       "      <th>index</th>\n",
       "      <th>description</th>\n",
       "      <th>news_company</th>\n",
       "      <th>datetime</th>\n",
       "      <th>sentiment_score</th>\n",
       "      <th>sentiment_modality</th>\n",
       "    </tr>\n",
       "  </thead>\n",
       "  <tbody>\n",
       "    <tr>\n",
       "      <th>0</th>\n",
       "      <td>article 0</td>\n",
       "      <td>orb bump protests abila response calls action ...</td>\n",
       "      <td>The Orb</td>\n",
       "      <td>[2012/09/08]</td>\n",
       "      <td>0.133333</td>\n",
       "      <td>0.359365</td>\n",
       "    </tr>\n",
       "    <tr>\n",
       "      <th>1</th>\n",
       "      <td>article 1</td>\n",
       "      <td>light truth enormous ipo makes billionaire san...</td>\n",
       "      <td>The Light of Truth</td>\n",
       "      <td>[2013/12/18]</td>\n",
       "      <td>0.015476</td>\n",
       "      <td>0.338095</td>\n",
       "    </tr>\n",
       "    <tr>\n",
       "      <th>2</th>\n",
       "      <td>article 10</td>\n",
       "      <td>homeland illumination voices blog important pe...</td>\n",
       "      <td>Homeland Illumination</td>\n",
       "      <td>[20 January 2014, 20 Jan 2014]</td>\n",
       "      <td>0.250000</td>\n",
       "      <td>1.000000</td>\n",
       "    </tr>\n",
       "    <tr>\n",
       "      <th>3</th>\n",
       "      <td>article 100</td>\n",
       "      <td>continent four people died enthusiastic discha...</td>\n",
       "      <td>The Continent</td>\n",
       "      <td>[2007/03/19]</td>\n",
       "      <td>-0.060390</td>\n",
       "      <td>0.408550</td>\n",
       "    </tr>\n",
       "    <tr>\n",
       "      <th>4</th>\n",
       "      <td>article 101</td>\n",
       "      <td>daily pegasus demonstration attracts thousands...</td>\n",
       "      <td>Daily Pegasus</td>\n",
       "      <td>[2012/11/11]</td>\n",
       "      <td>0.021978</td>\n",
       "      <td>0.343773</td>\n",
       "    </tr>\n",
       "  </tbody>\n",
       "</table>\n",
       "</div>"
      ],
      "text/plain": [
       "         index                                        description  \\\n",
       "0    article 0  orb bump protests abila response calls action ...   \n",
       "1    article 1  light truth enormous ipo makes billionaire san...   \n",
       "2   article 10  homeland illumination voices blog important pe...   \n",
       "3  article 100  continent four people died enthusiastic discha...   \n",
       "4  article 101  daily pegasus demonstration attracts thousands...   \n",
       "\n",
       "            news_company                        datetime  sentiment_score  \\\n",
       "0                The Orb                    [2012/09/08]         0.133333   \n",
       "1     The Light of Truth                    [2013/12/18]         0.015476   \n",
       "2  Homeland Illumination  [20 January 2014, 20 Jan 2014]         0.250000   \n",
       "3          The Continent                    [2007/03/19]        -0.060390   \n",
       "4          Daily Pegasus                    [2012/11/11]         0.021978   \n",
       "\n",
       "   sentiment_modality  \n",
       "0            0.359365  \n",
       "1            0.338095  \n",
       "2            1.000000  \n",
       "3            0.408550  \n",
       "4            0.343773  "
      ]
     },
     "execution_count": 208,
     "metadata": {},
     "output_type": "execute_result"
    }
   ],
   "source": [
    "articles_df.head()"
   ]
  },
  {
   "cell_type": "code",
   "execution_count": 209,
   "metadata": {},
   "outputs": [],
   "source": [
    "def parseDatetime(date):\n",
    "    format = \"%Y/%m/%d\"\n",
    "    for date_string in date:\n",
    "        for fmt in ('%Y/%m/%d', \"%d %B %Y\", '%d %b %Y', '%d %B  %Y'):\n",
    "            try:\n",
    "                date = datetime.strptime(date_string, fmt).strftime(format)\n",
    "            except ValueError: \n",
    "                pass\n",
    "    return date\n",
    "\n",
    "articles_df['datetime'] = articles_df['datetime'].apply(lambda x: parseDatetime(x)) \n",
    "articles_df.head()\n",
    "articles_df.drop(index=663, inplace=True, axis=0)\n",
    "articles_df.drop(index=793, inplace=True, axis=0)"
   ]
  },
  {
   "cell_type": "code",
   "execution_count": 210,
   "metadata": {},
   "outputs": [
    {
     "name": "stdout",
     "output_type": "stream",
     "text": [
      "index                  object\n",
      "description            object\n",
      "news_company           object\n",
      "datetime               object\n",
      "sentiment_score       float64\n",
      "sentiment_modality    float64\n",
      "dtype: object\n"
     ]
    }
   ],
   "source": [
    "print(articles_df.dtypes)"
   ]
  },
  {
   "cell_type": "code",
   "execution_count": 211,
   "metadata": {},
   "outputs": [
    {
     "name": "stdout",
     "output_type": "stream",
     "text": [
      "index                         object\n",
      "description                   object\n",
      "news_company                  object\n",
      "datetime              datetime64[ns]\n",
      "sentiment_score              float64\n",
      "sentiment_modality           float64\n",
      "dtype: object\n"
     ]
    }
   ],
   "source": [
    "articles_df['datetime'] = pd.to_datetime(articles_df['datetime'])\n",
    "print(articles_df.dtypes)"
   ]
  },
  {
   "cell_type": "code",
   "execution_count": 212,
   "metadata": {},
   "outputs": [
    {
     "data": {
      "text/html": [
       "<div>\n",
       "<style scoped>\n",
       "    .dataframe tbody tr th:only-of-type {\n",
       "        vertical-align: middle;\n",
       "    }\n",
       "\n",
       "    .dataframe tbody tr th {\n",
       "        vertical-align: top;\n",
       "    }\n",
       "\n",
       "    .dataframe thead th {\n",
       "        text-align: right;\n",
       "    }\n",
       "</style>\n",
       "<table border=\"1\" class=\"dataframe\">\n",
       "  <thead>\n",
       "    <tr style=\"text-align: right;\">\n",
       "      <th></th>\n",
       "      <th>index</th>\n",
       "      <th>description</th>\n",
       "      <th>news_company</th>\n",
       "      <th>datetime</th>\n",
       "      <th>sentiment_score</th>\n",
       "      <th>sentiment_modality</th>\n",
       "    </tr>\n",
       "  </thead>\n",
       "  <tbody>\n",
       "    <tr>\n",
       "      <th>699</th>\n",
       "      <td>article 728</td>\n",
       "      <td>world source centrums central role tethan gas ...</td>\n",
       "      <td>World Source</td>\n",
       "      <td>1982-10-02</td>\n",
       "      <td>0.088219</td>\n",
       "      <td>0.435538</td>\n",
       "    </tr>\n",
       "    <tr>\n",
       "      <th>599</th>\n",
       "      <td>article 638</td>\n",
       "      <td>international times centrums central role teth...</td>\n",
       "      <td>International Times</td>\n",
       "      <td>1982-10-02</td>\n",
       "      <td>0.090316</td>\n",
       "      <td>0.431134</td>\n",
       "    </tr>\n",
       "    <tr>\n",
       "      <th>129</th>\n",
       "      <td>article 214</td>\n",
       "      <td>everyday news central paper center industry ga...</td>\n",
       "      <td>Everyday News</td>\n",
       "      <td>1982-10-03</td>\n",
       "      <td>0.075159</td>\n",
       "      <td>0.421741</td>\n",
       "    </tr>\n",
       "  </tbody>\n",
       "</table>\n",
       "</div>"
      ],
      "text/plain": [
       "           index                                        description  \\\n",
       "699  article 728  world source centrums central role tethan gas ...   \n",
       "599  article 638  international times centrums central role teth...   \n",
       "129  article 214  everyday news central paper center industry ga...   \n",
       "\n",
       "            news_company   datetime  sentiment_score  sentiment_modality  \n",
       "699        World Source  1982-10-02         0.088219            0.435538  \n",
       "599  International Times 1982-10-02         0.090316            0.431134  \n",
       "129        Everyday News 1982-10-03         0.075159            0.421741  "
      ]
     },
     "execution_count": 212,
     "metadata": {},
     "output_type": "execute_result"
    }
   ],
   "source": [
    "articles_df.sort_values(by='datetime', inplace=True)\n",
    "articles_df.head(3)"
   ]
  },
  {
   "cell_type": "code",
   "execution_count": 224,
   "metadata": {},
   "outputs": [
    {
     "data": {
      "application/vnd.plotly.v1+json": {
       "config": {
        "plotlyServerURL": "https://plot.ly"
       },
       "data": [
        {
         "alignmentgroup": "True",
         "hovertemplate": "index=%{x}<br>sentiment_score=%{y}<extra></extra>",
         "legendgroup": "",
         "marker": {
          "color": "#636efa",
          "pattern": {
           "shape": ""
          }
         },
         "name": "",
         "offsetgroup": "",
         "orientation": "v",
         "showlegend": false,
         "textposition": "auto",
         "type": "bar",
         "x": [
          "article 728",
          "article 638",
          "article 214",
          "article 796",
          "article 596",
          "article 347",
          "article 501",
          "article 751",
          "article 564",
          "article 227",
          "article 771",
          "article 784",
          "article 496",
          "article 611",
          "article 473",
          "article 479",
          "article 380",
          "article 301",
          "article 835",
          "article 650",
          "article 641",
          "article 103",
          "article 226",
          "article 632",
          "article 755",
          "article 152",
          "article 681",
          "article 210",
          "article 639",
          "article 748",
          "article 500",
          "article 666",
          "article 47",
          "article 367",
          "article 114",
          "article 795",
          "article 732",
          "article 736",
          "article 657",
          "article 552",
          "article 143",
          "article 725",
          "article 723",
          "article 315",
          "article 503",
          "article 750",
          "article 198",
          "article 3",
          "article 478",
          "article 722",
          "article 137",
          "article 84",
          "article 105",
          "article 534",
          "article 331",
          "article 192",
          "article 802",
          "article 153",
          "article 111",
          "article 314",
          "article 729",
          "article 97",
          "article 586",
          "article 497",
          "article 526",
          "article 444",
          "article 52",
          "article 634",
          "article 456",
          "article 591",
          "article 695",
          "article 66",
          "article 474",
          "article 543",
          "article 547",
          "article 421",
          "article 312",
          "article 98",
          "article 230",
          "article 424",
          "article 42",
          "article 58",
          "article 768",
          "article 542",
          "article 112",
          "article 509",
          "article 472",
          "article 120",
          "article 825",
          "article 671",
          "article 720",
          "article 136",
          "article 782",
          "article 652",
          "article 545",
          "article 731",
          "article 60",
          "article 186",
          "article 304",
          "article 703",
          "article 151",
          "article 220",
          "article 404",
          "article 38",
          "article 406",
          "article 27",
          "article 196",
          "article 758",
          "article 69",
          "article 531",
          "article 342",
          "article 154",
          "article 317",
          "article 448",
          "article 502",
          "article 4",
          "article 183",
          "article 741",
          "article 647",
          "article 237",
          "article 35",
          "article 627",
          "article 79",
          "article 617",
          "article 16",
          "article 492",
          "article 222",
          "article 622",
          "article 814",
          "article 264",
          "article 568",
          "article 293",
          "article 275",
          "article 263",
          "article 409",
          "article 791",
          "article 630",
          "article 166",
          "article 330",
          "article 467",
          "article 5",
          "article 305",
          "article 399",
          "article 574",
          "article 316",
          "article 206",
          "article 694",
          "article 420",
          "article 779",
          "article 68",
          "article 408",
          "article 619",
          "article 823",
          "article 401",
          "article 211",
          "article 628",
          "article 519",
          "article 605",
          "article 442",
          "article 517",
          "article 449",
          "article 702",
          "article 284",
          "article 706",
          "article 319",
          "article 488",
          "article 821",
          "article 640",
          "article 724",
          "article 327",
          "article 659",
          "article 468",
          "article 267",
          "article 482",
          "article 612",
          "article 740",
          "article 248",
          "article 762",
          "article 443",
          "article 701",
          "article 117",
          "article 2",
          "article 302",
          "article 789",
          "article 278",
          "article 471",
          "article 216",
          "article 515",
          "article 131",
          "article 254",
          "article 672",
          "article 72",
          "article 188",
          "article 271",
          "article 413",
          "article 498",
          "article 626",
          "article 663",
          "article 277",
          "article 504",
          "article 235",
          "article 734",
          "article 256",
          "article 295",
          "article 91",
          "article 177",
          "article 477",
          "article 410",
          "article 403",
          "article 747",
          "article 311",
          "article 270",
          "article 246",
          "article 765",
          "article 41",
          "article 296",
          "article 707",
          "article 636",
          "article 391",
          "article 134",
          "article 606",
          "article 465",
          "article 187",
          "article 459",
          "article 306",
          "article 780",
          "article 668",
          "article 746",
          "article 363",
          "article 273",
          "article 658",
          "article 544",
          "article 794",
          "article 129",
          "article 778",
          "article 328",
          "article 511",
          "article 593",
          "article 22",
          "article 680",
          "article 297",
          "article 688",
          "article 109",
          "article 115",
          "article 349",
          "article 587",
          "article 371",
          "article 59",
          "article 164",
          "article 686",
          "article 493",
          "article 251",
          "article 737",
          "article 243",
          "article 786",
          "article 546",
          "article 272",
          "article 221",
          "article 17",
          "article 832",
          "article 781",
          "article 179",
          "article 247",
          "article 121",
          "article 423",
          "article 760",
          "article 595",
          "article 730",
          "article 621",
          "article 439",
          "article 285",
          "article 464",
          "article 113",
          "article 491",
          "article 383",
          "article 550",
          "article 100",
          "article 332",
          "article 12",
          "article 6",
          "article 684",
          "article 182",
          "article 483",
          "article 603",
          "article 390",
          "article 236",
          "article 756",
          "article 48",
          "article 377",
          "article 578",
          "article 690",
          "article 241",
          "article 742",
          "article 168",
          "article 165",
          "article 476",
          "article 837",
          "article 807",
          "article 565",
          "article 335",
          "article 808",
          "article 340",
          "article 675",
          "article 146",
          "article 716",
          "article 141",
          "article 529",
          "article 23",
          "article 514",
          "article 631",
          "article 201",
          "article 646",
          "article 643",
          "article 36",
          "article 743",
          "article 447",
          "article 51",
          "article 217",
          "article 735",
          "article 294",
          "article 836",
          "article 683",
          "article 437",
          "article 398",
          "article 451",
          "article 820",
          "article 667",
          "article 815",
          "article 505",
          "article 798",
          "article 19",
          "article 229",
          "article 788",
          "article 577",
          "article 157",
          "article 561",
          "article 455",
          "article 354",
          "article 195",
          "article 422",
          "article 65",
          "article 810",
          "article 826",
          "article 560",
          "article 73",
          "article 18",
          "article 554",
          "article 185",
          "article 623",
          "article 445",
          "article 95",
          "article 269",
          "article 357",
          "article 454",
          "article 14",
          "article 204",
          "article 309",
          "article 745",
          "article 191",
          "article 162",
          "article 20",
          "article 801",
          "article 155",
          "article 24",
          "article 385",
          "article 353",
          "article 268",
          "article 387",
          "article 149",
          "article 566",
          "article 180",
          "article 242",
          "article 34",
          "article 334",
          "article 378",
          "article 405",
          "article 190",
          "article 286",
          "article 770",
          "article 475",
          "article 508",
          "article 71",
          "article 523",
          "article 767",
          "article 604",
          "article 766",
          "article 615",
          "article 257",
          "article 158",
          "article 691",
          "article 644",
          "article 620",
          "article 670",
          "article 581",
          "article 233",
          "article 244",
          "article 588",
          "article 489",
          "article 382",
          "article 601",
          "article 345",
          "article 432",
          "article 370",
          "article 576",
          "article 571",
          "article 433",
          "article 389",
          "article 661",
          "article 225",
          "article 28",
          "article 161",
          "article 77",
          "article 774",
          "article 416",
          "article 175",
          "article 288",
          "article 799",
          "article 754",
          "article 361",
          "article 249",
          "article 705",
          "article 548",
          "article 527",
          "article 96",
          "article 123",
          "article 45",
          "article 499",
          "article 757",
          "article 224",
          "article 629",
          "article 64",
          "article 205",
          "article 323",
          "article 37",
          "article 255",
          "article 839",
          "article 266",
          "article 238",
          "article 819",
          "article 457",
          "article 739",
          "article 80",
          "article 379",
          "article 797",
          "article 265",
          "article 228",
          "article 584",
          "article 258",
          "article 373",
          "article 549",
          "article 104",
          "article 610",
          "article 135",
          "article 358",
          "article 414",
          "article 239",
          "article 773",
          "article 207",
          "article 364",
          "article 282",
          "article 570",
          "article 89",
          "article 132",
          "article 785",
          "article 698",
          "article 318",
          "article 645",
          "article 664",
          "article 351",
          "article 343",
          "article 116",
          "article 816",
          "article 541",
          "article 57",
          "article 572",
          "article 662",
          "article 337",
          "article 75",
          "article 792",
          "article 156",
          "article 194",
          "article 184",
          "article 54",
          "article 709",
          "article 213",
          "article 300",
          "article 74",
          "article 33",
          "article 753",
          "article 0",
          "article 520",
          "article 346",
          "article 101",
          "article 840",
          "article 843",
          "article 108",
          "article 651",
          "article 530",
          "article 124",
          "article 81",
          "article 93",
          "article 150",
          "article 303",
          "article 393",
          "article 147",
          "article 580",
          "article 648",
          "article 130",
          "article 374",
          "article 290",
          "article 252",
          "article 394",
          "article 769",
          "article 341",
          "article 833",
          "article 538",
          "article 700",
          "article 575",
          "article 189",
          "article 82",
          "article 809",
          "article 119",
          "article 46",
          "article 102",
          "article 336",
          "article 287",
          "article 590",
          "article 513",
          "article 775",
          "article 506",
          "article 446",
          "article 126",
          "article 88",
          "article 608",
          "article 181",
          "article 480",
          "article 25",
          "article 553",
          "article 559",
          "article 713",
          "article 86",
          "article 333",
          "article 388",
          "article 83",
          "article 777",
          "article 800",
          "article 360",
          "article 209",
          "article 260",
          "article 375",
          "article 231",
          "article 223",
          "article 1",
          "article 61",
          "article 614",
          "article 174",
          "article 160",
          "article 240",
          "article 436",
          "article 148",
          "article 259",
          "article 618",
          "article 764",
          "article 40",
          "article 602",
          "article 127",
          "article 128",
          "article 714",
          "article 589",
          "article 711",
          "article 704",
          "article 352",
          "article 32",
          "article 313",
          "article 710",
          "article 232",
          "article 253",
          "article 712",
          "article 321",
          "article 322",
          "article 749",
          "article 715",
          "article 717",
          "article 718",
          "article 324",
          "article 320",
          "article 31",
          "article 283",
          "article 733",
          "article 289",
          "article 281",
          "article 29",
          "article 291",
          "article 292",
          "article 280",
          "article 719",
          "article 298",
          "article 299",
          "article 262",
          "article 307",
          "article 721",
          "article 308",
          "article 744",
          "article 26",
          "article 759",
          "article 726",
          "article 172",
          "article 761",
          "article 811",
          "article 813",
          "article 133",
          "article 13",
          "article 817",
          "article 818",
          "article 125",
          "article 122",
          "article 827",
          "article 828",
          "article 829",
          "article 830",
          "article 831",
          "article 138",
          "article 834",
          "article 11",
          "article 838",
          "article 107",
          "article 841",
          "article 842",
          "article 844",
          "article 85",
          "article 87",
          "article 9",
          "article 90",
          "article 92",
          "article 94",
          "article 10",
          "article 118",
          "article 76",
          "article 139",
          "article 806",
          "article 215",
          "article 763",
          "article 212",
          "article 21",
          "article 208",
          "article 203",
          "article 202",
          "article 772",
          "article 199",
          "article 197",
          "article 776",
          "article 193",
          "article 78",
          "article 140",
          "article 176",
          "article 173",
          "article 171",
          "article 170",
          "article 169",
          "article 790",
          "article 163",
          "article 15",
          "article 8",
          "article 145",
          "article 144",
          "article 803",
          "article 804",
          "article 805",
          "article 783",
          "article 325",
          "article 7",
          "article 70",
          "article 609",
          "article 607",
          "article 450",
          "article 452",
          "article 453",
          "article 458",
          "article 441",
          "article 600",
          "article 461",
          "article 462",
          "article 594",
          "article 592",
          "article 466",
          "article 469",
          "article 597",
          "article 440",
          "article 44",
          "article 613",
          "article 425",
          "article 63",
          "article 426",
          "article 427",
          "article 428",
          "article 429",
          "article 625",
          "article 326",
          "article 43",
          "article 430",
          "article 431",
          "article 434",
          "article 435",
          "article 616",
          "article 438",
          "article 470",
          "article 419",
          "article 585",
          "article 582",
          "article 558",
          "article 557",
          "article 555",
          "article 521",
          "article 522",
          "article 551",
          "article 56",
          "article 524",
          "article 528",
          "article 53",
          "article 532",
          "article 533",
          "article 537",
          "article 540",
          "article 525",
          "article 518",
          "article 562",
          "article 563",
          "article 485",
          "article 486",
          "article 487",
          "article 49",
          "article 490",
          "article 494",
          "article 573",
          "article 495",
          "article 50",
          "article 507",
          "article 569",
          "article 510",
          "article 567",
          "article 512",
          "article 516",
          "article 484",
          "article 633",
          "article 99",
          "article 635",
          "article 348",
          "article 655",
          "article 350",
          "article 386",
          "article 384",
          "article 381",
          "article 682",
          "article 355",
          "article 356",
          "article 660",
          "article 679",
          "article 67",
          "article 376",
          "article 677",
          "article 359",
          "article 417",
          "article 665",
          "article 369",
          "article 674",
          "article 368",
          "article 366",
          "article 669",
          "article 673",
          "article 362",
          "article 678",
          "article 653",
          "article 365",
          "article 697",
          "article 402",
          "article 329",
          "article 685",
          "article 397",
          "article 411",
          "article 412",
          "article 395",
          "article 642",
          "article 637",
          "article 415",
          "article 649",
          "article 392",
          "article 338",
          "article 39",
          "article 339",
          "article 699",
          "article 539",
          "article 692",
          "article 400",
          "article 536",
          "article 556",
          "article 676",
          "article 30",
          "article 708",
          "article 693",
          "article 110",
          "article 106",
          "article 689",
          "article 344",
          "article 727",
          "article 310",
          "article 372",
          "article 822",
          "article 418",
          "article 407",
          "article 218",
          "article 178",
          "article 396",
          "article 219",
          "article 62",
          "article 787",
          "article 167",
          "article 752",
          "article 793",
          "article 824",
          "article 159",
          "article 250",
          "article 245",
          "article 463",
          "article 579",
          "article 583",
          "article 481",
          "article 738",
          "article 276",
          "article 654",
          "article 274",
          "article 624",
          "article 261",
          "article 598",
          "article 599",
          "article 460",
          "article 142",
          "article 234",
          "article 279",
          "article 687",
          "article 535",
          "article 200",
          "article 55",
          "article 656"
         ],
         "xaxis": "x",
         "y": [
          0.08821941946941948,
          0.09031586902680654,
          0.07515896265896267,
          0.11860967670826832,
          0.06946022727272727,
          0.0630952380952381,
          0.12290167561906697,
          0.11071692535107171,
          0.13676767676767682,
          0.141991341991342,
          0.13710073710073717,
          0.07318422318422318,
          0.12567589643061344,
          0.13437500000000002,
          0.09642857142857143,
          0.1631818181818182,
          0.09166666666666667,
          0.184375,
          0.16944444444444448,
          0.24812499999999998,
          0.024166666666666666,
          0.15,
          0.18562499999999998,
          0.13875,
          0.10765873015873016,
          0.02727272727272728,
          0.04583333333333334,
          0.06875,
          -0.004999999999999993,
          0.05357142857142857,
          0.108974358974359,
          0.2787878787878788,
          0.29034090909090904,
          0,
          0.08116883116883117,
          0.18116883116883117,
          0.01948051948051948,
          -0.006363636363636366,
          0,
          0.12195616883116883,
          0.09524225774225774,
          0.2944805194805195,
          0.04194214876033058,
          0.06433566433566434,
          0.033566433566433566,
          0.20875,
          0.18636363636363634,
          0.07063492063492063,
          0.1808823529411765,
          0.140625,
          0.25178571428571433,
          0.05681818181818183,
          -0.057727272727272724,
          -0.14166666666666666,
          0.0695165945165945,
          0.15613636363636366,
          0.10496632996632996,
          0.1525,
          0.1525,
          0.0175,
          0.07,
          0.060571428571428575,
          -0.06300000000000001,
          0.12479338842975206,
          0.3032467532467532,
          0.29727272727272724,
          0.4000000000000001,
          0.3715909090909091,
          0.05206611570247935,
          0.22161410018552877,
          0.07355699855699856,
          0.37471590909090907,
          0.18141233766233766,
          0.2257034632034632,
          0.11423444976076555,
          0.06811938061938062,
          0.127228453364817,
          0.06993006993006992,
          0.0908528971028971,
          0.08460836038961038,
          0.16547937356760886,
          0.14909090909090908,
          0.14647495361781074,
          0.13749999999999998,
          0.07738433441558441,
          0.20649350649350648,
          0.0376984126984127,
          -0.08333333333333333,
          -0.043870192307692304,
          0.06720779220779222,
          0.021753246753246754,
          -0.1311904761904762,
          -0.1311904761904762,
          -0.09702380952380951,
          -0.06999999999999999,
          -0.016666666666666666,
          -0.24033882783882785,
          0,
          -0.005,
          0.08035714285714286,
          -0.005,
          -0.0023809523809523786,
          0.05000000000000001,
          -0.021226150392817052,
          -0.03806818181818181,
          -0.0508333333333333,
          -0.06311327561327561,
          -0.09540719696969695,
          0.06149969078540506,
          0.07564380064380065,
          0.05033670033670033,
          0.060004329004329,
          0.0708622772576261,
          0.03404264654264655,
          0.07805506993006994,
          0.09357142857142856,
          0.04804632034632035,
          0.08882430069930068,
          0.07481431966726085,
          0.01136363636363636,
          0.0017857142857142833,
          0.09000000000000001,
          -0.03125,
          0.008571428571428572,
          0,
          -0.01999999999999999,
          0.08714285714285715,
          -0.08392857142857144,
          0.0390625,
          0.046078431372549015,
          0.11599999999999999,
          -0.028452380952380948,
          -0.024682539682539684,
          0.175,
          -0.1528061224489796,
          -0.02892156862745098,
          0.1125,
          0.21666666666666667,
          0.13724489795918368,
          0.125,
          0.0888888888888889,
          0.2,
          0.13333333333333336,
          0.25,
          0.1696969696969697,
          0.14444444444444443,
          0.2,
          0.05925925925925926,
          -0.08888888888888889,
          0.252,
          0.11481481481481483,
          0.18060606060606063,
          0.24583333333333335,
          0.18866666666666668,
          0.023333333333333338,
          0.16333333333333336,
          0.07151515151515152,
          0.06866666666666668,
          0.022666666666666675,
          0.08474025974025975,
          0.16863636363636364,
          0.1357142857142857,
          0.034564393939393936,
          0.09914772727272728,
          0.0821969696969697,
          0.0785,
          0.06388888888888888,
          0.08055555555555556,
          0.05583333333333333,
          0.0835,
          0.09621212121212121,
          0.0935897435897436,
          -0.03125,
          0.07820512820512822,
          0.08333333333333334,
          0.018269230769230774,
          0.10185185185185186,
          0.050878533231474406,
          0.022424242424242426,
          0.019090909090909092,
          0,
          0.08474025974025975,
          0.031168831168831162,
          0,
          0.045454545454545456,
          0,
          0.13622159090909092,
          0.03787878787878788,
          0.07007575757575758,
          0.25142857142857145,
          0.035,
          0.06791666666666668,
          0.3166666666666667,
          0.11600000000000002,
          0.05357142857142857,
          -0.06488095238095237,
          -0.09360119047619048,
          -0.15208333333333335,
          0.08564425770308123,
          -0.03669467787114846,
          0.08684523809523807,
          -0.12142857142857144,
          0,
          -0.225,
          -0.14166666666666666,
          -0.0962962962962963,
          0.2491582491582492,
          0.23393939393939395,
          0.17575757575757578,
          0.1521780303030303,
          0.1824915824915825,
          0.1015151515151515,
          -0.03712121212121212,
          -0.04791666666666666,
          -0.03712121212121212,
          -0.03712121212121212,
          0.09333333333333335,
          -0.040833333333333326,
          -0.075,
          -0.0625,
          -0.04375,
          -0.03928571428571429,
          -0.035416666666666666,
          -0.029166666666666667,
          0.19848484848484846,
          0.1160714285714286,
          0.13340548340548342,
          0.2340909090909091,
          0.22828282828282828,
          0.11785714285714287,
          0.06944444444444445,
          0.1,
          0.16363636363636364,
          0.0818181818181818,
          0.10494505494505495,
          0.1535714285714286,
          0.13333333333333333,
          0.05,
          0.09146825396825396,
          0.07333333333333333,
          0.1325,
          -0.05,
          0.06375000000000001,
          0.10933333333333335,
          0.09636363636363639,
          -0.02083333333333333,
          0,
          0,
          -0.015151515151515145,
          0.1,
          0.016666666666666666,
          0.08333333333333333,
          0.06249999999999999,
          0.08,
          -0.05,
          0.06000000000000001,
          0.038888888888888896,
          0,
          0.05,
          0.06666666666666667,
          0.07445887445887446,
          0,
          0,
          0,
          0.04814814814814815,
          0.1333333333333333,
          0.06696428571428571,
          0.053505291005291,
          -0.05000000000000001,
          -0.11964285714285716,
          -0.0625,
          -0.1488095238095238,
          -0.1935714285714286,
          -0.07820512820512822,
          0.004285714285714282,
          -0.1028061224489796,
          -0.060389610389610396,
          -0.09566326530612246,
          0,
          -0.10412087912087913,
          -0.005357142857142856,
          0.015476190476190478,
          0.10000000000000002,
          0.10833333333333334,
          0.04357142857142857,
          0.08961038961038961,
          -0.021428571428571432,
          -0.01,
          0.08333333333333333,
          -0.025,
          0.05,
          0.019047619047619053,
          -0.07857142857142856,
          0.007692307692307699,
          0.010416666666666663,
          0,
          0.07116402116402117,
          -0.0425,
          -0.04722222222222223,
          -0.125,
          -0.03738095238095237,
          0.036111111111111115,
          0.0984375,
          -0.03846153846153847,
          0.05576923076923076,
          -0.10833333333333332,
          -0.005555555555555554,
          0.029487179487179493,
          0.010544217687074831,
          0.03333333333333333,
          0.009841269841269849,
          -0.037362637362637355,
          -0.006060606060606059,
          -0.04832589285714285,
          0.06961279461279463,
          -0.10833333333333334,
          0.10065426997245179,
          0.01262626262626263,
          0.08305422647527912,
          -0.06333333333333334,
          -0.10000000000000002,
          0.08015873015873017,
          -0.07037037037037037,
          0.059999999999999984,
          -0.4000000000000001,
          0.04999999999999999,
          0.0857142857142857,
          -0.06666666666666667,
          0.04999999999999996,
          0.059999999999999984,
          0.03333333333333332,
          0.04999999999999999,
          -0.0515873015873016,
          0.12222222222222223,
          0.0022222222222222088,
          -0.09166666666666667,
          -0.01666666666666667,
          0.0401360544217687,
          0.08764568764568764,
          0.08712121212121213,
          0.12506887052341598,
          0.04429437229437228,
          0.09329660238751149,
          0.08505627705627707,
          0.18072916666666666,
          0.10269607843137254,
          0.1301282051282051,
          -0.016666666666666663,
          -0.13,
          0.23461538461538464,
          0.01874999999999999,
          0.16568627450980392,
          0.21136363636363634,
          0.05,
          -0.15833333333333335,
          0.10833333333333334,
          -0.005555555555555585,
          -0.016666666666666663,
          -0.022222222222222227,
          -0.11500000000000002,
          -0.22499999999999998,
          -0.04431818181818182,
          -0.05000000000000001,
          0.15703703703703706,
          -0.07564102564102564,
          0.15641025641025644,
          0.0688425925925926,
          0.023731060606060596,
          0.16000000000000003,
          -0.016666666666666666,
          -0.06374458874458876,
          -0.11096491228070175,
          -0.03636363636363637,
          -0.08750000000000002,
          0.07999999999999999,
          -0.001515151515151525,
          -0.12878787878787878,
          -0.16666666666666666,
          -0.06833333333333334,
          0.17916666666666667,
          -0.06346153846153847,
          0.4,
          -0.029166666666666664,
          -0.04166666666666668,
          0.18541666666666667,
          0.25,
          0.05868055555555555,
          -0.06822916666666667,
          -0.05138888888888889,
          0.13416666666666668,
          0.15583333333333332,
          -0.03833333333333335,
          -0.13560606060606062,
          -0.08314814814814817,
          0.09090909090909093,
          -0.10999999999999999,
          0.06677489177489178,
          0.05000000000000002,
          0.0977272727272727,
          0.15189393939393936,
          0.15904761904761902,
          0.20952380952380953,
          0.20952380952380953,
          -0.12637310606060606,
          -0.09933155080213903,
          -0.12954545454545455,
          -0.08560606060606062,
          -0.10423351158645276,
          0.08055555555555559,
          0.08409090909090908,
          0.08055555555555559,
          0.09411764705882353,
          0.14727272727272728,
          0,
          -0.03207070707070709,
          0.10416666666666664,
          0.06875000000000002,
          0.017045454545454537,
          0.11212121212121211,
          0.026136363636363635,
          -0.16458333333333333,
          -0.2354166666666667,
          -0.225,
          -0.09791666666666667,
          -0.17045454545454547,
          -0.23125,
          -0.2017857142857143,
          -0.15000000000000002,
          -0.2354166666666667,
          -0.2265625,
          -0.12954545454545452,
          0.09166666666666667,
          -0.09791666666666667,
          -0.03958333333333334,
          -0.0234375,
          -0.078921568627451,
          -0.030000000000000016,
          0.0178030303030303,
          -0.017857142857142856,
          0.02543859649122807,
          0.10992063492063493,
          0.054166666666666675,
          -0.3,
          0,
          -0.03333333333333333,
          -0.06249999999999999,
          -0.19999999999999998,
          -0.03333333333333333,
          -0.16666666666666666,
          0,
          -0.05,
          -0.03333333333333333,
          0.17666666666666667,
          0.17666666666666667,
          0.22083333333333333,
          0.12666666666666665,
          -0.11333333333333333,
          0.17666666666666667,
          0.01495535714285713,
          -0.03194444444444445,
          0.06215277777777778,
          0.07402597402597401,
          -0.022916666666666675,
          0.19285714285714284,
          0.08305555555555556,
          -0.04503205128205128,
          -0.08469387755102041,
          0.019117647058823514,
          -0.004166666666666673,
          0.007999999999999998,
          0.02476851851851852,
          0.025,
          0.125,
          -0.25,
          0.06643518518518518,
          0.0026960784313725494,
          0.25,
          0.08333333333333333,
          0.15476190476190477,
          0.15476190476190477,
          0.4,
          -0.11898148148148148,
          0.046887125220458556,
          0.06271604938271605,
          -0.009240362811791388,
          0.04367283950617285,
          0.05018817204301076,
          0.1833333333333333,
          0.19999999999999996,
          0.13333333333333333,
          0.07777777777777778,
          0.15,
          0.021978021978021976,
          0.10992063492063493,
          0.1037037037037037,
          0.25,
          -0.020439153439153448,
          -0.019868326118326108,
          -0.07361111111111111,
          -0.015934650455927058,
          -0.020887445887445885,
          0.010714285714285713,
          0.07195767195767197,
          -0.012169312169312167,
          -0.02011554621848739,
          -0.007023809523809522,
          0.013132440476190473,
          0.07499999999999998,
          0.08333333333333331,
          0.002380952380952382,
          0.3,
          0.008333333333333337,
          -0.05059523809523811,
          -0.037648809523809515,
          -0.16249999999999998,
          0.053030303030303025,
          0.0058333333333333405,
          0.015873015873015876,
          0.12333333333333334,
          -0.2,
          0.045000000000000005,
          -0.011111111111111112,
          0,
          0.095,
          0.018181818181818184,
          -0.029137150728059825,
          -0.09545454545454547,
          0.05341155057064146,
          -0.006623376623376633,
          -0.044559228650137735,
          -0.04791666666666667,
          -0.018623737373737372,
          -0.06901515151515152,
          0.0003282828282828299,
          -0.08666666666666667,
          -0.10666666666666666,
          -0.42500000000000004,
          0.011111111111111108,
          0.06136363636363637,
          0.062424242424242424,
          0.1787878787878788,
          -0.10833333333333334,
          0.02833333333333334,
          -0.23564814814814816,
          0.1,
          -0.1886904761904762,
          -0.01153846153846154,
          -0.1,
          -0.10935374149659863,
          0.013636363636363646,
          -0.1150132275132275,
          0.03571428571428571,
          0.015476190476190473,
          -0.17833333333333337,
          0.05119047619047619,
          0.06875,
          0.03333333333333333,
          0.09444444444444444,
          0.07857142857142858,
          0.05333333333333334,
          0.02727272727272727,
          0,
          0.02727272727272727,
          0,
          0,
          0.02,
          0,
          0,
          0.05454545454545454,
          0,
          0.2333333333333333,
          0,
          0,
          -0.1,
          0,
          0.4,
          -0.14166666666666666,
          0.025657894736842112,
          0,
          -0.09166666666666666,
          0.4,
          0.15,
          0.25,
          0.12685185185185185,
          0.10674603174603177,
          0.13333333333333333,
          0,
          0.1375,
          0.08750000000000001,
          0,
          0,
          0.041666666666666664,
          0.030000000000000016,
          -0.15000000000000002,
          0.4,
          -0.04285714285714286,
          -0.019999999999999997,
          0.02499999999999998,
          0.014583333333333337,
          0.30000000000000004,
          0.12407407407407407,
          0.4,
          0.18,
          0,
          0,
          -0.16666666666666666,
          -0.061111111111111116,
          0,
          0.016666666666666677,
          0.175,
          0.16818181818181818,
          0.06944444444444443,
          0.2,
          -0.03531746031746032,
          -0.2625,
          0.4,
          -0.005555555555555559,
          0.35,
          0,
          0.14285714285714285,
          0,
          3.0839528461809902e-18,
          0.0045454545454545435,
          -0.05,
          -0.24000000000000005,
          0.002797619047619046,
          0.35000000000000003,
          0.06000000000000001,
          0.4,
          -0.1,
          0.4,
          0,
          0.13636363636363635,
          0,
          0.10000000000000002,
          0.25,
          0.18,
          0,
          -0.11785714285714288,
          0,
          0.033333333333333305,
          0,
          0.12499999999999999,
          -0.1,
          0.15,
          0,
          0.16677489177489177,
          0.12000000000000002,
          0.13333333333333333,
          -0.29166666666666663,
          0.05,
          0,
          0.04999999999999996,
          0.032457983193277314,
          -0.06666666666666667,
          0,
          0.2,
          0.08512396694214876,
          0.125,
          0,
          0,
          0.3,
          -0.07083333333333333,
          0.08666666666666667,
          0.13333333333333333,
          -0.4,
          0.13333333333333333,
          -0.05833333333333333,
          0.2,
          0.4,
          -0.12113095238095238,
          0,
          0.2,
          -0.05625,
          0.03333333333333329,
          0.35,
          0,
          -0.05,
          0.16666666666666666,
          0,
          0.05208333333333333,
          0,
          -0.006249999999999999,
          0.2,
          -0.26296296296296295,
          -0.04679487179487179,
          0.08,
          -0.1,
          0,
          -0.16666666666666666,
          -0.05000000000000002,
          0.06666666666666668,
          0.2,
          0.13333333333333333,
          0,
          0.2,
          0.45,
          -0.04179197994987469,
          0.1909090909090909,
          0.25,
          0,
          0.2416666666666667,
          0,
          0.4,
          -0.11666666666666668,
          0.1,
          0,
          0,
          0.4,
          0.5,
          0.10357142857142856,
          0.09583333333333333,
          0.0013888888888888885,
          0.20000000000000004,
          0.4,
          0.20166666666666666,
          0,
          0,
          -0.14166666666666666,
          0,
          0.2833333333333333,
          0.4166666666666667,
          0.04999999999999996,
          0.01372549019607844,
          -0.08333333333333333,
          0.4,
          0.25,
          0,
          0.13928571428571426,
          0.25,
          -0.041666666666666664,
          0.45,
          0.050297619047619035,
          0.041666666666666664,
          0.15000000000000002,
          -0.2916666666666667,
          0,
          0,
          0.4,
          0.15000000000000002,
          -0.36,
          0.025,
          0.12,
          0.12222222222222223,
          -0.07777777777777777,
          -0.125,
          0.18809523809523812,
          0.11666666666666668,
          0.4,
          0.007738095238095231,
          0.15,
          -0.08333333333333333,
          -0.03272727272727273,
          0.2,
          -2.7755575615628914e-17,
          -0.09166666666666667,
          0.09687499999999999,
          0.30000000000000004,
          0,
          0,
          -0.31,
          -0.009523809523809526,
          0.4,
          0.13636363636363635,
          0,
          0.02777777777777778,
          0.15,
          0.15000000000000002,
          -0.046708683473389356,
          -0.027777777777777776,
          0.25,
          0,
          0.075,
          0.4,
          -0.03809523809523809,
          0,
          0.16666666666666666,
          -0.029901960784313723,
          0,
          -0.15833333333333333,
          0.02777777777777778,
          0.14530303030303027,
          -0.125,
          0.4,
          0.2,
          0.18888888888888888,
          0,
          0,
          0,
          0.1,
          0,
          -0.13333333333333333,
          0,
          0.11458333333333334,
          0.05,
          -0.1,
          0.2,
          -0.035714285714285726,
          -0.275,
          0.1575757575757576,
          0.225,
          0.125,
          0,
          -0.028571428571428574,
          0.061111111111111116,
          -0.18055555555555558,
          0.02727272727272728,
          0.002083333333333333,
          0.0875,
          0,
          0.009523809523809521,
          0.021590909090909084,
          0,
          0.275,
          -0.0055555555555555575,
          -0.010000000000000004,
          0.16666666666666666,
          0.1393939393939394,
          0.007407407407407406,
          0.09999999999999999,
          -0.08571428571428573,
          -0.035330578512396696,
          0.2571428571428572,
          0.26666666666666666,
          0,
          0.2,
          0.08512396694214878,
          -0.23571428571428574,
          0.024999999999999994,
          -0.1142857142857143,
          0.027083333333333334,
          0,
          -0.03125,
          -0.02499999999999998,
          -0.061538461538461535,
          0.07777777777777778,
          0.048257575757575756,
          0.05183725005153579,
          0.05825622294372295,
          0.045888661899897897,
          -0.09375,
          0.15384615384615385,
          0.048051948051948054
         ],
         "yaxis": "y"
        }
       ],
       "layout": {
        "barmode": "relative",
        "legend": {
         "tracegroupgap": 0
        },
        "template": {
         "data": {
          "bar": [
           {
            "error_x": {
             "color": "#2a3f5f"
            },
            "error_y": {
             "color": "#2a3f5f"
            },
            "marker": {
             "line": {
              "color": "#E5ECF6",
              "width": 0.5
             },
             "pattern": {
              "fillmode": "overlay",
              "size": 10,
              "solidity": 0.2
             }
            },
            "type": "bar"
           }
          ],
          "barpolar": [
           {
            "marker": {
             "line": {
              "color": "#E5ECF6",
              "width": 0.5
             },
             "pattern": {
              "fillmode": "overlay",
              "size": 10,
              "solidity": 0.2
             }
            },
            "type": "barpolar"
           }
          ],
          "carpet": [
           {
            "aaxis": {
             "endlinecolor": "#2a3f5f",
             "gridcolor": "white",
             "linecolor": "white",
             "minorgridcolor": "white",
             "startlinecolor": "#2a3f5f"
            },
            "baxis": {
             "endlinecolor": "#2a3f5f",
             "gridcolor": "white",
             "linecolor": "white",
             "minorgridcolor": "white",
             "startlinecolor": "#2a3f5f"
            },
            "type": "carpet"
           }
          ],
          "choropleth": [
           {
            "colorbar": {
             "outlinewidth": 0,
             "ticks": ""
            },
            "type": "choropleth"
           }
          ],
          "contour": [
           {
            "colorbar": {
             "outlinewidth": 0,
             "ticks": ""
            },
            "colorscale": [
             [
              0,
              "#0d0887"
             ],
             [
              0.1111111111111111,
              "#46039f"
             ],
             [
              0.2222222222222222,
              "#7201a8"
             ],
             [
              0.3333333333333333,
              "#9c179e"
             ],
             [
              0.4444444444444444,
              "#bd3786"
             ],
             [
              0.5555555555555556,
              "#d8576b"
             ],
             [
              0.6666666666666666,
              "#ed7953"
             ],
             [
              0.7777777777777778,
              "#fb9f3a"
             ],
             [
              0.8888888888888888,
              "#fdca26"
             ],
             [
              1,
              "#f0f921"
             ]
            ],
            "type": "contour"
           }
          ],
          "contourcarpet": [
           {
            "colorbar": {
             "outlinewidth": 0,
             "ticks": ""
            },
            "type": "contourcarpet"
           }
          ],
          "heatmap": [
           {
            "colorbar": {
             "outlinewidth": 0,
             "ticks": ""
            },
            "colorscale": [
             [
              0,
              "#0d0887"
             ],
             [
              0.1111111111111111,
              "#46039f"
             ],
             [
              0.2222222222222222,
              "#7201a8"
             ],
             [
              0.3333333333333333,
              "#9c179e"
             ],
             [
              0.4444444444444444,
              "#bd3786"
             ],
             [
              0.5555555555555556,
              "#d8576b"
             ],
             [
              0.6666666666666666,
              "#ed7953"
             ],
             [
              0.7777777777777778,
              "#fb9f3a"
             ],
             [
              0.8888888888888888,
              "#fdca26"
             ],
             [
              1,
              "#f0f921"
             ]
            ],
            "type": "heatmap"
           }
          ],
          "heatmapgl": [
           {
            "colorbar": {
             "outlinewidth": 0,
             "ticks": ""
            },
            "colorscale": [
             [
              0,
              "#0d0887"
             ],
             [
              0.1111111111111111,
              "#46039f"
             ],
             [
              0.2222222222222222,
              "#7201a8"
             ],
             [
              0.3333333333333333,
              "#9c179e"
             ],
             [
              0.4444444444444444,
              "#bd3786"
             ],
             [
              0.5555555555555556,
              "#d8576b"
             ],
             [
              0.6666666666666666,
              "#ed7953"
             ],
             [
              0.7777777777777778,
              "#fb9f3a"
             ],
             [
              0.8888888888888888,
              "#fdca26"
             ],
             [
              1,
              "#f0f921"
             ]
            ],
            "type": "heatmapgl"
           }
          ],
          "histogram": [
           {
            "marker": {
             "pattern": {
              "fillmode": "overlay",
              "size": 10,
              "solidity": 0.2
             }
            },
            "type": "histogram"
           }
          ],
          "histogram2d": [
           {
            "colorbar": {
             "outlinewidth": 0,
             "ticks": ""
            },
            "colorscale": [
             [
              0,
              "#0d0887"
             ],
             [
              0.1111111111111111,
              "#46039f"
             ],
             [
              0.2222222222222222,
              "#7201a8"
             ],
             [
              0.3333333333333333,
              "#9c179e"
             ],
             [
              0.4444444444444444,
              "#bd3786"
             ],
             [
              0.5555555555555556,
              "#d8576b"
             ],
             [
              0.6666666666666666,
              "#ed7953"
             ],
             [
              0.7777777777777778,
              "#fb9f3a"
             ],
             [
              0.8888888888888888,
              "#fdca26"
             ],
             [
              1,
              "#f0f921"
             ]
            ],
            "type": "histogram2d"
           }
          ],
          "histogram2dcontour": [
           {
            "colorbar": {
             "outlinewidth": 0,
             "ticks": ""
            },
            "colorscale": [
             [
              0,
              "#0d0887"
             ],
             [
              0.1111111111111111,
              "#46039f"
             ],
             [
              0.2222222222222222,
              "#7201a8"
             ],
             [
              0.3333333333333333,
              "#9c179e"
             ],
             [
              0.4444444444444444,
              "#bd3786"
             ],
             [
              0.5555555555555556,
              "#d8576b"
             ],
             [
              0.6666666666666666,
              "#ed7953"
             ],
             [
              0.7777777777777778,
              "#fb9f3a"
             ],
             [
              0.8888888888888888,
              "#fdca26"
             ],
             [
              1,
              "#f0f921"
             ]
            ],
            "type": "histogram2dcontour"
           }
          ],
          "mesh3d": [
           {
            "colorbar": {
             "outlinewidth": 0,
             "ticks": ""
            },
            "type": "mesh3d"
           }
          ],
          "parcoords": [
           {
            "line": {
             "colorbar": {
              "outlinewidth": 0,
              "ticks": ""
             }
            },
            "type": "parcoords"
           }
          ],
          "pie": [
           {
            "automargin": true,
            "type": "pie"
           }
          ],
          "scatter": [
           {
            "fillpattern": {
             "fillmode": "overlay",
             "size": 10,
             "solidity": 0.2
            },
            "type": "scatter"
           }
          ],
          "scatter3d": [
           {
            "line": {
             "colorbar": {
              "outlinewidth": 0,
              "ticks": ""
             }
            },
            "marker": {
             "colorbar": {
              "outlinewidth": 0,
              "ticks": ""
             }
            },
            "type": "scatter3d"
           }
          ],
          "scattercarpet": [
           {
            "marker": {
             "colorbar": {
              "outlinewidth": 0,
              "ticks": ""
             }
            },
            "type": "scattercarpet"
           }
          ],
          "scattergeo": [
           {
            "marker": {
             "colorbar": {
              "outlinewidth": 0,
              "ticks": ""
             }
            },
            "type": "scattergeo"
           }
          ],
          "scattergl": [
           {
            "marker": {
             "colorbar": {
              "outlinewidth": 0,
              "ticks": ""
             }
            },
            "type": "scattergl"
           }
          ],
          "scattermapbox": [
           {
            "marker": {
             "colorbar": {
              "outlinewidth": 0,
              "ticks": ""
             }
            },
            "type": "scattermapbox"
           }
          ],
          "scatterpolar": [
           {
            "marker": {
             "colorbar": {
              "outlinewidth": 0,
              "ticks": ""
             }
            },
            "type": "scatterpolar"
           }
          ],
          "scatterpolargl": [
           {
            "marker": {
             "colorbar": {
              "outlinewidth": 0,
              "ticks": ""
             }
            },
            "type": "scatterpolargl"
           }
          ],
          "scatterternary": [
           {
            "marker": {
             "colorbar": {
              "outlinewidth": 0,
              "ticks": ""
             }
            },
            "type": "scatterternary"
           }
          ],
          "surface": [
           {
            "colorbar": {
             "outlinewidth": 0,
             "ticks": ""
            },
            "colorscale": [
             [
              0,
              "#0d0887"
             ],
             [
              0.1111111111111111,
              "#46039f"
             ],
             [
              0.2222222222222222,
              "#7201a8"
             ],
             [
              0.3333333333333333,
              "#9c179e"
             ],
             [
              0.4444444444444444,
              "#bd3786"
             ],
             [
              0.5555555555555556,
              "#d8576b"
             ],
             [
              0.6666666666666666,
              "#ed7953"
             ],
             [
              0.7777777777777778,
              "#fb9f3a"
             ],
             [
              0.8888888888888888,
              "#fdca26"
             ],
             [
              1,
              "#f0f921"
             ]
            ],
            "type": "surface"
           }
          ],
          "table": [
           {
            "cells": {
             "fill": {
              "color": "#EBF0F8"
             },
             "line": {
              "color": "white"
             }
            },
            "header": {
             "fill": {
              "color": "#C8D4E3"
             },
             "line": {
              "color": "white"
             }
            },
            "type": "table"
           }
          ]
         },
         "layout": {
          "annotationdefaults": {
           "arrowcolor": "#2a3f5f",
           "arrowhead": 0,
           "arrowwidth": 1
          },
          "autotypenumbers": "strict",
          "coloraxis": {
           "colorbar": {
            "outlinewidth": 0,
            "ticks": ""
           }
          },
          "colorscale": {
           "diverging": [
            [
             0,
             "#8e0152"
            ],
            [
             0.1,
             "#c51b7d"
            ],
            [
             0.2,
             "#de77ae"
            ],
            [
             0.3,
             "#f1b6da"
            ],
            [
             0.4,
             "#fde0ef"
            ],
            [
             0.5,
             "#f7f7f7"
            ],
            [
             0.6,
             "#e6f5d0"
            ],
            [
             0.7,
             "#b8e186"
            ],
            [
             0.8,
             "#7fbc41"
            ],
            [
             0.9,
             "#4d9221"
            ],
            [
             1,
             "#276419"
            ]
           ],
           "sequential": [
            [
             0,
             "#0d0887"
            ],
            [
             0.1111111111111111,
             "#46039f"
            ],
            [
             0.2222222222222222,
             "#7201a8"
            ],
            [
             0.3333333333333333,
             "#9c179e"
            ],
            [
             0.4444444444444444,
             "#bd3786"
            ],
            [
             0.5555555555555556,
             "#d8576b"
            ],
            [
             0.6666666666666666,
             "#ed7953"
            ],
            [
             0.7777777777777778,
             "#fb9f3a"
            ],
            [
             0.8888888888888888,
             "#fdca26"
            ],
            [
             1,
             "#f0f921"
            ]
           ],
           "sequentialminus": [
            [
             0,
             "#0d0887"
            ],
            [
             0.1111111111111111,
             "#46039f"
            ],
            [
             0.2222222222222222,
             "#7201a8"
            ],
            [
             0.3333333333333333,
             "#9c179e"
            ],
            [
             0.4444444444444444,
             "#bd3786"
            ],
            [
             0.5555555555555556,
             "#d8576b"
            ],
            [
             0.6666666666666666,
             "#ed7953"
            ],
            [
             0.7777777777777778,
             "#fb9f3a"
            ],
            [
             0.8888888888888888,
             "#fdca26"
            ],
            [
             1,
             "#f0f921"
            ]
           ]
          },
          "colorway": [
           "#636efa",
           "#EF553B",
           "#00cc96",
           "#ab63fa",
           "#FFA15A",
           "#19d3f3",
           "#FF6692",
           "#B6E880",
           "#FF97FF",
           "#FECB52"
          ],
          "font": {
           "color": "#2a3f5f"
          },
          "geo": {
           "bgcolor": "white",
           "lakecolor": "white",
           "landcolor": "#E5ECF6",
           "showlakes": true,
           "showland": true,
           "subunitcolor": "white"
          },
          "hoverlabel": {
           "align": "left"
          },
          "hovermode": "closest",
          "mapbox": {
           "style": "light"
          },
          "paper_bgcolor": "white",
          "plot_bgcolor": "#E5ECF6",
          "polar": {
           "angularaxis": {
            "gridcolor": "white",
            "linecolor": "white",
            "ticks": ""
           },
           "bgcolor": "#E5ECF6",
           "radialaxis": {
            "gridcolor": "white",
            "linecolor": "white",
            "ticks": ""
           }
          },
          "scene": {
           "xaxis": {
            "backgroundcolor": "#E5ECF6",
            "gridcolor": "white",
            "gridwidth": 2,
            "linecolor": "white",
            "showbackground": true,
            "ticks": "",
            "zerolinecolor": "white"
           },
           "yaxis": {
            "backgroundcolor": "#E5ECF6",
            "gridcolor": "white",
            "gridwidth": 2,
            "linecolor": "white",
            "showbackground": true,
            "ticks": "",
            "zerolinecolor": "white"
           },
           "zaxis": {
            "backgroundcolor": "#E5ECF6",
            "gridcolor": "white",
            "gridwidth": 2,
            "linecolor": "white",
            "showbackground": true,
            "ticks": "",
            "zerolinecolor": "white"
           }
          },
          "shapedefaults": {
           "line": {
            "color": "#2a3f5f"
           }
          },
          "ternary": {
           "aaxis": {
            "gridcolor": "white",
            "linecolor": "white",
            "ticks": ""
           },
           "baxis": {
            "gridcolor": "white",
            "linecolor": "white",
            "ticks": ""
           },
           "bgcolor": "#E5ECF6",
           "caxis": {
            "gridcolor": "white",
            "linecolor": "white",
            "ticks": ""
           }
          },
          "title": {
           "x": 0.05
          },
          "xaxis": {
           "automargin": true,
           "gridcolor": "white",
           "linecolor": "white",
           "ticks": "",
           "title": {
            "standoff": 15
           },
           "zerolinecolor": "white",
           "zerolinewidth": 2
          },
          "yaxis": {
           "automargin": true,
           "gridcolor": "white",
           "linecolor": "white",
           "ticks": "",
           "title": {
            "standoff": 15
           },
           "zerolinecolor": "white",
           "zerolinewidth": 2
          }
         }
        },
        "title": {
         "text": "Sentiment Analysis of News Articles"
        },
        "xaxis": {
         "anchor": "y",
         "domain": [
          0,
          1
         ],
         "title": {
          "text": "index"
         }
        },
        "yaxis": {
         "anchor": "x",
         "domain": [
          0,
          1
         ],
         "title": {
          "text": "sentiment_score"
         }
        }
       }
      }
     },
     "metadata": {},
     "output_type": "display_data"
    }
   ],
   "source": [
    "px.bar(articles_df, x='index', y='sentiment_score', title='Sentiment Analysis of News Articles')"
   ]
  },
  {
   "cell_type": "code",
   "execution_count": 225,
   "metadata": {},
   "outputs": [
    {
     "data": {
      "application/vnd.plotly.v1+json": {
       "config": {
        "plotlyServerURL": "https://plot.ly"
       },
       "data": [
        {
         "alignmentgroup": "True",
         "hovertemplate": "index=%{x}<br>sentiment_modality=%{y}<extra></extra>",
         "legendgroup": "",
         "marker": {
          "color": "#636efa",
          "pattern": {
           "shape": ""
          }
         },
         "name": "",
         "offsetgroup": "",
         "orientation": "v",
         "showlegend": false,
         "textposition": "auto",
         "type": "bar",
         "x": [
          "article 728",
          "article 638",
          "article 214",
          "article 796",
          "article 596",
          "article 347",
          "article 501",
          "article 751",
          "article 564",
          "article 227",
          "article 771",
          "article 784",
          "article 496",
          "article 611",
          "article 473",
          "article 479",
          "article 380",
          "article 301",
          "article 835",
          "article 650",
          "article 641",
          "article 103",
          "article 226",
          "article 632",
          "article 755",
          "article 152",
          "article 681",
          "article 210",
          "article 639",
          "article 748",
          "article 500",
          "article 666",
          "article 47",
          "article 367",
          "article 114",
          "article 795",
          "article 732",
          "article 736",
          "article 657",
          "article 552",
          "article 143",
          "article 725",
          "article 723",
          "article 315",
          "article 503",
          "article 750",
          "article 198",
          "article 3",
          "article 478",
          "article 722",
          "article 137",
          "article 84",
          "article 105",
          "article 534",
          "article 331",
          "article 192",
          "article 802",
          "article 153",
          "article 111",
          "article 314",
          "article 729",
          "article 97",
          "article 586",
          "article 497",
          "article 526",
          "article 444",
          "article 52",
          "article 634",
          "article 456",
          "article 591",
          "article 695",
          "article 66",
          "article 474",
          "article 543",
          "article 547",
          "article 421",
          "article 312",
          "article 98",
          "article 230",
          "article 424",
          "article 42",
          "article 58",
          "article 768",
          "article 542",
          "article 112",
          "article 509",
          "article 472",
          "article 120",
          "article 825",
          "article 671",
          "article 720",
          "article 136",
          "article 782",
          "article 652",
          "article 545",
          "article 731",
          "article 60",
          "article 186",
          "article 304",
          "article 703",
          "article 151",
          "article 220",
          "article 404",
          "article 38",
          "article 406",
          "article 27",
          "article 196",
          "article 758",
          "article 69",
          "article 531",
          "article 342",
          "article 154",
          "article 317",
          "article 448",
          "article 502",
          "article 4",
          "article 183",
          "article 741",
          "article 647",
          "article 237",
          "article 35",
          "article 627",
          "article 79",
          "article 617",
          "article 16",
          "article 492",
          "article 222",
          "article 622",
          "article 814",
          "article 264",
          "article 568",
          "article 293",
          "article 275",
          "article 263",
          "article 409",
          "article 791",
          "article 630",
          "article 166",
          "article 330",
          "article 467",
          "article 5",
          "article 305",
          "article 399",
          "article 574",
          "article 316",
          "article 206",
          "article 694",
          "article 420",
          "article 779",
          "article 68",
          "article 408",
          "article 619",
          "article 823",
          "article 401",
          "article 211",
          "article 628",
          "article 519",
          "article 605",
          "article 442",
          "article 517",
          "article 449",
          "article 702",
          "article 284",
          "article 706",
          "article 319",
          "article 488",
          "article 821",
          "article 640",
          "article 724",
          "article 327",
          "article 659",
          "article 468",
          "article 267",
          "article 482",
          "article 612",
          "article 740",
          "article 248",
          "article 762",
          "article 443",
          "article 701",
          "article 117",
          "article 2",
          "article 302",
          "article 789",
          "article 278",
          "article 471",
          "article 216",
          "article 515",
          "article 131",
          "article 254",
          "article 672",
          "article 72",
          "article 188",
          "article 271",
          "article 413",
          "article 498",
          "article 626",
          "article 663",
          "article 277",
          "article 504",
          "article 235",
          "article 734",
          "article 256",
          "article 295",
          "article 91",
          "article 177",
          "article 477",
          "article 410",
          "article 403",
          "article 747",
          "article 311",
          "article 270",
          "article 246",
          "article 765",
          "article 41",
          "article 296",
          "article 707",
          "article 636",
          "article 391",
          "article 134",
          "article 606",
          "article 465",
          "article 187",
          "article 459",
          "article 306",
          "article 780",
          "article 668",
          "article 746",
          "article 363",
          "article 273",
          "article 658",
          "article 544",
          "article 794",
          "article 129",
          "article 778",
          "article 328",
          "article 511",
          "article 593",
          "article 22",
          "article 680",
          "article 297",
          "article 688",
          "article 109",
          "article 115",
          "article 349",
          "article 587",
          "article 371",
          "article 59",
          "article 164",
          "article 686",
          "article 493",
          "article 251",
          "article 737",
          "article 243",
          "article 786",
          "article 546",
          "article 272",
          "article 221",
          "article 17",
          "article 832",
          "article 781",
          "article 179",
          "article 247",
          "article 121",
          "article 423",
          "article 760",
          "article 595",
          "article 730",
          "article 621",
          "article 439",
          "article 285",
          "article 464",
          "article 113",
          "article 491",
          "article 383",
          "article 550",
          "article 100",
          "article 332",
          "article 12",
          "article 6",
          "article 684",
          "article 182",
          "article 483",
          "article 603",
          "article 390",
          "article 236",
          "article 756",
          "article 48",
          "article 377",
          "article 578",
          "article 690",
          "article 241",
          "article 742",
          "article 168",
          "article 165",
          "article 476",
          "article 837",
          "article 807",
          "article 565",
          "article 335",
          "article 808",
          "article 340",
          "article 675",
          "article 146",
          "article 716",
          "article 141",
          "article 529",
          "article 23",
          "article 514",
          "article 631",
          "article 201",
          "article 646",
          "article 643",
          "article 36",
          "article 743",
          "article 447",
          "article 51",
          "article 217",
          "article 735",
          "article 294",
          "article 836",
          "article 683",
          "article 437",
          "article 398",
          "article 451",
          "article 820",
          "article 667",
          "article 815",
          "article 505",
          "article 798",
          "article 19",
          "article 229",
          "article 788",
          "article 577",
          "article 157",
          "article 561",
          "article 455",
          "article 354",
          "article 195",
          "article 422",
          "article 65",
          "article 810",
          "article 826",
          "article 560",
          "article 73",
          "article 18",
          "article 554",
          "article 185",
          "article 623",
          "article 445",
          "article 95",
          "article 269",
          "article 357",
          "article 454",
          "article 14",
          "article 204",
          "article 309",
          "article 745",
          "article 191",
          "article 162",
          "article 20",
          "article 801",
          "article 155",
          "article 24",
          "article 385",
          "article 353",
          "article 268",
          "article 387",
          "article 149",
          "article 566",
          "article 180",
          "article 242",
          "article 34",
          "article 334",
          "article 378",
          "article 405",
          "article 190",
          "article 286",
          "article 770",
          "article 475",
          "article 508",
          "article 71",
          "article 523",
          "article 767",
          "article 604",
          "article 766",
          "article 615",
          "article 257",
          "article 158",
          "article 691",
          "article 644",
          "article 620",
          "article 670",
          "article 581",
          "article 233",
          "article 244",
          "article 588",
          "article 489",
          "article 382",
          "article 601",
          "article 345",
          "article 432",
          "article 370",
          "article 576",
          "article 571",
          "article 433",
          "article 389",
          "article 661",
          "article 225",
          "article 28",
          "article 161",
          "article 77",
          "article 774",
          "article 416",
          "article 175",
          "article 288",
          "article 799",
          "article 754",
          "article 361",
          "article 249",
          "article 705",
          "article 548",
          "article 527",
          "article 96",
          "article 123",
          "article 45",
          "article 499",
          "article 757",
          "article 224",
          "article 629",
          "article 64",
          "article 205",
          "article 323",
          "article 37",
          "article 255",
          "article 839",
          "article 266",
          "article 238",
          "article 819",
          "article 457",
          "article 739",
          "article 80",
          "article 379",
          "article 797",
          "article 265",
          "article 228",
          "article 584",
          "article 258",
          "article 373",
          "article 549",
          "article 104",
          "article 610",
          "article 135",
          "article 358",
          "article 414",
          "article 239",
          "article 773",
          "article 207",
          "article 364",
          "article 282",
          "article 570",
          "article 89",
          "article 132",
          "article 785",
          "article 698",
          "article 318",
          "article 645",
          "article 664",
          "article 351",
          "article 343",
          "article 116",
          "article 816",
          "article 541",
          "article 57",
          "article 572",
          "article 662",
          "article 337",
          "article 75",
          "article 792",
          "article 156",
          "article 194",
          "article 184",
          "article 54",
          "article 709",
          "article 213",
          "article 300",
          "article 74",
          "article 33",
          "article 753",
          "article 0",
          "article 520",
          "article 346",
          "article 101",
          "article 840",
          "article 843",
          "article 108",
          "article 651",
          "article 530",
          "article 124",
          "article 81",
          "article 93",
          "article 150",
          "article 303",
          "article 393",
          "article 147",
          "article 580",
          "article 648",
          "article 130",
          "article 374",
          "article 290",
          "article 252",
          "article 394",
          "article 769",
          "article 341",
          "article 833",
          "article 538",
          "article 700",
          "article 575",
          "article 189",
          "article 82",
          "article 809",
          "article 119",
          "article 46",
          "article 102",
          "article 336",
          "article 287",
          "article 590",
          "article 513",
          "article 775",
          "article 506",
          "article 446",
          "article 126",
          "article 88",
          "article 608",
          "article 181",
          "article 480",
          "article 25",
          "article 553",
          "article 559",
          "article 713",
          "article 86",
          "article 333",
          "article 388",
          "article 83",
          "article 777",
          "article 800",
          "article 360",
          "article 209",
          "article 260",
          "article 375",
          "article 231",
          "article 223",
          "article 1",
          "article 61",
          "article 614",
          "article 174",
          "article 160",
          "article 240",
          "article 436",
          "article 148",
          "article 259",
          "article 618",
          "article 764",
          "article 40",
          "article 602",
          "article 127",
          "article 128",
          "article 714",
          "article 589",
          "article 711",
          "article 704",
          "article 352",
          "article 32",
          "article 313",
          "article 710",
          "article 232",
          "article 253",
          "article 712",
          "article 321",
          "article 322",
          "article 749",
          "article 715",
          "article 717",
          "article 718",
          "article 324",
          "article 320",
          "article 31",
          "article 283",
          "article 733",
          "article 289",
          "article 281",
          "article 29",
          "article 291",
          "article 292",
          "article 280",
          "article 719",
          "article 298",
          "article 299",
          "article 262",
          "article 307",
          "article 721",
          "article 308",
          "article 744",
          "article 26",
          "article 759",
          "article 726",
          "article 172",
          "article 761",
          "article 811",
          "article 813",
          "article 133",
          "article 13",
          "article 817",
          "article 818",
          "article 125",
          "article 122",
          "article 827",
          "article 828",
          "article 829",
          "article 830",
          "article 831",
          "article 138",
          "article 834",
          "article 11",
          "article 838",
          "article 107",
          "article 841",
          "article 842",
          "article 844",
          "article 85",
          "article 87",
          "article 9",
          "article 90",
          "article 92",
          "article 94",
          "article 10",
          "article 118",
          "article 76",
          "article 139",
          "article 806",
          "article 215",
          "article 763",
          "article 212",
          "article 21",
          "article 208",
          "article 203",
          "article 202",
          "article 772",
          "article 199",
          "article 197",
          "article 776",
          "article 193",
          "article 78",
          "article 140",
          "article 176",
          "article 173",
          "article 171",
          "article 170",
          "article 169",
          "article 790",
          "article 163",
          "article 15",
          "article 8",
          "article 145",
          "article 144",
          "article 803",
          "article 804",
          "article 805",
          "article 783",
          "article 325",
          "article 7",
          "article 70",
          "article 609",
          "article 607",
          "article 450",
          "article 452",
          "article 453",
          "article 458",
          "article 441",
          "article 600",
          "article 461",
          "article 462",
          "article 594",
          "article 592",
          "article 466",
          "article 469",
          "article 597",
          "article 440",
          "article 44",
          "article 613",
          "article 425",
          "article 63",
          "article 426",
          "article 427",
          "article 428",
          "article 429",
          "article 625",
          "article 326",
          "article 43",
          "article 430",
          "article 431",
          "article 434",
          "article 435",
          "article 616",
          "article 438",
          "article 470",
          "article 419",
          "article 585",
          "article 582",
          "article 558",
          "article 557",
          "article 555",
          "article 521",
          "article 522",
          "article 551",
          "article 56",
          "article 524",
          "article 528",
          "article 53",
          "article 532",
          "article 533",
          "article 537",
          "article 540",
          "article 525",
          "article 518",
          "article 562",
          "article 563",
          "article 485",
          "article 486",
          "article 487",
          "article 49",
          "article 490",
          "article 494",
          "article 573",
          "article 495",
          "article 50",
          "article 507",
          "article 569",
          "article 510",
          "article 567",
          "article 512",
          "article 516",
          "article 484",
          "article 633",
          "article 99",
          "article 635",
          "article 348",
          "article 655",
          "article 350",
          "article 386",
          "article 384",
          "article 381",
          "article 682",
          "article 355",
          "article 356",
          "article 660",
          "article 679",
          "article 67",
          "article 376",
          "article 677",
          "article 359",
          "article 417",
          "article 665",
          "article 369",
          "article 674",
          "article 368",
          "article 366",
          "article 669",
          "article 673",
          "article 362",
          "article 678",
          "article 653",
          "article 365",
          "article 697",
          "article 402",
          "article 329",
          "article 685",
          "article 397",
          "article 411",
          "article 412",
          "article 395",
          "article 642",
          "article 637",
          "article 415",
          "article 649",
          "article 392",
          "article 338",
          "article 39",
          "article 339",
          "article 699",
          "article 539",
          "article 692",
          "article 400",
          "article 536",
          "article 556",
          "article 676",
          "article 30",
          "article 708",
          "article 693",
          "article 110",
          "article 106",
          "article 689",
          "article 344",
          "article 727",
          "article 310",
          "article 372",
          "article 822",
          "article 418",
          "article 407",
          "article 218",
          "article 178",
          "article 396",
          "article 219",
          "article 62",
          "article 787",
          "article 167",
          "article 752",
          "article 793",
          "article 824",
          "article 159",
          "article 250",
          "article 245",
          "article 463",
          "article 579",
          "article 583",
          "article 481",
          "article 738",
          "article 276",
          "article 654",
          "article 274",
          "article 624",
          "article 261",
          "article 598",
          "article 599",
          "article 460",
          "article 142",
          "article 234",
          "article 279",
          "article 687",
          "article 535",
          "article 200",
          "article 55",
          "article 656"
         ],
         "xaxis": "x",
         "y": [
          0.43553807303807296,
          0.43113436043123526,
          0.42174147174147175,
          0.4157240646677266,
          0.4289299242424243,
          0.4309523809523809,
          0.4962177918699657,
          0.4189789884911837,
          0.43523088023088025,
          0.4192141192141193,
          0.4566163566163566,
          0.5032948532948534,
          0.37555337744017003,
          0.503125,
          0.47500000000000003,
          0.5140909090909092,
          0.4083333333333334,
          0.590625,
          0.663888888888889,
          0.43,
          0.30604166666666666,
          0.3833333333333333,
          0.3675,
          0.33416666666666667,
          0.4012698412698412,
          0.3151515151515152,
          0.30972222222222223,
          0.3368055555555555,
          0.29833333333333334,
          0.3059523809523809,
          0.33205128205128204,
          0.4265151515151515,
          0.41363636363636364,
          0,
          0.3896103896103896,
          0.3729437229437229,
          0.4649350649350649,
          0.4454545454545455,
          0.26666666666666666,
          0.46768127705627704,
          0.2454961704961705,
          0.3804112554112554,
          0.41177685950413223,
          0.3118881118881119,
          0.36573426573426576,
          0.4750000000000001,
          0.4818181818181818,
          0.2912698412698413,
          0.43823529411764706,
          0.4,
          0.43571428571428567,
          0.3564814814814815,
          0.40499999999999997,
          0.17500000000000002,
          0.3726190476190476,
          0.46083333333333326,
          0.44722222222222224,
          0.51,
          0.51,
          0.45749999999999996,
          0.30272727272727273,
          0.41657142857142854,
          0.543,
          0.3962809917355372,
          0.5762987012987013,
          0.5159090909090909,
          0.6666666666666666,
          0.6448863636363636,
          0.3975796930342385,
          0.41303339517625226,
          0.42085137085137087,
          0.5511363636363636,
          0.4114042207792208,
          0.39540043290043286,
          0.3715709728867623,
          0.38901515151515154,
          0.364625147579693,
          0.3907925407925408,
          0.36190892440892447,
          0.35539772727272734,
          0.5002323656735422,
          0.4375252525252525,
          0.4136750154607297,
          0.4222222222222222,
          0.4314968885281385,
          0.5250180375180374,
          0.4134920634920635,
          0.4666666666666666,
          0.2637019230769231,
          0.401948051948052,
          0.33831168831168834,
          0.4864285714285714,
          0.4614285714285714,
          0.45128968253968255,
          0.36,
          0.4272727272727273,
          0.5482142857142857,
          0.18333333333333335,
          0.23000000000000004,
          0.4351190476190476,
          0.155,
          0.34047619047619054,
          0.46458333333333335,
          0.5018799102132435,
          0.46797785547785536,
          0.49749999999999994,
          0.4692520442520442,
          0.46600378787878777,
          0.32836734693877556,
          0.3515567765567766,
          0.36296296296296293,
          0.3444285714285714,
          0.4308693244739757,
          0.3557110682110683,
          0.3155773393273393,
          0.35273809523809524,
          0.3932361471861472,
          0.3453071928071928,
          0.3348697054579408,
          0.371969696969697,
          0.3636904761904762,
          0.1914814814814815,
          0.38125,
          0.11047619047619046,
          0.06666666666666667,
          0.4561111111111111,
          0.2688095238095238,
          0.21369047619047618,
          0.32135416666666655,
          0.48088235294117654,
          0.3623333333333333,
          0.2604761904761905,
          0.2517460317460317,
          0.225,
          0.3308673469387755,
          0.24068627450980393,
          0.5013888888888889,
          0.5222222222222223,
          0.5062925170068027,
          0.5916666666666667,
          0.39444444444444443,
          0.26666666666666666,
          0.31166666666666665,
          0.25,
          0.30757575757575756,
          0.3037037037037037,
          0.26666666666666666,
          0.26296296296296295,
          0.38888888888888884,
          0.388,
          0.2518518518518518,
          0.33454545454545453,
          0.3611111111111111,
          0.383,
          0.32666666666666666,
          0.20833333333333331,
          0.33454545454545453,
          0.328,
          0.304,
          0.2884199134199134,
          0.3737878787878788,
          0.2833333333333333,
          0.21695075757575757,
          0.2357007575757576,
          0.19482323232323231,
          0.34650000000000003,
          0.2694444444444445,
          0.275,
          0.32249999999999995,
          0.30650000000000005,
          0.3325757575757576,
          0.22051282051282056,
          0.07291666666666667,
          0.22820512820512823,
          0.20757575757575755,
          0.3288461538461539,
          0.24814814814814815,
          0.24690603514132925,
          0.32993265993265997,
          0.44326599326599325,
          0.28125,
          0.4321699134199135,
          0.4012175324675325,
          0.03333333333333333,
          0.1290909090909091,
          0.025,
          0.28068181818181814,
          0.27424242424242423,
          0.2702651515151515,
          0.550952380952381,
          0.3344444444444445,
          0.38416666666666666,
          0.6388888888888888,
          0.6256666666666667,
          0.11964285714285713,
          0.25345238095238093,
          0.2668154761904762,
          0.22083333333333333,
          0.3657563025210084,
          0.2799719887955182,
          0.3831547619047619,
          0.2571428571428572,
          0.025,
          0.23333333333333336,
          0.3916666666666666,
          0.2518518518518518,
          0.5089225589225589,
          0.49757575757575756,
          0.44696969696969696,
          0.5235795454545454,
          0.46262626262626266,
          0.34116161616161617,
          0.2818181818181818,
          0.29444444444444445,
          0.29090909090909095,
          0.24545454545454548,
          0.36500000000000005,
          0.31,
          0.35833333333333334,
          0.2986111111111111,
          0.2729166666666667,
          0.22023809523809526,
          0.28402777777777777,
          0.256547619047619,
          0.4616161616161616,
          0.4928571428571428,
          0.4259018759018759,
          0.5011363636363636,
          0.5118686868686869,
          0.4273809523809525,
          0.40416666666666673,
          0.30000000000000004,
          0.38939393939393946,
          0.36363636363636365,
          0.3183150183150183,
          0.39880952380952384,
          0.2888888888888889,
          0.365,
          0.30456349206349204,
          0.445,
          0.38208333333333333,
          0.08333333333333334,
          0.3070833333333333,
          0.32733333333333337,
          0.5309090909090909,
          0.15833333333333333,
          0,
          0.15714285714285717,
          0.16515151515151516,
          0.35454545454545455,
          0.25000000000000006,
          0.23888888888888893,
          0.1791666666666667,
          0.29333333333333333,
          0.08333333333333334,
          0.18333333333333335,
          0.2138888888888889,
          0.18125,
          0.2,
          0.16666666666666666,
          0.18506493506493504,
          0,
          0.1,
          0.3625,
          0.13333333333333333,
          0.225,
          0.1919642857142857,
          0.31507936507936507,
          0.29,
          0.43154761904761907,
          0.1625,
          0.37023809523809526,
          0.39285714285714285,
          0.358974358974359,
          0.3742857142857143,
          0.36207482993197276,
          0.4085497835497836,
          0.3632653061224489,
          0.19999999999999998,
          0.48113553113553115,
          0.2821428571428571,
          0.24464285714285713,
          0.43333333333333335,
          0.3416666666666666,
          0.26857142857142857,
          0.3396103896103896,
          0.14285714285714285,
          0.12000000000000002,
          0.25,
          0.2625,
          0.2,
          0.26666666666666666,
          0.1285714285714286,
          0.25833333333333336,
          0.2986111111111111,
          0.016666666666666666,
          0.34093915343915343,
          0.10833333333333335,
          0.12685185185185188,
          0.125,
          0.4024603174603174,
          0.21936507936507937,
          0.40468750000000003,
          0.2160256410256411,
          0.4153846153846154,
          0.3054563492063492,
          0.25277777777777777,
          0.2955128205128205,
          0.376530612244898,
          0.5566666666666666,
          0.4647619047619047,
          0.47728937728937726,
          0.4272727272727273,
          0.48467261904761905,
          0.39191919191919194,
          0.5166666666666666,
          0.34755509641873283,
          0.48491161616161604,
          0.3664673046251994,
          0.31857142857142856,
          0.3277777777777778,
          0.2797619047619048,
          0.3484126984126984,
          0.4633333333333334,
          0.6,
          0.5166666666666666,
          0.4813492063492064,
          0.4857142857142857,
          0.8,
          0.49333333333333335,
          0.5791666666666667,
          0.5166666666666666,
          0.36587301587301585,
          0.41666666666666674,
          0.4077777777777777,
          0.3833333333333333,
          0.4192176870748299,
          0.5506802721088436,
          0.3660839160839161,
          0.37693181818181815,
          0.44214876033057854,
          0.323012987012987,
          0.30105601469237836,
          0.3178701298701299,
          0.3942708333333333,
          0.37401960784313726,
          0.3871794871794872,
          0.4066666666666666,
          0.495,
          0.3711538461538462,
          0.2875,
          0.44754901960784316,
          0.4977272727272728,
          0.55,
          0.6416666666666667,
          0.3916666666666667,
          0.5833333333333334,
          0.43166666666666664,
          0.3972222222222222,
          0.49000000000000005,
          0.49375,
          0.5545454545454546,
          0.06666666666666667,
          0.380462962962963,
          0.4153846153846154,
          0.3224358974358975,
          0.516111111111111,
          0.3597916666666667,
          0.5858333333333332,
          0.10555555555555556,
          0.4751623376623376,
          0.4412280701754387,
          0.3257575757575758,
          0.33194444444444454,
          0.32,
          0.3954545454545455,
          0.39242424242424234,
          0.45416666666666666,
          0.3477777777777778,
          0.5058333333333334,
          0.49679487179487186,
          0.7,
          0.3826388888888889,
          0.4444444444444445,
          0.4229166666666666,
          0.5,
          0.45625,
          0.36041666666666666,
          0.43425925925925934,
          0.6658333333333333,
          0.5925,
          0.5394444444444445,
          0.5113636363636364,
          0.5594444444444444,
          0.4649350649350649,
          0.32,
          0.36464646464646466,
          0.5,
          0.46742424242424246,
          0.49242424242424243,
          0.38285714285714284,
          0.44345238095238093,
          0.4351190476190476,
          0.41330492424242427,
          0.4012477718360072,
          0.40508658008658005,
          0.5313131313131313,
          0.37820855614973264,
          0.3070987654320988,
          0.4636363636363636,
          0.3070987654320988,
          0.38529411764705884,
          0.3909090909090909,
          0.5,
          0.39166666666666666,
          0.3125,
          0.44006410256410255,
          0.2443181818181818,
          0.38484848484848483,
          0.4075757575757576,
          0.32569444444444445,
          0.43472222222222223,
          0.35595238095238096,
          0.46388888888888885,
          0.2689393939393939,
          0.3770833333333333,
          0.3726190476190476,
          0.36666666666666664,
          0.43472222222222223,
          0.5260416666666667,
          0.4325757575757576,
          0.2972222222222222,
          0.07916666666666666,
          0.103125,
          0.05572916666666666,
          0.062254901960784315,
          0.20833333333333331,
          0.2946969696969697,
          0.3273809523809524,
          0.4451754385964913,
          0.3753968253968254,
          0.31363636363636355,
          0.5,
          0,
          0.2888888888888889,
          0.5833333333333333,
          0.8666666666666667,
          0.2888888888888889,
          0.6666666666666666,
          0,
          0.24166666666666664,
          0.2888888888888889,
          0.25333333333333335,
          0.25333333333333335,
          0.2916666666666667,
          0.25333333333333335,
          0.2533333333333333,
          0.25333333333333335,
          0.48303571428571435,
          0.38819444444444445,
          0.4305555555555556,
          0.36168831168831167,
          0.4697916666666667,
          0.41571428571428576,
          0.38222222222222224,
          0.43974358974358974,
          0.5877551020408163,
          0.5000000000000001,
          0.47222222222222215,
          0.523,
          0.3310185185185185,
          0.5029411764705882,
          0.3125,
          0.5599999999999999,
          0.3606481481481481,
          0.3230392156862745,
          0.5,
          0.20833333333333334,
          0.3511904761904762,
          0.3511904761904762,
          0.4375,
          0.4222222222222223,
          0.3775396825396825,
          0.35456790123456794,
          0.3644557823129252,
          0.3842592592592592,
          0.35962365591397844,
          0.3855555555555556,
          0.4444444444444445,
          0.3593650793650794,
          0.46851851851851856,
          0.16666666666666666,
          0.3437728937728938,
          0.43214285714285716,
          0.4574074074074074,
          0.375,
          0.3934814814814815,
          0.4276309008451867,
          0.3680555555555555,
          0.4381864235055724,
          0.4398809523809524,
          0.33686067019400356,
          0.42632275132275127,
          0.4113095238095238,
          0.34460784313725484,
          0.39317460317460307,
          0.35625,
          0.2816666666666666,
          0.31296296296296294,
          0.24642857142857144,
          0.48333333333333334,
          0.45166666666666666,
          0.3811428571428572,
          0.2330357142857143,
          0.30000000000000004,
          0.2863636363636364,
          0.22750000000000004,
          0.31369047619047624,
          0.3383333333333333,
          0.525,
          0.2225,
          0.11944444444444446,
          0.14722222222222223,
          0.25250000000000006,
          0.23181818181818184,
          0.3826200314836678,
          0.39431818181818185,
          0.3862726288862652,
          0.37617604617604616,
          0.41231060606060604,
          0.20833333333333334,
          0.4048611111111111,
          0.39416666666666667,
          0.46259259259259267,
          0.20666666666666664,
          0.20666666666666664,
          0.7,
          0.33888888888888896,
          0.2517676767676768,
          0.3152236652236652,
          0.4515151515151515,
          0.24166666666666664,
          0.31833333333333336,
          0.37175925925925923,
          0.3,
          0.37559523809523804,
          0.2730769230769231,
          0.1,
          0.4102891156462585,
          0.2821212121212121,
          0.3201719576719577,
          0.29761904761904756,
          0.3380952380952381,
          0.4133333333333333,
          0.3488095238095238,
          0.2,
          0.16111111111111112,
          0.26666666666666666,
          0.2285714285714286,
          0.2022222222222222,
          0.21333333333333332,
          0.16333333333333333,
          0.21333333333333332,
          0.05,
          0.03333333333333333,
          0.19333333333333333,
          0.04166666666666667,
          0.04166666666666667,
          0.2121212121212121,
          0.10555555555555556,
          0.4222222222222222,
          0.04166666666666667,
          0.3,
          0.42500000000000004,
          0,
          1,
          0.3583333333333333,
          0.412280701754386,
          0,
          0.35833333333333334,
          1,
          0.26666666666666666,
          0.7,
          0.3078703703703704,
          0.3182539682539683,
          0.3888888888888889,
          0,
          0.6875,
          0.3625,
          0,
          0,
          0.225,
          0.4366666666666667,
          0.49166666666666664,
          1,
          0.42142857142857143,
          0.22000000000000003,
          0.49583333333333335,
          0.7645833333333334,
          0.65,
          0.28935185185185186,
          1,
          0.5549999999999999,
          0,
          0,
          0.2333333333333333,
          0.6944444444444443,
          0.03333333333333333,
          0.3666666666666667,
          0.37222222222222223,
          0.37727272727272726,
          0.7138888888888889,
          0.525,
          0.2771164021164021,
          0.5,
          1,
          0.2583333333333333,
          0.8722222222222222,
          0,
          0.4857142857142857,
          0.39999999999999997,
          0.2568783068783069,
          0.27708333333333335,
          0.225,
          0.4333333333333334,
          0.37065476190476193,
          0.7777777777777778,
          0.395,
          1,
          0.025,
          1,
          0,
          0.45454545454545453,
          0,
          0.7000000000000001,
          1,
          0.48,
          0.65,
          0.5821428571428571,
          0,
          0.6611111111111111,
          0,
          0.4,
          0.5,
          0.45,
          0.8,
          0.35465367965367967,
          0.27142857142857146,
          0.3333333333333333,
          0.5416666666666666,
          0.5125,
          0,
          0.7444444444444445,
          0.36155462184873954,
          0.31666666666666665,
          0,
          0.43,
          0.39132231404958673,
          0.16666666666666666,
          0,
          0,
          0.6296296296296297,
          0.325,
          0.29333333333333333,
          0.3333333333333333,
          0.7,
          0.625,
          0.39166666666666666,
          0.3,
          1,
          0.5026785714285714,
          0,
          0.375,
          0.20625,
          0.4166666666666667,
          0.4,
          0,
          0.25,
          0.25,
          0,
          0.28125,
          0,
          0.20625,
          0.6875,
          0.4870370370370371,
          0.3493589743589744,
          0.24666666666666667,
          0.4,
          0,
          0.43333333333333335,
          0.3375,
          0.3499999999999999,
          0.5,
          0.4583333333333333,
          0.05,
          0.59375,
          0.75,
          0.2927944862155389,
          0.5308080808080807,
          0.5125,
          0.25,
          0.513888888888889,
          0,
          1,
          0.5833333333333334,
          0.6,
          0,
          0.3,
          0.6,
          0.8888888888888888,
          0.18214285714285713,
          0.45416666666666666,
          0.4513888888888889,
          0.6833333333333332,
          1,
          0.6861111111111111,
          0,
          0,
          0.44583333333333336,
          0,
          0.3666666666666667,
          0.6833333333333332,
          0.55,
          0.25434173669467786,
          0.21666666666666667,
          1,
          1,
          0.8,
          0.35595238095238096,
          0.575,
          0.3024509803921569,
          0.75,
          0.4106547619047619,
          0.27777777777777773,
          0.21250000000000002,
          0.5916666666666667,
          0,
          0,
          0.4,
          0.4375,
          0.5766666666666665,
          0.075,
          0.3666666666666667,
          0.29074074074074074,
          0.4083333333333334,
          0.125,
          0.36607142857142866,
          0.48333333333333334,
          1,
          0.6458333333333333,
          0.2111111111111111,
          0.17083333333333334,
          0.2709090909090909,
          0.3,
          0.6,
          0.4083333333333333,
          0.26711309523809523,
          0.65,
          0,
          0.3,
          0.41,
          0.3523809523809524,
          1,
          0.45454545454545453,
          0,
          0.22777777777777777,
          0.45,
          0.7,
          0.34194677871148454,
          0.4527777777777778,
          0.5125,
          0,
          0.525,
          1,
          0.2166666666666667,
          0,
          0.3333333333333333,
          0.39950980392156865,
          0,
          0.5416666666666666,
          0.22777777777777777,
          0.4337878787878788,
          0.125,
          1,
          0.5,
          0.24444444444444446,
          0.375,
          0,
          0.3,
          0.4830357142857143,
          0,
          0.21666666666666667,
          0.03333333333333333,
          0.23125,
          0.35625,
          0.025,
          0.3,
          0.3639880952380953,
          0.30833333333333335,
          0.46212121212121215,
          0.275,
          0.125,
          0,
          0.2510204081632653,
          0.1416666666666667,
          0.4166666666666667,
          0.35656565656565653,
          0.5354166666666667,
          0.3166666666666667,
          0,
          0.3285714285714286,
          0.32954545454545453,
          0,
          0.5222222222222221,
          0.23888888888888887,
          0.24666666666666665,
          0.2962962962962963,
          0.48939393939393944,
          0.2611111111111111,
          0.33472222222222225,
          0.2153061224489796,
          0.2113636363636364,
          0.35714285714285715,
          0.7666666666666666,
          0.275,
          0.2,
          0.440564738292011,
          0.2642857142857143,
          0.15000000000000002,
          0.43095238095238103,
          0.38541666666666663,
          0,
          0.28125,
          0.5125,
          0.3384615384615384,
          0.5111111111111111,
          0.42538544788544785,
          0.44521404521404506,
          0.39111697330447326,
          0.43477309207646264,
          0.4854166666666667,
          0.41794871794871796,
          0.4516590552304837
         ],
         "yaxis": "y"
        }
       ],
       "layout": {
        "barmode": "relative",
        "legend": {
         "tracegroupgap": 0
        },
        "template": {
         "data": {
          "bar": [
           {
            "error_x": {
             "color": "#2a3f5f"
            },
            "error_y": {
             "color": "#2a3f5f"
            },
            "marker": {
             "line": {
              "color": "#E5ECF6",
              "width": 0.5
             },
             "pattern": {
              "fillmode": "overlay",
              "size": 10,
              "solidity": 0.2
             }
            },
            "type": "bar"
           }
          ],
          "barpolar": [
           {
            "marker": {
             "line": {
              "color": "#E5ECF6",
              "width": 0.5
             },
             "pattern": {
              "fillmode": "overlay",
              "size": 10,
              "solidity": 0.2
             }
            },
            "type": "barpolar"
           }
          ],
          "carpet": [
           {
            "aaxis": {
             "endlinecolor": "#2a3f5f",
             "gridcolor": "white",
             "linecolor": "white",
             "minorgridcolor": "white",
             "startlinecolor": "#2a3f5f"
            },
            "baxis": {
             "endlinecolor": "#2a3f5f",
             "gridcolor": "white",
             "linecolor": "white",
             "minorgridcolor": "white",
             "startlinecolor": "#2a3f5f"
            },
            "type": "carpet"
           }
          ],
          "choropleth": [
           {
            "colorbar": {
             "outlinewidth": 0,
             "ticks": ""
            },
            "type": "choropleth"
           }
          ],
          "contour": [
           {
            "colorbar": {
             "outlinewidth": 0,
             "ticks": ""
            },
            "colorscale": [
             [
              0,
              "#0d0887"
             ],
             [
              0.1111111111111111,
              "#46039f"
             ],
             [
              0.2222222222222222,
              "#7201a8"
             ],
             [
              0.3333333333333333,
              "#9c179e"
             ],
             [
              0.4444444444444444,
              "#bd3786"
             ],
             [
              0.5555555555555556,
              "#d8576b"
             ],
             [
              0.6666666666666666,
              "#ed7953"
             ],
             [
              0.7777777777777778,
              "#fb9f3a"
             ],
             [
              0.8888888888888888,
              "#fdca26"
             ],
             [
              1,
              "#f0f921"
             ]
            ],
            "type": "contour"
           }
          ],
          "contourcarpet": [
           {
            "colorbar": {
             "outlinewidth": 0,
             "ticks": ""
            },
            "type": "contourcarpet"
           }
          ],
          "heatmap": [
           {
            "colorbar": {
             "outlinewidth": 0,
             "ticks": ""
            },
            "colorscale": [
             [
              0,
              "#0d0887"
             ],
             [
              0.1111111111111111,
              "#46039f"
             ],
             [
              0.2222222222222222,
              "#7201a8"
             ],
             [
              0.3333333333333333,
              "#9c179e"
             ],
             [
              0.4444444444444444,
              "#bd3786"
             ],
             [
              0.5555555555555556,
              "#d8576b"
             ],
             [
              0.6666666666666666,
              "#ed7953"
             ],
             [
              0.7777777777777778,
              "#fb9f3a"
             ],
             [
              0.8888888888888888,
              "#fdca26"
             ],
             [
              1,
              "#f0f921"
             ]
            ],
            "type": "heatmap"
           }
          ],
          "heatmapgl": [
           {
            "colorbar": {
             "outlinewidth": 0,
             "ticks": ""
            },
            "colorscale": [
             [
              0,
              "#0d0887"
             ],
             [
              0.1111111111111111,
              "#46039f"
             ],
             [
              0.2222222222222222,
              "#7201a8"
             ],
             [
              0.3333333333333333,
              "#9c179e"
             ],
             [
              0.4444444444444444,
              "#bd3786"
             ],
             [
              0.5555555555555556,
              "#d8576b"
             ],
             [
              0.6666666666666666,
              "#ed7953"
             ],
             [
              0.7777777777777778,
              "#fb9f3a"
             ],
             [
              0.8888888888888888,
              "#fdca26"
             ],
             [
              1,
              "#f0f921"
             ]
            ],
            "type": "heatmapgl"
           }
          ],
          "histogram": [
           {
            "marker": {
             "pattern": {
              "fillmode": "overlay",
              "size": 10,
              "solidity": 0.2
             }
            },
            "type": "histogram"
           }
          ],
          "histogram2d": [
           {
            "colorbar": {
             "outlinewidth": 0,
             "ticks": ""
            },
            "colorscale": [
             [
              0,
              "#0d0887"
             ],
             [
              0.1111111111111111,
              "#46039f"
             ],
             [
              0.2222222222222222,
              "#7201a8"
             ],
             [
              0.3333333333333333,
              "#9c179e"
             ],
             [
              0.4444444444444444,
              "#bd3786"
             ],
             [
              0.5555555555555556,
              "#d8576b"
             ],
             [
              0.6666666666666666,
              "#ed7953"
             ],
             [
              0.7777777777777778,
              "#fb9f3a"
             ],
             [
              0.8888888888888888,
              "#fdca26"
             ],
             [
              1,
              "#f0f921"
             ]
            ],
            "type": "histogram2d"
           }
          ],
          "histogram2dcontour": [
           {
            "colorbar": {
             "outlinewidth": 0,
             "ticks": ""
            },
            "colorscale": [
             [
              0,
              "#0d0887"
             ],
             [
              0.1111111111111111,
              "#46039f"
             ],
             [
              0.2222222222222222,
              "#7201a8"
             ],
             [
              0.3333333333333333,
              "#9c179e"
             ],
             [
              0.4444444444444444,
              "#bd3786"
             ],
             [
              0.5555555555555556,
              "#d8576b"
             ],
             [
              0.6666666666666666,
              "#ed7953"
             ],
             [
              0.7777777777777778,
              "#fb9f3a"
             ],
             [
              0.8888888888888888,
              "#fdca26"
             ],
             [
              1,
              "#f0f921"
             ]
            ],
            "type": "histogram2dcontour"
           }
          ],
          "mesh3d": [
           {
            "colorbar": {
             "outlinewidth": 0,
             "ticks": ""
            },
            "type": "mesh3d"
           }
          ],
          "parcoords": [
           {
            "line": {
             "colorbar": {
              "outlinewidth": 0,
              "ticks": ""
             }
            },
            "type": "parcoords"
           }
          ],
          "pie": [
           {
            "automargin": true,
            "type": "pie"
           }
          ],
          "scatter": [
           {
            "fillpattern": {
             "fillmode": "overlay",
             "size": 10,
             "solidity": 0.2
            },
            "type": "scatter"
           }
          ],
          "scatter3d": [
           {
            "line": {
             "colorbar": {
              "outlinewidth": 0,
              "ticks": ""
             }
            },
            "marker": {
             "colorbar": {
              "outlinewidth": 0,
              "ticks": ""
             }
            },
            "type": "scatter3d"
           }
          ],
          "scattercarpet": [
           {
            "marker": {
             "colorbar": {
              "outlinewidth": 0,
              "ticks": ""
             }
            },
            "type": "scattercarpet"
           }
          ],
          "scattergeo": [
           {
            "marker": {
             "colorbar": {
              "outlinewidth": 0,
              "ticks": ""
             }
            },
            "type": "scattergeo"
           }
          ],
          "scattergl": [
           {
            "marker": {
             "colorbar": {
              "outlinewidth": 0,
              "ticks": ""
             }
            },
            "type": "scattergl"
           }
          ],
          "scattermapbox": [
           {
            "marker": {
             "colorbar": {
              "outlinewidth": 0,
              "ticks": ""
             }
            },
            "type": "scattermapbox"
           }
          ],
          "scatterpolar": [
           {
            "marker": {
             "colorbar": {
              "outlinewidth": 0,
              "ticks": ""
             }
            },
            "type": "scatterpolar"
           }
          ],
          "scatterpolargl": [
           {
            "marker": {
             "colorbar": {
              "outlinewidth": 0,
              "ticks": ""
             }
            },
            "type": "scatterpolargl"
           }
          ],
          "scatterternary": [
           {
            "marker": {
             "colorbar": {
              "outlinewidth": 0,
              "ticks": ""
             }
            },
            "type": "scatterternary"
           }
          ],
          "surface": [
           {
            "colorbar": {
             "outlinewidth": 0,
             "ticks": ""
            },
            "colorscale": [
             [
              0,
              "#0d0887"
             ],
             [
              0.1111111111111111,
              "#46039f"
             ],
             [
              0.2222222222222222,
              "#7201a8"
             ],
             [
              0.3333333333333333,
              "#9c179e"
             ],
             [
              0.4444444444444444,
              "#bd3786"
             ],
             [
              0.5555555555555556,
              "#d8576b"
             ],
             [
              0.6666666666666666,
              "#ed7953"
             ],
             [
              0.7777777777777778,
              "#fb9f3a"
             ],
             [
              0.8888888888888888,
              "#fdca26"
             ],
             [
              1,
              "#f0f921"
             ]
            ],
            "type": "surface"
           }
          ],
          "table": [
           {
            "cells": {
             "fill": {
              "color": "#EBF0F8"
             },
             "line": {
              "color": "white"
             }
            },
            "header": {
             "fill": {
              "color": "#C8D4E3"
             },
             "line": {
              "color": "white"
             }
            },
            "type": "table"
           }
          ]
         },
         "layout": {
          "annotationdefaults": {
           "arrowcolor": "#2a3f5f",
           "arrowhead": 0,
           "arrowwidth": 1
          },
          "autotypenumbers": "strict",
          "coloraxis": {
           "colorbar": {
            "outlinewidth": 0,
            "ticks": ""
           }
          },
          "colorscale": {
           "diverging": [
            [
             0,
             "#8e0152"
            ],
            [
             0.1,
             "#c51b7d"
            ],
            [
             0.2,
             "#de77ae"
            ],
            [
             0.3,
             "#f1b6da"
            ],
            [
             0.4,
             "#fde0ef"
            ],
            [
             0.5,
             "#f7f7f7"
            ],
            [
             0.6,
             "#e6f5d0"
            ],
            [
             0.7,
             "#b8e186"
            ],
            [
             0.8,
             "#7fbc41"
            ],
            [
             0.9,
             "#4d9221"
            ],
            [
             1,
             "#276419"
            ]
           ],
           "sequential": [
            [
             0,
             "#0d0887"
            ],
            [
             0.1111111111111111,
             "#46039f"
            ],
            [
             0.2222222222222222,
             "#7201a8"
            ],
            [
             0.3333333333333333,
             "#9c179e"
            ],
            [
             0.4444444444444444,
             "#bd3786"
            ],
            [
             0.5555555555555556,
             "#d8576b"
            ],
            [
             0.6666666666666666,
             "#ed7953"
            ],
            [
             0.7777777777777778,
             "#fb9f3a"
            ],
            [
             0.8888888888888888,
             "#fdca26"
            ],
            [
             1,
             "#f0f921"
            ]
           ],
           "sequentialminus": [
            [
             0,
             "#0d0887"
            ],
            [
             0.1111111111111111,
             "#46039f"
            ],
            [
             0.2222222222222222,
             "#7201a8"
            ],
            [
             0.3333333333333333,
             "#9c179e"
            ],
            [
             0.4444444444444444,
             "#bd3786"
            ],
            [
             0.5555555555555556,
             "#d8576b"
            ],
            [
             0.6666666666666666,
             "#ed7953"
            ],
            [
             0.7777777777777778,
             "#fb9f3a"
            ],
            [
             0.8888888888888888,
             "#fdca26"
            ],
            [
             1,
             "#f0f921"
            ]
           ]
          },
          "colorway": [
           "#636efa",
           "#EF553B",
           "#00cc96",
           "#ab63fa",
           "#FFA15A",
           "#19d3f3",
           "#FF6692",
           "#B6E880",
           "#FF97FF",
           "#FECB52"
          ],
          "font": {
           "color": "#2a3f5f"
          },
          "geo": {
           "bgcolor": "white",
           "lakecolor": "white",
           "landcolor": "#E5ECF6",
           "showlakes": true,
           "showland": true,
           "subunitcolor": "white"
          },
          "hoverlabel": {
           "align": "left"
          },
          "hovermode": "closest",
          "mapbox": {
           "style": "light"
          },
          "paper_bgcolor": "white",
          "plot_bgcolor": "#E5ECF6",
          "polar": {
           "angularaxis": {
            "gridcolor": "white",
            "linecolor": "white",
            "ticks": ""
           },
           "bgcolor": "#E5ECF6",
           "radialaxis": {
            "gridcolor": "white",
            "linecolor": "white",
            "ticks": ""
           }
          },
          "scene": {
           "xaxis": {
            "backgroundcolor": "#E5ECF6",
            "gridcolor": "white",
            "gridwidth": 2,
            "linecolor": "white",
            "showbackground": true,
            "ticks": "",
            "zerolinecolor": "white"
           },
           "yaxis": {
            "backgroundcolor": "#E5ECF6",
            "gridcolor": "white",
            "gridwidth": 2,
            "linecolor": "white",
            "showbackground": true,
            "ticks": "",
            "zerolinecolor": "white"
           },
           "zaxis": {
            "backgroundcolor": "#E5ECF6",
            "gridcolor": "white",
            "gridwidth": 2,
            "linecolor": "white",
            "showbackground": true,
            "ticks": "",
            "zerolinecolor": "white"
           }
          },
          "shapedefaults": {
           "line": {
            "color": "#2a3f5f"
           }
          },
          "ternary": {
           "aaxis": {
            "gridcolor": "white",
            "linecolor": "white",
            "ticks": ""
           },
           "baxis": {
            "gridcolor": "white",
            "linecolor": "white",
            "ticks": ""
           },
           "bgcolor": "#E5ECF6",
           "caxis": {
            "gridcolor": "white",
            "linecolor": "white",
            "ticks": ""
           }
          },
          "title": {
           "x": 0.05
          },
          "xaxis": {
           "automargin": true,
           "gridcolor": "white",
           "linecolor": "white",
           "ticks": "",
           "title": {
            "standoff": 15
           },
           "zerolinecolor": "white",
           "zerolinewidth": 2
          },
          "yaxis": {
           "automargin": true,
           "gridcolor": "white",
           "linecolor": "white",
           "ticks": "",
           "title": {
            "standoff": 15
           },
           "zerolinecolor": "white",
           "zerolinewidth": 2
          }
         }
        },
        "title": {
         "text": "Sentiment Modality (Facts vs Opinions)"
        },
        "xaxis": {
         "anchor": "y",
         "domain": [
          0,
          1
         ],
         "title": {
          "text": "index"
         }
        },
        "yaxis": {
         "anchor": "x",
         "domain": [
          0,
          1
         ],
         "title": {
          "text": "sentiment_modality"
         }
        }
       }
      }
     },
     "metadata": {},
     "output_type": "display_data"
    }
   ],
   "source": [
    "px.bar(articles_df, x='index', y='sentiment_modality', title='Sentiment Modality (Facts vs Opinions)')"
   ]
  },
  {
   "attachments": {},
   "cell_type": "markdown",
   "metadata": {},
   "source": [
    "### Events from only January 20-21st 2014"
   ]
  },
  {
   "cell_type": "code",
   "execution_count": 213,
   "metadata": {},
   "outputs": [
    {
     "data": {
      "text/html": [
       "<div>\n",
       "<style scoped>\n",
       "    .dataframe tbody tr th:only-of-type {\n",
       "        vertical-align: middle;\n",
       "    }\n",
       "\n",
       "    .dataframe tbody tr th {\n",
       "        vertical-align: top;\n",
       "    }\n",
       "\n",
       "    .dataframe thead th {\n",
       "        text-align: right;\n",
       "    }\n",
       "</style>\n",
       "<table border=\"1\" class=\"dataframe\">\n",
       "  <thead>\n",
       "    <tr style=\"text-align: right;\">\n",
       "      <th></th>\n",
       "      <th>index</th>\n",
       "      <th>description</th>\n",
       "      <th>news_company</th>\n",
       "      <th>datetime</th>\n",
       "      <th>sentiment_score</th>\n",
       "      <th>sentiment_modality</th>\n",
       "    </tr>\n",
       "  </thead>\n",
       "  <tbody>\n",
       "    <tr>\n",
       "      <th>246</th>\n",
       "      <td>article 32</td>\n",
       "      <td>tethys news break emergency gastech quarters c...</td>\n",
       "      <td>Tethys News</td>\n",
       "      <td>2014-01-20</td>\n",
       "      <td>0.0</td>\n",
       "      <td>0.300</td>\n",
       "    </tr>\n",
       "    <tr>\n",
       "      <th>239</th>\n",
       "      <td>article 313</td>\n",
       "      <td>homeland illumination voices blog important pe...</td>\n",
       "      <td>Homeland Illumination</td>\n",
       "      <td>2014-01-20</td>\n",
       "      <td>-0.1</td>\n",
       "      <td>0.425</td>\n",
       "    </tr>\n",
       "    <tr>\n",
       "      <th>680</th>\n",
       "      <td>article 710</td>\n",
       "      <td>kronos star breaking emergency gastech headqua...</td>\n",
       "      <td>Kronos Star</td>\n",
       "      <td>2014-01-20</td>\n",
       "      <td>0.0</td>\n",
       "      <td>0.000</td>\n",
       "    </tr>\n",
       "  </tbody>\n",
       "</table>\n",
       "</div>"
      ],
      "text/plain": [
       "           index                                        description  \\\n",
       "246   article 32  tethys news break emergency gastech quarters c...   \n",
       "239  article 313  homeland illumination voices blog important pe...   \n",
       "680  article 710  kronos star breaking emergency gastech headqua...   \n",
       "\n",
       "              news_company   datetime  sentiment_score  sentiment_modality  \n",
       "246            Tethys News 2014-01-20              0.0               0.300  \n",
       "239  Homeland Illumination 2014-01-20             -0.1               0.425  \n",
       "680            Kronos Star 2014-01-20              0.0               0.000  "
      ]
     },
     "execution_count": 213,
     "metadata": {},
     "output_type": "execute_result"
    }
   ],
   "source": [
    "event_day = articles_df.loc[articles_df[\"datetime\"].between(\"2014-01-20\", \"2014-01-21\")]\n",
    "event_day.head(3)"
   ]
  },
  {
   "attachments": {},
   "cell_type": "markdown",
   "metadata": {},
   "source": [
    "Kronos Star has the lowest value in terms of sentient modality or the least amount of bias with respect to news reports."
   ]
  },
  {
   "attachments": {},
   "cell_type": "markdown",
   "metadata": {},
   "source": [
    "### Which news reports are most trustworthy?"
   ]
  },
  {
   "cell_type": "code",
   "execution_count": 214,
   "metadata": {},
   "outputs": [
    {
     "data": {
      "image/png": "[encoded data removed]",
      "text/plain": [
       "<Figure size 640x480 with 1 Axes>"
      ]
     },
     "metadata": {},
     "output_type": "display_data"
    }
   ],
   "source": [
    "event_day.groupby(['news_company'])['sentiment_modality'].mean().sort_values().plot(kind='bar', xlabel='news company', ylabel='sentiment modality', title='Average Sentiment Modality During Kidnapping (Jan 20-21)');"
   ]
  },
  {
   "cell_type": "code",
   "execution_count": 215,
   "metadata": {},
   "outputs": [
    {
     "data": {
      "image/png": "[encoded data removed]",
      "text/plain": [
       "<Figure size 640x480 with 1 Axes>"
      ]
     },
     "metadata": {},
     "output_type": "display_data"
    }
   ],
   "source": [
    "articles_df.groupby(['news_company'])['sentiment_modality'].mean().sort_values().plot(kind='bar', xlabel='news company', ylabel='sentiment modality', title='Overall Average Sentiment Modality of News Companies');"
   ]
  },
  {
   "cell_type": "code",
   "execution_count": 216,
   "metadata": {},
   "outputs": [
    {
     "name": "stdout",
     "output_type": "stream",
     "text": [
      "(38, 6)\n"
     ]
    },
    {
     "data": {
      "text/html": [
       "<div>\n",
       "<style scoped>\n",
       "    .dataframe tbody tr th:only-of-type {\n",
       "        vertical-align: middle;\n",
       "    }\n",
       "\n",
       "    .dataframe tbody tr th {\n",
       "        vertical-align: top;\n",
       "    }\n",
       "\n",
       "    .dataframe thead th {\n",
       "        text-align: right;\n",
       "    }\n",
       "</style>\n",
       "<table border=\"1\" class=\"dataframe\">\n",
       "  <thead>\n",
       "    <tr style=\"text-align: right;\">\n",
       "      <th></th>\n",
       "      <th>index</th>\n",
       "      <th>description</th>\n",
       "      <th>news_company</th>\n",
       "      <th>datetime</th>\n",
       "      <th>sentiment_score</th>\n",
       "      <th>sentiment_modality</th>\n",
       "    </tr>\n",
       "  </thead>\n",
       "  <tbody>\n",
       "    <tr>\n",
       "      <th>680</th>\n",
       "      <td>article 710</td>\n",
       "      <td>kronos star breaking emergency gastech headqua...</td>\n",
       "      <td>Kronos Star</td>\n",
       "      <td>2014-01-20</td>\n",
       "      <td>0.0</td>\n",
       "      <td>0.0</td>\n",
       "    </tr>\n",
       "    <tr>\n",
       "      <th>248</th>\n",
       "      <td>article 321</td>\n",
       "      <td>kronos star breaking emergency gastech headqua...</td>\n",
       "      <td>Kronos Star</td>\n",
       "      <td>2014-01-20</td>\n",
       "      <td>0.0</td>\n",
       "      <td>0.0</td>\n",
       "    </tr>\n",
       "    <tr>\n",
       "      <th>235</th>\n",
       "      <td>article 31</td>\n",
       "      <td>kronos star breaking emergency gastech headqua...</td>\n",
       "      <td>Kronos Star</td>\n",
       "      <td>2014-01-20</td>\n",
       "      <td>0.0</td>\n",
       "      <td>0.0</td>\n",
       "    </tr>\n",
       "    <tr>\n",
       "      <th>211</th>\n",
       "      <td>article 289</td>\n",
       "      <td>kronos star breaking emergency gastech headqua...</td>\n",
       "      <td>Kronos Star</td>\n",
       "      <td>2014-01-20</td>\n",
       "      <td>0.0</td>\n",
       "      <td>0.0</td>\n",
       "    </tr>\n",
       "    <tr>\n",
       "      <th>203</th>\n",
       "      <td>article 281</td>\n",
       "      <td>kronos star breaking emergency gastech headqua...</td>\n",
       "      <td>Kronos Star</td>\n",
       "      <td>2014-01-20</td>\n",
       "      <td>0.0</td>\n",
       "      <td>0.0</td>\n",
       "    </tr>\n",
       "  </tbody>\n",
       "</table>\n",
       "</div>"
      ],
      "text/plain": [
       "           index                                        description  \\\n",
       "680  article 710  kronos star breaking emergency gastech headqua...   \n",
       "248  article 321  kronos star breaking emergency gastech headqua...   \n",
       "235   article 31  kronos star breaking emergency gastech headqua...   \n",
       "211  article 289  kronos star breaking emergency gastech headqua...   \n",
       "203  article 281  kronos star breaking emergency gastech headqua...   \n",
       "\n",
       "    news_company   datetime  sentiment_score  sentiment_modality  \n",
       "680  Kronos Star 2014-01-20              0.0                 0.0  \n",
       "248  Kronos Star 2014-01-20              0.0                 0.0  \n",
       "235  Kronos Star 2014-01-20              0.0                 0.0  \n",
       "211  Kronos Star 2014-01-20              0.0                 0.0  \n",
       "203  Kronos Star 2014-01-20              0.0                 0.0  "
      ]
     },
     "execution_count": 216,
     "metadata": {},
     "output_type": "execute_result"
    }
   ],
   "source": [
    "kronos_star_reports = event_day[event_day['news_company'] == 'Kronos Star']\n",
    "print(kronos_star_reports.shape)\n",
    "kronos_star_reports.head()"
   ]
  },
  {
   "attachments": {},
   "cell_type": "markdown",
   "metadata": {},
   "source": [
    "So instead if the original 236 data points for describing the timeline of events between January 20-21st 2014 we only need 38. \n"
   ]
  },
  {
   "cell_type": "code",
   "execution_count": 217,
   "metadata": {},
   "outputs": [
    {
     "data": {
      "text/plain": [
       "index                         object\n",
       "description                   object\n",
       "news_company                  object\n",
       "datetime              datetime64[ns]\n",
       "sentiment_score              float64\n",
       "sentiment_modality           float64\n",
       "dtype: object"
      ]
     },
     "execution_count": 217,
     "metadata": {},
     "output_type": "execute_result"
    }
   ],
   "source": [
    "kronos_star_reports.dtypes"
   ]
  },
  {
   "cell_type": "code",
   "execution_count": null,
   "metadata": {},
   "outputs": [],
   "source": []
  },
  {
   "cell_type": "code",
   "execution_count": null,
   "metadata": {},
   "outputs": [],
   "source": []
  },
  {
   "attachments": {},
   "cell_type": "markdown",
   "metadata": {},
   "source": [
    "### It's the drugs "
   ]
  },
  {
   "cell_type": "code",
   "execution_count": 218,
   "metadata": {},
   "outputs": [
    {
     "name": "stdout",
     "output_type": "stream",
     "text": [
      "(25, 6)\n"
     ]
    },
    {
     "data": {
      "text/html": [
       "<div>\n",
       "<style scoped>\n",
       "    .dataframe tbody tr th:only-of-type {\n",
       "        vertical-align: middle;\n",
       "    }\n",
       "\n",
       "    .dataframe tbody tr th {\n",
       "        vertical-align: top;\n",
       "    }\n",
       "\n",
       "    .dataframe thead th {\n",
       "        text-align: right;\n",
       "    }\n",
       "</style>\n",
       "<table border=\"1\" class=\"dataframe\">\n",
       "  <thead>\n",
       "    <tr style=\"text-align: right;\">\n",
       "      <th></th>\n",
       "      <th>index</th>\n",
       "      <th>description</th>\n",
       "      <th>news_company</th>\n",
       "      <th>datetime</th>\n",
       "      <th>sentiment_score</th>\n",
       "      <th>sentiment_modality</th>\n",
       "    </tr>\n",
       "  </thead>\n",
       "  <tbody>\n",
       "    <tr>\n",
       "      <th>274</th>\n",
       "      <td>article 345</td>\n",
       "      <td>general post preoccupations investment busines...</td>\n",
       "      <td>The General Post</td>\n",
       "      <td>2010-12-18</td>\n",
       "      <td>0.159048</td>\n",
       "      <td>0.382857</td>\n",
       "    </tr>\n",
       "    <tr>\n",
       "      <th>371</th>\n",
       "      <td>article 432</td>\n",
       "      <td>light truth preoccupations productive investme...</td>\n",
       "      <td>The Light of Truth</td>\n",
       "      <td>2010-12-18</td>\n",
       "      <td>0.209524</td>\n",
       "      <td>0.443452</td>\n",
       "    </tr>\n",
       "    <tr>\n",
       "      <th>302</th>\n",
       "      <td>article 370</td>\n",
       "      <td>tulip care trade investments kronos davos swit...</td>\n",
       "      <td>The Tulip</td>\n",
       "      <td>2010-12-19</td>\n",
       "      <td>0.209524</td>\n",
       "      <td>0.435119</td>\n",
       "    </tr>\n",
       "    <tr>\n",
       "      <th>530</th>\n",
       "      <td>article 576</td>\n",
       "      <td>abila post drug related arrests rise 14 may 20...</td>\n",
       "      <td>The Abila Post</td>\n",
       "      <td>2011-05-14</td>\n",
       "      <td>-0.126373</td>\n",
       "      <td>0.413305</td>\n",
       "    </tr>\n",
       "    <tr>\n",
       "      <th>525</th>\n",
       "      <td>article 571</td>\n",
       "      <td>news desk drug related arrests increase abila ...</td>\n",
       "      <td>News Desk</td>\n",
       "      <td>2011-05-15</td>\n",
       "      <td>-0.099332</td>\n",
       "      <td>0.401248</td>\n",
       "    </tr>\n",
       "  </tbody>\n",
       "</table>\n",
       "</div>"
      ],
      "text/plain": [
       "           index                                        description  \\\n",
       "274  article 345  general post preoccupations investment busines...   \n",
       "371  article 432  light truth preoccupations productive investme...   \n",
       "302  article 370  tulip care trade investments kronos davos swit...   \n",
       "530  article 576  abila post drug related arrests rise 14 may 20...   \n",
       "525  article 571  news desk drug related arrests increase abila ...   \n",
       "\n",
       "           news_company   datetime  sentiment_score  sentiment_modality  \n",
       "274    The General Post 2010-12-18         0.159048            0.382857  \n",
       "371  The Light of Truth 2010-12-18         0.209524            0.443452  \n",
       "302           The Tulip 2010-12-19         0.209524            0.435119  \n",
       "530      The Abila Post 2011-05-14        -0.126373            0.413305  \n",
       "525           News Desk 2011-05-15        -0.099332            0.401248  "
      ]
     },
     "execution_count": 218,
     "metadata": {},
     "output_type": "execute_result"
    }
   ],
   "source": [
    "drug_news = articles_df.query(\"description.str.contains('drug')\", engine='python', inplace=False)\n",
    "print(drug_news.shape)\n",
    "drug_news.head()"
   ]
  },
  {
   "cell_type": "code",
   "execution_count": 219,
   "metadata": {},
   "outputs": [
    {
     "data": {
      "text/html": [
       "<div>\n",
       "<style scoped>\n",
       "    .dataframe tbody tr th:only-of-type {\n",
       "        vertical-align: middle;\n",
       "    }\n",
       "\n",
       "    .dataframe tbody tr th {\n",
       "        vertical-align: top;\n",
       "    }\n",
       "\n",
       "    .dataframe thead th {\n",
       "        text-align: right;\n",
       "    }\n",
       "</style>\n",
       "<table border=\"1\" class=\"dataframe\">\n",
       "  <thead>\n",
       "    <tr style=\"text-align: right;\">\n",
       "      <th></th>\n",
       "      <th>index</th>\n",
       "      <th>description</th>\n",
       "      <th>news_company</th>\n",
       "      <th>datetime</th>\n",
       "      <th>sentiment_score</th>\n",
       "      <th>sentiment_modality</th>\n",
       "    </tr>\n",
       "  </thead>\n",
       "  <tbody>\n",
       "    <tr>\n",
       "      <th>422</th>\n",
       "      <td>article 479</td>\n",
       "      <td>tulip government kronos discontinuances tax pl...</td>\n",
       "      <td>The Tulip</td>\n",
       "      <td>1992-12-12</td>\n",
       "      <td>0.163182</td>\n",
       "      <td>0.514091</td>\n",
       "    </tr>\n",
       "    <tr>\n",
       "      <th>241</th>\n",
       "      <td>article 315</td>\n",
       "      <td>tulip improvements necessary port water abila ...</td>\n",
       "      <td>The Tulip</td>\n",
       "      <td>1993-09-21</td>\n",
       "      <td>0.064336</td>\n",
       "      <td>0.311888</td>\n",
       "    </tr>\n",
       "    <tr>\n",
       "      <th>223</th>\n",
       "      <td>article 3</td>\n",
       "      <td>tulip prominent matter burgermatrijzen leader ...</td>\n",
       "      <td>The Tulip</td>\n",
       "      <td>1994-02-18</td>\n",
       "      <td>0.070635</td>\n",
       "      <td>0.291270</td>\n",
       "    </tr>\n",
       "    <tr>\n",
       "      <th>259</th>\n",
       "      <td>article 331</td>\n",
       "      <td>tulip extension gastech reaches coasts kronos ...</td>\n",
       "      <td>The Tulip</td>\n",
       "      <td>1994-09-25</td>\n",
       "      <td>0.069517</td>\n",
       "      <td>0.372619</td>\n",
       "    </tr>\n",
       "    <tr>\n",
       "      <th>541</th>\n",
       "      <td>article 586</td>\n",
       "      <td>tulip boring technique prohibited tethys cente...</td>\n",
       "      <td>The Tulip</td>\n",
       "      <td>1995-04-01</td>\n",
       "      <td>-0.063000</td>\n",
       "      <td>0.543000</td>\n",
       "    </tr>\n",
       "    <tr>\n",
       "      <th>662</th>\n",
       "      <td>article 695</td>\n",
       "      <td>tulip large opening gastech-kronos abila krono...</td>\n",
       "      <td>The Tulip</td>\n",
       "      <td>1995-10-11</td>\n",
       "      <td>0.073557</td>\n",
       "      <td>0.420851</td>\n",
       "    </tr>\n",
       "    <tr>\n",
       "      <th>691</th>\n",
       "      <td>article 720</td>\n",
       "      <td>tulip gastech emphasis shifts kronos center te...</td>\n",
       "      <td>The Tulip</td>\n",
       "      <td>1996-07-09</td>\n",
       "      <td>0.021753</td>\n",
       "      <td>0.338312</td>\n",
       "    </tr>\n",
       "    <tr>\n",
       "      <th>120</th>\n",
       "      <td>article 206</td>\n",
       "      <td>tulip wellness deflagrations gastech kronos go...</td>\n",
       "      <td>The Tulip</td>\n",
       "      <td>1998-11-14</td>\n",
       "      <td>0.144444</td>\n",
       "      <td>0.303704</td>\n",
       "    </tr>\n",
       "    <tr>\n",
       "      <th>245</th>\n",
       "      <td>article 319</td>\n",
       "      <td>tulip gastech incomes report reports center in...</td>\n",
       "      <td>The Tulip</td>\n",
       "      <td>1999-02-20</td>\n",
       "      <td>0.082197</td>\n",
       "      <td>0.194823</td>\n",
       "    </tr>\n",
       "    <tr>\n",
       "      <th>463</th>\n",
       "      <td>article 515</td>\n",
       "      <td>tulip kronos gdp increase abila kronos real gr...</td>\n",
       "      <td>The Tulip</td>\n",
       "      <td>2000-01-16</td>\n",
       "      <td>0.037879</td>\n",
       "      <td>0.274242</td>\n",
       "    </tr>\n",
       "    <tr>\n",
       "      <th>451</th>\n",
       "      <td>article 504</td>\n",
       "      <td>tulip place bend tiskele rocks gastech explosi...</td>\n",
       "      <td>The Tulip</td>\n",
       "      <td>2000-08-16</td>\n",
       "      <td>-0.036695</td>\n",
       "      <td>0.279972</td>\n",
       "    </tr>\n",
       "    <tr>\n",
       "      <th>652</th>\n",
       "      <td>article 686</td>\n",
       "      <td>tulip coo gastech strict fluss matrices 73 cen...</td>\n",
       "      <td>The Tulip</td>\n",
       "      <td>2003-05-19</td>\n",
       "      <td>0.100000</td>\n",
       "      <td>0.354545</td>\n",
       "    </tr>\n",
       "    <tr>\n",
       "      <th>478</th>\n",
       "      <td>article 529</td>\n",
       "      <td>tulip sanjorge jr condemn pok terrorists cente...</td>\n",
       "      <td>The Tulip</td>\n",
       "      <td>2009-02-22</td>\n",
       "      <td>-0.005556</td>\n",
       "      <td>0.252778</td>\n",
       "    </tr>\n",
       "    <tr>\n",
       "      <th>791</th>\n",
       "      <td>article 810</td>\n",
       "      <td>tulip gastech approve new emblem center tethys...</td>\n",
       "      <td>The Tulip</td>\n",
       "      <td>2009-05-16</td>\n",
       "      <td>0.044294</td>\n",
       "      <td>0.323013</td>\n",
       "    </tr>\n",
       "    <tr>\n",
       "      <th>302</th>\n",
       "      <td>article 370</td>\n",
       "      <td>tulip care trade investments kronos davos swit...</td>\n",
       "      <td>The Tulip</td>\n",
       "      <td>2010-12-19</td>\n",
       "      <td>0.209524</td>\n",
       "      <td>0.435119</td>\n",
       "    </tr>\n",
       "    <tr>\n",
       "      <th>614</th>\n",
       "      <td>article 651</td>\n",
       "      <td>international times abila hospitals seeing inf...</td>\n",
       "      <td>International Times</td>\n",
       "      <td>2013-02-07</td>\n",
       "      <td>-0.020439</td>\n",
       "      <td>0.393481</td>\n",
       "    </tr>\n",
       "    <tr>\n",
       "      <th>790</th>\n",
       "      <td>article 81</td>\n",
       "      <td>world journal hospital abila seeing surge user...</td>\n",
       "      <td>World Journal</td>\n",
       "      <td>2013-02-09</td>\n",
       "      <td>-0.015935</td>\n",
       "      <td>0.438186</td>\n",
       "    </tr>\n",
       "    <tr>\n",
       "      <th>838</th>\n",
       "      <td>article 93</td>\n",
       "      <td>everyday news hospitals abila see affluence de...</td>\n",
       "      <td>Everyday News</td>\n",
       "      <td>2013-02-09</td>\n",
       "      <td>-0.020887</td>\n",
       "      <td>0.439881</td>\n",
       "    </tr>\n",
       "    <tr>\n",
       "      <th>23</th>\n",
       "      <td>article 119</td>\n",
       "      <td>tulip sanjorge jr internationally public gaste...</td>\n",
       "      <td>The Tulip</td>\n",
       "      <td>2013-09-03</td>\n",
       "      <td>-0.011111</td>\n",
       "      <td>0.119444</td>\n",
       "    </tr>\n",
       "    <tr>\n",
       "      <th>209</th>\n",
       "      <td>article 287</td>\n",
       "      <td>international times 21 october 2013 interpol a...</td>\n",
       "      <td></td>\n",
       "      <td>2013-10-21</td>\n",
       "      <td>-0.029137</td>\n",
       "      <td>0.382620</td>\n",
       "    </tr>\n",
       "    <tr>\n",
       "      <th>546</th>\n",
       "      <td>article 590</td>\n",
       "      <td>news online today multi-country task force for...</td>\n",
       "      <td>News Online Today</td>\n",
       "      <td>2013-10-22</td>\n",
       "      <td>-0.095455</td>\n",
       "      <td>0.394318</td>\n",
       "    </tr>\n",
       "    <tr>\n",
       "      <th>751</th>\n",
       "      <td>article 775</td>\n",
       "      <td>world source multi-country task force formed i...</td>\n",
       "      <td>World Source</td>\n",
       "      <td>2013-10-22</td>\n",
       "      <td>-0.006623</td>\n",
       "      <td>0.376176</td>\n",
       "    </tr>\n",
       "    <tr>\n",
       "      <th>291</th>\n",
       "      <td>article 360</td>\n",
       "      <td>tulip giant ipo make sanjorge billion air cent...</td>\n",
       "      <td>The Tulip</td>\n",
       "      <td>2013-12-17</td>\n",
       "      <td>-0.011538</td>\n",
       "      <td>0.273077</td>\n",
       "    </tr>\n",
       "    <tr>\n",
       "      <th>682</th>\n",
       "      <td>article 712</td>\n",
       "      <td>tulip removal gastech kronos abila kronos long...</td>\n",
       "      <td>The Tulip</td>\n",
       "      <td>2014-01-20</td>\n",
       "      <td>0.025658</td>\n",
       "      <td>0.412281</td>\n",
       "    </tr>\n",
       "    <tr>\n",
       "      <th>88</th>\n",
       "      <td>article 178</td>\n",
       "      <td>tulip requirements ransom made removal gastech...</td>\n",
       "      <td>The Tulip</td>\n",
       "      <td>2014-01-21</td>\n",
       "      <td>0.009524</td>\n",
       "      <td>0.328571</td>\n",
       "    </tr>\n",
       "    <tr>\n",
       "      <th>151</th>\n",
       "      <td>article 234</td>\n",
       "      <td>everyday news 21 october 2013 interpol announc...</td>\n",
       "      <td></td>\n",
       "      <td>2014-03-26</td>\n",
       "      <td>0.048258</td>\n",
       "      <td>0.425385</td>\n",
       "    </tr>\n",
       "    <tr>\n",
       "      <th>653</th>\n",
       "      <td>article 687</td>\n",
       "      <td>world journal october 21 2013 interpol announc...</td>\n",
       "      <td></td>\n",
       "      <td>2014-03-26</td>\n",
       "      <td>0.058256</td>\n",
       "      <td>0.391117</td>\n",
       "    </tr>\n",
       "  </tbody>\n",
       "</table>\n",
       "</div>"
      ],
      "text/plain": [
       "           index                                        description  \\\n",
       "422  article 479  tulip government kronos discontinuances tax pl...   \n",
       "241  article 315  tulip improvements necessary port water abila ...   \n",
       "223    article 3  tulip prominent matter burgermatrijzen leader ...   \n",
       "259  article 331  tulip extension gastech reaches coasts kronos ...   \n",
       "541  article 586  tulip boring technique prohibited tethys cente...   \n",
       "662  article 695  tulip large opening gastech-kronos abila krono...   \n",
       "691  article 720  tulip gastech emphasis shifts kronos center te...   \n",
       "120  article 206  tulip wellness deflagrations gastech kronos go...   \n",
       "245  article 319  tulip gastech incomes report reports center in...   \n",
       "463  article 515  tulip kronos gdp increase abila kronos real gr...   \n",
       "451  article 504  tulip place bend tiskele rocks gastech explosi...   \n",
       "652  article 686  tulip coo gastech strict fluss matrices 73 cen...   \n",
       "478  article 529  tulip sanjorge jr condemn pok terrorists cente...   \n",
       "791  article 810  tulip gastech approve new emblem center tethys...   \n",
       "302  article 370  tulip care trade investments kronos davos swit...   \n",
       "614  article 651  international times abila hospitals seeing inf...   \n",
       "790   article 81  world journal hospital abila seeing surge user...   \n",
       "838   article 93  everyday news hospitals abila see affluence de...   \n",
       "23   article 119  tulip sanjorge jr internationally public gaste...   \n",
       "209  article 287  international times 21 october 2013 interpol a...   \n",
       "546  article 590  news online today multi-country task force for...   \n",
       "751  article 775  world source multi-country task force formed i...   \n",
       "291  article 360  tulip giant ipo make sanjorge billion air cent...   \n",
       "682  article 712  tulip removal gastech kronos abila kronos long...   \n",
       "88   article 178  tulip requirements ransom made removal gastech...   \n",
       "151  article 234  everyday news 21 october 2013 interpol announc...   \n",
       "653  article 687  world journal october 21 2013 interpol announc...   \n",
       "\n",
       "            news_company   datetime  sentiment_score  sentiment_modality  \n",
       "422            The Tulip 1992-12-12         0.163182            0.514091  \n",
       "241            The Tulip 1993-09-21         0.064336            0.311888  \n",
       "223            The Tulip 1994-02-18         0.070635            0.291270  \n",
       "259            The Tulip 1994-09-25         0.069517            0.372619  \n",
       "541            The Tulip 1995-04-01        -0.063000            0.543000  \n",
       "662            The Tulip 1995-10-11         0.073557            0.420851  \n",
       "691            The Tulip 1996-07-09         0.021753            0.338312  \n",
       "120            The Tulip 1998-11-14         0.144444            0.303704  \n",
       "245            The Tulip 1999-02-20         0.082197            0.194823  \n",
       "463            The Tulip 2000-01-16         0.037879            0.274242  \n",
       "451            The Tulip 2000-08-16        -0.036695            0.279972  \n",
       "652            The Tulip 2003-05-19         0.100000            0.354545  \n",
       "478            The Tulip 2009-02-22        -0.005556            0.252778  \n",
       "791            The Tulip 2009-05-16         0.044294            0.323013  \n",
       "302            The Tulip 2010-12-19         0.209524            0.435119  \n",
       "614  International Times 2013-02-07        -0.020439            0.393481  \n",
       "790        World Journal 2013-02-09        -0.015935            0.438186  \n",
       "838        Everyday News 2013-02-09        -0.020887            0.439881  \n",
       "23             The Tulip 2013-09-03        -0.011111            0.119444  \n",
       "209                      2013-10-21        -0.029137            0.382620  \n",
       "546   News Online Today  2013-10-22        -0.095455            0.394318  \n",
       "751        World Source  2013-10-22        -0.006623            0.376176  \n",
       "291            The Tulip 2013-12-17        -0.011538            0.273077  \n",
       "682            The Tulip 2014-01-20         0.025658            0.412281  \n",
       "88             The Tulip 2014-01-21         0.009524            0.328571  \n",
       "151                      2014-03-26         0.048258            0.425385  \n",
       "653                      2014-03-26         0.058256            0.391117  "
      ]
     },
     "execution_count": 219,
     "metadata": {},
     "output_type": "execute_result"
    }
   ],
   "source": [
    "candy = articles_df.query(\"description.str.contains('tulip')\", engine='python', inplace=False)\n",
    "candy"
   ]
  },
  {
   "cell_type": "code",
   "execution_count": 220,
   "metadata": {},
   "outputs": [
    {
     "name": "stdout",
     "output_type": "stream",
     "text": [
      "(289, 6)\n"
     ]
    },
    {
     "data": {
      "text/html": [
       "<div>\n",
       "<style scoped>\n",
       "    .dataframe tbody tr th:only-of-type {\n",
       "        vertical-align: middle;\n",
       "    }\n",
       "\n",
       "    .dataframe tbody tr th {\n",
       "        vertical-align: top;\n",
       "    }\n",
       "\n",
       "    .dataframe thead th {\n",
       "        text-align: right;\n",
       "    }\n",
       "</style>\n",
       "<table border=\"1\" class=\"dataframe\">\n",
       "  <thead>\n",
       "    <tr style=\"text-align: right;\">\n",
       "      <th></th>\n",
       "      <th>index</th>\n",
       "      <th>description</th>\n",
       "      <th>news_company</th>\n",
       "      <th>datetime</th>\n",
       "      <th>sentiment_score</th>\n",
       "      <th>sentiment_modality</th>\n",
       "    </tr>\n",
       "  </thead>\n",
       "  <tbody>\n",
       "    <tr>\n",
       "      <th>194</th>\n",
       "      <td>article 273</td>\n",
       "      <td>kronos star activists disrupt traffic near tis...</td>\n",
       "      <td>Kronos Star</td>\n",
       "      <td>2001-08-30</td>\n",
       "      <td>0.117857</td>\n",
       "      <td>0.427381</td>\n",
       "    </tr>\n",
       "    <tr>\n",
       "      <th>621</th>\n",
       "      <td>article 658</td>\n",
       "      <td>homeland illumination pok members arrested pet...</td>\n",
       "      <td>Homeland Illumination</td>\n",
       "      <td>2001-08-31</td>\n",
       "      <td>0.069444</td>\n",
       "      <td>0.404167</td>\n",
       "    </tr>\n",
       "    <tr>\n",
       "      <th>772</th>\n",
       "      <td>article 794</td>\n",
       "      <td>truth activists interrupt movement near areas ...</td>\n",
       "      <td>The Truth</td>\n",
       "      <td>2001-08-31</td>\n",
       "      <td>0.163636</td>\n",
       "      <td>0.389394</td>\n",
       "    </tr>\n",
       "    <tr>\n",
       "      <th>34</th>\n",
       "      <td>article 129</td>\n",
       "      <td>international news activists disrupt traffic n...</td>\n",
       "      <td>International News</td>\n",
       "      <td>2001-08-31</td>\n",
       "      <td>0.081818</td>\n",
       "      <td>0.363636</td>\n",
       "    </tr>\n",
       "    <tr>\n",
       "      <th>754</th>\n",
       "      <td>article 778</td>\n",
       "      <td>orb members pok stopped elodis kronos heavies ...</td>\n",
       "      <td>The Orb</td>\n",
       "      <td>2001-09-01</td>\n",
       "      <td>0.104945</td>\n",
       "      <td>0.318315</td>\n",
       "    </tr>\n",
       "  </tbody>\n",
       "</table>\n",
       "</div>"
      ],
      "text/plain": [
       "           index                                        description  \\\n",
       "194  article 273  kronos star activists disrupt traffic near tis...   \n",
       "621  article 658  homeland illumination pok members arrested pet...   \n",
       "772  article 794  truth activists interrupt movement near areas ...   \n",
       "34   article 129  international news activists disrupt traffic n...   \n",
       "754  article 778  orb members pok stopped elodis kronos heavies ...   \n",
       "\n",
       "              news_company   datetime  sentiment_score  sentiment_modality  \n",
       "194            Kronos Star 2001-08-30         0.117857            0.427381  \n",
       "621  Homeland Illumination 2001-08-31         0.069444            0.404167  \n",
       "772              The Truth 2001-08-31         0.163636            0.389394  \n",
       "34      International News 2001-08-31         0.081818            0.363636  \n",
       "754                The Orb 2001-09-01         0.104945            0.318315  "
      ]
     },
     "execution_count": 220,
     "metadata": {},
     "output_type": "execute_result"
    }
   ],
   "source": [
    "police_news = articles_df.query(\"description.str.contains('police')\", engine='python', inplace=False)\n",
    "print(police_news.shape)\n",
    "police_news.head()"
   ]
  },
  {
   "cell_type": "code",
   "execution_count": 221,
   "metadata": {},
   "outputs": [
    {
     "data": {
      "text/html": [
       "<div>\n",
       "<style scoped>\n",
       "    .dataframe tbody tr th:only-of-type {\n",
       "        vertical-align: middle;\n",
       "    }\n",
       "\n",
       "    .dataframe tbody tr th {\n",
       "        vertical-align: top;\n",
       "    }\n",
       "\n",
       "    .dataframe thead th {\n",
       "        text-align: right;\n",
       "    }\n",
       "</style>\n",
       "<table border=\"1\" class=\"dataframe\">\n",
       "  <thead>\n",
       "    <tr style=\"text-align: right;\">\n",
       "      <th></th>\n",
       "      <th>index</th>\n",
       "      <th>description</th>\n",
       "      <th>news_company</th>\n",
       "      <th>datetime</th>\n",
       "      <th>sentiment_score</th>\n",
       "      <th>sentiment_modality</th>\n",
       "    </tr>\n",
       "  </thead>\n",
       "  <tbody>\n",
       "    <tr>\n",
       "      <th>250</th>\n",
       "      <td>article 323</td>\n",
       "      <td>news online today kronos police arrest blotter...</td>\n",
       "      <td>News Online Today</td>\n",
       "      <td>2011-11-23</td>\n",
       "      <td>-0.097917</td>\n",
       "      <td>0.079167</td>\n",
       "    </tr>\n",
       "    <tr>\n",
       "      <th>301</th>\n",
       "      <td>article 37</td>\n",
       "      <td>central bulletin kronos police arrest blotter ...</td>\n",
       "      <td>Central Bulletin</td>\n",
       "      <td>2011-11-23</td>\n",
       "      <td>-0.039583</td>\n",
       "      <td>0.103125</td>\n",
       "    </tr>\n",
       "    <tr>\n",
       "      <th>174</th>\n",
       "      <td>article 255</td>\n",
       "      <td>athena speaks blotter arrest police force kron...</td>\n",
       "      <td>Athena Speaks</td>\n",
       "      <td>2011-11-23</td>\n",
       "      <td>-0.023438</td>\n",
       "      <td>0.055729</td>\n",
       "    </tr>\n",
       "    <tr>\n",
       "      <th>822</th>\n",
       "      <td>article 839</td>\n",
       "      <td>news desk arrest blotter police force kronos a...</td>\n",
       "      <td>News Desk</td>\n",
       "      <td>2011-11-24</td>\n",
       "      <td>-0.078922</td>\n",
       "      <td>0.062255</td>\n",
       "    </tr>\n",
       "  </tbody>\n",
       "</table>\n",
       "</div>"
      ],
      "text/plain": [
       "           index                                        description  \\\n",
       "250  article 323  news online today kronos police arrest blotter...   \n",
       "301   article 37  central bulletin kronos police arrest blotter ...   \n",
       "174  article 255  athena speaks blotter arrest police force kron...   \n",
       "822  article 839  news desk arrest blotter police force kronos a...   \n",
       "\n",
       "          news_company   datetime  sentiment_score  sentiment_modality  \n",
       "250  News Online Today 2011-11-23        -0.097917            0.079167  \n",
       "301   Central Bulletin 2011-11-23        -0.039583            0.103125  \n",
       "174      Athena Speaks 2011-11-23        -0.023438            0.055729  \n",
       "822          News Desk 2011-11-24        -0.078922            0.062255  "
      ]
     },
     "execution_count": 221,
     "metadata": {},
     "output_type": "execute_result"
    }
   ],
   "source": [
    "arrest_df = police_news.query(\"description.str.contains('blotter')\", engine='python', inplace=False)\n",
    "arrest_df"
   ]
  },
  {
   "cell_type": "code",
   "execution_count": 222,
   "metadata": {},
   "outputs": [
    {
     "name": "stdout",
     "output_type": "stream",
     "text": [
      "news online today kronos police arrest blotter abila awelon cynthe dob time arrest 0003 hrs accused drug paraphernalia blumiau willem dob time arrest 2215 hrs accused possession controlled substance hashish pedestrn subject signal cusema brita dob time arrest 2205 hrs accused theft shoplifting-5th degree dunna thad dob time arrest 1500 hrs accused theft other-3rd degree gudenz kel dob time arrest 1630 hrs accused failure maintain control\n"
     ]
    }
   ],
   "source": [
    "print(arrest_df.description.values[0])"
   ]
  },
  {
   "cell_type": "code",
   "execution_count": 223,
   "metadata": {},
   "outputs": [
    {
     "name": "stdout",
     "output_type": "stream",
     "text": [
      "(184, 6)\n"
     ]
    },
    {
     "data": {
      "text/html": [
       "<div>\n",
       "<style scoped>\n",
       "    .dataframe tbody tr th:only-of-type {\n",
       "        vertical-align: middle;\n",
       "    }\n",
       "\n",
       "    .dataframe tbody tr th {\n",
       "        vertical-align: top;\n",
       "    }\n",
       "\n",
       "    .dataframe thead th {\n",
       "        text-align: right;\n",
       "    }\n",
       "</style>\n",
       "<table border=\"1\" class=\"dataframe\">\n",
       "  <thead>\n",
       "    <tr style=\"text-align: right;\">\n",
       "      <th></th>\n",
       "      <th>index</th>\n",
       "      <th>description</th>\n",
       "      <th>news_company</th>\n",
       "      <th>datetime</th>\n",
       "      <th>sentiment_score</th>\n",
       "      <th>sentiment_modality</th>\n",
       "    </tr>\n",
       "  </thead>\n",
       "  <tbody>\n",
       "    <tr>\n",
       "      <th>91</th>\n",
       "      <td>article 180</td>\n",
       "      <td>world journal race boat stopped starting 10th ...</td>\n",
       "      <td>World Journal</td>\n",
       "      <td>2010-03-05</td>\n",
       "      <td>-0.063745</td>\n",
       "      <td>0.475162</td>\n",
       "    </tr>\n",
       "    <tr>\n",
       "      <th>160</th>\n",
       "      <td>article 242</td>\n",
       "      <td>continent race boat stopped starting head 10th...</td>\n",
       "      <td>The Continent</td>\n",
       "      <td>2010-03-05</td>\n",
       "      <td>-0.110965</td>\n",
       "      <td>0.441228</td>\n",
       "    </tr>\n",
       "    <tr>\n",
       "      <th>268</th>\n",
       "      <td>article 34</td>\n",
       "      <td>central bulletin anniversary protests abila kr...</td>\n",
       "      <td>Central Bulletin</td>\n",
       "      <td>2010-06-14</td>\n",
       "      <td>-0.036364</td>\n",
       "      <td>0.325758</td>\n",
       "    </tr>\n",
       "  </tbody>\n",
       "</table>\n",
       "</div>"
      ],
      "text/plain": [
       "           index                                        description  \\\n",
       "91   article 180  world journal race boat stopped starting 10th ...   \n",
       "160  article 242  continent race boat stopped starting head 10th...   \n",
       "268   article 34  central bulletin anniversary protests abila kr...   \n",
       "\n",
       "         news_company   datetime  sentiment_score  sentiment_modality  \n",
       "91      World Journal 2010-03-05        -0.063745            0.475162  \n",
       "160     The Continent 2010-03-05        -0.110965            0.441228  \n",
       "268  Central Bulletin 2010-06-14        -0.036364            0.325758  "
      ]
     },
     "execution_count": 223,
     "metadata": {},
     "output_type": "execute_result"
    }
   ],
   "source": [
    "\n",
    "timeline_latest = articles_df.loc[articles_df[\"datetime\"].between(\"2010-01-06\", \"2014-01-06\")]\n",
    "print(timeline_latest.shape)\n",
    "timeline_latest.head(3)"
   ]
  },
  {
   "attachments": {},
   "cell_type": "markdown",
   "metadata": {},
   "source": [
    "### Structure of Protectors of Kronos Network \n",
    "    1. Who are the leaders? \n",
    "    2. Who is part of the extended network?\n",
    "    3. How has the group structure and organization changed over time?\n",
    "    4. Where are the potential connections between the POK and GAStech?"
   ]
  },
  {
   "cell_type": "code",
   "execution_count": null,
   "metadata": {},
   "outputs": [],
   "source": []
  },
  {
   "cell_type": "code",
   "execution_count": null,
   "metadata": {},
   "outputs": [],
   "source": []
  },
  {
   "cell_type": "code",
   "execution_count": null,
   "metadata": {},
   "outputs": [],
   "source": []
  },
  {
   "cell_type": "code",
   "execution_count": null,
   "metadata": {},
   "outputs": [],
   "source": []
  }
 ],
 "metadata": {
  "kernelspec": {
   "display_name": "venvcomp4449",
   "language": "python",
   "name": "python3"
  },
  "language_info": {
   "codemirror_mode": {
    "name": "ipython",
    "version": 3
   },
   "file_extension": ".py",
   "mimetype": "text/x-python",
   "name": "python",
   "nbconvert_exporter": "python",
   "pygments_lexer": "ipython3",
   "version": "3.10.11"
  },
  "orig_nbformat": 4
 },
 "nbformat": 4,
 "nbformat_minor": 2
}
